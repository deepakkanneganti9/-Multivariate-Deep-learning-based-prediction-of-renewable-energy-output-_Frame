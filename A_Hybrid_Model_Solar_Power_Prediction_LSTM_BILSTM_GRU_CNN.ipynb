{
  "cells": [
    {
      "cell_type": "markdown",
      "metadata": {
        "id": "view-in-github"
      },
      "source": [
        "<a href=\"https://colab.research.google.com/github/srivatsan88/End-to-End-Time-Series/blob/master/Multivariate_Time_Series_Modeling_using_LSTM.ipynb\" target=\"_parent\"><img src=\"https://colab.research.google.com/assets/colab-badge.svg\" alt=\"Open In Colab\"/></a>"
      ]
    },
    {
      "cell_type": "code",
      "execution_count": 2,
      "metadata": {
        "id": "_GY3HgVB7T8D"
      },
      "outputs": [],
      "source": [
        "import pandas as pd\n",
        "import matplotlib as mpl\n",
        "import matplotlib.pyplot as plt\n",
        "from sklearn.model_selection import train_test_split\n",
        "from keras.preprocessing.sequence import TimeseriesGenerator\n",
        "from sklearn.preprocessing import MinMaxScaler, StandardScaler\n",
        "import tensorflow as tf\n",
        "import scipy\n",
        "import numpy\n",
        "import tensorflow as tf\n",
        "from tensorflow import keras\n",
        "from tensorflow.keras import Sequential, layers, callbacks\n",
        "from tensorflow.keras.layers import Dense, LSTM, Dropout, GRU, Bidirectional\n",
        "import pandas as pd\n",
        "import numpy as np\n",
        "mpl.rcParams['figure.figsize'] = (10, 8)\n",
        "mpl.rcParams['axes.grid'] = False"
      ]
    },
    {
      "cell_type": "code",
      "execution_count": 3,
      "metadata": {
        "id": "lmNbWyCJ7n0a"
      },
      "outputs": [],
      "source": [
        "df = pd.read_csv('Solar_2013_Prep.csv')"
      ]
    },
    {
      "cell_type": "code",
      "execution_count": 4,
      "metadata": {
        "colab": {
          "base_uri": "https://localhost:8080/",
          "height": 424
        },
        "id": "4MZJsxPq76CN",
        "outputId": "c61c2c10-aa73-4078-ae38-6583fde8f426"
      },
      "outputs": [
        {
          "output_type": "execute_result",
          "data": {
            "text/plain": [
              "        Unnamed: 0  TS1_SENS0700_TmpMdul_C_data  Barometer_data  \\\n",
              "0              357                           27            1007   \n",
              "1              358                           27            1007   \n",
              "2              359                           27            1007   \n",
              "3              360                           27            1007   \n",
              "4              361                           27            1007   \n",
              "...            ...                          ...             ...   \n",
              "157790      437982                           25            1010   \n",
              "157791      437983                           25            1010   \n",
              "157792      437984                           25            1010   \n",
              "157793      437985                           24            1010   \n",
              "157794      437986                           24            1010   \n",
              "\n",
              "        Outside_Humidity_data  Outside_Temperature_data  Solar_Radiation_data  \\\n",
              "0                          76                        25                    79   \n",
              "1                          76                        25                    83   \n",
              "2                          76                        25                    84   \n",
              "3                          76                        25                    86   \n",
              "4                          76                        25                    88   \n",
              "...                       ...                       ...                   ...   \n",
              "157790                     65                        22                    21   \n",
              "157791                     65                        22                    19   \n",
              "157792                     65                        22                    19   \n",
              "157793                     65                        22                    18   \n",
              "157794                     65                        22                    18   \n",
              "\n",
              "        season         Date_time  TS1_P1_data         Wx        Wy  \n",
              "0       Summer     1/1/2013 5:57           24   0.209397  5.996345  \n",
              "1       Summer     1/1/2013 5:58           26   0.209397  5.996345  \n",
              "2       Summer     1/1/2013 5:59           23   0.279196  7.995127  \n",
              "3       Summer     1/1/2013 6:00           24   2.150208  5.601483  \n",
              "4       Summer     1/1/2013 6:01           25   1.026060  2.819078  \n",
              "...        ...               ...          ...        ...       ...  \n",
              "157790  Spring  11/12/2013 18:30            6  -7.853017 -1.526472  \n",
              "157791  Spring  11/12/2013 18:31            6 -13.119296 -7.272144  \n",
              "157792  Spring  11/12/2013 18:32            4 -10.495436 -5.817715  \n",
              "157793  Spring  11/12/2013 18:33            4  -7.714506 -4.635343  \n",
              "157794  Spring  11/12/2013 18:34            2 -15.524732 -3.870750  \n",
              "\n",
              "[157795 rows x 11 columns]"
            ],
            "text/html": [
              "\n",
              "  <div id=\"df-ef615e93-f91d-4e5f-a582-6a73bd9f2bf9\">\n",
              "    <div class=\"colab-df-container\">\n",
              "      <div>\n",
              "<style scoped>\n",
              "    .dataframe tbody tr th:only-of-type {\n",
              "        vertical-align: middle;\n",
              "    }\n",
              "\n",
              "    .dataframe tbody tr th {\n",
              "        vertical-align: top;\n",
              "    }\n",
              "\n",
              "    .dataframe thead th {\n",
              "        text-align: right;\n",
              "    }\n",
              "</style>\n",
              "<table border=\"1\" class=\"dataframe\">\n",
              "  <thead>\n",
              "    <tr style=\"text-align: right;\">\n",
              "      <th></th>\n",
              "      <th>Unnamed: 0</th>\n",
              "      <th>TS1_SENS0700_TmpMdul_C_data</th>\n",
              "      <th>Barometer_data</th>\n",
              "      <th>Outside_Humidity_data</th>\n",
              "      <th>Outside_Temperature_data</th>\n",
              "      <th>Solar_Radiation_data</th>\n",
              "      <th>season</th>\n",
              "      <th>Date_time</th>\n",
              "      <th>TS1_P1_data</th>\n",
              "      <th>Wx</th>\n",
              "      <th>Wy</th>\n",
              "    </tr>\n",
              "  </thead>\n",
              "  <tbody>\n",
              "    <tr>\n",
              "      <th>0</th>\n",
              "      <td>357</td>\n",
              "      <td>27</td>\n",
              "      <td>1007</td>\n",
              "      <td>76</td>\n",
              "      <td>25</td>\n",
              "      <td>79</td>\n",
              "      <td>Summer</td>\n",
              "      <td>1/1/2013 5:57</td>\n",
              "      <td>24</td>\n",
              "      <td>0.209397</td>\n",
              "      <td>5.996345</td>\n",
              "    </tr>\n",
              "    <tr>\n",
              "      <th>1</th>\n",
              "      <td>358</td>\n",
              "      <td>27</td>\n",
              "      <td>1007</td>\n",
              "      <td>76</td>\n",
              "      <td>25</td>\n",
              "      <td>83</td>\n",
              "      <td>Summer</td>\n",
              "      <td>1/1/2013 5:58</td>\n",
              "      <td>26</td>\n",
              "      <td>0.209397</td>\n",
              "      <td>5.996345</td>\n",
              "    </tr>\n",
              "    <tr>\n",
              "      <th>2</th>\n",
              "      <td>359</td>\n",
              "      <td>27</td>\n",
              "      <td>1007</td>\n",
              "      <td>76</td>\n",
              "      <td>25</td>\n",
              "      <td>84</td>\n",
              "      <td>Summer</td>\n",
              "      <td>1/1/2013 5:59</td>\n",
              "      <td>23</td>\n",
              "      <td>0.279196</td>\n",
              "      <td>7.995127</td>\n",
              "    </tr>\n",
              "    <tr>\n",
              "      <th>3</th>\n",
              "      <td>360</td>\n",
              "      <td>27</td>\n",
              "      <td>1007</td>\n",
              "      <td>76</td>\n",
              "      <td>25</td>\n",
              "      <td>86</td>\n",
              "      <td>Summer</td>\n",
              "      <td>1/1/2013 6:00</td>\n",
              "      <td>24</td>\n",
              "      <td>2.150208</td>\n",
              "      <td>5.601483</td>\n",
              "    </tr>\n",
              "    <tr>\n",
              "      <th>4</th>\n",
              "      <td>361</td>\n",
              "      <td>27</td>\n",
              "      <td>1007</td>\n",
              "      <td>76</td>\n",
              "      <td>25</td>\n",
              "      <td>88</td>\n",
              "      <td>Summer</td>\n",
              "      <td>1/1/2013 6:01</td>\n",
              "      <td>25</td>\n",
              "      <td>1.026060</td>\n",
              "      <td>2.819078</td>\n",
              "    </tr>\n",
              "    <tr>\n",
              "      <th>...</th>\n",
              "      <td>...</td>\n",
              "      <td>...</td>\n",
              "      <td>...</td>\n",
              "      <td>...</td>\n",
              "      <td>...</td>\n",
              "      <td>...</td>\n",
              "      <td>...</td>\n",
              "      <td>...</td>\n",
              "      <td>...</td>\n",
              "      <td>...</td>\n",
              "      <td>...</td>\n",
              "    </tr>\n",
              "    <tr>\n",
              "      <th>157790</th>\n",
              "      <td>437982</td>\n",
              "      <td>25</td>\n",
              "      <td>1010</td>\n",
              "      <td>65</td>\n",
              "      <td>22</td>\n",
              "      <td>21</td>\n",
              "      <td>Spring</td>\n",
              "      <td>11/12/2013 18:30</td>\n",
              "      <td>6</td>\n",
              "      <td>-7.853017</td>\n",
              "      <td>-1.526472</td>\n",
              "    </tr>\n",
              "    <tr>\n",
              "      <th>157791</th>\n",
              "      <td>437983</td>\n",
              "      <td>25</td>\n",
              "      <td>1010</td>\n",
              "      <td>65</td>\n",
              "      <td>22</td>\n",
              "      <td>19</td>\n",
              "      <td>Spring</td>\n",
              "      <td>11/12/2013 18:31</td>\n",
              "      <td>6</td>\n",
              "      <td>-13.119296</td>\n",
              "      <td>-7.272144</td>\n",
              "    </tr>\n",
              "    <tr>\n",
              "      <th>157792</th>\n",
              "      <td>437984</td>\n",
              "      <td>25</td>\n",
              "      <td>1010</td>\n",
              "      <td>65</td>\n",
              "      <td>22</td>\n",
              "      <td>19</td>\n",
              "      <td>Spring</td>\n",
              "      <td>11/12/2013 18:32</td>\n",
              "      <td>4</td>\n",
              "      <td>-10.495436</td>\n",
              "      <td>-5.817715</td>\n",
              "    </tr>\n",
              "    <tr>\n",
              "      <th>157793</th>\n",
              "      <td>437985</td>\n",
              "      <td>24</td>\n",
              "      <td>1010</td>\n",
              "      <td>65</td>\n",
              "      <td>22</td>\n",
              "      <td>18</td>\n",
              "      <td>Spring</td>\n",
              "      <td>11/12/2013 18:33</td>\n",
              "      <td>4</td>\n",
              "      <td>-7.714506</td>\n",
              "      <td>-4.635343</td>\n",
              "    </tr>\n",
              "    <tr>\n",
              "      <th>157794</th>\n",
              "      <td>437986</td>\n",
              "      <td>24</td>\n",
              "      <td>1010</td>\n",
              "      <td>65</td>\n",
              "      <td>22</td>\n",
              "      <td>18</td>\n",
              "      <td>Spring</td>\n",
              "      <td>11/12/2013 18:34</td>\n",
              "      <td>2</td>\n",
              "      <td>-15.524732</td>\n",
              "      <td>-3.870750</td>\n",
              "    </tr>\n",
              "  </tbody>\n",
              "</table>\n",
              "<p>157795 rows × 11 columns</p>\n",
              "</div>\n",
              "      <button class=\"colab-df-convert\" onclick=\"convertToInteractive('df-ef615e93-f91d-4e5f-a582-6a73bd9f2bf9')\"\n",
              "              title=\"Convert this dataframe to an interactive table.\"\n",
              "              style=\"display:none;\">\n",
              "        \n",
              "  <svg xmlns=\"http://www.w3.org/2000/svg\" height=\"24px\"viewBox=\"0 0 24 24\"\n",
              "       width=\"24px\">\n",
              "    <path d=\"M0 0h24v24H0V0z\" fill=\"none\"/>\n",
              "    <path d=\"M18.56 5.44l.94 2.06.94-2.06 2.06-.94-2.06-.94-.94-2.06-.94 2.06-2.06.94zm-11 1L8.5 8.5l.94-2.06 2.06-.94-2.06-.94L8.5 2.5l-.94 2.06-2.06.94zm10 10l.94 2.06.94-2.06 2.06-.94-2.06-.94-.94-2.06-.94 2.06-2.06.94z\"/><path d=\"M17.41 7.96l-1.37-1.37c-.4-.4-.92-.59-1.43-.59-.52 0-1.04.2-1.43.59L10.3 9.45l-7.72 7.72c-.78.78-.78 2.05 0 2.83L4 21.41c.39.39.9.59 1.41.59.51 0 1.02-.2 1.41-.59l7.78-7.78 2.81-2.81c.8-.78.8-2.07 0-2.86zM5.41 20L4 18.59l7.72-7.72 1.47 1.35L5.41 20z\"/>\n",
              "  </svg>\n",
              "      </button>\n",
              "      \n",
              "  <style>\n",
              "    .colab-df-container {\n",
              "      display:flex;\n",
              "      flex-wrap:wrap;\n",
              "      gap: 12px;\n",
              "    }\n",
              "\n",
              "    .colab-df-convert {\n",
              "      background-color: #E8F0FE;\n",
              "      border: none;\n",
              "      border-radius: 50%;\n",
              "      cursor: pointer;\n",
              "      display: none;\n",
              "      fill: #1967D2;\n",
              "      height: 32px;\n",
              "      padding: 0 0 0 0;\n",
              "      width: 32px;\n",
              "    }\n",
              "\n",
              "    .colab-df-convert:hover {\n",
              "      background-color: #E2EBFA;\n",
              "      box-shadow: 0px 1px 2px rgba(60, 64, 67, 0.3), 0px 1px 3px 1px rgba(60, 64, 67, 0.15);\n",
              "      fill: #174EA6;\n",
              "    }\n",
              "\n",
              "    [theme=dark] .colab-df-convert {\n",
              "      background-color: #3B4455;\n",
              "      fill: #D2E3FC;\n",
              "    }\n",
              "\n",
              "    [theme=dark] .colab-df-convert:hover {\n",
              "      background-color: #434B5C;\n",
              "      box-shadow: 0px 1px 3px 1px rgba(0, 0, 0, 0.15);\n",
              "      filter: drop-shadow(0px 1px 2px rgba(0, 0, 0, 0.3));\n",
              "      fill: #FFFFFF;\n",
              "    }\n",
              "  </style>\n",
              "\n",
              "      <script>\n",
              "        const buttonEl =\n",
              "          document.querySelector('#df-ef615e93-f91d-4e5f-a582-6a73bd9f2bf9 button.colab-df-convert');\n",
              "        buttonEl.style.display =\n",
              "          google.colab.kernel.accessAllowed ? 'block' : 'none';\n",
              "\n",
              "        async function convertToInteractive(key) {\n",
              "          const element = document.querySelector('#df-ef615e93-f91d-4e5f-a582-6a73bd9f2bf9');\n",
              "          const dataTable =\n",
              "            await google.colab.kernel.invokeFunction('convertToInteractive',\n",
              "                                                     [key], {});\n",
              "          if (!dataTable) return;\n",
              "\n",
              "          const docLinkHtml = 'Like what you see? Visit the ' +\n",
              "            '<a target=\"_blank\" href=https://colab.research.google.com/notebooks/data_table.ipynb>data table notebook</a>'\n",
              "            + ' to learn more about interactive tables.';\n",
              "          element.innerHTML = '';\n",
              "          dataTable['output_type'] = 'display_data';\n",
              "          await google.colab.output.renderOutput(dataTable, element);\n",
              "          const docLink = document.createElement('div');\n",
              "          docLink.innerHTML = docLinkHtml;\n",
              "          element.appendChild(docLink);\n",
              "        }\n",
              "      </script>\n",
              "    </div>\n",
              "  </div>\n",
              "  "
            ]
          },
          "metadata": {},
          "execution_count": 4
        }
      ],
      "source": [
        "df"
      ]
    },
    {
      "cell_type": "code",
      "execution_count": 5,
      "metadata": {
        "colab": {
          "base_uri": "https://localhost:8080/"
        },
        "id": "e_gfpzvA0cJa",
        "outputId": "1fe54c88-51b5-4c7d-87c3-2521d6459467"
      },
      "outputs": [
        {
          "output_type": "stream",
          "name": "stdout",
          "text": [
            "<class 'pandas.core.frame.DataFrame'>\n",
            "RangeIndex: 157795 entries, 0 to 157794\n",
            "Data columns (total 11 columns):\n",
            " #   Column                       Non-Null Count   Dtype  \n",
            "---  ------                       --------------   -----  \n",
            " 0   Unnamed: 0                   157795 non-null  int64  \n",
            " 1   TS1_SENS0700_TmpMdul_C_data  157795 non-null  int64  \n",
            " 2   Barometer_data               157795 non-null  int64  \n",
            " 3   Outside_Humidity_data        157795 non-null  int64  \n",
            " 4   Outside_Temperature_data     157795 non-null  int64  \n",
            " 5   Solar_Radiation_data         157795 non-null  int64  \n",
            " 6   season                       157795 non-null  object \n",
            " 7   Date_time                    157795 non-null  object \n",
            " 8   TS1_P1_data                  157795 non-null  int64  \n",
            " 9   Wx                           157795 non-null  float64\n",
            " 10  Wy                           157795 non-null  float64\n",
            "dtypes: float64(2), int64(7), object(2)\n",
            "memory usage: 13.2+ MB\n"
          ]
        }
      ],
      "source": [
        "df.info()"
      ]
    },
    {
      "cell_type": "code",
      "execution_count": 6,
      "metadata": {
        "colab": {
          "base_uri": "https://localhost:8080/"
        },
        "id": "G-zHRfoBvnIn",
        "outputId": "b10204db-67b1-4605-907b-746b03641197"
      },
      "outputs": [
        {
          "output_type": "execute_result",
          "data": {
            "text/plain": [
              "(157795, 11)"
            ]
          },
          "metadata": {},
          "execution_count": 6
        }
      ],
      "source": [
        "df.shape"
      ]
    },
    {
      "cell_type": "code",
      "source": [
        "df['Date_time_name'] = df['Date_time']"
      ],
      "metadata": {
        "id": "NETk-DXp0vbo"
      },
      "execution_count": 7,
      "outputs": []
    },
    {
      "cell_type": "code",
      "execution_count": 8,
      "metadata": {
        "id": "DX4Wjmy08aWn"
      },
      "outputs": [],
      "source": [
        "df['Date_time'] = pd.to_datetime(df['Date_time'], infer_datetime_format=True)"
      ]
    },
    {
      "cell_type": "code",
      "execution_count": 9,
      "metadata": {
        "colab": {
          "base_uri": "https://localhost:8080/",
          "height": 565
        },
        "id": "6klgmpWq0TJZ",
        "outputId": "ecbae138-c91c-44d8-8e5e-57df7a53773a"
      },
      "outputs": [
        {
          "output_type": "execute_result",
          "data": {
            "text/plain": [
              "array([<matplotlib.axes._subplots.AxesSubplot object at 0x7f8cb49d6d60>,\n",
              "       <matplotlib.axes._subplots.AxesSubplot object at 0x7f8cb49381f0>,\n",
              "       <matplotlib.axes._subplots.AxesSubplot object at 0x7f8cb4963400>,\n",
              "       <matplotlib.axes._subplots.AxesSubplot object at 0x7f8cb4915520>],\n",
              "      dtype=object)"
            ]
          },
          "metadata": {},
          "execution_count": 9
        },
        {
          "output_type": "display_data",
          "data": {
            "text/plain": [
              "<Figure size 720x576 with 4 Axes>"
            ],
            "image/png": "[encoded data removed]"
          },
          "metadata": {
            "needs_background": "light"
          }
        }
      ],
      "source": [
        "df.set_index('Date_time')[['TS1_SENS0700_TmpMdul_C_data', 'Outside_Temperature_data','Solar_Radiation_data','TS1_P1_data']].plot(subplots=True)"
      ]
    },
    {
      "cell_type": "code",
      "execution_count": 10,
      "metadata": {
        "colab": {
          "base_uri": "https://localhost:8080/"
        },
        "id": "qkHOoR0Idshn",
        "outputId": "cfa3cbf5-fd5d-4664-b17a-0f95cef16ae6"
      },
      "outputs": [
        {
          "output_type": "execute_result",
          "data": {
            "text/plain": [
              "Index(['Unnamed: 0', 'TS1_SENS0700_TmpMdul_C_data', 'Barometer_data',\n",
              "       'Outside_Humidity_data', 'Outside_Temperature_data',\n",
              "       'Solar_Radiation_data', 'season', 'Date_time', 'TS1_P1_data', 'Wx',\n",
              "       'Wy', 'Date_time_name'],\n",
              "      dtype='object')"
            ]
          },
          "metadata": {},
          "execution_count": 10
        }
      ],
      "source": [
        "df.columns"
      ]
    },
    {
      "cell_type": "code",
      "execution_count": 11,
      "metadata": {
        "id": "bjkrevRtea9W"
      },
      "outputs": [],
      "source": [
        "#df=df[::5]\n",
        "#df"
      ]
    },
    {
      "cell_type": "code",
      "execution_count": 12,
      "metadata": {
        "colab": {
          "base_uri": "https://localhost:8080/"
        },
        "id": "qZL5RMCqd2TQ",
        "outputId": "d341a3ff-6b53-4ec1-af99-e3ee385109a4"
      },
      "outputs": [
        {
          "output_type": "execute_result",
          "data": {
            "text/plain": [
              "0        2013-01-01 05:57:00\n",
              "1        2013-01-01 05:58:00\n",
              "2        2013-01-01 05:59:00\n",
              "3        2013-01-01 06:00:00\n",
              "4        2013-01-01 06:01:00\n",
              "                 ...        \n",
              "157790   2013-11-12 18:30:00\n",
              "157791   2013-11-12 18:31:00\n",
              "157792   2013-11-12 18:32:00\n",
              "157793   2013-11-12 18:33:00\n",
              "157794   2013-11-12 18:34:00\n",
              "Name: Date_time, Length: 157795, dtype: datetime64[ns]"
            ]
          },
          "metadata": {},
          "execution_count": 12
        }
      ],
      "source": [
        "date_time = pd.to_datetime(df.pop('Date_time'), format='%d/%m/%Y %H:%M')\n",
        "date_time"
      ]
    },
    {
      "cell_type": "code",
      "execution_count": 13,
      "metadata": {
        "id": "7KYxuA64d7W3"
      },
      "outputs": [],
      "source": [
        "timestamp_s = date_time.map(pd.Timestamp.timestamp)"
      ]
    },
    {
      "cell_type": "code",
      "execution_count": 14,
      "metadata": {
        "id": "MT4YsBW0d9Vh"
      },
      "outputs": [],
      "source": [
        "import numpy as np\n",
        "day = 24*60*5\n",
        "year = (365.2425)*day\n",
        "\n",
        "df['Day sin'] = np.sin(timestamp_s * (2 * np.pi / day))\n",
        "df['Day cos'] = np.cos(timestamp_s * (2 * np.pi / day))\n",
        "df['Year sin'] = np.sin(timestamp_s * (2 * np.pi / year))\n",
        "df['Year cos'] = np.cos(timestamp_s * (2 * np.pi / year))"
      ]
    },
    {
      "cell_type": "code",
      "execution_count": 15,
      "metadata": {
        "colab": {
          "base_uri": "https://localhost:8080/"
        },
        "id": "ekGvuOcGelxI",
        "outputId": "078cb871-ca67-4357-b8b9-04c683cd46be"
      },
      "outputs": [
        {
          "output_type": "execute_result",
          "data": {
            "text/plain": [
              "Index(['Unnamed: 0', 'TS1_SENS0700_TmpMdul_C_data', 'Barometer_data',\n",
              "       'Outside_Humidity_data', 'Outside_Temperature_data',\n",
              "       'Solar_Radiation_data', 'season', 'TS1_P1_data', 'Wx', 'Wy',\n",
              "       'Date_time_name', 'Day sin', 'Day cos', 'Year sin', 'Year cos'],\n",
              "      dtype='object')"
            ]
          },
          "metadata": {},
          "execution_count": 15
        }
      ],
      "source": [
        "df.columns"
      ]
    },
    {
      "cell_type": "code",
      "source": [
        "df"
      ],
      "metadata": {
        "colab": {
          "base_uri": "https://localhost:8080/",
          "height": 644
        },
        "id": "GfnHXsmr2Gyx",
        "outputId": "f575c09f-1fde-459c-945e-b921becfcc6a"
      },
      "execution_count": 16,
      "outputs": [
        {
          "output_type": "execute_result",
          "data": {
            "text/plain": [
              "        Unnamed: 0  TS1_SENS0700_TmpMdul_C_data  Barometer_data  \\\n",
              "0              357                           27            1007   \n",
              "1              358                           27            1007   \n",
              "2              359                           27            1007   \n",
              "3              360                           27            1007   \n",
              "4              361                           27            1007   \n",
              "...            ...                          ...             ...   \n",
              "157790      437982                           25            1010   \n",
              "157791      437983                           25            1010   \n",
              "157792      437984                           25            1010   \n",
              "157793      437985                           24            1010   \n",
              "157794      437986                           24            1010   \n",
              "\n",
              "        Outside_Humidity_data  Outside_Temperature_data  Solar_Radiation_data  \\\n",
              "0                          76                        25                    79   \n",
              "1                          76                        25                    83   \n",
              "2                          76                        25                    84   \n",
              "3                          76                        25                    86   \n",
              "4                          76                        25                    88   \n",
              "...                       ...                       ...                   ...   \n",
              "157790                     65                        22                    21   \n",
              "157791                     65                        22                    19   \n",
              "157792                     65                        22                    19   \n",
              "157793                     65                        22                    18   \n",
              "157794                     65                        22                    18   \n",
              "\n",
              "        season  TS1_P1_data         Wx        Wy    Date_time_name  \\\n",
              "0       Summer           24   0.209397  5.996345     1/1/2013 5:57   \n",
              "1       Summer           26   0.209397  5.996345     1/1/2013 5:58   \n",
              "2       Summer           23   0.279196  7.995127     1/1/2013 5:59   \n",
              "3       Summer           24   2.150208  5.601483     1/1/2013 6:00   \n",
              "4       Summer           25   1.026060  2.819078     1/1/2013 6:01   \n",
              "...        ...          ...        ...       ...               ...   \n",
              "157790  Spring            6  -7.853017 -1.526472  11/12/2013 18:30   \n",
              "157791  Spring            6 -13.119296 -7.272144  11/12/2013 18:31   \n",
              "157792  Spring            4 -10.495436 -5.817715  11/12/2013 18:32   \n",
              "157793  Spring            4  -7.714506 -4.635343  11/12/2013 18:33   \n",
              "157794  Spring            2 -15.524732 -3.870750  11/12/2013 18:34   \n",
              "\n",
              "             Day sin       Day cos  Year sin  Year cos  \n",
              "0      -1.564345e-01  9.876883e-01  0.168553  0.985693  \n",
              "1      -1.045285e-01  9.945219e-01  0.168694  0.985668  \n",
              "2      -5.233596e-02  9.986295e-01  0.168835  0.985644  \n",
              "3      -1.081356e-11  1.000000e+00  0.168977  0.985620  \n",
              "4       5.233596e-02  9.986295e-01  0.169118  0.985596  \n",
              "...              ...           ...       ...       ...  \n",
              "157790  1.000000e+00  8.150907e-12  0.620703 -0.784045  \n",
              "157791  9.986295e-01 -5.233596e-02  0.620591 -0.784134  \n",
              "157792  9.945219e-01 -1.045285e-01  0.620479 -0.784223  \n",
              "157793  9.876883e-01 -1.564345e-01  0.620366 -0.784312  \n",
              "157794  9.781476e-01 -2.079117e-01  0.620254 -0.784401  \n",
              "\n",
              "[157795 rows x 15 columns]"
            ],
            "text/html": [
              "\n",
              "  <div id=\"df-e58d3685-8c72-4566-a433-3ba23680d863\">\n",
              "    <div class=\"colab-df-container\">\n",
              "      <div>\n",
              "<style scoped>\n",
              "    .dataframe tbody tr th:only-of-type {\n",
              "        vertical-align: middle;\n",
              "    }\n",
              "\n",
              "    .dataframe tbody tr th {\n",
              "        vertical-align: top;\n",
              "    }\n",
              "\n",
              "    .dataframe thead th {\n",
              "        text-align: right;\n",
              "    }\n",
              "</style>\n",
              "<table border=\"1\" class=\"dataframe\">\n",
              "  <thead>\n",
              "    <tr style=\"text-align: right;\">\n",
              "      <th></th>\n",
              "      <th>Unnamed: 0</th>\n",
              "      <th>TS1_SENS0700_TmpMdul_C_data</th>\n",
              "      <th>Barometer_data</th>\n",
              "      <th>Outside_Humidity_data</th>\n",
              "      <th>Outside_Temperature_data</th>\n",
              "      <th>Solar_Radiation_data</th>\n",
              "      <th>season</th>\n",
              "      <th>TS1_P1_data</th>\n",
              "      <th>Wx</th>\n",
              "      <th>Wy</th>\n",
              "      <th>Date_time_name</th>\n",
              "      <th>Day sin</th>\n",
              "      <th>Day cos</th>\n",
              "      <th>Year sin</th>\n",
              "      <th>Year cos</th>\n",
              "    </tr>\n",
              "  </thead>\n",
              "  <tbody>\n",
              "    <tr>\n",
              "      <th>0</th>\n",
              "      <td>357</td>\n",
              "      <td>27</td>\n",
              "      <td>1007</td>\n",
              "      <td>76</td>\n",
              "      <td>25</td>\n",
              "      <td>79</td>\n",
              "      <td>Summer</td>\n",
              "      <td>24</td>\n",
              "      <td>0.209397</td>\n",
              "      <td>5.996345</td>\n",
              "      <td>1/1/2013 5:57</td>\n",
              "      <td>-1.564345e-01</td>\n",
              "      <td>9.876883e-01</td>\n",
              "      <td>0.168553</td>\n",
              "      <td>0.985693</td>\n",
              "    </tr>\n",
              "    <tr>\n",
              "      <th>1</th>\n",
              "      <td>358</td>\n",
              "      <td>27</td>\n",
              "      <td>1007</td>\n",
              "      <td>76</td>\n",
              "      <td>25</td>\n",
              "      <td>83</td>\n",
              "      <td>Summer</td>\n",
              "      <td>26</td>\n",
              "      <td>0.209397</td>\n",
              "      <td>5.996345</td>\n",
              "      <td>1/1/2013 5:58</td>\n",
              "      <td>-1.045285e-01</td>\n",
              "      <td>9.945219e-01</td>\n",
              "      <td>0.168694</td>\n",
              "      <td>0.985668</td>\n",
              "    </tr>\n",
              "    <tr>\n",
              "      <th>2</th>\n",
              "      <td>359</td>\n",
              "      <td>27</td>\n",
              "      <td>1007</td>\n",
              "      <td>76</td>\n",
              "      <td>25</td>\n",
              "      <td>84</td>\n",
              "      <td>Summer</td>\n",
              "      <td>23</td>\n",
              "      <td>0.279196</td>\n",
              "      <td>7.995127</td>\n",
              "      <td>1/1/2013 5:59</td>\n",
              "      <td>-5.233596e-02</td>\n",
              "      <td>9.986295e-01</td>\n",
              "      <td>0.168835</td>\n",
              "      <td>0.985644</td>\n",
              "    </tr>\n",
              "    <tr>\n",
              "      <th>3</th>\n",
              "      <td>360</td>\n",
              "      <td>27</td>\n",
              "      <td>1007</td>\n",
              "      <td>76</td>\n",
              "      <td>25</td>\n",
              "      <td>86</td>\n",
              "      <td>Summer</td>\n",
              "      <td>24</td>\n",
              "      <td>2.150208</td>\n",
              "      <td>5.601483</td>\n",
              "      <td>1/1/2013 6:00</td>\n",
              "      <td>-1.081356e-11</td>\n",
              "      <td>1.000000e+00</td>\n",
              "      <td>0.168977</td>\n",
              "      <td>0.985620</td>\n",
              "    </tr>\n",
              "    <tr>\n",
              "      <th>4</th>\n",
              "      <td>361</td>\n",
              "      <td>27</td>\n",
              "      <td>1007</td>\n",
              "      <td>76</td>\n",
              "      <td>25</td>\n",
              "      <td>88</td>\n",
              "      <td>Summer</td>\n",
              "      <td>25</td>\n",
              "      <td>1.026060</td>\n",
              "      <td>2.819078</td>\n",
              "      <td>1/1/2013 6:01</td>\n",
              "      <td>5.233596e-02</td>\n",
              "      <td>9.986295e-01</td>\n",
              "      <td>0.169118</td>\n",
              "      <td>0.985596</td>\n",
              "    </tr>\n",
              "    <tr>\n",
              "      <th>...</th>\n",
              "      <td>...</td>\n",
              "      <td>...</td>\n",
              "      <td>...</td>\n",
              "      <td>...</td>\n",
              "      <td>...</td>\n",
              "      <td>...</td>\n",
              "      <td>...</td>\n",
              "      <td>...</td>\n",
              "      <td>...</td>\n",
              "      <td>...</td>\n",
              "      <td>...</td>\n",
              "      <td>...</td>\n",
              "      <td>...</td>\n",
              "      <td>...</td>\n",
              "      <td>...</td>\n",
              "    </tr>\n",
              "    <tr>\n",
              "      <th>157790</th>\n",
              "      <td>437982</td>\n",
              "      <td>25</td>\n",
              "      <td>1010</td>\n",
              "      <td>65</td>\n",
              "      <td>22</td>\n",
              "      <td>21</td>\n",
              "      <td>Spring</td>\n",
              "      <td>6</td>\n",
              "      <td>-7.853017</td>\n",
              "      <td>-1.526472</td>\n",
              "      <td>11/12/2013 18:30</td>\n",
              "      <td>1.000000e+00</td>\n",
              "      <td>8.150907e-12</td>\n",
              "      <td>0.620703</td>\n",
              "      <td>-0.784045</td>\n",
              "    </tr>\n",
              "    <tr>\n",
              "      <th>157791</th>\n",
              "      <td>437983</td>\n",
              "      <td>25</td>\n",
              "      <td>1010</td>\n",
              "      <td>65</td>\n",
              "      <td>22</td>\n",
              "      <td>19</td>\n",
              "      <td>Spring</td>\n",
              "      <td>6</td>\n",
              "      <td>-13.119296</td>\n",
              "      <td>-7.272144</td>\n",
              "      <td>11/12/2013 18:31</td>\n",
              "      <td>9.986295e-01</td>\n",
              "      <td>-5.233596e-02</td>\n",
              "      <td>0.620591</td>\n",
              "      <td>-0.784134</td>\n",
              "    </tr>\n",
              "    <tr>\n",
              "      <th>157792</th>\n",
              "      <td>437984</td>\n",
              "      <td>25</td>\n",
              "      <td>1010</td>\n",
              "      <td>65</td>\n",
              "      <td>22</td>\n",
              "      <td>19</td>\n",
              "      <td>Spring</td>\n",
              "      <td>4</td>\n",
              "      <td>-10.495436</td>\n",
              "      <td>-5.817715</td>\n",
              "      <td>11/12/2013 18:32</td>\n",
              "      <td>9.945219e-01</td>\n",
              "      <td>-1.045285e-01</td>\n",
              "      <td>0.620479</td>\n",
              "      <td>-0.784223</td>\n",
              "    </tr>\n",
              "    <tr>\n",
              "      <th>157793</th>\n",
              "      <td>437985</td>\n",
              "      <td>24</td>\n",
              "      <td>1010</td>\n",
              "      <td>65</td>\n",
              "      <td>22</td>\n",
              "      <td>18</td>\n",
              "      <td>Spring</td>\n",
              "      <td>4</td>\n",
              "      <td>-7.714506</td>\n",
              "      <td>-4.635343</td>\n",
              "      <td>11/12/2013 18:33</td>\n",
              "      <td>9.876883e-01</td>\n",
              "      <td>-1.564345e-01</td>\n",
              "      <td>0.620366</td>\n",
              "      <td>-0.784312</td>\n",
              "    </tr>\n",
              "    <tr>\n",
              "      <th>157794</th>\n",
              "      <td>437986</td>\n",
              "      <td>24</td>\n",
              "      <td>1010</td>\n",
              "      <td>65</td>\n",
              "      <td>22</td>\n",
              "      <td>18</td>\n",
              "      <td>Spring</td>\n",
              "      <td>2</td>\n",
              "      <td>-15.524732</td>\n",
              "      <td>-3.870750</td>\n",
              "      <td>11/12/2013 18:34</td>\n",
              "      <td>9.781476e-01</td>\n",
              "      <td>-2.079117e-01</td>\n",
              "      <td>0.620254</td>\n",
              "      <td>-0.784401</td>\n",
              "    </tr>\n",
              "  </tbody>\n",
              "</table>\n",
              "<p>157795 rows × 15 columns</p>\n",
              "</div>\n",
              "      <button class=\"colab-df-convert\" onclick=\"convertToInteractive('df-e58d3685-8c72-4566-a433-3ba23680d863')\"\n",
              "              title=\"Convert this dataframe to an interactive table.\"\n",
              "              style=\"display:none;\">\n",
              "        \n",
              "  <svg xmlns=\"http://www.w3.org/2000/svg\" height=\"24px\"viewBox=\"0 0 24 24\"\n",
              "       width=\"24px\">\n",
              "    <path d=\"M0 0h24v24H0V0z\" fill=\"none\"/>\n",
              "    <path d=\"M18.56 5.44l.94 2.06.94-2.06 2.06-.94-2.06-.94-.94-2.06-.94 2.06-2.06.94zm-11 1L8.5 8.5l.94-2.06 2.06-.94-2.06-.94L8.5 2.5l-.94 2.06-2.06.94zm10 10l.94 2.06.94-2.06 2.06-.94-2.06-.94-.94-2.06-.94 2.06-2.06.94z\"/><path d=\"M17.41 7.96l-1.37-1.37c-.4-.4-.92-.59-1.43-.59-.52 0-1.04.2-1.43.59L10.3 9.45l-7.72 7.72c-.78.78-.78 2.05 0 2.83L4 21.41c.39.39.9.59 1.41.59.51 0 1.02-.2 1.41-.59l7.78-7.78 2.81-2.81c.8-.78.8-2.07 0-2.86zM5.41 20L4 18.59l7.72-7.72 1.47 1.35L5.41 20z\"/>\n",
              "  </svg>\n",
              "      </button>\n",
              "      \n",
              "  <style>\n",
              "    .colab-df-container {\n",
              "      display:flex;\n",
              "      flex-wrap:wrap;\n",
              "      gap: 12px;\n",
              "    }\n",
              "\n",
              "    .colab-df-convert {\n",
              "      background-color: #E8F0FE;\n",
              "      border: none;\n",
              "      border-radius: 50%;\n",
              "      cursor: pointer;\n",
              "      display: none;\n",
              "      fill: #1967D2;\n",
              "      height: 32px;\n",
              "      padding: 0 0 0 0;\n",
              "      width: 32px;\n",
              "    }\n",
              "\n",
              "    .colab-df-convert:hover {\n",
              "      background-color: #E2EBFA;\n",
              "      box-shadow: 0px 1px 2px rgba(60, 64, 67, 0.3), 0px 1px 3px 1px rgba(60, 64, 67, 0.15);\n",
              "      fill: #174EA6;\n",
              "    }\n",
              "\n",
              "    [theme=dark] .colab-df-convert {\n",
              "      background-color: #3B4455;\n",
              "      fill: #D2E3FC;\n",
              "    }\n",
              "\n",
              "    [theme=dark] .colab-df-convert:hover {\n",
              "      background-color: #434B5C;\n",
              "      box-shadow: 0px 1px 3px 1px rgba(0, 0, 0, 0.15);\n",
              "      filter: drop-shadow(0px 1px 2px rgba(0, 0, 0, 0.3));\n",
              "      fill: #FFFFFF;\n",
              "    }\n",
              "  </style>\n",
              "\n",
              "      <script>\n",
              "        const buttonEl =\n",
              "          document.querySelector('#df-e58d3685-8c72-4566-a433-3ba23680d863 button.colab-df-convert');\n",
              "        buttonEl.style.display =\n",
              "          google.colab.kernel.accessAllowed ? 'block' : 'none';\n",
              "\n",
              "        async function convertToInteractive(key) {\n",
              "          const element = document.querySelector('#df-e58d3685-8c72-4566-a433-3ba23680d863');\n",
              "          const dataTable =\n",
              "            await google.colab.kernel.invokeFunction('convertToInteractive',\n",
              "                                                     [key], {});\n",
              "          if (!dataTable) return;\n",
              "\n",
              "          const docLinkHtml = 'Like what you see? Visit the ' +\n",
              "            '<a target=\"_blank\" href=https://colab.research.google.com/notebooks/data_table.ipynb>data table notebook</a>'\n",
              "            + ' to learn more about interactive tables.';\n",
              "          element.innerHTML = '';\n",
              "          dataTable['output_type'] = 'display_data';\n",
              "          await google.colab.output.renderOutput(dataTable, element);\n",
              "          const docLink = document.createElement('div');\n",
              "          docLink.innerHTML = docLinkHtml;\n",
              "          element.appendChild(docLink);\n",
              "        }\n",
              "      </script>\n",
              "    </div>\n",
              "  </div>\n",
              "  "
            ]
          },
          "metadata": {},
          "execution_count": 16
        }
      ]
    },
    {
      "cell_type": "code",
      "source": [
        "df.columns"
      ],
      "metadata": {
        "colab": {
          "base_uri": "https://localhost:8080/"
        },
        "id": "wereo3YM0-Wz",
        "outputId": "79a231df-37c4-4130-dc90-e605b1ace486"
      },
      "execution_count": 17,
      "outputs": [
        {
          "output_type": "execute_result",
          "data": {
            "text/plain": [
              "Index(['Unnamed: 0', 'TS1_SENS0700_TmpMdul_C_data', 'Barometer_data',\n",
              "       'Outside_Humidity_data', 'Outside_Temperature_data',\n",
              "       'Solar_Radiation_data', 'season', 'TS1_P1_data', 'Wx', 'Wy',\n",
              "       'Date_time_name', 'Day sin', 'Day cos', 'Year sin', 'Year cos'],\n",
              "      dtype='object')"
            ]
          },
          "metadata": {},
          "execution_count": 17
        }
      ]
    },
    {
      "cell_type": "code",
      "source": [
        "df1_new = df.set_index('Date_time_name')           # Applying the set_index method\n",
        "print(df1_new)  "
      ],
      "metadata": {
        "colab": {
          "base_uri": "https://localhost:8080/"
        },
        "id": "MOdvqiy627JQ",
        "outputId": "92337e33-5eb8-42bf-e9b9-15afc7535752"
      },
      "execution_count": 18,
      "outputs": [
        {
          "output_type": "stream",
          "name": "stdout",
          "text": [
            "                  Unnamed: 0  TS1_SENS0700_TmpMdul_C_data  Barometer_data  \\\n",
            "Date_time_name                                                              \n",
            "1/1/2013 5:57            357                           27            1007   \n",
            "1/1/2013 5:58            358                           27            1007   \n",
            "1/1/2013 5:59            359                           27            1007   \n",
            "1/1/2013 6:00            360                           27            1007   \n",
            "1/1/2013 6:01            361                           27            1007   \n",
            "...                      ...                          ...             ...   \n",
            "11/12/2013 18:30      437982                           25            1010   \n",
            "11/12/2013 18:31      437983                           25            1010   \n",
            "11/12/2013 18:32      437984                           25            1010   \n",
            "11/12/2013 18:33      437985                           24            1010   \n",
            "11/12/2013 18:34      437986                           24            1010   \n",
            "\n",
            "                  Outside_Humidity_data  Outside_Temperature_data  \\\n",
            "Date_time_name                                                      \n",
            "1/1/2013 5:57                        76                        25   \n",
            "1/1/2013 5:58                        76                        25   \n",
            "1/1/2013 5:59                        76                        25   \n",
            "1/1/2013 6:00                        76                        25   \n",
            "1/1/2013 6:01                        76                        25   \n",
            "...                                 ...                       ...   \n",
            "11/12/2013 18:30                     65                        22   \n",
            "11/12/2013 18:31                     65                        22   \n",
            "11/12/2013 18:32                     65                        22   \n",
            "11/12/2013 18:33                     65                        22   \n",
            "11/12/2013 18:34                     65                        22   \n",
            "\n",
            "                  Solar_Radiation_data  season  TS1_P1_data         Wx  \\\n",
            "Date_time_name                                                           \n",
            "1/1/2013 5:57                       79  Summer           24   0.209397   \n",
            "1/1/2013 5:58                       83  Summer           26   0.209397   \n",
            "1/1/2013 5:59                       84  Summer           23   0.279196   \n",
            "1/1/2013 6:00                       86  Summer           24   2.150208   \n",
            "1/1/2013 6:01                       88  Summer           25   1.026060   \n",
            "...                                ...     ...          ...        ...   \n",
            "11/12/2013 18:30                    21  Spring            6  -7.853017   \n",
            "11/12/2013 18:31                    19  Spring            6 -13.119296   \n",
            "11/12/2013 18:32                    19  Spring            4 -10.495436   \n",
            "11/12/2013 18:33                    18  Spring            4  -7.714506   \n",
            "11/12/2013 18:34                    18  Spring            2 -15.524732   \n",
            "\n",
            "                        Wy       Day sin       Day cos  Year sin  Year cos  \n",
            "Date_time_name                                                              \n",
            "1/1/2013 5:57     5.996345 -1.564345e-01  9.876883e-01  0.168553  0.985693  \n",
            "1/1/2013 5:58     5.996345 -1.045285e-01  9.945219e-01  0.168694  0.985668  \n",
            "1/1/2013 5:59     7.995127 -5.233596e-02  9.986295e-01  0.168835  0.985644  \n",
            "1/1/2013 6:00     5.601483 -1.081356e-11  1.000000e+00  0.168977  0.985620  \n",
            "1/1/2013 6:01     2.819078  5.233596e-02  9.986295e-01  0.169118  0.985596  \n",
            "...                    ...           ...           ...       ...       ...  \n",
            "11/12/2013 18:30 -1.526472  1.000000e+00  8.150907e-12  0.620703 -0.784045  \n",
            "11/12/2013 18:31 -7.272144  9.986295e-01 -5.233596e-02  0.620591 -0.784134  \n",
            "11/12/2013 18:32 -5.817715  9.945219e-01 -1.045285e-01  0.620479 -0.784223  \n",
            "11/12/2013 18:33 -4.635343  9.876883e-01 -1.564345e-01  0.620366 -0.784312  \n",
            "11/12/2013 18:34 -3.870750  9.781476e-01 -2.079117e-01  0.620254 -0.784401  \n",
            "\n",
            "[157795 rows x 14 columns]\n"
          ]
        }
      ]
    },
    {
      "cell_type": "code",
      "source": [
        "df1_new.columns"
      ],
      "metadata": {
        "colab": {
          "base_uri": "https://localhost:8080/"
        },
        "id": "Fhds5fMmCkGU",
        "outputId": "8fd62789-00e3-440c-88b0-bc34da12aecc"
      },
      "execution_count": 19,
      "outputs": [
        {
          "output_type": "execute_result",
          "data": {
            "text/plain": [
              "Index(['Unnamed: 0', 'TS1_SENS0700_TmpMdul_C_data', 'Barometer_data',\n",
              "       'Outside_Humidity_data', 'Outside_Temperature_data',\n",
              "       'Solar_Radiation_data', 'season', 'TS1_P1_data', 'Wx', 'Wy', 'Day sin',\n",
              "       'Day cos', 'Year sin', 'Year cos'],\n",
              "      dtype='object')"
            ]
          },
          "metadata": {},
          "execution_count": 19
        }
      ]
    },
    {
      "cell_type": "code",
      "source": [
        "df1_new = df1_new.loc[df1_new['TS1_P1_data']<=1150]"
      ],
      "metadata": {
        "id": "Dx7KWNpaF_QC"
      },
      "execution_count": 20,
      "outputs": []
    },
    {
      "cell_type": "code",
      "source": [
        "df1_new = df1_new.loc[df1_new['TS1_P1_data']>50]"
      ],
      "metadata": {
        "id": "GTZ3L-fgGBTs"
      },
      "execution_count": 21,
      "outputs": []
    },
    {
      "cell_type": "code",
      "source": [
        "df1_new.shape"
      ],
      "metadata": {
        "colab": {
          "base_uri": "https://localhost:8080/"
        },
        "id": "kVIE9eLhGjQh",
        "outputId": "cf2c68e0-adcf-4dc8-ac6e-60edb0a5ab6f"
      },
      "execution_count": 22,
      "outputs": [
        {
          "output_type": "execute_result",
          "data": {
            "text/plain": [
              "(128934, 14)"
            ]
          },
          "metadata": {},
          "execution_count": 22
        }
      ]
    },
    {
      "cell_type": "code",
      "source": [
        "print(df1_new['season'].value_counts())"
      ],
      "metadata": {
        "colab": {
          "base_uri": "https://localhost:8080/"
        },
        "id": "1pXOOX4bC--U",
        "outputId": "f5e3a589-f906-4b47-9689-ec660650bb75"
      },
      "execution_count": 23,
      "outputs": [
        {
          "output_type": "stream",
          "name": "stdout",
          "text": [
            "Autumn    36423\n",
            "Winter    35661\n",
            "Spring    32612\n",
            "Summer    24238\n",
            "Name: season, dtype: int64\n"
          ]
        }
      ]
    },
    {
      "cell_type": "code",
      "source": [
        "Spring=df1_new[df1_new['season']=='Spring'] #Spring\n",
        "\n",
        "Autumn=df1_new[df1_new['season']=='Autumn'] #Autumn\n",
        "\n",
        "Winter=df1_new[df1_new['season']=='Winter'] #Spring\n",
        "\n",
        "Summer=df1_new[df1_new['season']=='Summer'] #Autumn"
      ],
      "metadata": {
        "id": "Y4VKfNCqCeMF"
      },
      "execution_count": 24,
      "outputs": []
    },
    {
      "cell_type": "code",
      "source": [
        "print(\"Spring\",Spring.shape)\n",
        "print(\"Autumn\",Autumn.shape)\n",
        "print(\"Winter\",Winter.shape)\n",
        "print(\"Summer\",Summer.shape)"
      ],
      "metadata": {
        "colab": {
          "base_uri": "https://localhost:8080/"
        },
        "id": "UaNr2elODbaQ",
        "outputId": "e10f87b7-58d8-4fc1-f016-bcee5c4104b3"
      },
      "execution_count": 25,
      "outputs": [
        {
          "output_type": "stream",
          "name": "stdout",
          "text": [
            "Spring (32612, 14)\n",
            "Autumn (36423, 14)\n",
            "Winter (35661, 14)\n",
            "Summer (24238, 14)\n"
          ]
        }
      ]
    },
    {
      "cell_type": "markdown",
      "source": [
        "**Springs**\n",
        "---"
      ],
      "metadata": {
        "id": "Frt7EqH5E3Qw"
      }
    },
    {
      "cell_type": "code",
      "source": [
        "dfSpring =Spring[['TS1_P1_data','TS1_SENS0700_TmpMdul_C_data', 'Barometer_data',\n",
        "       'Outside_Humidity_data', 'Outside_Temperature_data',\n",
        "       'Solar_Radiation_data','Wx','Wy', 'Day sin','Day cos','Year sin', 'Year cos']]"
      ],
      "metadata": {
        "id": "MqIKpDjCDeZR"
      },
      "execution_count": 26,
      "outputs": []
    },
    {
      "cell_type": "code",
      "source": [
        "dfSpring.shape"
      ],
      "metadata": {
        "colab": {
          "base_uri": "https://localhost:8080/"
        },
        "id": "25HG4dswFWok",
        "outputId": "6c6ee64a-b953-4d4c-c32d-d45414ae68b8"
      },
      "execution_count": 27,
      "outputs": [
        {
          "output_type": "execute_result",
          "data": {
            "text/plain": [
              "(32612, 12)"
            ]
          },
          "metadata": {},
          "execution_count": 27
        }
      ]
    },
    {
      "cell_type": "code",
      "source": [
        "dfSpring.agg(['skew', 'kurtosis']).transpose()"
      ],
      "metadata": {
        "colab": {
          "base_uri": "https://localhost:8080/",
          "height": 425
        },
        "id": "cAS3ZN1MHYbs",
        "outputId": "b659fdbd-6f3e-42b2-805f-c04ce893310a"
      },
      "execution_count": 28,
      "outputs": [
        {
          "output_type": "execute_result",
          "data": {
            "text/plain": [
              "                                 skew  kurtosis\n",
              "TS1_P1_data                  0.075991 -1.445458\n",
              "TS1_SENS0700_TmpMdul_C_data  0.314899 -0.553304\n",
              "Barometer_data              -0.073813 -0.673264\n",
              "Outside_Humidity_data       -0.417640 -0.319017\n",
              "Outside_Temperature_data     0.770696  0.589642\n",
              "Solar_Radiation_data         0.667905 -0.391781\n",
              "Wx                           0.120860 -0.621452\n",
              "Wy                          -0.077373 -0.509364\n",
              "Day sin                     -0.002051 -1.507495\n",
              "Day cos                      0.017040 -1.491460\n",
              "Year sin                    -0.146013 -1.578832\n",
              "Year cos                     0.223896 -1.335608"
            ],
            "text/html": [
              "\n",
              "  <div id=\"df-ce0a1a5e-15cd-4f91-bd98-1403e971071f\">\n",
              "    <div class=\"colab-df-container\">\n",
              "      <div>\n",
              "<style scoped>\n",
              "    .dataframe tbody tr th:only-of-type {\n",
              "        vertical-align: middle;\n",
              "    }\n",
              "\n",
              "    .dataframe tbody tr th {\n",
              "        vertical-align: top;\n",
              "    }\n",
              "\n",
              "    .dataframe thead th {\n",
              "        text-align: right;\n",
              "    }\n",
              "</style>\n",
              "<table border=\"1\" class=\"dataframe\">\n",
              "  <thead>\n",
              "    <tr style=\"text-align: right;\">\n",
              "      <th></th>\n",
              "      <th>skew</th>\n",
              "      <th>kurtosis</th>\n",
              "    </tr>\n",
              "  </thead>\n",
              "  <tbody>\n",
              "    <tr>\n",
              "      <th>TS1_P1_data</th>\n",
              "      <td>0.075991</td>\n",
              "      <td>-1.445458</td>\n",
              "    </tr>\n",
              "    <tr>\n",
              "      <th>TS1_SENS0700_TmpMdul_C_data</th>\n",
              "      <td>0.314899</td>\n",
              "      <td>-0.553304</td>\n",
              "    </tr>\n",
              "    <tr>\n",
              "      <th>Barometer_data</th>\n",
              "      <td>-0.073813</td>\n",
              "      <td>-0.673264</td>\n",
              "    </tr>\n",
              "    <tr>\n",
              "      <th>Outside_Humidity_data</th>\n",
              "      <td>-0.417640</td>\n",
              "      <td>-0.319017</td>\n",
              "    </tr>\n",
              "    <tr>\n",
              "      <th>Outside_Temperature_data</th>\n",
              "      <td>0.770696</td>\n",
              "      <td>0.589642</td>\n",
              "    </tr>\n",
              "    <tr>\n",
              "      <th>Solar_Radiation_data</th>\n",
              "      <td>0.667905</td>\n",
              "      <td>-0.391781</td>\n",
              "    </tr>\n",
              "    <tr>\n",
              "      <th>Wx</th>\n",
              "      <td>0.120860</td>\n",
              "      <td>-0.621452</td>\n",
              "    </tr>\n",
              "    <tr>\n",
              "      <th>Wy</th>\n",
              "      <td>-0.077373</td>\n",
              "      <td>-0.509364</td>\n",
              "    </tr>\n",
              "    <tr>\n",
              "      <th>Day sin</th>\n",
              "      <td>-0.002051</td>\n",
              "      <td>-1.507495</td>\n",
              "    </tr>\n",
              "    <tr>\n",
              "      <th>Day cos</th>\n",
              "      <td>0.017040</td>\n",
              "      <td>-1.491460</td>\n",
              "    </tr>\n",
              "    <tr>\n",
              "      <th>Year sin</th>\n",
              "      <td>-0.146013</td>\n",
              "      <td>-1.578832</td>\n",
              "    </tr>\n",
              "    <tr>\n",
              "      <th>Year cos</th>\n",
              "      <td>0.223896</td>\n",
              "      <td>-1.335608</td>\n",
              "    </tr>\n",
              "  </tbody>\n",
              "</table>\n",
              "</div>\n",
              "      <button class=\"colab-df-convert\" onclick=\"convertToInteractive('df-ce0a1a5e-15cd-4f91-bd98-1403e971071f')\"\n",
              "              title=\"Convert this dataframe to an interactive table.\"\n",
              "              style=\"display:none;\">\n",
              "        \n",
              "  <svg xmlns=\"http://www.w3.org/2000/svg\" height=\"24px\"viewBox=\"0 0 24 24\"\n",
              "       width=\"24px\">\n",
              "    <path d=\"M0 0h24v24H0V0z\" fill=\"none\"/>\n",
              "    <path d=\"M18.56 5.44l.94 2.06.94-2.06 2.06-.94-2.06-.94-.94-2.06-.94 2.06-2.06.94zm-11 1L8.5 8.5l.94-2.06 2.06-.94-2.06-.94L8.5 2.5l-.94 2.06-2.06.94zm10 10l.94 2.06.94-2.06 2.06-.94-2.06-.94-.94-2.06-.94 2.06-2.06.94z\"/><path d=\"M17.41 7.96l-1.37-1.37c-.4-.4-.92-.59-1.43-.59-.52 0-1.04.2-1.43.59L10.3 9.45l-7.72 7.72c-.78.78-.78 2.05 0 2.83L4 21.41c.39.39.9.59 1.41.59.51 0 1.02-.2 1.41-.59l7.78-7.78 2.81-2.81c.8-.78.8-2.07 0-2.86zM5.41 20L4 18.59l7.72-7.72 1.47 1.35L5.41 20z\"/>\n",
              "  </svg>\n",
              "      </button>\n",
              "      \n",
              "  <style>\n",
              "    .colab-df-container {\n",
              "      display:flex;\n",
              "      flex-wrap:wrap;\n",
              "      gap: 12px;\n",
              "    }\n",
              "\n",
              "    .colab-df-convert {\n",
              "      background-color: #E8F0FE;\n",
              "      border: none;\n",
              "      border-radius: 50%;\n",
              "      cursor: pointer;\n",
              "      display: none;\n",
              "      fill: #1967D2;\n",
              "      height: 32px;\n",
              "      padding: 0 0 0 0;\n",
              "      width: 32px;\n",
              "    }\n",
              "\n",
              "    .colab-df-convert:hover {\n",
              "      background-color: #E2EBFA;\n",
              "      box-shadow: 0px 1px 2px rgba(60, 64, 67, 0.3), 0px 1px 3px 1px rgba(60, 64, 67, 0.15);\n",
              "      fill: #174EA6;\n",
              "    }\n",
              "\n",
              "    [theme=dark] .colab-df-convert {\n",
              "      background-color: #3B4455;\n",
              "      fill: #D2E3FC;\n",
              "    }\n",
              "\n",
              "    [theme=dark] .colab-df-convert:hover {\n",
              "      background-color: #434B5C;\n",
              "      box-shadow: 0px 1px 3px 1px rgba(0, 0, 0, 0.15);\n",
              "      filter: drop-shadow(0px 1px 2px rgba(0, 0, 0, 0.3));\n",
              "      fill: #FFFFFF;\n",
              "    }\n",
              "  </style>\n",
              "\n",
              "      <script>\n",
              "        const buttonEl =\n",
              "          document.querySelector('#df-ce0a1a5e-15cd-4f91-bd98-1403e971071f button.colab-df-convert');\n",
              "        buttonEl.style.display =\n",
              "          google.colab.kernel.accessAllowed ? 'block' : 'none';\n",
              "\n",
              "        async function convertToInteractive(key) {\n",
              "          const element = document.querySelector('#df-ce0a1a5e-15cd-4f91-bd98-1403e971071f');\n",
              "          const dataTable =\n",
              "            await google.colab.kernel.invokeFunction('convertToInteractive',\n",
              "                                                     [key], {});\n",
              "          if (!dataTable) return;\n",
              "\n",
              "          const docLinkHtml = 'Like what you see? Visit the ' +\n",
              "            '<a target=\"_blank\" href=https://colab.research.google.com/notebooks/data_table.ipynb>data table notebook</a>'\n",
              "            + ' to learn more about interactive tables.';\n",
              "          element.innerHTML = '';\n",
              "          dataTable['output_type'] = 'display_data';\n",
              "          await google.colab.output.renderOutput(dataTable, element);\n",
              "          const docLink = document.createElement('div');\n",
              "          docLink.innerHTML = docLinkHtml;\n",
              "          element.appendChild(docLink);\n",
              "        }\n",
              "      </script>\n",
              "    </div>\n",
              "  </div>\n",
              "  "
            ]
          },
          "metadata": {},
          "execution_count": 28
        }
      ]
    },
    {
      "cell_type": "code",
      "source": [
        "import scipy.stats as stats\n",
        "def diagnostic_plots(df, variable):\n",
        "    # function to plot a histogram and a Q-Q plot\n",
        "    # side by side, for a certain variable\n",
        "    plt.figure(figsize=(15,6))\n",
        "    plt.subplot(1, 2, 1)\n",
        "    df[variable].hist()\n",
        "    plt.subplot(1, 2, 2)\n",
        "    stats.probplot(df[variable], dist=\"norm\", plot=plt)\n",
        "    plt.show()\n",
        "diagnostic_plots(dfSpring,'Solar_Radiation_data')"
      ],
      "metadata": {
        "colab": {
          "base_uri": "https://localhost:8080/",
          "height": 404
        },
        "id": "ysUNja99HzbP",
        "outputId": "cfb4988e-8513-4695-d196-b2077e4b2ad2"
      },
      "execution_count": 29,
      "outputs": [
        {
          "output_type": "display_data",
          "data": {
            "text/plain": [
              "<Figure size 1080x432 with 2 Axes>"
            ],
            "image/png": "[encoded data removed]"
          },
          "metadata": {
            "needs_background": "light"
          }
        }
      ]
    },
    {
      "cell_type": "code",
      "source": [
        "dfSpring['Solar_Radiation_data_SQ']=dfSpring.Solar_Radiation_data**(1/2)\n",
        "diagnostic_plots(dfSpring,'Solar_Radiation_data_SQ')"
      ],
      "metadata": {
        "colab": {
          "base_uri": "https://localhost:8080/",
          "height": 513
        },
        "id": "gRlf3JkhH34_",
        "outputId": "3cff414c-29c3-4105-99fd-5c8c6d7c6eea"
      },
      "execution_count": 30,
      "outputs": [
        {
          "output_type": "stream",
          "name": "stderr",
          "text": [
            "<ipython-input-30-011626fb72d6>:1: SettingWithCopyWarning: \n",
            "A value is trying to be set on a copy of a slice from a DataFrame.\n",
            "Try using .loc[row_indexer,col_indexer] = value instead\n",
            "\n",
            "See the caveats in the documentation: https://pandas.pydata.org/pandas-docs/stable/user_guide/indexing.html#returning-a-view-versus-a-copy\n",
            "  dfSpring['Solar_Radiation_data_SQ']=dfSpring.Solar_Radiation_data**(1/2)\n"
          ]
        },
        {
          "output_type": "display_data",
          "data": {
            "text/plain": [
              "<Figure size 1080x432 with 2 Axes>"
            ],
            "image/png": "[encoded data removed]"
          },
          "metadata": {
            "needs_background": "light"
          }
        }
      ]
    },
    {
      "cell_type": "code",
      "source": [
        "diagnostic_plots(dfSpring,'TS1_P1_data')"
      ],
      "metadata": {
        "colab": {
          "base_uri": "https://localhost:8080/",
          "height": 404
        },
        "id": "7htVMVIWIP69",
        "outputId": "78d7bf76-6bff-47fd-d8a7-cdb96359be12"
      },
      "execution_count": 31,
      "outputs": [
        {
          "output_type": "display_data",
          "data": {
            "text/plain": [
              "<Figure size 1080x432 with 2 Axes>"
            ],
            "image/png": "[encoded data removed]"
          },
          "metadata": {
            "needs_background": "light"
          }
        }
      ]
    },
    {
      "cell_type": "code",
      "source": [
        "dfSpring.agg(['skew', 'kurtosis']).transpose()"
      ],
      "metadata": {
        "colab": {
          "base_uri": "https://localhost:8080/",
          "height": 457
        },
        "id": "ZoeyYHCjH37p",
        "outputId": "71e3eed9-b623-47b3-8fca-2b19dd370090"
      },
      "execution_count": 32,
      "outputs": [
        {
          "output_type": "execute_result",
          "data": {
            "text/plain": [
              "                                 skew  kurtosis\n",
              "TS1_P1_data                  0.075991 -1.445458\n",
              "TS1_SENS0700_TmpMdul_C_data  0.314899 -0.553304\n",
              "Barometer_data              -0.073813 -0.673264\n",
              "Outside_Humidity_data       -0.417640 -0.319017\n",
              "Outside_Temperature_data     0.770696  0.589642\n",
              "Solar_Radiation_data         0.667905 -0.391781\n",
              "Wx                           0.120860 -0.621452\n",
              "Wy                          -0.077373 -0.509364\n",
              "Day sin                     -0.002051 -1.507495\n",
              "Day cos                      0.017040 -1.491460\n",
              "Year sin                    -0.146013 -1.578832\n",
              "Year cos                     0.223896 -1.335608\n",
              "Solar_Radiation_data_SQ      0.103631 -0.822791"
            ],
            "text/html": [
              "\n",
              "  <div id=\"df-36864689-c69e-4154-9658-3f94689246da\">\n",
              "    <div class=\"colab-df-container\">\n",
              "      <div>\n",
              "<style scoped>\n",
              "    .dataframe tbody tr th:only-of-type {\n",
              "        vertical-align: middle;\n",
              "    }\n",
              "\n",
              "    .dataframe tbody tr th {\n",
              "        vertical-align: top;\n",
              "    }\n",
              "\n",
              "    .dataframe thead th {\n",
              "        text-align: right;\n",
              "    }\n",
              "</style>\n",
              "<table border=\"1\" class=\"dataframe\">\n",
              "  <thead>\n",
              "    <tr style=\"text-align: right;\">\n",
              "      <th></th>\n",
              "      <th>skew</th>\n",
              "      <th>kurtosis</th>\n",
              "    </tr>\n",
              "  </thead>\n",
              "  <tbody>\n",
              "    <tr>\n",
              "      <th>TS1_P1_data</th>\n",
              "      <td>0.075991</td>\n",
              "      <td>-1.445458</td>\n",
              "    </tr>\n",
              "    <tr>\n",
              "      <th>TS1_SENS0700_TmpMdul_C_data</th>\n",
              "      <td>0.314899</td>\n",
              "      <td>-0.553304</td>\n",
              "    </tr>\n",
              "    <tr>\n",
              "      <th>Barometer_data</th>\n",
              "      <td>-0.073813</td>\n",
              "      <td>-0.673264</td>\n",
              "    </tr>\n",
              "    <tr>\n",
              "      <th>Outside_Humidity_data</th>\n",
              "      <td>-0.417640</td>\n",
              "      <td>-0.319017</td>\n",
              "    </tr>\n",
              "    <tr>\n",
              "      <th>Outside_Temperature_data</th>\n",
              "      <td>0.770696</td>\n",
              "      <td>0.589642</td>\n",
              "    </tr>\n",
              "    <tr>\n",
              "      <th>Solar_Radiation_data</th>\n",
              "      <td>0.667905</td>\n",
              "      <td>-0.391781</td>\n",
              "    </tr>\n",
              "    <tr>\n",
              "      <th>Wx</th>\n",
              "      <td>0.120860</td>\n",
              "      <td>-0.621452</td>\n",
              "    </tr>\n",
              "    <tr>\n",
              "      <th>Wy</th>\n",
              "      <td>-0.077373</td>\n",
              "      <td>-0.509364</td>\n",
              "    </tr>\n",
              "    <tr>\n",
              "      <th>Day sin</th>\n",
              "      <td>-0.002051</td>\n",
              "      <td>-1.507495</td>\n",
              "    </tr>\n",
              "    <tr>\n",
              "      <th>Day cos</th>\n",
              "      <td>0.017040</td>\n",
              "      <td>-1.491460</td>\n",
              "    </tr>\n",
              "    <tr>\n",
              "      <th>Year sin</th>\n",
              "      <td>-0.146013</td>\n",
              "      <td>-1.578832</td>\n",
              "    </tr>\n",
              "    <tr>\n",
              "      <th>Year cos</th>\n",
              "      <td>0.223896</td>\n",
              "      <td>-1.335608</td>\n",
              "    </tr>\n",
              "    <tr>\n",
              "      <th>Solar_Radiation_data_SQ</th>\n",
              "      <td>0.103631</td>\n",
              "      <td>-0.822791</td>\n",
              "    </tr>\n",
              "  </tbody>\n",
              "</table>\n",
              "</div>\n",
              "      <button class=\"colab-df-convert\" onclick=\"convertToInteractive('df-36864689-c69e-4154-9658-3f94689246da')\"\n",
              "              title=\"Convert this dataframe to an interactive table.\"\n",
              "              style=\"display:none;\">\n",
              "        \n",
              "  <svg xmlns=\"http://www.w3.org/2000/svg\" height=\"24px\"viewBox=\"0 0 24 24\"\n",
              "       width=\"24px\">\n",
              "    <path d=\"M0 0h24v24H0V0z\" fill=\"none\"/>\n",
              "    <path d=\"M18.56 5.44l.94 2.06.94-2.06 2.06-.94-2.06-.94-.94-2.06-.94 2.06-2.06.94zm-11 1L8.5 8.5l.94-2.06 2.06-.94-2.06-.94L8.5 2.5l-.94 2.06-2.06.94zm10 10l.94 2.06.94-2.06 2.06-.94-2.06-.94-.94-2.06-.94 2.06-2.06.94z\"/><path d=\"M17.41 7.96l-1.37-1.37c-.4-.4-.92-.59-1.43-.59-.52 0-1.04.2-1.43.59L10.3 9.45l-7.72 7.72c-.78.78-.78 2.05 0 2.83L4 21.41c.39.39.9.59 1.41.59.51 0 1.02-.2 1.41-.59l7.78-7.78 2.81-2.81c.8-.78.8-2.07 0-2.86zM5.41 20L4 18.59l7.72-7.72 1.47 1.35L5.41 20z\"/>\n",
              "  </svg>\n",
              "      </button>\n",
              "      \n",
              "  <style>\n",
              "    .colab-df-container {\n",
              "      display:flex;\n",
              "      flex-wrap:wrap;\n",
              "      gap: 12px;\n",
              "    }\n",
              "\n",
              "    .colab-df-convert {\n",
              "      background-color: #E8F0FE;\n",
              "      border: none;\n",
              "      border-radius: 50%;\n",
              "      cursor: pointer;\n",
              "      display: none;\n",
              "      fill: #1967D2;\n",
              "      height: 32px;\n",
              "      padding: 0 0 0 0;\n",
              "      width: 32px;\n",
              "    }\n",
              "\n",
              "    .colab-df-convert:hover {\n",
              "      background-color: #E2EBFA;\n",
              "      box-shadow: 0px 1px 2px rgba(60, 64, 67, 0.3), 0px 1px 3px 1px rgba(60, 64, 67, 0.15);\n",
              "      fill: #174EA6;\n",
              "    }\n",
              "\n",
              "    [theme=dark] .colab-df-convert {\n",
              "      background-color: #3B4455;\n",
              "      fill: #D2E3FC;\n",
              "    }\n",
              "\n",
              "    [theme=dark] .colab-df-convert:hover {\n",
              "      background-color: #434B5C;\n",
              "      box-shadow: 0px 1px 3px 1px rgba(0, 0, 0, 0.15);\n",
              "      filter: drop-shadow(0px 1px 2px rgba(0, 0, 0, 0.3));\n",
              "      fill: #FFFFFF;\n",
              "    }\n",
              "  </style>\n",
              "\n",
              "      <script>\n",
              "        const buttonEl =\n",
              "          document.querySelector('#df-36864689-c69e-4154-9658-3f94689246da button.colab-df-convert');\n",
              "        buttonEl.style.display =\n",
              "          google.colab.kernel.accessAllowed ? 'block' : 'none';\n",
              "\n",
              "        async function convertToInteractive(key) {\n",
              "          const element = document.querySelector('#df-36864689-c69e-4154-9658-3f94689246da');\n",
              "          const dataTable =\n",
              "            await google.colab.kernel.invokeFunction('convertToInteractive',\n",
              "                                                     [key], {});\n",
              "          if (!dataTable) return;\n",
              "\n",
              "          const docLinkHtml = 'Like what you see? Visit the ' +\n",
              "            '<a target=\"_blank\" href=https://colab.research.google.com/notebooks/data_table.ipynb>data table notebook</a>'\n",
              "            + ' to learn more about interactive tables.';\n",
              "          element.innerHTML = '';\n",
              "          dataTable['output_type'] = 'display_data';\n",
              "          await google.colab.output.renderOutput(dataTable, element);\n",
              "          const docLink = document.createElement('div');\n",
              "          docLink.innerHTML = docLinkHtml;\n",
              "          element.appendChild(docLink);\n",
              "        }\n",
              "      </script>\n",
              "    </div>\n",
              "  </div>\n",
              "  "
            ]
          },
          "metadata": {},
          "execution_count": 32
        }
      ]
    },
    {
      "cell_type": "code",
      "source": [
        "dfSpring =dfSpring[['TS1_P1_data','TS1_SENS0700_TmpMdul_C_data', 'Barometer_data',\n",
        "       'Outside_Humidity_data', 'Outside_Temperature_data',\n",
        "       'Solar_Radiation_data_SQ','Wx','Wy', 'Day sin','Day cos','Year sin', 'Year cos']]"
      ],
      "metadata": {
        "id": "_82Kvzl09zdB"
      },
      "execution_count": 33,
      "outputs": []
    },
    {
      "cell_type": "markdown",
      "source": [
        "Autumn\n",
        "---"
      ],
      "metadata": {
        "id": "HYoYGYwrFCh8"
      }
    },
    {
      "cell_type": "code",
      "execution_count": 34,
      "metadata": {
        "id": "4zvuWcbDdsk0"
      },
      "outputs": [],
      "source": [
        "dfAutumn =Autumn[['TS1_P1_data','TS1_SENS0700_TmpMdul_C_data', 'Barometer_data',\n",
        "       'Outside_Humidity_data', 'Outside_Temperature_data',\n",
        "       'Solar_Radiation_data','Wx','Wy', 'Day sin','Day cos','Year sin', 'Year cos']]"
      ]
    },
    {
      "cell_type": "code",
      "source": [
        "dfAutumn.shape"
      ],
      "metadata": {
        "colab": {
          "base_uri": "https://localhost:8080/"
        },
        "id": "3ml6xij3HDlA",
        "outputId": "43c85b01-ea81-4230-ba8d-0b72176703b3"
      },
      "execution_count": 35,
      "outputs": [
        {
          "output_type": "execute_result",
          "data": {
            "text/plain": [
              "(36423, 12)"
            ]
          },
          "metadata": {},
          "execution_count": 35
        }
      ]
    },
    {
      "cell_type": "code",
      "source": [
        "dfAutumn.agg(['skew', 'kurtosis']).transpose()"
      ],
      "metadata": {
        "colab": {
          "base_uri": "https://localhost:8080/",
          "height": 425
        },
        "id": "GWmBocE2Hdm7",
        "outputId": "ca8eb5db-acd9-4e66-b552-3986106c2244"
      },
      "execution_count": 36,
      "outputs": [
        {
          "output_type": "execute_result",
          "data": {
            "text/plain": [
              "                                 skew  kurtosis\n",
              "TS1_P1_data                  0.032460 -1.408464\n",
              "TS1_SENS0700_TmpMdul_C_data  0.189361  0.021641\n",
              "Barometer_data               0.112590  0.001871\n",
              "Outside_Humidity_data       -0.019220 -0.281082\n",
              "Outside_Temperature_data     0.203838  0.315809\n",
              "Solar_Radiation_data         0.496981 -0.597873\n",
              "Wx                           0.247399  0.282629\n",
              "Wy                          -0.040105  0.354275\n",
              "Day sin                      0.000014 -1.493787\n",
              "Day cos                     -0.063956 -1.501738\n",
              "Year sin                     0.147494 -1.577443\n",
              "Year cos                     0.152380 -1.382808"
            ],
            "text/html": [
              "\n",
              "  <div id=\"df-9df27824-b180-4203-a134-0cf8bc3636c2\">\n",
              "    <div class=\"colab-df-container\">\n",
              "      <div>\n",
              "<style scoped>\n",
              "    .dataframe tbody tr th:only-of-type {\n",
              "        vertical-align: middle;\n",
              "    }\n",
              "\n",
              "    .dataframe tbody tr th {\n",
              "        vertical-align: top;\n",
              "    }\n",
              "\n",
              "    .dataframe thead th {\n",
              "        text-align: right;\n",
              "    }\n",
              "</style>\n",
              "<table border=\"1\" class=\"dataframe\">\n",
              "  <thead>\n",
              "    <tr style=\"text-align: right;\">\n",
              "      <th></th>\n",
              "      <th>skew</th>\n",
              "      <th>kurtosis</th>\n",
              "    </tr>\n",
              "  </thead>\n",
              "  <tbody>\n",
              "    <tr>\n",
              "      <th>TS1_P1_data</th>\n",
              "      <td>0.032460</td>\n",
              "      <td>-1.408464</td>\n",
              "    </tr>\n",
              "    <tr>\n",
              "      <th>TS1_SENS0700_TmpMdul_C_data</th>\n",
              "      <td>0.189361</td>\n",
              "      <td>0.021641</td>\n",
              "    </tr>\n",
              "    <tr>\n",
              "      <th>Barometer_data</th>\n",
              "      <td>0.112590</td>\n",
              "      <td>0.001871</td>\n",
              "    </tr>\n",
              "    <tr>\n",
              "      <th>Outside_Humidity_data</th>\n",
              "      <td>-0.019220</td>\n",
              "      <td>-0.281082</td>\n",
              "    </tr>\n",
              "    <tr>\n",
              "      <th>Outside_Temperature_data</th>\n",
              "      <td>0.203838</td>\n",
              "      <td>0.315809</td>\n",
              "    </tr>\n",
              "    <tr>\n",
              "      <th>Solar_Radiation_data</th>\n",
              "      <td>0.496981</td>\n",
              "      <td>-0.597873</td>\n",
              "    </tr>\n",
              "    <tr>\n",
              "      <th>Wx</th>\n",
              "      <td>0.247399</td>\n",
              "      <td>0.282629</td>\n",
              "    </tr>\n",
              "    <tr>\n",
              "      <th>Wy</th>\n",
              "      <td>-0.040105</td>\n",
              "      <td>0.354275</td>\n",
              "    </tr>\n",
              "    <tr>\n",
              "      <th>Day sin</th>\n",
              "      <td>0.000014</td>\n",
              "      <td>-1.493787</td>\n",
              "    </tr>\n",
              "    <tr>\n",
              "      <th>Day cos</th>\n",
              "      <td>-0.063956</td>\n",
              "      <td>-1.501738</td>\n",
              "    </tr>\n",
              "    <tr>\n",
              "      <th>Year sin</th>\n",
              "      <td>0.147494</td>\n",
              "      <td>-1.577443</td>\n",
              "    </tr>\n",
              "    <tr>\n",
              "      <th>Year cos</th>\n",
              "      <td>0.152380</td>\n",
              "      <td>-1.382808</td>\n",
              "    </tr>\n",
              "  </tbody>\n",
              "</table>\n",
              "</div>\n",
              "      <button class=\"colab-df-convert\" onclick=\"convertToInteractive('df-9df27824-b180-4203-a134-0cf8bc3636c2')\"\n",
              "              title=\"Convert this dataframe to an interactive table.\"\n",
              "              style=\"display:none;\">\n",
              "        \n",
              "  <svg xmlns=\"http://www.w3.org/2000/svg\" height=\"24px\"viewBox=\"0 0 24 24\"\n",
              "       width=\"24px\">\n",
              "    <path d=\"M0 0h24v24H0V0z\" fill=\"none\"/>\n",
              "    <path d=\"M18.56 5.44l.94 2.06.94-2.06 2.06-.94-2.06-.94-.94-2.06-.94 2.06-2.06.94zm-11 1L8.5 8.5l.94-2.06 2.06-.94-2.06-.94L8.5 2.5l-.94 2.06-2.06.94zm10 10l.94 2.06.94-2.06 2.06-.94-2.06-.94-.94-2.06-.94 2.06-2.06.94z\"/><path d=\"M17.41 7.96l-1.37-1.37c-.4-.4-.92-.59-1.43-.59-.52 0-1.04.2-1.43.59L10.3 9.45l-7.72 7.72c-.78.78-.78 2.05 0 2.83L4 21.41c.39.39.9.59 1.41.59.51 0 1.02-.2 1.41-.59l7.78-7.78 2.81-2.81c.8-.78.8-2.07 0-2.86zM5.41 20L4 18.59l7.72-7.72 1.47 1.35L5.41 20z\"/>\n",
              "  </svg>\n",
              "      </button>\n",
              "      \n",
              "  <style>\n",
              "    .colab-df-container {\n",
              "      display:flex;\n",
              "      flex-wrap:wrap;\n",
              "      gap: 12px;\n",
              "    }\n",
              "\n",
              "    .colab-df-convert {\n",
              "      background-color: #E8F0FE;\n",
              "      border: none;\n",
              "      border-radius: 50%;\n",
              "      cursor: pointer;\n",
              "      display: none;\n",
              "      fill: #1967D2;\n",
              "      height: 32px;\n",
              "      padding: 0 0 0 0;\n",
              "      width: 32px;\n",
              "    }\n",
              "\n",
              "    .colab-df-convert:hover {\n",
              "      background-color: #E2EBFA;\n",
              "      box-shadow: 0px 1px 2px rgba(60, 64, 67, 0.3), 0px 1px 3px 1px rgba(60, 64, 67, 0.15);\n",
              "      fill: #174EA6;\n",
              "    }\n",
              "\n",
              "    [theme=dark] .colab-df-convert {\n",
              "      background-color: #3B4455;\n",
              "      fill: #D2E3FC;\n",
              "    }\n",
              "\n",
              "    [theme=dark] .colab-df-convert:hover {\n",
              "      background-color: #434B5C;\n",
              "      box-shadow: 0px 1px 3px 1px rgba(0, 0, 0, 0.15);\n",
              "      filter: drop-shadow(0px 1px 2px rgba(0, 0, 0, 0.3));\n",
              "      fill: #FFFFFF;\n",
              "    }\n",
              "  </style>\n",
              "\n",
              "      <script>\n",
              "        const buttonEl =\n",
              "          document.querySelector('#df-9df27824-b180-4203-a134-0cf8bc3636c2 button.colab-df-convert');\n",
              "        buttonEl.style.display =\n",
              "          google.colab.kernel.accessAllowed ? 'block' : 'none';\n",
              "\n",
              "        async function convertToInteractive(key) {\n",
              "          const element = document.querySelector('#df-9df27824-b180-4203-a134-0cf8bc3636c2');\n",
              "          const dataTable =\n",
              "            await google.colab.kernel.invokeFunction('convertToInteractive',\n",
              "                                                     [key], {});\n",
              "          if (!dataTable) return;\n",
              "\n",
              "          const docLinkHtml = 'Like what you see? Visit the ' +\n",
              "            '<a target=\"_blank\" href=https://colab.research.google.com/notebooks/data_table.ipynb>data table notebook</a>'\n",
              "            + ' to learn more about interactive tables.';\n",
              "          element.innerHTML = '';\n",
              "          dataTable['output_type'] = 'display_data';\n",
              "          await google.colab.output.renderOutput(dataTable, element);\n",
              "          const docLink = document.createElement('div');\n",
              "          docLink.innerHTML = docLinkHtml;\n",
              "          element.appendChild(docLink);\n",
              "        }\n",
              "      </script>\n",
              "    </div>\n",
              "  </div>\n",
              "  "
            ]
          },
          "metadata": {},
          "execution_count": 36
        }
      ]
    },
    {
      "cell_type": "code",
      "source": [
        "import scipy.stats as stats\n",
        "def diagnostic_plots(df, variable):\n",
        "    # function to plot a histogram and a Q-Q plot\n",
        "    # side by side, for a certain variable\n",
        "    plt.figure(figsize=(15,6))\n",
        "    plt.subplot(1, 2, 1)\n",
        "    df[variable].hist()\n",
        "    plt.subplot(1, 2, 2)\n",
        "    stats.probplot(df[variable], dist=\"norm\", plot=plt)\n",
        "    plt.show()\n",
        "diagnostic_plots(dfAutumn,'Solar_Radiation_data')"
      ],
      "metadata": {
        "colab": {
          "base_uri": "https://localhost:8080/",
          "height": 404
        },
        "id": "2sel3ZFjInhd",
        "outputId": "934a3805-6c94-4d34-87d9-1f036f592dd5"
      },
      "execution_count": 37,
      "outputs": [
        {
          "output_type": "display_data",
          "data": {
            "text/plain": [
              "<Figure size 1080x432 with 2 Axes>"
            ],
            "image/png": "[encoded data removed]"
          },
          "metadata": {
            "needs_background": "light"
          }
        }
      ]
    },
    {
      "cell_type": "code",
      "source": [
        "dfAutumn['Solar_Radiation_data_SQ']=dfAutumn.Solar_Radiation_data**(1/2)\n",
        "diagnostic_plots(dfAutumn,'Solar_Radiation_data_SQ')"
      ],
      "metadata": {
        "colab": {
          "base_uri": "https://localhost:8080/",
          "height": 513
        },
        "id": "z--s8yMhIykR",
        "outputId": "1751ee8b-1bac-4d6d-eb2a-487d78de8983"
      },
      "execution_count": 38,
      "outputs": [
        {
          "output_type": "stream",
          "name": "stderr",
          "text": [
            "<ipython-input-38-c2d9375c9eb1>:1: SettingWithCopyWarning: \n",
            "A value is trying to be set on a copy of a slice from a DataFrame.\n",
            "Try using .loc[row_indexer,col_indexer] = value instead\n",
            "\n",
            "See the caveats in the documentation: https://pandas.pydata.org/pandas-docs/stable/user_guide/indexing.html#returning-a-view-versus-a-copy\n",
            "  dfAutumn['Solar_Radiation_data_SQ']=dfAutumn.Solar_Radiation_data**(1/2)\n"
          ]
        },
        {
          "output_type": "display_data",
          "data": {
            "text/plain": [
              "<Figure size 1080x432 with 2 Axes>"
            ],
            "image/png": "[encoded data removed]"
          },
          "metadata": {
            "needs_background": "light"
          }
        }
      ]
    },
    {
      "cell_type": "code",
      "source": [
        "dfAutumn =dfAutumn[['TS1_P1_data','TS1_SENS0700_TmpMdul_C_data', 'Barometer_data',\n",
        "       'Outside_Humidity_data', 'Outside_Temperature_data',\n",
        "       'Solar_Radiation_data_SQ','Wx','Wy', 'Day sin','Day cos','Year sin', 'Year cos']]"
      ],
      "metadata": {
        "id": "IdbKbSwNIwJm"
      },
      "execution_count": 39,
      "outputs": []
    },
    {
      "cell_type": "markdown",
      "source": [
        "Winter\n",
        "---"
      ],
      "metadata": {
        "id": "HUrPhnAuFIDz"
      }
    },
    {
      "cell_type": "code",
      "source": [
        "dfWinter =Winter[['TS1_P1_data','TS1_SENS0700_TmpMdul_C_data', 'Barometer_data',\n",
        "       'Outside_Humidity_data', 'Outside_Temperature_data',\n",
        "       'Solar_Radiation_data','Wx','Wy', 'Day sin','Day cos','Year sin', 'Year cos']]"
      ],
      "metadata": {
        "id": "MGziiZpvEniL"
      },
      "execution_count": 40,
      "outputs": []
    },
    {
      "cell_type": "code",
      "source": [
        "dfWinter.shape"
      ],
      "metadata": {
        "colab": {
          "base_uri": "https://localhost:8080/"
        },
        "id": "XojtGZeUHHw1",
        "outputId": "a2abe520-3b92-499d-8de3-b0fba8e89514"
      },
      "execution_count": 41,
      "outputs": [
        {
          "output_type": "execute_result",
          "data": {
            "text/plain": [
              "(35661, 12)"
            ]
          },
          "metadata": {},
          "execution_count": 41
        }
      ]
    },
    {
      "cell_type": "code",
      "source": [
        "dfWinter.agg(['skew', 'kurtosis']).transpose()"
      ],
      "metadata": {
        "colab": {
          "base_uri": "https://localhost:8080/",
          "height": 425
        },
        "id": "a-4NRZnWHfYe",
        "outputId": "4f88e09b-a0a9-4083-8344-f9de7b91f468"
      },
      "execution_count": 42,
      "outputs": [
        {
          "output_type": "execute_result",
          "data": {
            "text/plain": [
              "                                 skew  kurtosis\n",
              "TS1_P1_data                 -0.031718 -1.418338\n",
              "TS1_SENS0700_TmpMdul_C_data -0.162623 -0.408721\n",
              "Barometer_data              -0.200292 -0.353156\n",
              "Outside_Humidity_data       -0.070632 -0.633474\n",
              "Outside_Temperature_data    -0.501500  0.225546\n",
              "Solar_Radiation_data         0.465741 -0.551980\n",
              "Wx                          -0.077067  0.168524\n",
              "Wy                          -0.005740  0.445019\n",
              "Day sin                     -0.038882 -1.498146\n",
              "Day cos                     -0.044776 -1.500843\n",
              "Year sin                    -0.161964 -1.573926\n",
              "Year cos                    -0.037558 -1.426692"
            ],
            "text/html": [
              "\n",
              "  <div id=\"df-e78a2e4e-6501-411b-97ec-48a5c2e0030f\">\n",
              "    <div class=\"colab-df-container\">\n",
              "      <div>\n",
              "<style scoped>\n",
              "    .dataframe tbody tr th:only-of-type {\n",
              "        vertical-align: middle;\n",
              "    }\n",
              "\n",
              "    .dataframe tbody tr th {\n",
              "        vertical-align: top;\n",
              "    }\n",
              "\n",
              "    .dataframe thead th {\n",
              "        text-align: right;\n",
              "    }\n",
              "</style>\n",
              "<table border=\"1\" class=\"dataframe\">\n",
              "  <thead>\n",
              "    <tr style=\"text-align: right;\">\n",
              "      <th></th>\n",
              "      <th>skew</th>\n",
              "      <th>kurtosis</th>\n",
              "    </tr>\n",
              "  </thead>\n",
              "  <tbody>\n",
              "    <tr>\n",
              "      <th>TS1_P1_data</th>\n",
              "      <td>-0.031718</td>\n",
              "      <td>-1.418338</td>\n",
              "    </tr>\n",
              "    <tr>\n",
              "      <th>TS1_SENS0700_TmpMdul_C_data</th>\n",
              "      <td>-0.162623</td>\n",
              "      <td>-0.408721</td>\n",
              "    </tr>\n",
              "    <tr>\n",
              "      <th>Barometer_data</th>\n",
              "      <td>-0.200292</td>\n",
              "      <td>-0.353156</td>\n",
              "    </tr>\n",
              "    <tr>\n",
              "      <th>Outside_Humidity_data</th>\n",
              "      <td>-0.070632</td>\n",
              "      <td>-0.633474</td>\n",
              "    </tr>\n",
              "    <tr>\n",
              "      <th>Outside_Temperature_data</th>\n",
              "      <td>-0.501500</td>\n",
              "      <td>0.225546</td>\n",
              "    </tr>\n",
              "    <tr>\n",
              "      <th>Solar_Radiation_data</th>\n",
              "      <td>0.465741</td>\n",
              "      <td>-0.551980</td>\n",
              "    </tr>\n",
              "    <tr>\n",
              "      <th>Wx</th>\n",
              "      <td>-0.077067</td>\n",
              "      <td>0.168524</td>\n",
              "    </tr>\n",
              "    <tr>\n",
              "      <th>Wy</th>\n",
              "      <td>-0.005740</td>\n",
              "      <td>0.445019</td>\n",
              "    </tr>\n",
              "    <tr>\n",
              "      <th>Day sin</th>\n",
              "      <td>-0.038882</td>\n",
              "      <td>-1.498146</td>\n",
              "    </tr>\n",
              "    <tr>\n",
              "      <th>Day cos</th>\n",
              "      <td>-0.044776</td>\n",
              "      <td>-1.500843</td>\n",
              "    </tr>\n",
              "    <tr>\n",
              "      <th>Year sin</th>\n",
              "      <td>-0.161964</td>\n",
              "      <td>-1.573926</td>\n",
              "    </tr>\n",
              "    <tr>\n",
              "      <th>Year cos</th>\n",
              "      <td>-0.037558</td>\n",
              "      <td>-1.426692</td>\n",
              "    </tr>\n",
              "  </tbody>\n",
              "</table>\n",
              "</div>\n",
              "      <button class=\"colab-df-convert\" onclick=\"convertToInteractive('df-e78a2e4e-6501-411b-97ec-48a5c2e0030f')\"\n",
              "              title=\"Convert this dataframe to an interactive table.\"\n",
              "              style=\"display:none;\">\n",
              "        \n",
              "  <svg xmlns=\"http://www.w3.org/2000/svg\" height=\"24px\"viewBox=\"0 0 24 24\"\n",
              "       width=\"24px\">\n",
              "    <path d=\"M0 0h24v24H0V0z\" fill=\"none\"/>\n",
              "    <path d=\"M18.56 5.44l.94 2.06.94-2.06 2.06-.94-2.06-.94-.94-2.06-.94 2.06-2.06.94zm-11 1L8.5 8.5l.94-2.06 2.06-.94-2.06-.94L8.5 2.5l-.94 2.06-2.06.94zm10 10l.94 2.06.94-2.06 2.06-.94-2.06-.94-.94-2.06-.94 2.06-2.06.94z\"/><path d=\"M17.41 7.96l-1.37-1.37c-.4-.4-.92-.59-1.43-.59-.52 0-1.04.2-1.43.59L10.3 9.45l-7.72 7.72c-.78.78-.78 2.05 0 2.83L4 21.41c.39.39.9.59 1.41.59.51 0 1.02-.2 1.41-.59l7.78-7.78 2.81-2.81c.8-.78.8-2.07 0-2.86zM5.41 20L4 18.59l7.72-7.72 1.47 1.35L5.41 20z\"/>\n",
              "  </svg>\n",
              "      </button>\n",
              "      \n",
              "  <style>\n",
              "    .colab-df-container {\n",
              "      display:flex;\n",
              "      flex-wrap:wrap;\n",
              "      gap: 12px;\n",
              "    }\n",
              "\n",
              "    .colab-df-convert {\n",
              "      background-color: #E8F0FE;\n",
              "      border: none;\n",
              "      border-radius: 50%;\n",
              "      cursor: pointer;\n",
              "      display: none;\n",
              "      fill: #1967D2;\n",
              "      height: 32px;\n",
              "      padding: 0 0 0 0;\n",
              "      width: 32px;\n",
              "    }\n",
              "\n",
              "    .colab-df-convert:hover {\n",
              "      background-color: #E2EBFA;\n",
              "      box-shadow: 0px 1px 2px rgba(60, 64, 67, 0.3), 0px 1px 3px 1px rgba(60, 64, 67, 0.15);\n",
              "      fill: #174EA6;\n",
              "    }\n",
              "\n",
              "    [theme=dark] .colab-df-convert {\n",
              "      background-color: #3B4455;\n",
              "      fill: #D2E3FC;\n",
              "    }\n",
              "\n",
              "    [theme=dark] .colab-df-convert:hover {\n",
              "      background-color: #434B5C;\n",
              "      box-shadow: 0px 1px 3px 1px rgba(0, 0, 0, 0.15);\n",
              "      filter: drop-shadow(0px 1px 2px rgba(0, 0, 0, 0.3));\n",
              "      fill: #FFFFFF;\n",
              "    }\n",
              "  </style>\n",
              "\n",
              "      <script>\n",
              "        const buttonEl =\n",
              "          document.querySelector('#df-e78a2e4e-6501-411b-97ec-48a5c2e0030f button.colab-df-convert');\n",
              "        buttonEl.style.display =\n",
              "          google.colab.kernel.accessAllowed ? 'block' : 'none';\n",
              "\n",
              "        async function convertToInteractive(key) {\n",
              "          const element = document.querySelector('#df-e78a2e4e-6501-411b-97ec-48a5c2e0030f');\n",
              "          const dataTable =\n",
              "            await google.colab.kernel.invokeFunction('convertToInteractive',\n",
              "                                                     [key], {});\n",
              "          if (!dataTable) return;\n",
              "\n",
              "          const docLinkHtml = 'Like what you see? Visit the ' +\n",
              "            '<a target=\"_blank\" href=https://colab.research.google.com/notebooks/data_table.ipynb>data table notebook</a>'\n",
              "            + ' to learn more about interactive tables.';\n",
              "          element.innerHTML = '';\n",
              "          dataTable['output_type'] = 'display_data';\n",
              "          await google.colab.output.renderOutput(dataTable, element);\n",
              "          const docLink = document.createElement('div');\n",
              "          docLink.innerHTML = docLinkHtml;\n",
              "          element.appendChild(docLink);\n",
              "        }\n",
              "      </script>\n",
              "    </div>\n",
              "  </div>\n",
              "  "
            ]
          },
          "metadata": {},
          "execution_count": 42
        }
      ]
    },
    {
      "cell_type": "code",
      "source": [
        "import scipy.stats as stats\n",
        "def diagnostic_plots(df, variable):\n",
        "    # function to plot a histogram and a Q-Q plot\n",
        "    # side by side, for a certain variable\n",
        "    plt.figure(figsize=(15,6))\n",
        "    plt.subplot(1, 2, 1)\n",
        "    df[variable].hist()\n",
        "    plt.subplot(1, 2, 2)\n",
        "    stats.probplot(df[variable], dist=\"norm\", plot=plt)\n",
        "    plt.show()\n",
        "diagnostic_plots(dfWinter,'Solar_Radiation_data')"
      ],
      "metadata": {
        "id": "WdjijpYVJDKi",
        "colab": {
          "base_uri": "https://localhost:8080/",
          "height": 404
        },
        "outputId": "82f46fb2-b004-4250-b039-e47446813664"
      },
      "execution_count": 43,
      "outputs": [
        {
          "output_type": "display_data",
          "data": {
            "text/plain": [
              "<Figure size 1080x432 with 2 Axes>"
            ],
            "image/png": "[encoded data removed]"
          },
          "metadata": {
            "needs_background": "light"
          }
        }
      ]
    },
    {
      "cell_type": "code",
      "source": [
        "dfWinter['Solar_Radiation_data_SQ']=dfWinter.Solar_Radiation_data**(1/2)\n",
        "diagnostic_plots(dfWinter,'Solar_Radiation_data_SQ')"
      ],
      "metadata": {
        "id": "gFfsjuAfJKF7",
        "colab": {
          "base_uri": "https://localhost:8080/",
          "height": 513
        },
        "outputId": "95a6ac90-7056-4779-93d6-2e4af5501ac1"
      },
      "execution_count": 44,
      "outputs": [
        {
          "output_type": "stream",
          "name": "stderr",
          "text": [
            "<ipython-input-44-b5bd085b8008>:1: SettingWithCopyWarning: \n",
            "A value is trying to be set on a copy of a slice from a DataFrame.\n",
            "Try using .loc[row_indexer,col_indexer] = value instead\n",
            "\n",
            "See the caveats in the documentation: https://pandas.pydata.org/pandas-docs/stable/user_guide/indexing.html#returning-a-view-versus-a-copy\n",
            "  dfWinter['Solar_Radiation_data_SQ']=dfWinter.Solar_Radiation_data**(1/2)\n"
          ]
        },
        {
          "output_type": "display_data",
          "data": {
            "text/plain": [
              "<Figure size 1080x432 with 2 Axes>"
            ],
            "image/png": "[encoded data removed]"
          },
          "metadata": {
            "needs_background": "light"
          }
        }
      ]
    },
    {
      "cell_type": "code",
      "source": [
        "dfAutumn =dfAutumn[['TS1_P1_data','TS1_SENS0700_TmpMdul_C_data', 'Barometer_data',\n",
        "       'Outside_Humidity_data', 'Outside_Temperature_data',\n",
        "       'Solar_Radiation_data_SQ','Wx','Wy', 'Day sin','Day cos','Year sin', 'Year cos']]"
      ],
      "metadata": {
        "id": "JgX4bN0nJSV3"
      },
      "execution_count": 45,
      "outputs": []
    },
    {
      "cell_type": "markdown",
      "source": [
        "Summer\n",
        "---"
      ],
      "metadata": {
        "id": "u4ILxYD0FM50"
      }
    },
    {
      "cell_type": "code",
      "source": [
        "dfSummer =Summer[['TS1_P1_data','TS1_SENS0700_TmpMdul_C_data', 'Barometer_data',\n",
        "       'Outside_Humidity_data', 'Outside_Temperature_data',\n",
        "       'Solar_Radiation_data','Wx','Wy', 'Day sin','Day cos','Year sin', 'Year cos']]"
      ],
      "metadata": {
        "id": "TzWVZULOEnpz"
      },
      "execution_count": 46,
      "outputs": []
    },
    {
      "cell_type": "code",
      "execution_count": 47,
      "metadata": {
        "colab": {
          "base_uri": "https://localhost:8080/"
        },
        "id": "OenCI21IT8Jy",
        "outputId": "96760fb4-d30c-4bc5-c754-c28fa4965f82"
      },
      "outputs": [
        {
          "output_type": "execute_result",
          "data": {
            "text/plain": [
              "(24238, 12)"
            ]
          },
          "metadata": {},
          "execution_count": 47
        }
      ],
      "source": [
        "dfSummer.shape"
      ]
    },
    {
      "cell_type": "code",
      "execution_count": 48,
      "metadata": {
        "colab": {
          "base_uri": "https://localhost:8080/",
          "height": 425
        },
        "id": "wCEN7oY8RZvR",
        "outputId": "71f71ff4-0230-464e-89ce-f1c207a74750"
      },
      "outputs": [
        {
          "output_type": "execute_result",
          "data": {
            "text/plain": [
              "                                 skew  kurtosis\n",
              "TS1_P1_data                 -0.413919 -1.216018\n",
              "TS1_SENS0700_TmpMdul_C_data -0.067535 -0.696330\n",
              "Barometer_data               0.444637 -0.381655\n",
              "Outside_Humidity_data       -0.038425 -0.770540\n",
              "Outside_Temperature_data    -0.033492 -0.896693\n",
              "Solar_Radiation_data         0.163196 -1.123423\n",
              "Wx                           0.361166  0.124921\n",
              "Wy                          -0.067269 -0.726378\n",
              "Day sin                     -0.030525 -1.506113\n",
              "Day cos                      0.001080 -1.498934\n",
              "Year sin                    -0.202567 -1.506913\n",
              "Year cos                     0.177976 -1.420318"
            ],
            "text/html": [
              "\n",
              "  <div id=\"df-4cf1020b-4254-46d4-a96d-8ae9d7d685e3\">\n",
              "    <div class=\"colab-df-container\">\n",
              "      <div>\n",
              "<style scoped>\n",
              "    .dataframe tbody tr th:only-of-type {\n",
              "        vertical-align: middle;\n",
              "    }\n",
              "\n",
              "    .dataframe tbody tr th {\n",
              "        vertical-align: top;\n",
              "    }\n",
              "\n",
              "    .dataframe thead th {\n",
              "        text-align: right;\n",
              "    }\n",
              "</style>\n",
              "<table border=\"1\" class=\"dataframe\">\n",
              "  <thead>\n",
              "    <tr style=\"text-align: right;\">\n",
              "      <th></th>\n",
              "      <th>skew</th>\n",
              "      <th>kurtosis</th>\n",
              "    </tr>\n",
              "  </thead>\n",
              "  <tbody>\n",
              "    <tr>\n",
              "      <th>TS1_P1_data</th>\n",
              "      <td>-0.413919</td>\n",
              "      <td>-1.216018</td>\n",
              "    </tr>\n",
              "    <tr>\n",
              "      <th>TS1_SENS0700_TmpMdul_C_data</th>\n",
              "      <td>-0.067535</td>\n",
              "      <td>-0.696330</td>\n",
              "    </tr>\n",
              "    <tr>\n",
              "      <th>Barometer_data</th>\n",
              "      <td>0.444637</td>\n",
              "      <td>-0.381655</td>\n",
              "    </tr>\n",
              "    <tr>\n",
              "      <th>Outside_Humidity_data</th>\n",
              "      <td>-0.038425</td>\n",
              "      <td>-0.770540</td>\n",
              "    </tr>\n",
              "    <tr>\n",
              "      <th>Outside_Temperature_data</th>\n",
              "      <td>-0.033492</td>\n",
              "      <td>-0.896693</td>\n",
              "    </tr>\n",
              "    <tr>\n",
              "      <th>Solar_Radiation_data</th>\n",
              "      <td>0.163196</td>\n",
              "      <td>-1.123423</td>\n",
              "    </tr>\n",
              "    <tr>\n",
              "      <th>Wx</th>\n",
              "      <td>0.361166</td>\n",
              "      <td>0.124921</td>\n",
              "    </tr>\n",
              "    <tr>\n",
              "      <th>Wy</th>\n",
              "      <td>-0.067269</td>\n",
              "      <td>-0.726378</td>\n",
              "    </tr>\n",
              "    <tr>\n",
              "      <th>Day sin</th>\n",
              "      <td>-0.030525</td>\n",
              "      <td>-1.506113</td>\n",
              "    </tr>\n",
              "    <tr>\n",
              "      <th>Day cos</th>\n",
              "      <td>0.001080</td>\n",
              "      <td>-1.498934</td>\n",
              "    </tr>\n",
              "    <tr>\n",
              "      <th>Year sin</th>\n",
              "      <td>-0.202567</td>\n",
              "      <td>-1.506913</td>\n",
              "    </tr>\n",
              "    <tr>\n",
              "      <th>Year cos</th>\n",
              "      <td>0.177976</td>\n",
              "      <td>-1.420318</td>\n",
              "    </tr>\n",
              "  </tbody>\n",
              "</table>\n",
              "</div>\n",
              "      <button class=\"colab-df-convert\" onclick=\"convertToInteractive('df-4cf1020b-4254-46d4-a96d-8ae9d7d685e3')\"\n",
              "              title=\"Convert this dataframe to an interactive table.\"\n",
              "              style=\"display:none;\">\n",
              "        \n",
              "  <svg xmlns=\"http://www.w3.org/2000/svg\" height=\"24px\"viewBox=\"0 0 24 24\"\n",
              "       width=\"24px\">\n",
              "    <path d=\"M0 0h24v24H0V0z\" fill=\"none\"/>\n",
              "    <path d=\"M18.56 5.44l.94 2.06.94-2.06 2.06-.94-2.06-.94-.94-2.06-.94 2.06-2.06.94zm-11 1L8.5 8.5l.94-2.06 2.06-.94-2.06-.94L8.5 2.5l-.94 2.06-2.06.94zm10 10l.94 2.06.94-2.06 2.06-.94-2.06-.94-.94-2.06-.94 2.06-2.06.94z\"/><path d=\"M17.41 7.96l-1.37-1.37c-.4-.4-.92-.59-1.43-.59-.52 0-1.04.2-1.43.59L10.3 9.45l-7.72 7.72c-.78.78-.78 2.05 0 2.83L4 21.41c.39.39.9.59 1.41.59.51 0 1.02-.2 1.41-.59l7.78-7.78 2.81-2.81c.8-.78.8-2.07 0-2.86zM5.41 20L4 18.59l7.72-7.72 1.47 1.35L5.41 20z\"/>\n",
              "  </svg>\n",
              "      </button>\n",
              "      \n",
              "  <style>\n",
              "    .colab-df-container {\n",
              "      display:flex;\n",
              "      flex-wrap:wrap;\n",
              "      gap: 12px;\n",
              "    }\n",
              "\n",
              "    .colab-df-convert {\n",
              "      background-color: #E8F0FE;\n",
              "      border: none;\n",
              "      border-radius: 50%;\n",
              "      cursor: pointer;\n",
              "      display: none;\n",
              "      fill: #1967D2;\n",
              "      height: 32px;\n",
              "      padding: 0 0 0 0;\n",
              "      width: 32px;\n",
              "    }\n",
              "\n",
              "    .colab-df-convert:hover {\n",
              "      background-color: #E2EBFA;\n",
              "      box-shadow: 0px 1px 2px rgba(60, 64, 67, 0.3), 0px 1px 3px 1px rgba(60, 64, 67, 0.15);\n",
              "      fill: #174EA6;\n",
              "    }\n",
              "\n",
              "    [theme=dark] .colab-df-convert {\n",
              "      background-color: #3B4455;\n",
              "      fill: #D2E3FC;\n",
              "    }\n",
              "\n",
              "    [theme=dark] .colab-df-convert:hover {\n",
              "      background-color: #434B5C;\n",
              "      box-shadow: 0px 1px 3px 1px rgba(0, 0, 0, 0.15);\n",
              "      filter: drop-shadow(0px 1px 2px rgba(0, 0, 0, 0.3));\n",
              "      fill: #FFFFFF;\n",
              "    }\n",
              "  </style>\n",
              "\n",
              "      <script>\n",
              "        const buttonEl =\n",
              "          document.querySelector('#df-4cf1020b-4254-46d4-a96d-8ae9d7d685e3 button.colab-df-convert');\n",
              "        buttonEl.style.display =\n",
              "          google.colab.kernel.accessAllowed ? 'block' : 'none';\n",
              "\n",
              "        async function convertToInteractive(key) {\n",
              "          const element = document.querySelector('#df-4cf1020b-4254-46d4-a96d-8ae9d7d685e3');\n",
              "          const dataTable =\n",
              "            await google.colab.kernel.invokeFunction('convertToInteractive',\n",
              "                                                     [key], {});\n",
              "          if (!dataTable) return;\n",
              "\n",
              "          const docLinkHtml = 'Like what you see? Visit the ' +\n",
              "            '<a target=\"_blank\" href=https://colab.research.google.com/notebooks/data_table.ipynb>data table notebook</a>'\n",
              "            + ' to learn more about interactive tables.';\n",
              "          element.innerHTML = '';\n",
              "          dataTable['output_type'] = 'display_data';\n",
              "          await google.colab.output.renderOutput(dataTable, element);\n",
              "          const docLink = document.createElement('div');\n",
              "          docLink.innerHTML = docLinkHtml;\n",
              "          element.appendChild(docLink);\n",
              "        }\n",
              "      </script>\n",
              "    </div>\n",
              "  </div>\n",
              "  "
            ]
          },
          "metadata": {},
          "execution_count": 48
        }
      ],
      "source": [
        "dfSummer.agg(['skew', 'kurtosis']).transpose()"
      ]
    },
    {
      "cell_type": "code",
      "execution_count": 49,
      "metadata": {
        "colab": {
          "base_uri": "https://localhost:8080/",
          "height": 404
        },
        "id": "jo98DurCRg0e",
        "outputId": "074421c6-faf7-4d24-b0f3-1de43de6f657"
      },
      "outputs": [
        {
          "output_type": "display_data",
          "data": {
            "text/plain": [
              "<Figure size 1080x432 with 2 Axes>"
            ],
            "image/png": "[encoded data removed]"
          },
          "metadata": {
            "needs_background": "light"
          }
        }
      ],
      "source": [
        "import scipy.stats as stats\n",
        "def diagnostic_plots(df, variable):\n",
        "    # function to plot a histogram and a Q-Q plot\n",
        "    # side by side, for a certain variable\n",
        "    plt.figure(figsize=(15,6))\n",
        "    plt.subplot(1, 2, 1)\n",
        "    df[variable].hist()\n",
        "    plt.subplot(1, 2, 2)\n",
        "    stats.probplot(df[variable], dist=\"norm\", plot=plt)\n",
        "    plt.show()\n",
        "diagnostic_plots(dfSummer,'Solar_Radiation_data')"
      ]
    },
    {
      "cell_type": "code",
      "execution_count": 50,
      "metadata": {
        "colab": {
          "base_uri": "https://localhost:8080/",
          "height": 513
        },
        "id": "dYrg7EHM3eOU",
        "outputId": "5f9f93b8-85b0-496b-e14d-05bbf2d26fc1"
      },
      "outputs": [
        {
          "output_type": "stream",
          "name": "stderr",
          "text": [
            "<ipython-input-50-37f524894845>:1: SettingWithCopyWarning: \n",
            "A value is trying to be set on a copy of a slice from a DataFrame.\n",
            "Try using .loc[row_indexer,col_indexer] = value instead\n",
            "\n",
            "See the caveats in the documentation: https://pandas.pydata.org/pandas-docs/stable/user_guide/indexing.html#returning-a-view-versus-a-copy\n",
            "  dfSummer['Solar_Radiation_data_SQ']=dfSummer.Solar_Radiation_data**(1/2)\n"
          ]
        },
        {
          "output_type": "display_data",
          "data": {
            "text/plain": [
              "<Figure size 1080x432 with 2 Axes>"
            ],
            "image/png": "[encoded data removed]"
          },
          "metadata": {
            "needs_background": "light"
          }
        }
      ],
      "source": [
        "dfSummer['Solar_Radiation_data_SQ']=dfSummer.Solar_Radiation_data**(1/2)\n",
        "diagnostic_plots(dfSummer,'Solar_Radiation_data_SQ')"
      ]
    },
    {
      "cell_type": "code",
      "execution_count": 51,
      "metadata": {
        "colab": {
          "base_uri": "https://localhost:8080/",
          "height": 404
        },
        "id": "OefIBwQ23Vqt",
        "outputId": "333f1e60-e9c2-4087-b5fb-59d9c95cca58"
      },
      "outputs": [
        {
          "output_type": "display_data",
          "data": {
            "text/plain": [
              "<Figure size 1080x432 with 2 Axes>"
            ],
            "image/png": "[encoded data removed]"
          },
          "metadata": {
            "needs_background": "light"
          }
        }
      ],
      "source": [
        "import scipy.stats as stats\n",
        "def diagnostic_plots(df, variable):\n",
        "    # function to plot a histogram and a Q-Q plot\n",
        "    # side by side, for a certain variable\n",
        "    plt.figure(figsize=(15,6))\n",
        "    plt.subplot(1, 2, 1)\n",
        "    df[variable].hist()\n",
        "    plt.subplot(1, 2, 2)\n",
        "    stats.probplot(df[variable], dist=\"norm\", plot=plt)\n",
        "    plt.show()\n",
        "diagnostic_plots(dfSummer,'TS1_P1_data')"
      ]
    },
    {
      "cell_type": "code",
      "execution_count": 52,
      "metadata": {
        "colab": {
          "base_uri": "https://localhost:8080/",
          "height": 457
        },
        "id": "MbGzmqA84Y1b",
        "outputId": "9edd7c57-421c-4fb2-f6a0-5572897f481a"
      },
      "outputs": [
        {
          "output_type": "execute_result",
          "data": {
            "text/plain": [
              "                                 skew  kurtosis\n",
              "TS1_P1_data                 -0.413919 -1.216018\n",
              "TS1_SENS0700_TmpMdul_C_data -0.067535 -0.696330\n",
              "Barometer_data               0.444637 -0.381655\n",
              "Outside_Humidity_data       -0.038425 -0.770540\n",
              "Outside_Temperature_data    -0.033492 -0.896693\n",
              "Solar_Radiation_data         0.163196 -1.123423\n",
              "Wx                           0.361166  0.124921\n",
              "Wy                          -0.067269 -0.726378\n",
              "Day sin                     -0.030525 -1.506113\n",
              "Day cos                      0.001080 -1.498934\n",
              "Year sin                    -0.202567 -1.506913\n",
              "Year cos                     0.177976 -1.420318\n",
              "Solar_Radiation_data_SQ     -0.304188 -0.924581"
            ],
            "text/html": [
              "\n",
              "  <div id=\"df-e29db956-4165-4d87-a7a8-d09f90a887e8\">\n",
              "    <div class=\"colab-df-container\">\n",
              "      <div>\n",
              "<style scoped>\n",
              "    .dataframe tbody tr th:only-of-type {\n",
              "        vertical-align: middle;\n",
              "    }\n",
              "\n",
              "    .dataframe tbody tr th {\n",
              "        vertical-align: top;\n",
              "    }\n",
              "\n",
              "    .dataframe thead th {\n",
              "        text-align: right;\n",
              "    }\n",
              "</style>\n",
              "<table border=\"1\" class=\"dataframe\">\n",
              "  <thead>\n",
              "    <tr style=\"text-align: right;\">\n",
              "      <th></th>\n",
              "      <th>skew</th>\n",
              "      <th>kurtosis</th>\n",
              "    </tr>\n",
              "  </thead>\n",
              "  <tbody>\n",
              "    <tr>\n",
              "      <th>TS1_P1_data</th>\n",
              "      <td>-0.413919</td>\n",
              "      <td>-1.216018</td>\n",
              "    </tr>\n",
              "    <tr>\n",
              "      <th>TS1_SENS0700_TmpMdul_C_data</th>\n",
              "      <td>-0.067535</td>\n",
              "      <td>-0.696330</td>\n",
              "    </tr>\n",
              "    <tr>\n",
              "      <th>Barometer_data</th>\n",
              "      <td>0.444637</td>\n",
              "      <td>-0.381655</td>\n",
              "    </tr>\n",
              "    <tr>\n",
              "      <th>Outside_Humidity_data</th>\n",
              "      <td>-0.038425</td>\n",
              "      <td>-0.770540</td>\n",
              "    </tr>\n",
              "    <tr>\n",
              "      <th>Outside_Temperature_data</th>\n",
              "      <td>-0.033492</td>\n",
              "      <td>-0.896693</td>\n",
              "    </tr>\n",
              "    <tr>\n",
              "      <th>Solar_Radiation_data</th>\n",
              "      <td>0.163196</td>\n",
              "      <td>-1.123423</td>\n",
              "    </tr>\n",
              "    <tr>\n",
              "      <th>Wx</th>\n",
              "      <td>0.361166</td>\n",
              "      <td>0.124921</td>\n",
              "    </tr>\n",
              "    <tr>\n",
              "      <th>Wy</th>\n",
              "      <td>-0.067269</td>\n",
              "      <td>-0.726378</td>\n",
              "    </tr>\n",
              "    <tr>\n",
              "      <th>Day sin</th>\n",
              "      <td>-0.030525</td>\n",
              "      <td>-1.506113</td>\n",
              "    </tr>\n",
              "    <tr>\n",
              "      <th>Day cos</th>\n",
              "      <td>0.001080</td>\n",
              "      <td>-1.498934</td>\n",
              "    </tr>\n",
              "    <tr>\n",
              "      <th>Year sin</th>\n",
              "      <td>-0.202567</td>\n",
              "      <td>-1.506913</td>\n",
              "    </tr>\n",
              "    <tr>\n",
              "      <th>Year cos</th>\n",
              "      <td>0.177976</td>\n",
              "      <td>-1.420318</td>\n",
              "    </tr>\n",
              "    <tr>\n",
              "      <th>Solar_Radiation_data_SQ</th>\n",
              "      <td>-0.304188</td>\n",
              "      <td>-0.924581</td>\n",
              "    </tr>\n",
              "  </tbody>\n",
              "</table>\n",
              "</div>\n",
              "      <button class=\"colab-df-convert\" onclick=\"convertToInteractive('df-e29db956-4165-4d87-a7a8-d09f90a887e8')\"\n",
              "              title=\"Convert this dataframe to an interactive table.\"\n",
              "              style=\"display:none;\">\n",
              "        \n",
              "  <svg xmlns=\"http://www.w3.org/2000/svg\" height=\"24px\"viewBox=\"0 0 24 24\"\n",
              "       width=\"24px\">\n",
              "    <path d=\"M0 0h24v24H0V0z\" fill=\"none\"/>\n",
              "    <path d=\"M18.56 5.44l.94 2.06.94-2.06 2.06-.94-2.06-.94-.94-2.06-.94 2.06-2.06.94zm-11 1L8.5 8.5l.94-2.06 2.06-.94-2.06-.94L8.5 2.5l-.94 2.06-2.06.94zm10 10l.94 2.06.94-2.06 2.06-.94-2.06-.94-.94-2.06-.94 2.06-2.06.94z\"/><path d=\"M17.41 7.96l-1.37-1.37c-.4-.4-.92-.59-1.43-.59-.52 0-1.04.2-1.43.59L10.3 9.45l-7.72 7.72c-.78.78-.78 2.05 0 2.83L4 21.41c.39.39.9.59 1.41.59.51 0 1.02-.2 1.41-.59l7.78-7.78 2.81-2.81c.8-.78.8-2.07 0-2.86zM5.41 20L4 18.59l7.72-7.72 1.47 1.35L5.41 20z\"/>\n",
              "  </svg>\n",
              "      </button>\n",
              "      \n",
              "  <style>\n",
              "    .colab-df-container {\n",
              "      display:flex;\n",
              "      flex-wrap:wrap;\n",
              "      gap: 12px;\n",
              "    }\n",
              "\n",
              "    .colab-df-convert {\n",
              "      background-color: #E8F0FE;\n",
              "      border: none;\n",
              "      border-radius: 50%;\n",
              "      cursor: pointer;\n",
              "      display: none;\n",
              "      fill: #1967D2;\n",
              "      height: 32px;\n",
              "      padding: 0 0 0 0;\n",
              "      width: 32px;\n",
              "    }\n",
              "\n",
              "    .colab-df-convert:hover {\n",
              "      background-color: #E2EBFA;\n",
              "      box-shadow: 0px 1px 2px rgba(60, 64, 67, 0.3), 0px 1px 3px 1px rgba(60, 64, 67, 0.15);\n",
              "      fill: #174EA6;\n",
              "    }\n",
              "\n",
              "    [theme=dark] .colab-df-convert {\n",
              "      background-color: #3B4455;\n",
              "      fill: #D2E3FC;\n",
              "    }\n",
              "\n",
              "    [theme=dark] .colab-df-convert:hover {\n",
              "      background-color: #434B5C;\n",
              "      box-shadow: 0px 1px 3px 1px rgba(0, 0, 0, 0.15);\n",
              "      filter: drop-shadow(0px 1px 2px rgba(0, 0, 0, 0.3));\n",
              "      fill: #FFFFFF;\n",
              "    }\n",
              "  </style>\n",
              "\n",
              "      <script>\n",
              "        const buttonEl =\n",
              "          document.querySelector('#df-e29db956-4165-4d87-a7a8-d09f90a887e8 button.colab-df-convert');\n",
              "        buttonEl.style.display =\n",
              "          google.colab.kernel.accessAllowed ? 'block' : 'none';\n",
              "\n",
              "        async function convertToInteractive(key) {\n",
              "          const element = document.querySelector('#df-e29db956-4165-4d87-a7a8-d09f90a887e8');\n",
              "          const dataTable =\n",
              "            await google.colab.kernel.invokeFunction('convertToInteractive',\n",
              "                                                     [key], {});\n",
              "          if (!dataTable) return;\n",
              "\n",
              "          const docLinkHtml = 'Like what you see? Visit the ' +\n",
              "            '<a target=\"_blank\" href=https://colab.research.google.com/notebooks/data_table.ipynb>data table notebook</a>'\n",
              "            + ' to learn more about interactive tables.';\n",
              "          element.innerHTML = '';\n",
              "          dataTable['output_type'] = 'display_data';\n",
              "          await google.colab.output.renderOutput(dataTable, element);\n",
              "          const docLink = document.createElement('div');\n",
              "          docLink.innerHTML = docLinkHtml;\n",
              "          element.appendChild(docLink);\n",
              "        }\n",
              "      </script>\n",
              "    </div>\n",
              "  </div>\n",
              "  "
            ]
          },
          "metadata": {},
          "execution_count": 52
        }
      ],
      "source": [
        "dfSummer.agg(['skew', 'kurtosis']).transpose()"
      ]
    },
    {
      "cell_type": "code",
      "execution_count": 53,
      "metadata": {
        "id": "p7hrQx8M4Z37"
      },
      "outputs": [],
      "source": [
        "dfSummer =dfSummer[['TS1_P1_data','TS1_SENS0700_TmpMdul_C_data', 'Barometer_data',\n",
        "       'Outside_Humidity_data', 'Outside_Temperature_data',\n",
        "       'Solar_Radiation_data_SQ','Wx','Wy', 'Day sin','Day cos','Year sin', 'Year cos']]"
      ]
    },
    {
      "cell_type": "code",
      "execution_count": 54,
      "metadata": {
        "colab": {
          "base_uri": "https://localhost:8080/",
          "height": 364
        },
        "id": "s3QqtUCsyKLa",
        "outputId": "717e5cf9-7721-4623-9fdb-f89b42f94b06"
      },
      "outputs": [
        {
          "output_type": "execute_result",
          "data": {
            "text/plain": [
              "        TS1_P1_data  TS1_SENS0700_TmpMdul_C_data  Barometer_data  \\\n",
              "count  24238.000000                 24238.000000    24238.000000   \n",
              "mean     728.148280                    41.304398     1011.268050   \n",
              "std      352.139771                     9.254044        3.837315   \n",
              "min       51.000000                    13.000000     1002.000000   \n",
              "25%      415.000000                    34.000000     1008.000000   \n",
              "50%      803.000000                    41.000000     1011.000000   \n",
              "75%     1069.000000                    48.000000     1014.000000   \n",
              "max     1150.000000                    63.000000     1021.000000   \n",
              "\n",
              "       Outside_Humidity_data  Outside_Temperature_data  \\\n",
              "count           24238.000000              24238.000000   \n",
              "mean               51.243749                 26.446406   \n",
              "std                16.597818                  4.300306   \n",
              "min                15.000000                 14.000000   \n",
              "25%                38.000000                 23.000000   \n",
              "50%                53.000000                 26.000000   \n",
              "75%                63.000000                 30.000000   \n",
              "max                93.000000                 34.000000   \n",
              "\n",
              "       Solar_Radiation_data_SQ            Wx            Wy       Day sin  \\\n",
              "count             24238.000000  24238.000000  24238.000000  24238.000000   \n",
              "mean                 21.160556     -2.660995      1.669269      0.014089   \n",
              "std                   6.802979      7.771826      7.325192      0.708480   \n",
              "min                   4.795832    -23.492316    -14.184194     -1.000000   \n",
              "25%                  16.062378     -7.922145     -4.104242     -0.707107   \n",
              "50%                  21.702534     -2.996853      1.810492      0.052336   \n",
              "75%                  27.073973      1.562834      7.281153      0.707107   \n",
              "max                  35.199432     23.070281     18.912258      1.000000   \n",
              "\n",
              "            Day cos      Year sin      Year cos  \n",
              "count  2.423800e+04  24238.000000  24238.000000  \n",
              "mean   1.300678e-03      0.070813     -0.125414  \n",
              "std    7.056188e-01      0.721920      0.676852  \n",
              "min   -1.000000e+00     -1.000000     -1.000000  \n",
              "25%   -7.071068e-01     -0.711846     -0.794672  \n",
              "50%   -1.305490e-11      0.231728     -0.179328  \n",
              "75%    7.071068e-01      0.777582      0.522465  \n",
              "max    1.000000e+00      0.999999      0.999855  "
            ],
            "text/html": [
              "\n",
              "  <div id=\"df-895a675e-2bcd-4027-b502-6b6c0857e1dc\">\n",
              "    <div class=\"colab-df-container\">\n",
              "      <div>\n",
              "<style scoped>\n",
              "    .dataframe tbody tr th:only-of-type {\n",
              "        vertical-align: middle;\n",
              "    }\n",
              "\n",
              "    .dataframe tbody tr th {\n",
              "        vertical-align: top;\n",
              "    }\n",
              "\n",
              "    .dataframe thead th {\n",
              "        text-align: right;\n",
              "    }\n",
              "</style>\n",
              "<table border=\"1\" class=\"dataframe\">\n",
              "  <thead>\n",
              "    <tr style=\"text-align: right;\">\n",
              "      <th></th>\n",
              "      <th>TS1_P1_data</th>\n",
              "      <th>TS1_SENS0700_TmpMdul_C_data</th>\n",
              "      <th>Barometer_data</th>\n",
              "      <th>Outside_Humidity_data</th>\n",
              "      <th>Outside_Temperature_data</th>\n",
              "      <th>Solar_Radiation_data_SQ</th>\n",
              "      <th>Wx</th>\n",
              "      <th>Wy</th>\n",
              "      <th>Day sin</th>\n",
              "      <th>Day cos</th>\n",
              "      <th>Year sin</th>\n",
              "      <th>Year cos</th>\n",
              "    </tr>\n",
              "  </thead>\n",
              "  <tbody>\n",
              "    <tr>\n",
              "      <th>count</th>\n",
              "      <td>24238.000000</td>\n",
              "      <td>24238.000000</td>\n",
              "      <td>24238.000000</td>\n",
              "      <td>24238.000000</td>\n",
              "      <td>24238.000000</td>\n",
              "      <td>24238.000000</td>\n",
              "      <td>24238.000000</td>\n",
              "      <td>24238.000000</td>\n",
              "      <td>24238.000000</td>\n",
              "      <td>2.423800e+04</td>\n",
              "      <td>24238.000000</td>\n",
              "      <td>24238.000000</td>\n",
              "    </tr>\n",
              "    <tr>\n",
              "      <th>mean</th>\n",
              "      <td>728.148280</td>\n",
              "      <td>41.304398</td>\n",
              "      <td>1011.268050</td>\n",
              "      <td>51.243749</td>\n",
              "      <td>26.446406</td>\n",
              "      <td>21.160556</td>\n",
              "      <td>-2.660995</td>\n",
              "      <td>1.669269</td>\n",
              "      <td>0.014089</td>\n",
              "      <td>1.300678e-03</td>\n",
              "      <td>0.070813</td>\n",
              "      <td>-0.125414</td>\n",
              "    </tr>\n",
              "    <tr>\n",
              "      <th>std</th>\n",
              "      <td>352.139771</td>\n",
              "      <td>9.254044</td>\n",
              "      <td>3.837315</td>\n",
              "      <td>16.597818</td>\n",
              "      <td>4.300306</td>\n",
              "      <td>6.802979</td>\n",
              "      <td>7.771826</td>\n",
              "      <td>7.325192</td>\n",
              "      <td>0.708480</td>\n",
              "      <td>7.056188e-01</td>\n",
              "      <td>0.721920</td>\n",
              "      <td>0.676852</td>\n",
              "    </tr>\n",
              "    <tr>\n",
              "      <th>min</th>\n",
              "      <td>51.000000</td>\n",
              "      <td>13.000000</td>\n",
              "      <td>1002.000000</td>\n",
              "      <td>15.000000</td>\n",
              "      <td>14.000000</td>\n",
              "      <td>4.795832</td>\n",
              "      <td>-23.492316</td>\n",
              "      <td>-14.184194</td>\n",
              "      <td>-1.000000</td>\n",
              "      <td>-1.000000e+00</td>\n",
              "      <td>-1.000000</td>\n",
              "      <td>-1.000000</td>\n",
              "    </tr>\n",
              "    <tr>\n",
              "      <th>25%</th>\n",
              "      <td>415.000000</td>\n",
              "      <td>34.000000</td>\n",
              "      <td>1008.000000</td>\n",
              "      <td>38.000000</td>\n",
              "      <td>23.000000</td>\n",
              "      <td>16.062378</td>\n",
              "      <td>-7.922145</td>\n",
              "      <td>-4.104242</td>\n",
              "      <td>-0.707107</td>\n",
              "      <td>-7.071068e-01</td>\n",
              "      <td>-0.711846</td>\n",
              "      <td>-0.794672</td>\n",
              "    </tr>\n",
              "    <tr>\n",
              "      <th>50%</th>\n",
              "      <td>803.000000</td>\n",
              "      <td>41.000000</td>\n",
              "      <td>1011.000000</td>\n",
              "      <td>53.000000</td>\n",
              "      <td>26.000000</td>\n",
              "      <td>21.702534</td>\n",
              "      <td>-2.996853</td>\n",
              "      <td>1.810492</td>\n",
              "      <td>0.052336</td>\n",
              "      <td>-1.305490e-11</td>\n",
              "      <td>0.231728</td>\n",
              "      <td>-0.179328</td>\n",
              "    </tr>\n",
              "    <tr>\n",
              "      <th>75%</th>\n",
              "      <td>1069.000000</td>\n",
              "      <td>48.000000</td>\n",
              "      <td>1014.000000</td>\n",
              "      <td>63.000000</td>\n",
              "      <td>30.000000</td>\n",
              "      <td>27.073973</td>\n",
              "      <td>1.562834</td>\n",
              "      <td>7.281153</td>\n",
              "      <td>0.707107</td>\n",
              "      <td>7.071068e-01</td>\n",
              "      <td>0.777582</td>\n",
              "      <td>0.522465</td>\n",
              "    </tr>\n",
              "    <tr>\n",
              "      <th>max</th>\n",
              "      <td>1150.000000</td>\n",
              "      <td>63.000000</td>\n",
              "      <td>1021.000000</td>\n",
              "      <td>93.000000</td>\n",
              "      <td>34.000000</td>\n",
              "      <td>35.199432</td>\n",
              "      <td>23.070281</td>\n",
              "      <td>18.912258</td>\n",
              "      <td>1.000000</td>\n",
              "      <td>1.000000e+00</td>\n",
              "      <td>0.999999</td>\n",
              "      <td>0.999855</td>\n",
              "    </tr>\n",
              "  </tbody>\n",
              "</table>\n",
              "</div>\n",
              "      <button class=\"colab-df-convert\" onclick=\"convertToInteractive('df-895a675e-2bcd-4027-b502-6b6c0857e1dc')\"\n",
              "              title=\"Convert this dataframe to an interactive table.\"\n",
              "              style=\"display:none;\">\n",
              "        \n",
              "  <svg xmlns=\"http://www.w3.org/2000/svg\" height=\"24px\"viewBox=\"0 0 24 24\"\n",
              "       width=\"24px\">\n",
              "    <path d=\"M0 0h24v24H0V0z\" fill=\"none\"/>\n",
              "    <path d=\"M18.56 5.44l.94 2.06.94-2.06 2.06-.94-2.06-.94-.94-2.06-.94 2.06-2.06.94zm-11 1L8.5 8.5l.94-2.06 2.06-.94-2.06-.94L8.5 2.5l-.94 2.06-2.06.94zm10 10l.94 2.06.94-2.06 2.06-.94-2.06-.94-.94-2.06-.94 2.06-2.06.94z\"/><path d=\"M17.41 7.96l-1.37-1.37c-.4-.4-.92-.59-1.43-.59-.52 0-1.04.2-1.43.59L10.3 9.45l-7.72 7.72c-.78.78-.78 2.05 0 2.83L4 21.41c.39.39.9.59 1.41.59.51 0 1.02-.2 1.41-.59l7.78-7.78 2.81-2.81c.8-.78.8-2.07 0-2.86zM5.41 20L4 18.59l7.72-7.72 1.47 1.35L5.41 20z\"/>\n",
              "  </svg>\n",
              "      </button>\n",
              "      \n",
              "  <style>\n",
              "    .colab-df-container {\n",
              "      display:flex;\n",
              "      flex-wrap:wrap;\n",
              "      gap: 12px;\n",
              "    }\n",
              "\n",
              "    .colab-df-convert {\n",
              "      background-color: #E8F0FE;\n",
              "      border: none;\n",
              "      border-radius: 50%;\n",
              "      cursor: pointer;\n",
              "      display: none;\n",
              "      fill: #1967D2;\n",
              "      height: 32px;\n",
              "      padding: 0 0 0 0;\n",
              "      width: 32px;\n",
              "    }\n",
              "\n",
              "    .colab-df-convert:hover {\n",
              "      background-color: #E2EBFA;\n",
              "      box-shadow: 0px 1px 2px rgba(60, 64, 67, 0.3), 0px 1px 3px 1px rgba(60, 64, 67, 0.15);\n",
              "      fill: #174EA6;\n",
              "    }\n",
              "\n",
              "    [theme=dark] .colab-df-convert {\n",
              "      background-color: #3B4455;\n",
              "      fill: #D2E3FC;\n",
              "    }\n",
              "\n",
              "    [theme=dark] .colab-df-convert:hover {\n",
              "      background-color: #434B5C;\n",
              "      box-shadow: 0px 1px 3px 1px rgba(0, 0, 0, 0.15);\n",
              "      filter: drop-shadow(0px 1px 2px rgba(0, 0, 0, 0.3));\n",
              "      fill: #FFFFFF;\n",
              "    }\n",
              "  </style>\n",
              "\n",
              "      <script>\n",
              "        const buttonEl =\n",
              "          document.querySelector('#df-895a675e-2bcd-4027-b502-6b6c0857e1dc button.colab-df-convert');\n",
              "        buttonEl.style.display =\n",
              "          google.colab.kernel.accessAllowed ? 'block' : 'none';\n",
              "\n",
              "        async function convertToInteractive(key) {\n",
              "          const element = document.querySelector('#df-895a675e-2bcd-4027-b502-6b6c0857e1dc');\n",
              "          const dataTable =\n",
              "            await google.colab.kernel.invokeFunction('convertToInteractive',\n",
              "                                                     [key], {});\n",
              "          if (!dataTable) return;\n",
              "\n",
              "          const docLinkHtml = 'Like what you see? Visit the ' +\n",
              "            '<a target=\"_blank\" href=https://colab.research.google.com/notebooks/data_table.ipynb>data table notebook</a>'\n",
              "            + ' to learn more about interactive tables.';\n",
              "          element.innerHTML = '';\n",
              "          dataTable['output_type'] = 'display_data';\n",
              "          await google.colab.output.renderOutput(dataTable, element);\n",
              "          const docLink = document.createElement('div');\n",
              "          docLink.innerHTML = docLinkHtml;\n",
              "          element.appendChild(docLink);\n",
              "        }\n",
              "      </script>\n",
              "    </div>\n",
              "  </div>\n",
              "  "
            ]
          },
          "metadata": {},
          "execution_count": 54
        }
      ],
      "source": [
        "dfSummer.describe()"
      ]
    },
    {
      "cell_type": "markdown",
      "source": [
        "**Springs-LSTM**\n",
        "---"
      ],
      "metadata": {
        "id": "5rhsllxh_W0e"
      }
    },
    {
      "cell_type": "code",
      "source": [
        "dfSpring"
      ],
      "metadata": {
        "colab": {
          "base_uri": "https://localhost:8080/",
          "height": 499
        },
        "id": "S331_hbK_x-A",
        "outputId": "42fe84b7-e5bc-4fde-e526-166570d942e6"
      },
      "execution_count": 55,
      "outputs": [
        {
          "output_type": "execute_result",
          "data": {
            "text/plain": [
              "                  TS1_P1_data  TS1_SENS0700_TmpMdul_C_data  Barometer_data  \\\n",
              "Date_time_name                                                               \n",
              "9/1/2013 12:00            164                           26            1017   \n",
              "9/1/2013 12:01            153                           26            1017   \n",
              "9/1/2013 12:02            149                           26            1017   \n",
              "9/1/2013 12:03            140                           25            1017   \n",
              "9/1/2013 12:04            138                           25            1017   \n",
              "...                       ...                          ...             ...   \n",
              "11/12/2013 18:16          309                           29            1010   \n",
              "11/12/2013 18:18          237                           29            1010   \n",
              "11/12/2013 18:19          176                           28            1010   \n",
              "11/12/2013 18:20          120                           28            1010   \n",
              "11/12/2013 18:21          115                           28            1010   \n",
              "\n",
              "                  Outside_Humidity_data  Outside_Temperature_data  \\\n",
              "Date_time_name                                                      \n",
              "9/1/2013 12:00                       76                        19   \n",
              "9/1/2013 12:01                       76                        19   \n",
              "9/1/2013 12:02                       77                        19   \n",
              "9/1/2013 12:03                       77                        19   \n",
              "9/1/2013 12:04                       77                        19   \n",
              "...                                 ...                       ...   \n",
              "11/12/2013 18:16                     63                        23   \n",
              "11/12/2013 18:18                     64                        23   \n",
              "11/12/2013 18:19                     64                        22   \n",
              "11/12/2013 18:20                     64                        22   \n",
              "11/12/2013 18:21                     65                        22   \n",
              "\n",
              "                  Solar_Radiation_data_SQ         Wx         Wy       Day sin  \\\n",
              "Date_time_name                                                                  \n",
              "9/1/2013 12:00                  12.767145   3.803564   8.156770  9.473316e-11   \n",
              "9/1/2013 12:01                  12.449900   1.854102   5.706339  5.233596e-02   \n",
              "9/1/2013 12:02                  12.206556   0.418539   5.985384  1.045285e-01   \n",
              "9/1/2013 12:03                  11.874342   7.878462   1.389185  1.564345e-01   \n",
              "9/1/2013 12:04                  11.618950   1.530904  10.892949  2.079117e-01   \n",
              "...                                   ...        ...        ...           ...   \n",
              "11/12/2013 18:16                 6.480741 -11.024625  -6.888950  7.431448e-01   \n",
              "11/12/2013 18:18                 6.324555 -23.070281  -6.615297  8.090170e-01   \n",
              "11/12/2013 18:19                 6.244998  -9.428840  -5.665419  8.386706e-01   \n",
              "11/12/2013 18:20                 5.916080 -13.856406  -8.000000  8.660254e-01   \n",
              "11/12/2013 18:21                 5.744563 -11.346223  -3.906818  8.910065e-01   \n",
              "\n",
              "                   Day cos  Year sin  Year cos  \n",
              "Date_time_name                                  \n",
              "9/1/2013 12:00    1.000000  0.118933  0.992902  \n",
              "9/1/2013 12:01    0.998630  0.119075  0.992885  \n",
              "9/1/2013 12:02    0.994522  0.119218  0.992868  \n",
              "9/1/2013 12:03    0.987688  0.119360  0.992851  \n",
              "9/1/2013 12:04    0.978148  0.119502  0.992834  \n",
              "...                    ...       ...       ...  \n",
              "11/12/2013 18:16  0.669131  0.622276 -0.782798  \n",
              "11/12/2013 18:18  0.587785  0.622051 -0.782976  \n",
              "11/12/2013 18:19  0.544639  0.621939 -0.783066  \n",
              "11/12/2013 18:20  0.500000  0.621827 -0.783155  \n",
              "11/12/2013 18:21  0.453990  0.621715 -0.783244  \n",
              "\n",
              "[32612 rows x 12 columns]"
            ],
            "text/html": [
              "\n",
              "  <div id=\"df-1bb4cae0-9b25-415a-9d87-369106d31af1\">\n",
              "    <div class=\"colab-df-container\">\n",
              "      <div>\n",
              "<style scoped>\n",
              "    .dataframe tbody tr th:only-of-type {\n",
              "        vertical-align: middle;\n",
              "    }\n",
              "\n",
              "    .dataframe tbody tr th {\n",
              "        vertical-align: top;\n",
              "    }\n",
              "\n",
              "    .dataframe thead th {\n",
              "        text-align: right;\n",
              "    }\n",
              "</style>\n",
              "<table border=\"1\" class=\"dataframe\">\n",
              "  <thead>\n",
              "    <tr style=\"text-align: right;\">\n",
              "      <th></th>\n",
              "      <th>TS1_P1_data</th>\n",
              "      <th>TS1_SENS0700_TmpMdul_C_data</th>\n",
              "      <th>Barometer_data</th>\n",
              "      <th>Outside_Humidity_data</th>\n",
              "      <th>Outside_Temperature_data</th>\n",
              "      <th>Solar_Radiation_data_SQ</th>\n",
              "      <th>Wx</th>\n",
              "      <th>Wy</th>\n",
              "      <th>Day sin</th>\n",
              "      <th>Day cos</th>\n",
              "      <th>Year sin</th>\n",
              "      <th>Year cos</th>\n",
              "    </tr>\n",
              "    <tr>\n",
              "      <th>Date_time_name</th>\n",
              "      <th></th>\n",
              "      <th></th>\n",
              "      <th></th>\n",
              "      <th></th>\n",
              "      <th></th>\n",
              "      <th></th>\n",
              "      <th></th>\n",
              "      <th></th>\n",
              "      <th></th>\n",
              "      <th></th>\n",
              "      <th></th>\n",
              "      <th></th>\n",
              "    </tr>\n",
              "  </thead>\n",
              "  <tbody>\n",
              "    <tr>\n",
              "      <th>9/1/2013 12:00</th>\n",
              "      <td>164</td>\n",
              "      <td>26</td>\n",
              "      <td>1017</td>\n",
              "      <td>76</td>\n",
              "      <td>19</td>\n",
              "      <td>12.767145</td>\n",
              "      <td>3.803564</td>\n",
              "      <td>8.156770</td>\n",
              "      <td>9.473316e-11</td>\n",
              "      <td>1.000000</td>\n",
              "      <td>0.118933</td>\n",
              "      <td>0.992902</td>\n",
              "    </tr>\n",
              "    <tr>\n",
              "      <th>9/1/2013 12:01</th>\n",
              "      <td>153</td>\n",
              "      <td>26</td>\n",
              "      <td>1017</td>\n",
              "      <td>76</td>\n",
              "      <td>19</td>\n",
              "      <td>12.449900</td>\n",
              "      <td>1.854102</td>\n",
              "      <td>5.706339</td>\n",
              "      <td>5.233596e-02</td>\n",
              "      <td>0.998630</td>\n",
              "      <td>0.119075</td>\n",
              "      <td>0.992885</td>\n",
              "    </tr>\n",
              "    <tr>\n",
              "      <th>9/1/2013 12:02</th>\n",
              "      <td>149</td>\n",
              "      <td>26</td>\n",
              "      <td>1017</td>\n",
              "      <td>77</td>\n",
              "      <td>19</td>\n",
              "      <td>12.206556</td>\n",
              "      <td>0.418539</td>\n",
              "      <td>5.985384</td>\n",
              "      <td>1.045285e-01</td>\n",
              "      <td>0.994522</td>\n",
              "      <td>0.119218</td>\n",
              "      <td>0.992868</td>\n",
              "    </tr>\n",
              "    <tr>\n",
              "      <th>9/1/2013 12:03</th>\n",
              "      <td>140</td>\n",
              "      <td>25</td>\n",
              "      <td>1017</td>\n",
              "      <td>77</td>\n",
              "      <td>19</td>\n",
              "      <td>11.874342</td>\n",
              "      <td>7.878462</td>\n",
              "      <td>1.389185</td>\n",
              "      <td>1.564345e-01</td>\n",
              "      <td>0.987688</td>\n",
              "      <td>0.119360</td>\n",
              "      <td>0.992851</td>\n",
              "    </tr>\n",
              "    <tr>\n",
              "      <th>9/1/2013 12:04</th>\n",
              "      <td>138</td>\n",
              "      <td>25</td>\n",
              "      <td>1017</td>\n",
              "      <td>77</td>\n",
              "      <td>19</td>\n",
              "      <td>11.618950</td>\n",
              "      <td>1.530904</td>\n",
              "      <td>10.892949</td>\n",
              "      <td>2.079117e-01</td>\n",
              "      <td>0.978148</td>\n",
              "      <td>0.119502</td>\n",
              "      <td>0.992834</td>\n",
              "    </tr>\n",
              "    <tr>\n",
              "      <th>...</th>\n",
              "      <td>...</td>\n",
              "      <td>...</td>\n",
              "      <td>...</td>\n",
              "      <td>...</td>\n",
              "      <td>...</td>\n",
              "      <td>...</td>\n",
              "      <td>...</td>\n",
              "      <td>...</td>\n",
              "      <td>...</td>\n",
              "      <td>...</td>\n",
              "      <td>...</td>\n",
              "      <td>...</td>\n",
              "    </tr>\n",
              "    <tr>\n",
              "      <th>11/12/2013 18:16</th>\n",
              "      <td>309</td>\n",
              "      <td>29</td>\n",
              "      <td>1010</td>\n",
              "      <td>63</td>\n",
              "      <td>23</td>\n",
              "      <td>6.480741</td>\n",
              "      <td>-11.024625</td>\n",
              "      <td>-6.888950</td>\n",
              "      <td>7.431448e-01</td>\n",
              "      <td>0.669131</td>\n",
              "      <td>0.622276</td>\n",
              "      <td>-0.782798</td>\n",
              "    </tr>\n",
              "    <tr>\n",
              "      <th>11/12/2013 18:18</th>\n",
              "      <td>237</td>\n",
              "      <td>29</td>\n",
              "      <td>1010</td>\n",
              "      <td>64</td>\n",
              "      <td>23</td>\n",
              "      <td>6.324555</td>\n",
              "      <td>-23.070281</td>\n",
              "      <td>-6.615297</td>\n",
              "      <td>8.090170e-01</td>\n",
              "      <td>0.587785</td>\n",
              "      <td>0.622051</td>\n",
              "      <td>-0.782976</td>\n",
              "    </tr>\n",
              "    <tr>\n",
              "      <th>11/12/2013 18:19</th>\n",
              "      <td>176</td>\n",
              "      <td>28</td>\n",
              "      <td>1010</td>\n",
              "      <td>64</td>\n",
              "      <td>22</td>\n",
              "      <td>6.244998</td>\n",
              "      <td>-9.428840</td>\n",
              "      <td>-5.665419</td>\n",
              "      <td>8.386706e-01</td>\n",
              "      <td>0.544639</td>\n",
              "      <td>0.621939</td>\n",
              "      <td>-0.783066</td>\n",
              "    </tr>\n",
              "    <tr>\n",
              "      <th>11/12/2013 18:20</th>\n",
              "      <td>120</td>\n",
              "      <td>28</td>\n",
              "      <td>1010</td>\n",
              "      <td>64</td>\n",
              "      <td>22</td>\n",
              "      <td>5.916080</td>\n",
              "      <td>-13.856406</td>\n",
              "      <td>-8.000000</td>\n",
              "      <td>8.660254e-01</td>\n",
              "      <td>0.500000</td>\n",
              "      <td>0.621827</td>\n",
              "      <td>-0.783155</td>\n",
              "    </tr>\n",
              "    <tr>\n",
              "      <th>11/12/2013 18:21</th>\n",
              "      <td>115</td>\n",
              "      <td>28</td>\n",
              "      <td>1010</td>\n",
              "      <td>65</td>\n",
              "      <td>22</td>\n",
              "      <td>5.744563</td>\n",
              "      <td>-11.346223</td>\n",
              "      <td>-3.906818</td>\n",
              "      <td>8.910065e-01</td>\n",
              "      <td>0.453990</td>\n",
              "      <td>0.621715</td>\n",
              "      <td>-0.783244</td>\n",
              "    </tr>\n",
              "  </tbody>\n",
              "</table>\n",
              "<p>32612 rows × 12 columns</p>\n",
              "</div>\n",
              "      <button class=\"colab-df-convert\" onclick=\"convertToInteractive('df-1bb4cae0-9b25-415a-9d87-369106d31af1')\"\n",
              "              title=\"Convert this dataframe to an interactive table.\"\n",
              "              style=\"display:none;\">\n",
              "        \n",
              "  <svg xmlns=\"http://www.w3.org/2000/svg\" height=\"24px\"viewBox=\"0 0 24 24\"\n",
              "       width=\"24px\">\n",
              "    <path d=\"M0 0h24v24H0V0z\" fill=\"none\"/>\n",
              "    <path d=\"M18.56 5.44l.94 2.06.94-2.06 2.06-.94-2.06-.94-.94-2.06-.94 2.06-2.06.94zm-11 1L8.5 8.5l.94-2.06 2.06-.94-2.06-.94L8.5 2.5l-.94 2.06-2.06.94zm10 10l.94 2.06.94-2.06 2.06-.94-2.06-.94-.94-2.06-.94 2.06-2.06.94z\"/><path d=\"M17.41 7.96l-1.37-1.37c-.4-.4-.92-.59-1.43-.59-.52 0-1.04.2-1.43.59L10.3 9.45l-7.72 7.72c-.78.78-.78 2.05 0 2.83L4 21.41c.39.39.9.59 1.41.59.51 0 1.02-.2 1.41-.59l7.78-7.78 2.81-2.81c.8-.78.8-2.07 0-2.86zM5.41 20L4 18.59l7.72-7.72 1.47 1.35L5.41 20z\"/>\n",
              "  </svg>\n",
              "      </button>\n",
              "      \n",
              "  <style>\n",
              "    .colab-df-container {\n",
              "      display:flex;\n",
              "      flex-wrap:wrap;\n",
              "      gap: 12px;\n",
              "    }\n",
              "\n",
              "    .colab-df-convert {\n",
              "      background-color: #E8F0FE;\n",
              "      border: none;\n",
              "      border-radius: 50%;\n",
              "      cursor: pointer;\n",
              "      display: none;\n",
              "      fill: #1967D2;\n",
              "      height: 32px;\n",
              "      padding: 0 0 0 0;\n",
              "      width: 32px;\n",
              "    }\n",
              "\n",
              "    .colab-df-convert:hover {\n",
              "      background-color: #E2EBFA;\n",
              "      box-shadow: 0px 1px 2px rgba(60, 64, 67, 0.3), 0px 1px 3px 1px rgba(60, 64, 67, 0.15);\n",
              "      fill: #174EA6;\n",
              "    }\n",
              "\n",
              "    [theme=dark] .colab-df-convert {\n",
              "      background-color: #3B4455;\n",
              "      fill: #D2E3FC;\n",
              "    }\n",
              "\n",
              "    [theme=dark] .colab-df-convert:hover {\n",
              "      background-color: #434B5C;\n",
              "      box-shadow: 0px 1px 3px 1px rgba(0, 0, 0, 0.15);\n",
              "      filter: drop-shadow(0px 1px 2px rgba(0, 0, 0, 0.3));\n",
              "      fill: #FFFFFF;\n",
              "    }\n",
              "  </style>\n",
              "\n",
              "      <script>\n",
              "        const buttonEl =\n",
              "          document.querySelector('#df-1bb4cae0-9b25-415a-9d87-369106d31af1 button.colab-df-convert');\n",
              "        buttonEl.style.display =\n",
              "          google.colab.kernel.accessAllowed ? 'block' : 'none';\n",
              "\n",
              "        async function convertToInteractive(key) {\n",
              "          const element = document.querySelector('#df-1bb4cae0-9b25-415a-9d87-369106d31af1');\n",
              "          const dataTable =\n",
              "            await google.colab.kernel.invokeFunction('convertToInteractive',\n",
              "                                                     [key], {});\n",
              "          if (!dataTable) return;\n",
              "\n",
              "          const docLinkHtml = 'Like what you see? Visit the ' +\n",
              "            '<a target=\"_blank\" href=https://colab.research.google.com/notebooks/data_table.ipynb>data table notebook</a>'\n",
              "            + ' to learn more about interactive tables.';\n",
              "          element.innerHTML = '';\n",
              "          dataTable['output_type'] = 'display_data';\n",
              "          await google.colab.output.renderOutput(dataTable, element);\n",
              "          const docLink = document.createElement('div');\n",
              "          docLink.innerHTML = docLinkHtml;\n",
              "          element.appendChild(docLink);\n",
              "        }\n",
              "      </script>\n",
              "    </div>\n",
              "  </div>\n",
              "  "
            ]
          },
          "metadata": {},
          "execution_count": 55
        }
      ]
    },
    {
      "cell_type": "code",
      "execution_count": 56,
      "metadata": {
        "id": "gdnkSpWaENYQ"
      },
      "outputs": [],
      "source": [
        "scaler = MinMaxScaler()\n",
        "data_scaled_SP = scaler.fit_transform(dfSpring)"
      ]
    },
    {
      "cell_type": "code",
      "execution_count": 57,
      "metadata": {
        "colab": {
          "base_uri": "https://localhost:8080/"
        },
        "id": "rCY48qWVESHY",
        "outputId": "eb5b5173-f2ce-4736-e3f3-3ed6eafec198"
      },
      "outputs": [
        {
          "output_type": "execute_result",
          "data": {
            "text/plain": [
              "array([[0.10282075, 0.375     , 0.57692308, ..., 1.        , 0.55946628,\n",
              "        0.99674485],\n",
              "       [0.09281165, 0.375     , 0.57692308, ..., 0.99931477, 0.55953745,\n",
              "        0.99673632],\n",
              "       [0.08917197, 0.375     , 0.57692308, ..., 0.99726095, 0.55960861,\n",
              "        0.99672778],\n",
              "       ...,\n",
              "       [0.11373976, 0.41666667, 0.30769231, ..., 0.77231952, 0.81096942,\n",
              "        0.10849915],\n",
              "       [0.06278435, 0.41666667, 0.30769231, ..., 0.75      , 0.81091329,\n",
              "        0.10845456],\n",
              "       [0.05823476, 0.41666667, 0.30769231, ..., 0.72699525, 0.81085715,\n",
              "        0.10840998]])"
            ]
          },
          "metadata": {},
          "execution_count": 57
        }
      ],
      "source": [
        "data_scaled_SP"
      ]
    },
    {
      "cell_type": "code",
      "execution_count": 58,
      "metadata": {
        "id": "IEZuMY99zfLU"
      },
      "outputs": [],
      "source": [
        "featuresSP=data_scaled_SP\n",
        "targetSP=data_scaled_SP[:,0]"
      ]
    },
    {
      "cell_type": "code",
      "execution_count": 59,
      "metadata": {
        "id": "1Ag5wZCs9ZFY"
      },
      "outputs": [],
      "source": [
        "#TimeseriesGenerator(features, target, length=2, sampling_rate=1, batch_size=1)[0]"
      ]
    },
    {
      "cell_type": "code",
      "execution_count": 60,
      "metadata": {
        "id": "l3D7t9UA4Juf"
      },
      "outputs": [],
      "source": [
        "x_trainSP, x_testSP, y_trainSP, y_testSP = train_test_split(featuresSP, targetSP, test_size=0.20, random_state=123, shuffle = False)"
      ]
    },
    {
      "cell_type": "code",
      "execution_count": 61,
      "metadata": {
        "colab": {
          "base_uri": "https://localhost:8080/"
        },
        "id": "DLv-nf0rFlLw",
        "outputId": "6f342f8d-e736-48a2-f8eb-dd5e7eb6caa2"
      },
      "outputs": [
        {
          "output_type": "execute_result",
          "data": {
            "text/plain": [
              "(26089, 12)"
            ]
          },
          "metadata": {},
          "execution_count": 61
        }
      ],
      "source": [
        "x_trainSP.shape"
      ]
    },
    {
      "cell_type": "code",
      "execution_count": 62,
      "metadata": {
        "colab": {
          "base_uri": "https://localhost:8080/"
        },
        "id": "Ez0G67QwK_aW",
        "outputId": "0fe11e7c-6f18-424b-ce86-b680b504112a"
      },
      "outputs": [
        {
          "output_type": "execute_result",
          "data": {
            "text/plain": [
              "(6523, 12)"
            ]
          },
          "metadata": {},
          "execution_count": 62
        }
      ],
      "source": [
        "x_testSP.shape"
      ]
    },
    {
      "cell_type": "code",
      "execution_count": 63,
      "metadata": {
        "id": "XAR9vd-n1MIK"
      },
      "outputs": [],
      "source": [
        "win_length=720\n",
        "batch_size=32\n",
        "num_features=12\n",
        "train_generatorSP = TimeseriesGenerator(x_trainSP, y_trainSP, length=win_length, sampling_rate=1, batch_size=batch_size)\n",
        "test_generatorSP = TimeseriesGenerator(x_testSP, y_testSP, length=win_length, sampling_rate=1, batch_size=batch_size)"
      ]
    },
    {
      "cell_type": "code",
      "execution_count": 64,
      "metadata": {
        "id": "YW4H0bXV2NwA"
      },
      "outputs": [],
      "source": [
        "from keras.regularizers import L1L2\n",
        "model = tf.keras.Sequential()\n",
        "model.add(tf.keras.layers.LSTM(128, input_shape= (win_length, num_features), return_sequences=True))#kernel_regularizer = L1L2(l1=0.00, l2=0.001)))\n",
        "model.add(tf.keras.layers.LeakyReLU(alpha=0.5)) \n",
        "model.add(tf.keras.layers.LSTM(128, return_sequences=True))\n",
        "model.add(tf.keras.layers.LeakyReLU(alpha=0.5)) \n",
        "model.add(tf.keras.layers.Dropout(0.3)) \n",
        "model.add(tf.keras.layers.LSTM(64, return_sequences=False))\n",
        "model.add(tf.keras.layers.Dropout(0.3)) \n",
        "model.add(tf.keras.layers.Dense(1))"
      ]
    },
    {
      "cell_type": "code",
      "source": [
        "model.summary()"
      ],
      "metadata": {
        "colab": {
          "base_uri": "https://localhost:8080/"
        },
        "id": "WXBOGOhAzpWq",
        "outputId": "0a0f8bc7-ec03-4f23-93a4-c83594b9eb02"
      },
      "execution_count": 65,
      "outputs": [
        {
          "output_type": "stream",
          "name": "stdout",
          "text": [
            "Model: \"sequential\"\n",
            "_________________________________________________________________\n",
            " Layer (type)                Output Shape              Param #   \n",
            "=================================================================\n",
            " lstm (LSTM)                 (None, 720, 128)          72192     \n",
            "                                                                 \n",
            " leaky_re_lu (LeakyReLU)     (None, 720, 128)          0         \n",
            "                                                                 \n",
            " lstm_1 (LSTM)               (None, 720, 128)          131584    \n",
            "                                                                 \n",
            " leaky_re_lu_1 (LeakyReLU)   (None, 720, 128)          0         \n",
            "                                                                 \n",
            " dropout (Dropout)           (None, 720, 128)          0         \n",
            "                                                                 \n",
            " lstm_2 (LSTM)               (None, 64)                49408     \n",
            "                                                                 \n",
            " dropout_1 (Dropout)         (None, 64)                0         \n",
            "                                                                 \n",
            " dense (Dense)               (None, 1)                 65        \n",
            "                                                                 \n",
            "=================================================================\n",
            "Total params: 253,249\n",
            "Trainable params: 253,249\n",
            "Non-trainable params: 0\n",
            "_________________________________________________________________\n"
          ]
        }
      ]
    },
    {
      "cell_type": "code",
      "execution_count": 66,
      "metadata": {
        "colab": {
          "base_uri": "https://localhost:8080/"
        },
        "id": "JHnl-d8824y0",
        "outputId": "c38615bf-bafa-4fb5-d248-191851178272"
      },
      "outputs": [
        {
          "output_type": "stream",
          "name": "stdout",
          "text": [
            "Epoch 1/3\n"
          ]
        },
        {
          "output_type": "stream",
          "name": "stderr",
          "text": [
            "<ipython-input-66-0b099ffdda1e>:9: UserWarning: `Model.fit_generator` is deprecated and will be removed in a future version. Please use `Model.fit`, which supports generators.\n",
            "  history = model.fit_generator(train_generatorSP, epochs=3,\n"
          ]
        },
        {
          "output_type": "stream",
          "name": "stdout",
          "text": [
            "793/793 [==============================] - 81s 91ms/step - loss: 0.0527 - mean_absolute_percentage_error: 272550.2188 - val_loss: 0.0289 - val_mean_absolute_percentage_error: 52503.0117\n",
            "Epoch 2/3\n",
            "793/793 [==============================] - 69s 87ms/step - loss: 0.0259 - mean_absolute_percentage_error: 152267.0312 - val_loss: 0.0212 - val_mean_absolute_percentage_error: 15849.7725\n",
            "Epoch 3/3\n",
            "793/793 [==============================] - 70s 89ms/step - loss: 0.0204 - mean_absolute_percentage_error: 103569.2734 - val_loss: 0.0214 - val_mean_absolute_percentage_error: 148701.2031\n"
          ]
        }
      ],
      "source": [
        "early_stopping = tf.keras.callbacks.EarlyStopping(monitor='val_loss',\n",
        "                                                    patience=2,\n",
        "                                                    mode='min')\n",
        "\n",
        "model.compile(loss=tf.losses.MeanSquaredError(),\n",
        "              optimizer=tf.optimizers.Adam(),\n",
        "              metrics=[tf.metrics.mean_absolute_percentage_error])\n",
        "\n",
        "history = model.fit_generator(train_generatorSP, epochs=3,\n",
        "                    validation_data=test_generatorSP,\n",
        "                    shuffle=False,\n",
        "                    callbacks=[early_stopping])"
      ]
    },
    {
      "cell_type": "code",
      "execution_count": 67,
      "metadata": {
        "id": "G4q1O2Hw5tXI",
        "colab": {
          "base_uri": "https://localhost:8080/"
        },
        "outputId": "8b6e32d8-2b88-4b2c-9503-7c8a708fff59"
      },
      "outputs": [
        {
          "output_type": "stream",
          "name": "stderr",
          "text": [
            "<ipython-input-67-af8602536527>:1: UserWarning: `Model.evaluate_generator` is deprecated and will be removed in a future version. Please use `Model.evaluate`, which supports generators.\n",
            "  model.evaluate_generator(test_generatorSP, verbose=0)\n"
          ]
        },
        {
          "output_type": "execute_result",
          "data": {
            "text/plain": [
              "[0.021427296102046967, 148701.203125]"
            ]
          },
          "metadata": {},
          "execution_count": 67
        }
      ],
      "source": [
        "model.evaluate_generator(test_generatorSP, verbose=0)  "
      ]
    },
    {
      "cell_type": "code",
      "execution_count": 68,
      "metadata": {
        "id": "Wx6HG0ZjXodP",
        "colab": {
          "base_uri": "https://localhost:8080/"
        },
        "outputId": "b70b3239-ceaf-4cb4-e198-f2eab049f7b7"
      },
      "outputs": [
        {
          "output_type": "stream",
          "name": "stderr",
          "text": [
            "<ipython-input-68-b1e60d2b2597>:1: UserWarning: `Model.predict_generator` is deprecated and will be removed in a future version. Please use `Model.predict`, which supports generators.\n",
            "  predictionsSP=model.predict_generator(test_generatorSP)\n"
          ]
        }
      ],
      "source": [
        "predictionsSP=model.predict_generator(test_generatorSP)"
      ]
    },
    {
      "cell_type": "code",
      "execution_count": 69,
      "metadata": {
        "id": "kEoR4K3pYDnR",
        "colab": {
          "base_uri": "https://localhost:8080/"
        },
        "outputId": "b8a5d987-d90c-4e6a-c95b-887ea0818fa1"
      },
      "outputs": [
        {
          "output_type": "execute_result",
          "data": {
            "text/plain": [
              "5803"
            ]
          },
          "metadata": {},
          "execution_count": 69
        }
      ],
      "source": [
        "predictionsSP.shape[0]"
      ]
    },
    {
      "cell_type": "code",
      "execution_count": 70,
      "metadata": {
        "id": "GMC2ewo0YRDW",
        "colab": {
          "base_uri": "https://localhost:8080/"
        },
        "outputId": "7cc39e3b-cb93-4f69-c42f-e6c43876edc3"
      },
      "outputs": [
        {
          "output_type": "execute_result",
          "data": {
            "text/plain": [
              "array([[0.88074005],\n",
              "       [0.8838438 ],\n",
              "       [0.88204545],\n",
              "       ...,\n",
              "       [0.21756467],\n",
              "       [0.1765382 ],\n",
              "       [0.14071715]], dtype=float32)"
            ]
          },
          "metadata": {},
          "execution_count": 70
        }
      ],
      "source": [
        "predictionsSP"
      ]
    },
    {
      "cell_type": "code",
      "execution_count": 71,
      "metadata": {
        "id": "dzQB2PtOYeMy",
        "colab": {
          "base_uri": "https://localhost:8080/"
        },
        "outputId": "15226a23-137c-4c31-b040-d555c0f8ebec"
      },
      "outputs": [
        {
          "output_type": "execute_result",
          "data": {
            "text/plain": [
              "array([0.69426752, 0.69244768, 0.71246588, ..., 0.11373976, 0.06278435,\n",
              "       0.05823476])"
            ]
          },
          "metadata": {},
          "execution_count": 71
        }
      ],
      "source": [
        "y_testSP"
      ]
    },
    {
      "cell_type": "code",
      "execution_count": 72,
      "metadata": {
        "id": "tiw-WJ9f9OUV",
        "colab": {
          "base_uri": "https://localhost:8080/"
        },
        "outputId": "33cb591f-c16a-41de-d335-f43a5dd6d433"
      },
      "outputs": [
        {
          "output_type": "execute_result",
          "data": {
            "text/plain": [
              "array([[0.69426752, 0.60416667, 0.53846154, ..., 0.9890738 , 0.67034963,\n",
              "        0.02992272],\n",
              "       [0.69244768, 0.60416667, 0.53846154, ..., 0.99384417, 0.67028224,\n",
              "        0.02989829],\n",
              "       [0.71246588, 0.58333333, 0.53846154, ..., 0.99726095, 0.67021484,\n",
              "        0.02987388],\n",
              "       ...,\n",
              "       [0.11373976, 0.41666667, 0.30769231, ..., 0.77231952, 0.81096942,\n",
              "        0.10849915],\n",
              "       [0.06278435, 0.41666667, 0.30769231, ..., 0.75      , 0.81091329,\n",
              "        0.10845456],\n",
              "       [0.05823476, 0.41666667, 0.30769231, ..., 0.72699525, 0.81085715,\n",
              "        0.10840998]])"
            ]
          },
          "metadata": {},
          "execution_count": 72
        }
      ],
      "source": [
        "x_testSP"
      ]
    },
    {
      "cell_type": "code",
      "execution_count": 73,
      "metadata": {
        "id": "3YhtkAbq7hGf",
        "colab": {
          "base_uri": "https://localhost:8080/"
        },
        "outputId": "d4df58da-0a76-467a-b1d9-1183445fd688"
      },
      "outputs": [
        {
          "output_type": "execute_result",
          "data": {
            "text/plain": [
              "array([[0.8125    , 0.5       , 0.26829268, ..., 0.8345653 , 0.56270676,\n",
              "        0.00394891],\n",
              "       [0.79166667, 0.5       , 0.26829268, ..., 0.85355339, 0.56263564,\n",
              "        0.00393993],\n",
              "       [0.8125    , 0.5       , 0.26829268, ..., 0.87157241, 0.56256453,\n",
              "        0.00393095],\n",
              "       ...,\n",
              "       [0.41666667, 0.30769231, 0.59756098, ..., 0.77231952, 0.81096942,\n",
              "        0.10849915],\n",
              "       [0.41666667, 0.30769231, 0.59756098, ..., 0.75      , 0.81091329,\n",
              "        0.10845456],\n",
              "       [0.41666667, 0.30769231, 0.6097561 , ..., 0.72699525, 0.81085715,\n",
              "        0.10840998]])"
            ]
          },
          "metadata": {},
          "execution_count": 73
        }
      ],
      "source": [
        "x_testSP[:,1:][win_length:]"
      ]
    },
    {
      "cell_type": "code",
      "execution_count": 74,
      "metadata": {
        "id": "qR04JJlC6yaM"
      },
      "outputs": [],
      "source": [
        "df_predSP=pd.concat([pd.DataFrame(predictionsSP), pd.DataFrame(x_testSP[:,1:][win_length:])],axis=1)"
      ]
    },
    {
      "cell_type": "code",
      "execution_count": 75,
      "metadata": {
        "id": "3Fu_2Z9DR7rh",
        "colab": {
          "base_uri": "https://localhost:8080/",
          "height": 424
        },
        "outputId": "971c6970-d0e7-4964-952f-a295d3f1adb8"
      },
      "outputs": [
        {
          "output_type": "execute_result",
          "data": {
            "text/plain": [
              "            0         0         1         2         3         4         5   \\\n",
              "0     0.880740  0.812500  0.500000  0.268293  0.653846  0.788365  0.456149   \n",
              "1     0.883844  0.791667  0.500000  0.268293  0.653846  0.788365  0.504430   \n",
              "2     0.882045  0.812500  0.500000  0.268293  0.653846  0.788934  0.526897   \n",
              "3     0.881757  0.791667  0.500000  0.268293  0.653846  0.792345  0.578356   \n",
              "4     0.886229  0.791667  0.500000  0.231707  0.653846  0.794045  0.515673   \n",
              "...        ...       ...       ...       ...       ...       ...       ...   \n",
              "5798  0.287200  0.437500  0.307692  0.585366  0.576923  0.055315  0.267612   \n",
              "5799  0.261478  0.437500  0.307692  0.597561  0.576923  0.050187  0.008861   \n",
              "5800  0.217565  0.416667  0.307692  0.597561  0.538462  0.047575  0.301891   \n",
              "5801  0.176538  0.416667  0.307692  0.597561  0.538462  0.036777  0.206783   \n",
              "5802  0.140717  0.416667  0.307692  0.609756  0.538462  0.031146  0.260704   \n",
              "\n",
              "            6         7         8         9         10  \n",
              "0     0.596659  0.128428  0.834565  0.562707  0.003949  \n",
              "1     0.640074  0.146447  0.853553  0.562636  0.003940  \n",
              "2     0.789768  0.165435  0.871572  0.562565  0.003931  \n",
              "3     0.577074  0.185340  0.888573  0.562493  0.003922  \n",
              "4     0.730305  0.250000  0.933013  0.562280  0.003895  \n",
              "...        ...       ...       ...       ...       ...  \n",
              "5798  0.220424  0.871572  0.834565  0.811138  0.108633  \n",
              "5799  0.228692  0.904508  0.793893  0.811026  0.108544  \n",
              "5800  0.257392  0.919335  0.772320  0.810969  0.108499  \n",
              "5801  0.186854  0.933013  0.750000  0.810913  0.108455  \n",
              "5802  0.310528  0.945503  0.726995  0.810857  0.108410  \n",
              "\n",
              "[5803 rows x 12 columns]"
            ],
            "text/html": [
              "\n",
              "  <div id=\"df-e6496844-11b7-4034-ba2c-a9cfff8a6112\">\n",
              "    <div class=\"colab-df-container\">\n",
              "      <div>\n",
              "<style scoped>\n",
              "    .dataframe tbody tr th:only-of-type {\n",
              "        vertical-align: middle;\n",
              "    }\n",
              "\n",
              "    .dataframe tbody tr th {\n",
              "        vertical-align: top;\n",
              "    }\n",
              "\n",
              "    .dataframe thead th {\n",
              "        text-align: right;\n",
              "    }\n",
              "</style>\n",
              "<table border=\"1\" class=\"dataframe\">\n",
              "  <thead>\n",
              "    <tr style=\"text-align: right;\">\n",
              "      <th></th>\n",
              "      <th>0</th>\n",
              "      <th>0</th>\n",
              "      <th>1</th>\n",
              "      <th>2</th>\n",
              "      <th>3</th>\n",
              "      <th>4</th>\n",
              "      <th>5</th>\n",
              "      <th>6</th>\n",
              "      <th>7</th>\n",
              "      <th>8</th>\n",
              "      <th>9</th>\n",
              "      <th>10</th>\n",
              "    </tr>\n",
              "  </thead>\n",
              "  <tbody>\n",
              "    <tr>\n",
              "      <th>0</th>\n",
              "      <td>0.880740</td>\n",
              "      <td>0.812500</td>\n",
              "      <td>0.500000</td>\n",
              "      <td>0.268293</td>\n",
              "      <td>0.653846</td>\n",
              "      <td>0.788365</td>\n",
              "      <td>0.456149</td>\n",
              "      <td>0.596659</td>\n",
              "      <td>0.128428</td>\n",
              "      <td>0.834565</td>\n",
              "      <td>0.562707</td>\n",
              "      <td>0.003949</td>\n",
              "    </tr>\n",
              "    <tr>\n",
              "      <th>1</th>\n",
              "      <td>0.883844</td>\n",
              "      <td>0.791667</td>\n",
              "      <td>0.500000</td>\n",
              "      <td>0.268293</td>\n",
              "      <td>0.653846</td>\n",
              "      <td>0.788365</td>\n",
              "      <td>0.504430</td>\n",
              "      <td>0.640074</td>\n",
              "      <td>0.146447</td>\n",
              "      <td>0.853553</td>\n",
              "      <td>0.562636</td>\n",
              "      <td>0.003940</td>\n",
              "    </tr>\n",
              "    <tr>\n",
              "      <th>2</th>\n",
              "      <td>0.882045</td>\n",
              "      <td>0.812500</td>\n",
              "      <td>0.500000</td>\n",
              "      <td>0.268293</td>\n",
              "      <td>0.653846</td>\n",
              "      <td>0.788934</td>\n",
              "      <td>0.526897</td>\n",
              "      <td>0.789768</td>\n",
              "      <td>0.165435</td>\n",
              "      <td>0.871572</td>\n",
              "      <td>0.562565</td>\n",
              "      <td>0.003931</td>\n",
              "    </tr>\n",
              "    <tr>\n",
              "      <th>3</th>\n",
              "      <td>0.881757</td>\n",
              "      <td>0.791667</td>\n",
              "      <td>0.500000</td>\n",
              "      <td>0.268293</td>\n",
              "      <td>0.653846</td>\n",
              "      <td>0.792345</td>\n",
              "      <td>0.578356</td>\n",
              "      <td>0.577074</td>\n",
              "      <td>0.185340</td>\n",
              "      <td>0.888573</td>\n",
              "      <td>0.562493</td>\n",
              "      <td>0.003922</td>\n",
              "    </tr>\n",
              "    <tr>\n",
              "      <th>4</th>\n",
              "      <td>0.886229</td>\n",
              "      <td>0.791667</td>\n",
              "      <td>0.500000</td>\n",
              "      <td>0.231707</td>\n",
              "      <td>0.653846</td>\n",
              "      <td>0.794045</td>\n",
              "      <td>0.515673</td>\n",
              "      <td>0.730305</td>\n",
              "      <td>0.250000</td>\n",
              "      <td>0.933013</td>\n",
              "      <td>0.562280</td>\n",
              "      <td>0.003895</td>\n",
              "    </tr>\n",
              "    <tr>\n",
              "      <th>...</th>\n",
              "      <td>...</td>\n",
              "      <td>...</td>\n",
              "      <td>...</td>\n",
              "      <td>...</td>\n",
              "      <td>...</td>\n",
              "      <td>...</td>\n",
              "      <td>...</td>\n",
              "      <td>...</td>\n",
              "      <td>...</td>\n",
              "      <td>...</td>\n",
              "      <td>...</td>\n",
              "      <td>...</td>\n",
              "    </tr>\n",
              "    <tr>\n",
              "      <th>5798</th>\n",
              "      <td>0.287200</td>\n",
              "      <td>0.437500</td>\n",
              "      <td>0.307692</td>\n",
              "      <td>0.585366</td>\n",
              "      <td>0.576923</td>\n",
              "      <td>0.055315</td>\n",
              "      <td>0.267612</td>\n",
              "      <td>0.220424</td>\n",
              "      <td>0.871572</td>\n",
              "      <td>0.834565</td>\n",
              "      <td>0.811138</td>\n",
              "      <td>0.108633</td>\n",
              "    </tr>\n",
              "    <tr>\n",
              "      <th>5799</th>\n",
              "      <td>0.261478</td>\n",
              "      <td>0.437500</td>\n",
              "      <td>0.307692</td>\n",
              "      <td>0.597561</td>\n",
              "      <td>0.576923</td>\n",
              "      <td>0.050187</td>\n",
              "      <td>0.008861</td>\n",
              "      <td>0.228692</td>\n",
              "      <td>0.904508</td>\n",
              "      <td>0.793893</td>\n",
              "      <td>0.811026</td>\n",
              "      <td>0.108544</td>\n",
              "    </tr>\n",
              "    <tr>\n",
              "      <th>5800</th>\n",
              "      <td>0.217565</td>\n",
              "      <td>0.416667</td>\n",
              "      <td>0.307692</td>\n",
              "      <td>0.597561</td>\n",
              "      <td>0.538462</td>\n",
              "      <td>0.047575</td>\n",
              "      <td>0.301891</td>\n",
              "      <td>0.257392</td>\n",
              "      <td>0.919335</td>\n",
              "      <td>0.772320</td>\n",
              "      <td>0.810969</td>\n",
              "      <td>0.108499</td>\n",
              "    </tr>\n",
              "    <tr>\n",
              "      <th>5801</th>\n",
              "      <td>0.176538</td>\n",
              "      <td>0.416667</td>\n",
              "      <td>0.307692</td>\n",
              "      <td>0.597561</td>\n",
              "      <td>0.538462</td>\n",
              "      <td>0.036777</td>\n",
              "      <td>0.206783</td>\n",
              "      <td>0.186854</td>\n",
              "      <td>0.933013</td>\n",
              "      <td>0.750000</td>\n",
              "      <td>0.810913</td>\n",
              "      <td>0.108455</td>\n",
              "    </tr>\n",
              "    <tr>\n",
              "      <th>5802</th>\n",
              "      <td>0.140717</td>\n",
              "      <td>0.416667</td>\n",
              "      <td>0.307692</td>\n",
              "      <td>0.609756</td>\n",
              "      <td>0.538462</td>\n",
              "      <td>0.031146</td>\n",
              "      <td>0.260704</td>\n",
              "      <td>0.310528</td>\n",
              "      <td>0.945503</td>\n",
              "      <td>0.726995</td>\n",
              "      <td>0.810857</td>\n",
              "      <td>0.108410</td>\n",
              "    </tr>\n",
              "  </tbody>\n",
              "</table>\n",
              "<p>5803 rows × 12 columns</p>\n",
              "</div>\n",
              "      <button class=\"colab-df-convert\" onclick=\"convertToInteractive('df-e6496844-11b7-4034-ba2c-a9cfff8a6112')\"\n",
              "              title=\"Convert this dataframe to an interactive table.\"\n",
              "              style=\"display:none;\">\n",
              "        \n",
              "  <svg xmlns=\"http://www.w3.org/2000/svg\" height=\"24px\"viewBox=\"0 0 24 24\"\n",
              "       width=\"24px\">\n",
              "    <path d=\"M0 0h24v24H0V0z\" fill=\"none\"/>\n",
              "    <path d=\"M18.56 5.44l.94 2.06.94-2.06 2.06-.94-2.06-.94-.94-2.06-.94 2.06-2.06.94zm-11 1L8.5 8.5l.94-2.06 2.06-.94-2.06-.94L8.5 2.5l-.94 2.06-2.06.94zm10 10l.94 2.06.94-2.06 2.06-.94-2.06-.94-.94-2.06-.94 2.06-2.06.94z\"/><path d=\"M17.41 7.96l-1.37-1.37c-.4-.4-.92-.59-1.43-.59-.52 0-1.04.2-1.43.59L10.3 9.45l-7.72 7.72c-.78.78-.78 2.05 0 2.83L4 21.41c.39.39.9.59 1.41.59.51 0 1.02-.2 1.41-.59l7.78-7.78 2.81-2.81c.8-.78.8-2.07 0-2.86zM5.41 20L4 18.59l7.72-7.72 1.47 1.35L5.41 20z\"/>\n",
              "  </svg>\n",
              "      </button>\n",
              "      \n",
              "  <style>\n",
              "    .colab-df-container {\n",
              "      display:flex;\n",
              "      flex-wrap:wrap;\n",
              "      gap: 12px;\n",
              "    }\n",
              "\n",
              "    .colab-df-convert {\n",
              "      background-color: #E8F0FE;\n",
              "      border: none;\n",
              "      border-radius: 50%;\n",
              "      cursor: pointer;\n",
              "      display: none;\n",
              "      fill: #1967D2;\n",
              "      height: 32px;\n",
              "      padding: 0 0 0 0;\n",
              "      width: 32px;\n",
              "    }\n",
              "\n",
              "    .colab-df-convert:hover {\n",
              "      background-color: #E2EBFA;\n",
              "      box-shadow: 0px 1px 2px rgba(60, 64, 67, 0.3), 0px 1px 3px 1px rgba(60, 64, 67, 0.15);\n",
              "      fill: #174EA6;\n",
              "    }\n",
              "\n",
              "    [theme=dark] .colab-df-convert {\n",
              "      background-color: #3B4455;\n",
              "      fill: #D2E3FC;\n",
              "    }\n",
              "\n",
              "    [theme=dark] .colab-df-convert:hover {\n",
              "      background-color: #434B5C;\n",
              "      box-shadow: 0px 1px 3px 1px rgba(0, 0, 0, 0.15);\n",
              "      filter: drop-shadow(0px 1px 2px rgba(0, 0, 0, 0.3));\n",
              "      fill: #FFFFFF;\n",
              "    }\n",
              "  </style>\n",
              "\n",
              "      <script>\n",
              "        const buttonEl =\n",
              "          document.querySelector('#df-e6496844-11b7-4034-ba2c-a9cfff8a6112 button.colab-df-convert');\n",
              "        buttonEl.style.display =\n",
              "          google.colab.kernel.accessAllowed ? 'block' : 'none';\n",
              "\n",
              "        async function convertToInteractive(key) {\n",
              "          const element = document.querySelector('#df-e6496844-11b7-4034-ba2c-a9cfff8a6112');\n",
              "          const dataTable =\n",
              "            await google.colab.kernel.invokeFunction('convertToInteractive',\n",
              "                                                     [key], {});\n",
              "          if (!dataTable) return;\n",
              "\n",
              "          const docLinkHtml = 'Like what you see? Visit the ' +\n",
              "            '<a target=\"_blank\" href=https://colab.research.google.com/notebooks/data_table.ipynb>data table notebook</a>'\n",
              "            + ' to learn more about interactive tables.';\n",
              "          element.innerHTML = '';\n",
              "          dataTable['output_type'] = 'display_data';\n",
              "          await google.colab.output.renderOutput(dataTable, element);\n",
              "          const docLink = document.createElement('div');\n",
              "          docLink.innerHTML = docLinkHtml;\n",
              "          element.appendChild(docLink);\n",
              "        }\n",
              "      </script>\n",
              "    </div>\n",
              "  </div>\n",
              "  "
            ]
          },
          "metadata": {},
          "execution_count": 75
        }
      ],
      "source": [
        "df_predSP"
      ]
    },
    {
      "cell_type": "code",
      "execution_count": 76,
      "metadata": {
        "id": "noykl7lh9hmT"
      },
      "outputs": [],
      "source": [
        "rev_transSP=scaler.inverse_transform(df_predSP)"
      ]
    },
    {
      "cell_type": "code",
      "execution_count": 77,
      "metadata": {
        "id": "D2vcu4tBAf4n",
        "colab": {
          "base_uri": "https://localhost:8080/"
        },
        "outputId": "51f22423-e928-47d6-8ee1-bd232a433a0f"
      },
      "outputs": [
        {
          "output_type": "execute_result",
          "data": {
            "text/plain": [
              "array([[ 1.01893331e+03,  4.70000000e+01,  1.01500000e+03, ...,\n",
              "         6.69130606e-01,  1.25414018e-01, -9.92104493e-01],\n",
              "       [ 1.02234431e+03,  4.60000000e+01,  1.01500000e+03, ...,\n",
              "         7.07106781e-01,  1.25271792e-01, -9.92122461e-01],\n",
              "       [ 1.02036795e+03,  4.70000000e+01,  1.01500000e+03, ...,\n",
              "         7.43144826e-01,  1.25129563e-01, -9.92140410e-01],\n",
              "       ...,\n",
              "       [ 2.90103575e+02,  2.80000000e+01,  1.01000000e+03, ...,\n",
              "         5.44639035e-01,  6.21939064e-01, -7.83065643e-01],\n",
              "       [ 2.45015481e+02,  2.80000000e+01,  1.01000000e+03, ...,\n",
              "         5.00000000e-01,  6.21826800e-01, -7.83154794e-01],\n",
              "       [ 2.05648147e+02,  2.80000000e+01,  1.01000000e+03, ...,\n",
              "         4.53990500e-01,  6.21714523e-01, -7.83243928e-01]])"
            ]
          },
          "metadata": {},
          "execution_count": 77
        }
      ],
      "source": [
        "rev_transSP"
      ]
    },
    {
      "cell_type": "code",
      "execution_count": 78,
      "metadata": {
        "id": "64knpgpHitML",
        "colab": {
          "base_uri": "https://localhost:8080/"
        },
        "outputId": "9a540bad-2d98-46d5-86e3-993c5e839384"
      },
      "outputs": [
        {
          "output_type": "execute_result",
          "data": {
            "text/plain": [
              "(5803, 1)"
            ]
          },
          "metadata": {},
          "execution_count": 78
        }
      ],
      "source": [
        "predictionsSP.shape"
      ]
    },
    {
      "cell_type": "code",
      "execution_count": 79,
      "metadata": {
        "id": "5eopbjZZBRUs"
      },
      "outputs": [],
      "source": [
        "df_finalSP=dfSpring[predictionsSP.shape[0]*-1:]"
      ]
    },
    {
      "cell_type": "code",
      "execution_count": 80,
      "metadata": {
        "id": "iEgc_FyMBjSO",
        "colab": {
          "base_uri": "https://localhost:8080/"
        },
        "outputId": "90f6e406-b152-490a-ce28-5f52ecb27011"
      },
      "outputs": [
        {
          "output_type": "execute_result",
          "data": {
            "text/plain": [
              "TS1_P1_data                    5803\n",
              "TS1_SENS0700_TmpMdul_C_data    5803\n",
              "Barometer_data                 5803\n",
              "Outside_Humidity_data          5803\n",
              "Outside_Temperature_data       5803\n",
              "Solar_Radiation_data_SQ        5803\n",
              "Wx                             5803\n",
              "Wy                             5803\n",
              "Day sin                        5803\n",
              "Day cos                        5803\n",
              "Year sin                       5803\n",
              "Year cos                       5803\n",
              "dtype: int64"
            ]
          },
          "metadata": {},
          "execution_count": 80
        }
      ],
      "source": [
        "df_finalSP.count()"
      ]
    },
    {
      "cell_type": "code",
      "execution_count": 81,
      "metadata": {
        "id": "D1VdgBdB-aWE",
        "colab": {
          "base_uri": "https://localhost:8080/"
        },
        "outputId": "b741cddb-7b58-49a0-fd47-ba862a2c67b6"
      },
      "outputs": [
        {
          "output_type": "stream",
          "name": "stderr",
          "text": [
            "<ipython-input-81-eb6d2d2ff733>:1: SettingWithCopyWarning: \n",
            "A value is trying to be set on a copy of a slice from a DataFrame.\n",
            "Try using .loc[row_indexer,col_indexer] = value instead\n",
            "\n",
            "See the caveats in the documentation: https://pandas.pydata.org/pandas-docs/stable/user_guide/indexing.html#returning-a-view-versus-a-copy\n",
            "  df_finalSP['pred']=rev_transSP[:,0]\n"
          ]
        }
      ],
      "source": [
        "df_finalSP['pred']=rev_transSP[:,0]"
      ]
    },
    {
      "cell_type": "code",
      "execution_count": 82,
      "metadata": {
        "id": "frkDEGgVJmYn"
      },
      "outputs": [],
      "source": [
        "dd=df_finalSP[['TS1_P1_data','pred']]"
      ]
    },
    {
      "cell_type": "code",
      "execution_count": 83,
      "metadata": {
        "id": "C4miODVXJycl",
        "colab": {
          "base_uri": "https://localhost:8080/"
        },
        "outputId": "a021eb17-33e7-4740-f65f-e97aa5ddcfe7"
      },
      "outputs": [
        {
          "output_type": "execute_result",
          "data": {
            "text/plain": [
              "Index(['TS1_P1_data', 'TS1_SENS0700_TmpMdul_C_data', 'Barometer_data',\n",
              "       'Outside_Humidity_data', 'Outside_Temperature_data',\n",
              "       'Solar_Radiation_data_SQ', 'Wx', 'Wy', 'Day sin', 'Day cos', 'Year sin',\n",
              "       'Year cos', 'pred'],\n",
              "      dtype='object')"
            ]
          },
          "metadata": {},
          "execution_count": 83
        }
      ],
      "source": [
        "df_finalSP.columns"
      ]
    },
    {
      "cell_type": "code",
      "execution_count": 84,
      "metadata": {
        "id": "11XNBVaJJ0ZC"
      },
      "outputs": [],
      "source": [
        "#algorithm= net.name\n",
        "#plt.figure(figsize=(25,10))\n",
        "#targetPlot,=plt.plot(df_final.TS1_P1_data,label='target',color='orange',marker='.',linestyle='-')\n",
        "#predictedPlot,=plt.plot(df_final.pred,label='predicted',color='deepskyblue',marker='.',linestyle=':')\n",
        "#plt.xlim([8500,9000])\n",
        "#plt.ylim([0, 1000])\n",
        "#plt.ylabel('value',fontsize=15)\n",
        "#plt.xlabel('time',fontsize=15)\n",
        "#plt.ion()\n",
        "#plt.grid()\n",
        "#plt.legend(handles=[targetPlot, predictedPlot])\n",
        "#plt.title('Time-series Prediction of dataset',fontsize=20,fontweight=40)\n",
        "#plot_path = './predictionPlot.png'\n",
        "#plt.savefig(plot_path,plot_pathbbox_inches='tight')\n",
        "#plt.draw()\n",
        "#plt.show()\n",
        "#plt.pause(0)\n",
        "#print('Prediction plot is saved to'+plot_path)"
      ]
    },
    {
      "cell_type": "code",
      "execution_count": 85,
      "metadata": {
        "id": "Ym90OS9J_-6O",
        "colab": {
          "base_uri": "https://localhost:8080/",
          "height": 536
        },
        "outputId": "338b0582-400d-483e-c984-0deeaba2cecd"
      },
      "outputs": [
        {
          "output_type": "execute_result",
          "data": {
            "text/plain": [
              "                  TS1_P1_data  TS1_SENS0700_TmpMdul_C_data  Barometer_data  \\\n",
              "Date_time_name                                                               \n",
              "15/11/2013 9:44          1126                           47            1015   \n",
              "15/11/2013 9:45          1124                           46            1015   \n",
              "15/11/2013 9:46          1123                           47            1015   \n",
              "15/11/2013 9:47          1128                           46            1015   \n",
              "15/11/2013 9:50          1142                           46            1015   \n",
              "...                       ...                          ...             ...   \n",
              "11/12/2013 18:16          309                           29            1010   \n",
              "11/12/2013 18:18          237                           29            1010   \n",
              "11/12/2013 18:19          176                           28            1010   \n",
              "11/12/2013 18:20          120                           28            1010   \n",
              "11/12/2013 18:21          115                           28            1010   \n",
              "\n",
              "                  Outside_Humidity_data  Outside_Temperature_data  \\\n",
              "Date_time_name                                                      \n",
              "15/11/2013 9:44                      37                        25   \n",
              "15/11/2013 9:45                      37                        25   \n",
              "15/11/2013 9:46                      37                        25   \n",
              "15/11/2013 9:47                      37                        25   \n",
              "15/11/2013 9:50                      34                        25   \n",
              "...                                 ...                       ...   \n",
              "11/12/2013 18:16                     63                        23   \n",
              "11/12/2013 18:18                     64                        23   \n",
              "11/12/2013 18:19                     64                        22   \n",
              "11/12/2013 18:20                     64                        22   \n",
              "11/12/2013 18:21                     65                        22   \n",
              "\n",
              "                  Solar_Radiation_data_SQ            Wx         Wy   Day sin  \\\n",
              "Date_time_name                                                                 \n",
              "15/11/2013 9:44                 28.809721 -2.247640e+00   5.563103 -0.743145   \n",
              "15/11/2013 9:45                 28.809721  4.286264e-16   7.000000 -0.707107   \n",
              "15/11/2013 9:46                 28.827071  1.045869e+00  11.954336 -0.669131   \n",
              "15/11/2013 9:47                 28.930952  3.441459e+00   4.914912 -0.629320   \n",
              "15/11/2013 9:50                 28.982753  5.233596e-01   9.986295 -0.500000   \n",
              "...                                   ...           ...        ...       ...   \n",
              "11/12/2013 18:16                 6.480741 -1.102463e+01  -6.888950  0.743145   \n",
              "11/12/2013 18:18                 6.324555 -2.307028e+01  -6.615297  0.809017   \n",
              "11/12/2013 18:19                 6.244998 -9.428840e+00  -5.665419  0.838671   \n",
              "11/12/2013 18:20                 5.916080 -1.385641e+01  -8.000000  0.866025   \n",
              "11/12/2013 18:21                 5.744563 -1.134622e+01  -3.906818  0.891007   \n",
              "\n",
              "                   Day cos  Year sin  Year cos         pred  \n",
              "Date_time_name                                               \n",
              "15/11/2013 9:44   0.669131  0.125414 -0.992104  1018.933311  \n",
              "15/11/2013 9:45   0.707107  0.125272 -0.992122  1022.344314  \n",
              "15/11/2013 9:46   0.743145  0.125130 -0.992140  1020.367947  \n",
              "15/11/2013 9:47   0.777146  0.124987 -0.992158  1020.051228  \n",
              "15/11/2013 9:50   0.866025  0.124561 -0.992212  1024.965385  \n",
              "...                    ...       ...       ...          ...  \n",
              "11/12/2013 18:16  0.669131  0.622276 -0.782798   366.633066  \n",
              "11/12/2013 18:18  0.587785  0.622051 -0.782976   338.364264  \n",
              "11/12/2013 18:19  0.544639  0.621939 -0.783066   290.103575  \n",
              "11/12/2013 18:20  0.500000  0.621827 -0.783155   245.015481  \n",
              "11/12/2013 18:21  0.453990  0.621715 -0.783244   205.648147  \n",
              "\n",
              "[5803 rows x 13 columns]"
            ],
            "text/html": [
              "\n",
              "  <div id=\"df-abc3c1b3-978f-4724-bc2f-403726429416\">\n",
              "    <div class=\"colab-df-container\">\n",
              "      <div>\n",
              "<style scoped>\n",
              "    .dataframe tbody tr th:only-of-type {\n",
              "        vertical-align: middle;\n",
              "    }\n",
              "\n",
              "    .dataframe tbody tr th {\n",
              "        vertical-align: top;\n",
              "    }\n",
              "\n",
              "    .dataframe thead th {\n",
              "        text-align: right;\n",
              "    }\n",
              "</style>\n",
              "<table border=\"1\" class=\"dataframe\">\n",
              "  <thead>\n",
              "    <tr style=\"text-align: right;\">\n",
              "      <th></th>\n",
              "      <th>TS1_P1_data</th>\n",
              "      <th>TS1_SENS0700_TmpMdul_C_data</th>\n",
              "      <th>Barometer_data</th>\n",
              "      <th>Outside_Humidity_data</th>\n",
              "      <th>Outside_Temperature_data</th>\n",
              "      <th>Solar_Radiation_data_SQ</th>\n",
              "      <th>Wx</th>\n",
              "      <th>Wy</th>\n",
              "      <th>Day sin</th>\n",
              "      <th>Day cos</th>\n",
              "      <th>Year sin</th>\n",
              "      <th>Year cos</th>\n",
              "      <th>pred</th>\n",
              "    </tr>\n",
              "    <tr>\n",
              "      <th>Date_time_name</th>\n",
              "      <th></th>\n",
              "      <th></th>\n",
              "      <th></th>\n",
              "      <th></th>\n",
              "      <th></th>\n",
              "      <th></th>\n",
              "      <th></th>\n",
              "      <th></th>\n",
              "      <th></th>\n",
              "      <th></th>\n",
              "      <th></th>\n",
              "      <th></th>\n",
              "      <th></th>\n",
              "    </tr>\n",
              "  </thead>\n",
              "  <tbody>\n",
              "    <tr>\n",
              "      <th>15/11/2013 9:44</th>\n",
              "      <td>1126</td>\n",
              "      <td>47</td>\n",
              "      <td>1015</td>\n",
              "      <td>37</td>\n",
              "      <td>25</td>\n",
              "      <td>28.809721</td>\n",
              "      <td>-2.247640e+00</td>\n",
              "      <td>5.563103</td>\n",
              "      <td>-0.743145</td>\n",
              "      <td>0.669131</td>\n",
              "      <td>0.125414</td>\n",
              "      <td>-0.992104</td>\n",
              "      <td>1018.933311</td>\n",
              "    </tr>\n",
              "    <tr>\n",
              "      <th>15/11/2013 9:45</th>\n",
              "      <td>1124</td>\n",
              "      <td>46</td>\n",
              "      <td>1015</td>\n",
              "      <td>37</td>\n",
              "      <td>25</td>\n",
              "      <td>28.809721</td>\n",
              "      <td>4.286264e-16</td>\n",
              "      <td>7.000000</td>\n",
              "      <td>-0.707107</td>\n",
              "      <td>0.707107</td>\n",
              "      <td>0.125272</td>\n",
              "      <td>-0.992122</td>\n",
              "      <td>1022.344314</td>\n",
              "    </tr>\n",
              "    <tr>\n",
              "      <th>15/11/2013 9:46</th>\n",
              "      <td>1123</td>\n",
              "      <td>47</td>\n",
              "      <td>1015</td>\n",
              "      <td>37</td>\n",
              "      <td>25</td>\n",
              "      <td>28.827071</td>\n",
              "      <td>1.045869e+00</td>\n",
              "      <td>11.954336</td>\n",
              "      <td>-0.669131</td>\n",
              "      <td>0.743145</td>\n",
              "      <td>0.125130</td>\n",
              "      <td>-0.992140</td>\n",
              "      <td>1020.367947</td>\n",
              "    </tr>\n",
              "    <tr>\n",
              "      <th>15/11/2013 9:47</th>\n",
              "      <td>1128</td>\n",
              "      <td>46</td>\n",
              "      <td>1015</td>\n",
              "      <td>37</td>\n",
              "      <td>25</td>\n",
              "      <td>28.930952</td>\n",
              "      <td>3.441459e+00</td>\n",
              "      <td>4.914912</td>\n",
              "      <td>-0.629320</td>\n",
              "      <td>0.777146</td>\n",
              "      <td>0.124987</td>\n",
              "      <td>-0.992158</td>\n",
              "      <td>1020.051228</td>\n",
              "    </tr>\n",
              "    <tr>\n",
              "      <th>15/11/2013 9:50</th>\n",
              "      <td>1142</td>\n",
              "      <td>46</td>\n",
              "      <td>1015</td>\n",
              "      <td>34</td>\n",
              "      <td>25</td>\n",
              "      <td>28.982753</td>\n",
              "      <td>5.233596e-01</td>\n",
              "      <td>9.986295</td>\n",
              "      <td>-0.500000</td>\n",
              "      <td>0.866025</td>\n",
              "      <td>0.124561</td>\n",
              "      <td>-0.992212</td>\n",
              "      <td>1024.965385</td>\n",
              "    </tr>\n",
              "    <tr>\n",
              "      <th>...</th>\n",
              "      <td>...</td>\n",
              "      <td>...</td>\n",
              "      <td>...</td>\n",
              "      <td>...</td>\n",
              "      <td>...</td>\n",
              "      <td>...</td>\n",
              "      <td>...</td>\n",
              "      <td>...</td>\n",
              "      <td>...</td>\n",
              "      <td>...</td>\n",
              "      <td>...</td>\n",
              "      <td>...</td>\n",
              "      <td>...</td>\n",
              "    </tr>\n",
              "    <tr>\n",
              "      <th>11/12/2013 18:16</th>\n",
              "      <td>309</td>\n",
              "      <td>29</td>\n",
              "      <td>1010</td>\n",
              "      <td>63</td>\n",
              "      <td>23</td>\n",
              "      <td>6.480741</td>\n",
              "      <td>-1.102463e+01</td>\n",
              "      <td>-6.888950</td>\n",
              "      <td>0.743145</td>\n",
              "      <td>0.669131</td>\n",
              "      <td>0.622276</td>\n",
              "      <td>-0.782798</td>\n",
              "      <td>366.633066</td>\n",
              "    </tr>\n",
              "    <tr>\n",
              "      <th>11/12/2013 18:18</th>\n",
              "      <td>237</td>\n",
              "      <td>29</td>\n",
              "      <td>1010</td>\n",
              "      <td>64</td>\n",
              "      <td>23</td>\n",
              "      <td>6.324555</td>\n",
              "      <td>-2.307028e+01</td>\n",
              "      <td>-6.615297</td>\n",
              "      <td>0.809017</td>\n",
              "      <td>0.587785</td>\n",
              "      <td>0.622051</td>\n",
              "      <td>-0.782976</td>\n",
              "      <td>338.364264</td>\n",
              "    </tr>\n",
              "    <tr>\n",
              "      <th>11/12/2013 18:19</th>\n",
              "      <td>176</td>\n",
              "      <td>28</td>\n",
              "      <td>1010</td>\n",
              "      <td>64</td>\n",
              "      <td>22</td>\n",
              "      <td>6.244998</td>\n",
              "      <td>-9.428840e+00</td>\n",
              "      <td>-5.665419</td>\n",
              "      <td>0.838671</td>\n",
              "      <td>0.544639</td>\n",
              "      <td>0.621939</td>\n",
              "      <td>-0.783066</td>\n",
              "      <td>290.103575</td>\n",
              "    </tr>\n",
              "    <tr>\n",
              "      <th>11/12/2013 18:20</th>\n",
              "      <td>120</td>\n",
              "      <td>28</td>\n",
              "      <td>1010</td>\n",
              "      <td>64</td>\n",
              "      <td>22</td>\n",
              "      <td>5.916080</td>\n",
              "      <td>-1.385641e+01</td>\n",
              "      <td>-8.000000</td>\n",
              "      <td>0.866025</td>\n",
              "      <td>0.500000</td>\n",
              "      <td>0.621827</td>\n",
              "      <td>-0.783155</td>\n",
              "      <td>245.015481</td>\n",
              "    </tr>\n",
              "    <tr>\n",
              "      <th>11/12/2013 18:21</th>\n",
              "      <td>115</td>\n",
              "      <td>28</td>\n",
              "      <td>1010</td>\n",
              "      <td>65</td>\n",
              "      <td>22</td>\n",
              "      <td>5.744563</td>\n",
              "      <td>-1.134622e+01</td>\n",
              "      <td>-3.906818</td>\n",
              "      <td>0.891007</td>\n",
              "      <td>0.453990</td>\n",
              "      <td>0.621715</td>\n",
              "      <td>-0.783244</td>\n",
              "      <td>205.648147</td>\n",
              "    </tr>\n",
              "  </tbody>\n",
              "</table>\n",
              "<p>5803 rows × 13 columns</p>\n",
              "</div>\n",
              "      <button class=\"colab-df-convert\" onclick=\"convertToInteractive('df-abc3c1b3-978f-4724-bc2f-403726429416')\"\n",
              "              title=\"Convert this dataframe to an interactive table.\"\n",
              "              style=\"display:none;\">\n",
              "        \n",
              "  <svg xmlns=\"http://www.w3.org/2000/svg\" height=\"24px\"viewBox=\"0 0 24 24\"\n",
              "       width=\"24px\">\n",
              "    <path d=\"M0 0h24v24H0V0z\" fill=\"none\"/>\n",
              "    <path d=\"M18.56 5.44l.94 2.06.94-2.06 2.06-.94-2.06-.94-.94-2.06-.94 2.06-2.06.94zm-11 1L8.5 8.5l.94-2.06 2.06-.94-2.06-.94L8.5 2.5l-.94 2.06-2.06.94zm10 10l.94 2.06.94-2.06 2.06-.94-2.06-.94-.94-2.06-.94 2.06-2.06.94z\"/><path d=\"M17.41 7.96l-1.37-1.37c-.4-.4-.92-.59-1.43-.59-.52 0-1.04.2-1.43.59L10.3 9.45l-7.72 7.72c-.78.78-.78 2.05 0 2.83L4 21.41c.39.39.9.59 1.41.59.51 0 1.02-.2 1.41-.59l7.78-7.78 2.81-2.81c.8-.78.8-2.07 0-2.86zM5.41 20L4 18.59l7.72-7.72 1.47 1.35L5.41 20z\"/>\n",
              "  </svg>\n",
              "      </button>\n",
              "      \n",
              "  <style>\n",
              "    .colab-df-container {\n",
              "      display:flex;\n",
              "      flex-wrap:wrap;\n",
              "      gap: 12px;\n",
              "    }\n",
              "\n",
              "    .colab-df-convert {\n",
              "      background-color: #E8F0FE;\n",
              "      border: none;\n",
              "      border-radius: 50%;\n",
              "      cursor: pointer;\n",
              "      display: none;\n",
              "      fill: #1967D2;\n",
              "      height: 32px;\n",
              "      padding: 0 0 0 0;\n",
              "      width: 32px;\n",
              "    }\n",
              "\n",
              "    .colab-df-convert:hover {\n",
              "      background-color: #E2EBFA;\n",
              "      box-shadow: 0px 1px 2px rgba(60, 64, 67, 0.3), 0px 1px 3px 1px rgba(60, 64, 67, 0.15);\n",
              "      fill: #174EA6;\n",
              "    }\n",
              "\n",
              "    [theme=dark] .colab-df-convert {\n",
              "      background-color: #3B4455;\n",
              "      fill: #D2E3FC;\n",
              "    }\n",
              "\n",
              "    [theme=dark] .colab-df-convert:hover {\n",
              "      background-color: #434B5C;\n",
              "      box-shadow: 0px 1px 3px 1px rgba(0, 0, 0, 0.15);\n",
              "      filter: drop-shadow(0px 1px 2px rgba(0, 0, 0, 0.3));\n",
              "      fill: #FFFFFF;\n",
              "    }\n",
              "  </style>\n",
              "\n",
              "      <script>\n",
              "        const buttonEl =\n",
              "          document.querySelector('#df-abc3c1b3-978f-4724-bc2f-403726429416 button.colab-df-convert');\n",
              "        buttonEl.style.display =\n",
              "          google.colab.kernel.accessAllowed ? 'block' : 'none';\n",
              "\n",
              "        async function convertToInteractive(key) {\n",
              "          const element = document.querySelector('#df-abc3c1b3-978f-4724-bc2f-403726429416');\n",
              "          const dataTable =\n",
              "            await google.colab.kernel.invokeFunction('convertToInteractive',\n",
              "                                                     [key], {});\n",
              "          if (!dataTable) return;\n",
              "\n",
              "          const docLinkHtml = 'Like what you see? Visit the ' +\n",
              "            '<a target=\"_blank\" href=https://colab.research.google.com/notebooks/data_table.ipynb>data table notebook</a>'\n",
              "            + ' to learn more about interactive tables.';\n",
              "          element.innerHTML = '';\n",
              "          dataTable['output_type'] = 'display_data';\n",
              "          await google.colab.output.renderOutput(dataTable, element);\n",
              "          const docLink = document.createElement('div');\n",
              "          docLink.innerHTML = docLinkHtml;\n",
              "          element.appendChild(docLink);\n",
              "        }\n",
              "      </script>\n",
              "    </div>\n",
              "  </div>\n",
              "  "
            ]
          },
          "metadata": {},
          "execution_count": 85
        }
      ],
      "source": [
        "df_finalSP"
      ]
    },
    {
      "cell_type": "code",
      "execution_count": 86,
      "metadata": {
        "id": "5Vhv5aktPyss"
      },
      "outputs": [],
      "source": [
        "y_pred=df_finalSP['pred']\n",
        "y_test=df_finalSP['TS1_P1_data']"
      ]
    },
    {
      "cell_type": "code",
      "execution_count": 87,
      "metadata": {
        "id": "fp3gExTaWCho",
        "colab": {
          "base_uri": "https://localhost:8080/"
        },
        "outputId": "d245d121-31f9-4708-bdd6-22e1410e6763"
      },
      "outputs": [
        {
          "output_type": "stream",
          "name": "stdout",
          "text": [
            "Mean Absolute Error: 120.4472\n",
            "Root Mean Square Error: 160.8723\n",
            "Root Mean Square Error_LOG: 5.0806\n",
            "Mean Square Error: 25879.9121\n",
            "r_2 score:0.8119\n",
            "MAPE score:40.4737\n",
            "\n"
          ]
        }
      ],
      "source": [
        "from sklearn.metrics import mean_absolute_error\n",
        "from sklearn.metrics import mean_squared_error\n",
        "from sklearn.metrics import r2_score\n",
        "\n",
        "def MAPE(Y_actual,Y_Predicted):\n",
        "  mape = np.mean(np.abs((Y_actual - Y_Predicted)/Y_actual))*100\n",
        "  return mape\n",
        "\n",
        "\n",
        "#def EV_prediction(y_test,y_pred):\n",
        "MSE=mean_squared_error(y_test,y_pred)\n",
        "MAE=mean_absolute_error(y_test,y_pred)\n",
        "RMSE=np.sqrt(mean_squared_error(y_test,y_pred))\n",
        "RMSELOG=np.log(np.sqrt(mean_squared_error(y_test,y_pred)))\n",
        "R2 = r2_score(y_test,y_pred)\n",
        "MAPE=np.mean(np.abs((y_test - y_pred)/y_test))*100\n",
        "print('Mean Absolute Error: {:.4f}'.format(MAE))\n",
        "print('Root Mean Square Error: {:.4f}'.format(RMSE))\n",
        "print('Root Mean Square Error_LOG: {:.4f}'.format(RMSELOG))\n",
        "print('Mean Square Error: {:.4f}'.format(MSE))\n",
        "print('r_2 score:{:.4f}'.format(R2))\n",
        "print('MAPE score:{:.4f}'.format(MAPE))\n",
        "print('')\n",
        "\n",
        "#EV_prediction(pred, power)"
      ]
    },
    {
      "cell_type": "markdown",
      "source": [
        "**Autumn-BiLSTM**\n",
        "---"
      ],
      "metadata": {
        "id": "xxHRBDLF7oOh"
      }
    },
    {
      "cell_type": "code",
      "source": [
        "dfAutumn"
      ],
      "metadata": {
        "colab": {
          "base_uri": "https://localhost:8080/",
          "height": 499
        },
        "id": "hMCXLDhJ7nRa",
        "outputId": "4898876c-cf40-4d6e-edbc-32068eddfd70"
      },
      "execution_count": 88,
      "outputs": [
        {
          "output_type": "execute_result",
          "data": {
            "text/plain": [
              "                 TS1_P1_data  TS1_SENS0700_TmpMdul_C_data  Barometer_data  \\\n",
              "Date_time_name                                                              \n",
              "3/1/2013 12:31          1149                           51            1006   \n",
              "3/1/2013 12:32          1148                           51            1006   \n",
              "3/1/2013 12:33          1150                           51            1006   \n",
              "3/1/2013 12:37          1144                           51            1006   \n",
              "3/1/2013 12:38          1149                           52            1006   \n",
              "...                      ...                          ...             ...   \n",
              "5/12/2013 16:12           87                           24            1029   \n",
              "5/12/2013 16:13           68                           24            1029   \n",
              "5/12/2013 16:14           62                           24            1029   \n",
              "5/12/2013 16:15           56                           24            1029   \n",
              "5/12/2013 16:16           53                           24            1029   \n",
              "\n",
              "                 Outside_Humidity_data  Outside_Temperature_data  \\\n",
              "Date_time_name                                                     \n",
              "3/1/2013 12:31                      31                        30   \n",
              "3/1/2013 12:32                      32                        31   \n",
              "3/1/2013 12:33                      31                        31   \n",
              "3/1/2013 12:37                      32                        31   \n",
              "3/1/2013 12:38                      32                        31   \n",
              "...                                ...                       ...   \n",
              "5/12/2013 16:12                     59                        19   \n",
              "5/12/2013 16:13                     59                        19   \n",
              "5/12/2013 16:14                     59                        19   \n",
              "5/12/2013 16:15                     59                        19   \n",
              "5/12/2013 16:16                     59                        19   \n",
              "\n",
              "                 Solar_Radiation_data_SQ         Wx         Wy   Day sin  \\\n",
              "Date_time_name                                                             \n",
              "3/1/2013 12:31                 29.580399   0.958713  10.958142  0.998630   \n",
              "3/1/2013 12:32                 29.647934   6.180457  10.286008  0.994522   \n",
              "3/1/2013 12:33                 29.647934   4.446262  12.216004  0.987688   \n",
              "3/1/2013 12:37                 29.698485   5.663884   6.994314  0.933580   \n",
              "3/1/2013 12:38                 29.614186  11.412678   3.708204  0.913545   \n",
              "...                                  ...        ...        ...       ...   \n",
              "5/12/2013 16:12                 9.380832  -2.440420   5.481273  0.587785   \n",
              "5/12/2013 16:13                 9.000000  -4.085914   8.019059  0.629320   \n",
              "5/12/2013 16:14                 8.774964  -2.816829   5.297686  0.669131   \n",
              "5/12/2013 16:15                 8.602325  -1.361971   2.673020  0.707107   \n",
              "5/12/2013 16:16                 8.366600  -2.113091   4.531539  0.743145   \n",
              "\n",
              "                  Day cos  Year sin  Year cos  \n",
              "Date_time_name                                 \n",
              "3/1/2013 12:31  -0.052336 -0.160267  0.987074  \n",
              "3/1/2013 12:32  -0.104528 -0.160125  0.987097  \n",
              "3/1/2013 12:33  -0.156434 -0.159984  0.987120  \n",
              "3/1/2013 12:37  -0.358368 -0.159417  0.987211  \n",
              "3/1/2013 12:38  -0.406737 -0.159276  0.987234  \n",
              "...                   ...       ...       ...  \n",
              "5/12/2013 16:12  0.809017  0.827164 -0.561960  \n",
              "5/12/2013 16:13  0.777146  0.827084 -0.562079  \n",
              "5/12/2013 16:14  0.743145  0.827003 -0.562197  \n",
              "5/12/2013 16:15  0.707107  0.826923 -0.562316  \n",
              "5/12/2013 16:16  0.669131  0.826842 -0.562434  \n",
              "\n",
              "[36423 rows x 12 columns]"
            ],
            "text/html": [
              "\n",
              "  <div id=\"df-6fa4d57b-c633-4c1b-832e-d0397b5c2175\">\n",
              "    <div class=\"colab-df-container\">\n",
              "      <div>\n",
              "<style scoped>\n",
              "    .dataframe tbody tr th:only-of-type {\n",
              "        vertical-align: middle;\n",
              "    }\n",
              "\n",
              "    .dataframe tbody tr th {\n",
              "        vertical-align: top;\n",
              "    }\n",
              "\n",
              "    .dataframe thead th {\n",
              "        text-align: right;\n",
              "    }\n",
              "</style>\n",
              "<table border=\"1\" class=\"dataframe\">\n",
              "  <thead>\n",
              "    <tr style=\"text-align: right;\">\n",
              "      <th></th>\n",
              "      <th>TS1_P1_data</th>\n",
              "      <th>TS1_SENS0700_TmpMdul_C_data</th>\n",
              "      <th>Barometer_data</th>\n",
              "      <th>Outside_Humidity_data</th>\n",
              "      <th>Outside_Temperature_data</th>\n",
              "      <th>Solar_Radiation_data_SQ</th>\n",
              "      <th>Wx</th>\n",
              "      <th>Wy</th>\n",
              "      <th>Day sin</th>\n",
              "      <th>Day cos</th>\n",
              "      <th>Year sin</th>\n",
              "      <th>Year cos</th>\n",
              "    </tr>\n",
              "    <tr>\n",
              "      <th>Date_time_name</th>\n",
              "      <th></th>\n",
              "      <th></th>\n",
              "      <th></th>\n",
              "      <th></th>\n",
              "      <th></th>\n",
              "      <th></th>\n",
              "      <th></th>\n",
              "      <th></th>\n",
              "      <th></th>\n",
              "      <th></th>\n",
              "      <th></th>\n",
              "      <th></th>\n",
              "    </tr>\n",
              "  </thead>\n",
              "  <tbody>\n",
              "    <tr>\n",
              "      <th>3/1/2013 12:31</th>\n",
              "      <td>1149</td>\n",
              "      <td>51</td>\n",
              "      <td>1006</td>\n",
              "      <td>31</td>\n",
              "      <td>30</td>\n",
              "      <td>29.580399</td>\n",
              "      <td>0.958713</td>\n",
              "      <td>10.958142</td>\n",
              "      <td>0.998630</td>\n",
              "      <td>-0.052336</td>\n",
              "      <td>-0.160267</td>\n",
              "      <td>0.987074</td>\n",
              "    </tr>\n",
              "    <tr>\n",
              "      <th>3/1/2013 12:32</th>\n",
              "      <td>1148</td>\n",
              "      <td>51</td>\n",
              "      <td>1006</td>\n",
              "      <td>32</td>\n",
              "      <td>31</td>\n",
              "      <td>29.647934</td>\n",
              "      <td>6.180457</td>\n",
              "      <td>10.286008</td>\n",
              "      <td>0.994522</td>\n",
              "      <td>-0.104528</td>\n",
              "      <td>-0.160125</td>\n",
              "      <td>0.987097</td>\n",
              "    </tr>\n",
              "    <tr>\n",
              "      <th>3/1/2013 12:33</th>\n",
              "      <td>1150</td>\n",
              "      <td>51</td>\n",
              "      <td>1006</td>\n",
              "      <td>31</td>\n",
              "      <td>31</td>\n",
              "      <td>29.647934</td>\n",
              "      <td>4.446262</td>\n",
              "      <td>12.216004</td>\n",
              "      <td>0.987688</td>\n",
              "      <td>-0.156434</td>\n",
              "      <td>-0.159984</td>\n",
              "      <td>0.987120</td>\n",
              "    </tr>\n",
              "    <tr>\n",
              "      <th>3/1/2013 12:37</th>\n",
              "      <td>1144</td>\n",
              "      <td>51</td>\n",
              "      <td>1006</td>\n",
              "      <td>32</td>\n",
              "      <td>31</td>\n",
              "      <td>29.698485</td>\n",
              "      <td>5.663884</td>\n",
              "      <td>6.994314</td>\n",
              "      <td>0.933580</td>\n",
              "      <td>-0.358368</td>\n",
              "      <td>-0.159417</td>\n",
              "      <td>0.987211</td>\n",
              "    </tr>\n",
              "    <tr>\n",
              "      <th>3/1/2013 12:38</th>\n",
              "      <td>1149</td>\n",
              "      <td>52</td>\n",
              "      <td>1006</td>\n",
              "      <td>32</td>\n",
              "      <td>31</td>\n",
              "      <td>29.614186</td>\n",
              "      <td>11.412678</td>\n",
              "      <td>3.708204</td>\n",
              "      <td>0.913545</td>\n",
              "      <td>-0.406737</td>\n",
              "      <td>-0.159276</td>\n",
              "      <td>0.987234</td>\n",
              "    </tr>\n",
              "    <tr>\n",
              "      <th>...</th>\n",
              "      <td>...</td>\n",
              "      <td>...</td>\n",
              "      <td>...</td>\n",
              "      <td>...</td>\n",
              "      <td>...</td>\n",
              "      <td>...</td>\n",
              "      <td>...</td>\n",
              "      <td>...</td>\n",
              "      <td>...</td>\n",
              "      <td>...</td>\n",
              "      <td>...</td>\n",
              "      <td>...</td>\n",
              "    </tr>\n",
              "    <tr>\n",
              "      <th>5/12/2013 16:12</th>\n",
              "      <td>87</td>\n",
              "      <td>24</td>\n",
              "      <td>1029</td>\n",
              "      <td>59</td>\n",
              "      <td>19</td>\n",
              "      <td>9.380832</td>\n",
              "      <td>-2.440420</td>\n",
              "      <td>5.481273</td>\n",
              "      <td>0.587785</td>\n",
              "      <td>0.809017</td>\n",
              "      <td>0.827164</td>\n",
              "      <td>-0.561960</td>\n",
              "    </tr>\n",
              "    <tr>\n",
              "      <th>5/12/2013 16:13</th>\n",
              "      <td>68</td>\n",
              "      <td>24</td>\n",
              "      <td>1029</td>\n",
              "      <td>59</td>\n",
              "      <td>19</td>\n",
              "      <td>9.000000</td>\n",
              "      <td>-4.085914</td>\n",
              "      <td>8.019059</td>\n",
              "      <td>0.629320</td>\n",
              "      <td>0.777146</td>\n",
              "      <td>0.827084</td>\n",
              "      <td>-0.562079</td>\n",
              "    </tr>\n",
              "    <tr>\n",
              "      <th>5/12/2013 16:14</th>\n",
              "      <td>62</td>\n",
              "      <td>24</td>\n",
              "      <td>1029</td>\n",
              "      <td>59</td>\n",
              "      <td>19</td>\n",
              "      <td>8.774964</td>\n",
              "      <td>-2.816829</td>\n",
              "      <td>5.297686</td>\n",
              "      <td>0.669131</td>\n",
              "      <td>0.743145</td>\n",
              "      <td>0.827003</td>\n",
              "      <td>-0.562197</td>\n",
              "    </tr>\n",
              "    <tr>\n",
              "      <th>5/12/2013 16:15</th>\n",
              "      <td>56</td>\n",
              "      <td>24</td>\n",
              "      <td>1029</td>\n",
              "      <td>59</td>\n",
              "      <td>19</td>\n",
              "      <td>8.602325</td>\n",
              "      <td>-1.361971</td>\n",
              "      <td>2.673020</td>\n",
              "      <td>0.707107</td>\n",
              "      <td>0.707107</td>\n",
              "      <td>0.826923</td>\n",
              "      <td>-0.562316</td>\n",
              "    </tr>\n",
              "    <tr>\n",
              "      <th>5/12/2013 16:16</th>\n",
              "      <td>53</td>\n",
              "      <td>24</td>\n",
              "      <td>1029</td>\n",
              "      <td>59</td>\n",
              "      <td>19</td>\n",
              "      <td>8.366600</td>\n",
              "      <td>-2.113091</td>\n",
              "      <td>4.531539</td>\n",
              "      <td>0.743145</td>\n",
              "      <td>0.669131</td>\n",
              "      <td>0.826842</td>\n",
              "      <td>-0.562434</td>\n",
              "    </tr>\n",
              "  </tbody>\n",
              "</table>\n",
              "<p>36423 rows × 12 columns</p>\n",
              "</div>\n",
              "      <button class=\"colab-df-convert\" onclick=\"convertToInteractive('df-6fa4d57b-c633-4c1b-832e-d0397b5c2175')\"\n",
              "              title=\"Convert this dataframe to an interactive table.\"\n",
              "              style=\"display:none;\">\n",
              "        \n",
              "  <svg xmlns=\"http://www.w3.org/2000/svg\" height=\"24px\"viewBox=\"0 0 24 24\"\n",
              "       width=\"24px\">\n",
              "    <path d=\"M0 0h24v24H0V0z\" fill=\"none\"/>\n",
              "    <path d=\"M18.56 5.44l.94 2.06.94-2.06 2.06-.94-2.06-.94-.94-2.06-.94 2.06-2.06.94zm-11 1L8.5 8.5l.94-2.06 2.06-.94-2.06-.94L8.5 2.5l-.94 2.06-2.06.94zm10 10l.94 2.06.94-2.06 2.06-.94-2.06-.94-.94-2.06-.94 2.06-2.06.94z\"/><path d=\"M17.41 7.96l-1.37-1.37c-.4-.4-.92-.59-1.43-.59-.52 0-1.04.2-1.43.59L10.3 9.45l-7.72 7.72c-.78.78-.78 2.05 0 2.83L4 21.41c.39.39.9.59 1.41.59.51 0 1.02-.2 1.41-.59l7.78-7.78 2.81-2.81c.8-.78.8-2.07 0-2.86zM5.41 20L4 18.59l7.72-7.72 1.47 1.35L5.41 20z\"/>\n",
              "  </svg>\n",
              "      </button>\n",
              "      \n",
              "  <style>\n",
              "    .colab-df-container {\n",
              "      display:flex;\n",
              "      flex-wrap:wrap;\n",
              "      gap: 12px;\n",
              "    }\n",
              "\n",
              "    .colab-df-convert {\n",
              "      background-color: #E8F0FE;\n",
              "      border: none;\n",
              "      border-radius: 50%;\n",
              "      cursor: pointer;\n",
              "      display: none;\n",
              "      fill: #1967D2;\n",
              "      height: 32px;\n",
              "      padding: 0 0 0 0;\n",
              "      width: 32px;\n",
              "    }\n",
              "\n",
              "    .colab-df-convert:hover {\n",
              "      background-color: #E2EBFA;\n",
              "      box-shadow: 0px 1px 2px rgba(60, 64, 67, 0.3), 0px 1px 3px 1px rgba(60, 64, 67, 0.15);\n",
              "      fill: #174EA6;\n",
              "    }\n",
              "\n",
              "    [theme=dark] .colab-df-convert {\n",
              "      background-color: #3B4455;\n",
              "      fill: #D2E3FC;\n",
              "    }\n",
              "\n",
              "    [theme=dark] .colab-df-convert:hover {\n",
              "      background-color: #434B5C;\n",
              "      box-shadow: 0px 1px 3px 1px rgba(0, 0, 0, 0.15);\n",
              "      filter: drop-shadow(0px 1px 2px rgba(0, 0, 0, 0.3));\n",
              "      fill: #FFFFFF;\n",
              "    }\n",
              "  </style>\n",
              "\n",
              "      <script>\n",
              "        const buttonEl =\n",
              "          document.querySelector('#df-6fa4d57b-c633-4c1b-832e-d0397b5c2175 button.colab-df-convert');\n",
              "        buttonEl.style.display =\n",
              "          google.colab.kernel.accessAllowed ? 'block' : 'none';\n",
              "\n",
              "        async function convertToInteractive(key) {\n",
              "          const element = document.querySelector('#df-6fa4d57b-c633-4c1b-832e-d0397b5c2175');\n",
              "          const dataTable =\n",
              "            await google.colab.kernel.invokeFunction('convertToInteractive',\n",
              "                                                     [key], {});\n",
              "          if (!dataTable) return;\n",
              "\n",
              "          const docLinkHtml = 'Like what you see? Visit the ' +\n",
              "            '<a target=\"_blank\" href=https://colab.research.google.com/notebooks/data_table.ipynb>data table notebook</a>'\n",
              "            + ' to learn more about interactive tables.';\n",
              "          element.innerHTML = '';\n",
              "          dataTable['output_type'] = 'display_data';\n",
              "          await google.colab.output.renderOutput(dataTable, element);\n",
              "          const docLink = document.createElement('div');\n",
              "          docLink.innerHTML = docLinkHtml;\n",
              "          element.appendChild(docLink);\n",
              "        }\n",
              "      </script>\n",
              "    </div>\n",
              "  </div>\n",
              "  "
            ]
          },
          "metadata": {},
          "execution_count": 88
        }
      ]
    },
    {
      "cell_type": "code",
      "source": [
        "scaler = MinMaxScaler()\n",
        "data_scaled_AU= scaler.fit_transform(dfAutumn)"
      ],
      "metadata": {
        "id": "HMjdeHiQ8GRa"
      },
      "execution_count": 89,
      "outputs": []
    },
    {
      "cell_type": "code",
      "source": [
        "data_scaled_AU"
      ],
      "metadata": {
        "colab": {
          "base_uri": "https://localhost:8080/"
        },
        "id": "xnWvt1B48Iuv",
        "outputId": "dc2516ee-4dea-49f3-d736-92982c3281c8"
      },
      "execution_count": 90,
      "outputs": [
        {
          "output_type": "execute_result",
          "data": {
            "text/plain": [
              "array([[0.99909008, 0.87755102, 0.14285714, ..., 0.47383202, 0.41986674,\n",
              "        0.99353689],\n",
              "       [0.99818016, 0.87755102, 0.14285714, ..., 0.44773577, 0.4199375 ,\n",
              "        0.99354837],\n",
              "       [1.        , 0.87755102, 0.14285714, ..., 0.42178277, 0.42000825,\n",
              "        0.99355984],\n",
              "       ...,\n",
              "       [0.0100091 , 0.32653061, 0.96428571, ..., 0.87157241, 0.91350159,\n",
              "        0.21890137],\n",
              "       [0.00454959, 0.32653061, 0.96428571, ..., 0.85355339, 0.91346128,\n",
              "        0.2188421 ],\n",
              "       [0.00181984, 0.32653061, 0.96428571, ..., 0.8345653 , 0.91342097,\n",
              "        0.21878283]])"
            ]
          },
          "metadata": {},
          "execution_count": 90
        }
      ]
    },
    {
      "cell_type": "code",
      "source": [
        "featuresAU=data_scaled_AU\n",
        "targetAU=data_scaled_AU[:,0]"
      ],
      "metadata": {
        "id": "o2s9eNjQ8Ixk"
      },
      "execution_count": 91,
      "outputs": []
    },
    {
      "cell_type": "code",
      "source": [
        "x_trainAU, x_testAU, y_trainAU, y_testAU = train_test_split(featuresAU, targetAU, test_size=0.20, random_state=123, shuffle = False)"
      ],
      "metadata": {
        "id": "cYPtg1ZH8I0H"
      },
      "execution_count": 92,
      "outputs": []
    },
    {
      "cell_type": "code",
      "source": [
        "x_trainAU.shape"
      ],
      "metadata": {
        "colab": {
          "base_uri": "https://localhost:8080/"
        },
        "id": "-cqXvxct8I2y",
        "outputId": "a0342dd4-63e7-43ba-e9dc-49580ad0b7ca"
      },
      "execution_count": 93,
      "outputs": [
        {
          "output_type": "execute_result",
          "data": {
            "text/plain": [
              "(29138, 12)"
            ]
          },
          "metadata": {},
          "execution_count": 93
        }
      ]
    },
    {
      "cell_type": "code",
      "source": [
        "x_testAU.shape"
      ],
      "metadata": {
        "colab": {
          "base_uri": "https://localhost:8080/"
        },
        "id": "IfeY6Doe8I5m",
        "outputId": "8a4144a6-ad8c-485e-98fe-3c8391ca26fd"
      },
      "execution_count": 94,
      "outputs": [
        {
          "output_type": "execute_result",
          "data": {
            "text/plain": [
              "(7285, 12)"
            ]
          },
          "metadata": {},
          "execution_count": 94
        }
      ]
    },
    {
      "cell_type": "code",
      "source": [
        "win_length=720\n",
        "batch_size=32\n",
        "num_features=12\n",
        "train_generatorAU = TimeseriesGenerator(x_trainAU, y_trainAU, length=win_length, sampling_rate=1, batch_size=batch_size)\n",
        "test_generatorAU = TimeseriesGenerator(x_testAU, y_testAU, length=win_length, sampling_rate=1, batch_size=batch_size)"
      ],
      "metadata": {
        "id": "BNJTasbq8I_i"
      },
      "execution_count": 95,
      "outputs": []
    },
    {
      "cell_type": "code",
      "source": [
        "from keras.regularizers import L1L2\n",
        "model = tf.keras.Sequential()\n",
        "model.add(Bidirectional(tf.keras.layers.LSTM(128, input_shape= (win_length, num_features), return_sequences=True)))#,kernel_regularizer = L1L2(l1=0.02, l2=0.00)))\n",
        "model.add(tf.keras.layers.LeakyReLU(alpha=0.5)) \n",
        "model.add(Bidirectional(tf.keras.layers.LSTM(128, return_sequences=True)))\n",
        "model.add(tf.keras.layers.LeakyReLU(alpha=0.5)) \n",
        "model.add(tf.keras.layers.Dropout(0.3)) \n",
        "model.add(Bidirectional(tf.keras.layers.LSTM(64, return_sequences=False)))\n",
        "model.add(tf.keras.layers.Dropout(0.3)) \n",
        "model.add(tf.keras.layers.Dense(1))"
      ],
      "metadata": {
        "id": "fbZE-vlJ_BUh"
      },
      "execution_count": 96,
      "outputs": []
    },
    {
      "cell_type": "code",
      "source": [
        "early_stopping = tf.keras.callbacks.EarlyStopping(monitor='val_loss',\n",
        "                                                    patience=2,\n",
        "                                                    mode='min')\n",
        "\n",
        "model.compile(loss=tf.losses.MeanSquaredError(),\n",
        "              optimizer=tf.optimizers.Adam(),\n",
        "              metrics=[tf.metrics.MAPE])\n",
        "\n",
        "history = model.fit_generator(train_generatorAU, epochs=3,\n",
        "                    validation_data=test_generatorAU,\n",
        "                    shuffle=False,\n",
        "                    callbacks=[early_stopping])"
      ],
      "metadata": {
        "colab": {
          "base_uri": "https://localhost:8080/"
        },
        "id": "MSof0oaW8Ylo",
        "outputId": "82ee7491-7ea6-46a1-ff0f-7f28f437cf41"
      },
      "execution_count": 97,
      "outputs": [
        {
          "output_type": "stream",
          "name": "stderr",
          "text": [
            "<ipython-input-97-0b0080588346>:9: UserWarning: `Model.fit_generator` is deprecated and will be removed in a future version. Please use `Model.fit`, which supports generators.\n",
            "  history = model.fit_generator(train_generatorAU, epochs=3,\n"
          ]
        },
        {
          "output_type": "stream",
          "name": "stdout",
          "text": [
            "Epoch 1/3\n",
            "889/889 [==============================] - 165s 175ms/step - loss: 0.0393 - mean_absolute_percentage_error: 133412.8594 - val_loss: 0.0354 - val_mean_absolute_percentage_error: 139580.1719\n",
            "Epoch 2/3\n",
            "889/889 [==============================] - 155s 174ms/step - loss: 0.0176 - mean_absolute_percentage_error: 82699.3594 - val_loss: 0.0346 - val_mean_absolute_percentage_error: 180679.6094\n",
            "Epoch 3/3\n",
            "889/889 [==============================] - 155s 175ms/step - loss: 0.0158 - mean_absolute_percentage_error: 78464.8359 - val_loss: 0.0333 - val_mean_absolute_percentage_error: 280174.5000\n"
          ]
        }
      ]
    },
    {
      "cell_type": "code",
      "source": [
        "model.evaluate_generator(test_generatorAU, verbose=0)  "
      ],
      "metadata": {
        "colab": {
          "base_uri": "https://localhost:8080/"
        },
        "id": "_ZPAS-eB8tHQ",
        "outputId": "fb3635b1-73b9-4427-f1e5-6c1cf40806ae"
      },
      "execution_count": 98,
      "outputs": [
        {
          "output_type": "stream",
          "name": "stderr",
          "text": [
            "<ipython-input-98-92c525540d53>:1: UserWarning: `Model.evaluate_generator` is deprecated and will be removed in a future version. Please use `Model.evaluate`, which supports generators.\n",
            "  model.evaluate_generator(test_generatorAU, verbose=0)\n"
          ]
        },
        {
          "output_type": "execute_result",
          "data": {
            "text/plain": [
              "[0.03330858796834946, 280174.5]"
            ]
          },
          "metadata": {},
          "execution_count": 98
        }
      ]
    },
    {
      "cell_type": "code",
      "source": [
        "predictionsAU=model.predict_generator(test_generatorAU)\n",
        "predictionsAU.shape[0]"
      ],
      "metadata": {
        "colab": {
          "base_uri": "https://localhost:8080/"
        },
        "id": "OeU1BJ5C8w-1",
        "outputId": "ea4e674d-687b-452c-d967-0013c23981d1"
      },
      "execution_count": 99,
      "outputs": [
        {
          "output_type": "stream",
          "name": "stderr",
          "text": [
            "<ipython-input-99-e1e865ec1f60>:1: UserWarning: `Model.predict_generator` is deprecated and will be removed in a future version. Please use `Model.predict`, which supports generators.\n",
            "  predictionsAU=model.predict_generator(test_generatorAU)\n"
          ]
        },
        {
          "output_type": "execute_result",
          "data": {
            "text/plain": [
              "6565"
            ]
          },
          "metadata": {},
          "execution_count": 99
        }
      ]
    },
    {
      "cell_type": "code",
      "source": [
        "predictionsAU"
      ],
      "metadata": {
        "colab": {
          "base_uri": "https://localhost:8080/"
        },
        "id": "w4WKaArDBFsx",
        "outputId": "c5e9895e-129b-4b7b-e70b-aee9ea1c2428"
      },
      "execution_count": 100,
      "outputs": [
        {
          "output_type": "execute_result",
          "data": {
            "text/plain": [
              "array([[ 0.71059895],\n",
              "       [ 0.700975  ],\n",
              "       [ 0.6915468 ],\n",
              "       ...,\n",
              "       [-0.17451456],\n",
              "       [-0.20608887],\n",
              "       [-0.21905959]], dtype=float32)"
            ]
          },
          "metadata": {},
          "execution_count": 100
        }
      ]
    },
    {
      "cell_type": "code",
      "source": [
        "y_testAU"
      ],
      "metadata": {
        "colab": {
          "base_uri": "https://localhost:8080/"
        },
        "id": "qTJJudM3BQ9h",
        "outputId": "d2fb2ec7-cf62-484b-c1a6-7fe1b4e6275e"
      },
      "execution_count": 101,
      "outputs": [
        {
          "output_type": "execute_result",
          "data": {
            "text/plain": [
              "array([0.29572338, 0.29390355, 0.29572338, ..., 0.0100091 , 0.00454959,\n",
              "       0.00181984])"
            ]
          },
          "metadata": {},
          "execution_count": 101
        }
      ]
    },
    {
      "cell_type": "code",
      "source": [
        "x_testAU"
      ],
      "metadata": {
        "colab": {
          "base_uri": "https://localhost:8080/"
        },
        "id": "_-0_lfLjBRAk",
        "outputId": "d451dbec-8385-48f4-8965-be1fe9dd4379"
      },
      "execution_count": 102,
      "outputs": [
        {
          "output_type": "execute_result",
          "data": {
            "text/plain": [
              "array([[2.95723385e-01, 4.89795918e-01, 3.57142857e-01, ...,\n",
              "        2.73905232e-03, 8.92017147e-01, 8.10358754e-01],\n",
              "       [2.93903549e-01, 4.89795918e-01, 3.57142857e-01, ...,\n",
              "        6.85232623e-04, 8.92061635e-01, 8.10302553e-01],\n",
              "       [2.95723385e-01, 4.89795918e-01, 3.57142857e-01, ...,\n",
              "        0.00000000e+00, 8.92106115e-01, 8.10246345e-01],\n",
              "       ...,\n",
              "       [1.00090992e-02, 3.26530612e-01, 9.64285714e-01, ...,\n",
              "        8.71572413e-01, 9.13501586e-01, 2.18901371e-01],\n",
              "       [4.54959054e-03, 3.26530612e-01, 9.64285714e-01, ...,\n",
              "        8.53553391e-01, 9.13461284e-01, 2.18842096e-01],\n",
              "       [1.81983621e-03, 3.26530612e-01, 9.64285714e-01, ...,\n",
              "        8.34565303e-01, 9.13420974e-01, 2.18782826e-01]])"
            ]
          },
          "metadata": {},
          "execution_count": 102
        }
      ]
    },
    {
      "cell_type": "code",
      "source": [
        "x_testAU[:,1:][win_length:]"
      ],
      "metadata": {
        "colab": {
          "base_uri": "https://localhost:8080/"
        },
        "id": "szM-OTaVBRDO",
        "outputId": "22d5cfca-0d62-4f9b-9a37-a10d38977dcc"
      },
      "execution_count": 103,
      "outputs": [
        {
          "output_type": "execute_result",
          "data": {
            "text/plain": [
              "array([[0.7755102 , 0.35714286, 0.35135135, ..., 0.9330127 , 0.94699391,\n",
              "        0.72404562],\n",
              "       [0.7755102 , 0.35714286, 0.31081081, ..., 0.94550326, 0.94702603,\n",
              "        0.72398154],\n",
              "       [0.7755102 , 0.35714286, 0.32432432, ..., 0.95677273, 0.94705813,\n",
              "        0.72391745],\n",
              "       ...,\n",
              "       [0.32653061, 0.96428571, 0.5       , ..., 0.87157241, 0.91350159,\n",
              "        0.21890137],\n",
              "       [0.32653061, 0.96428571, 0.5       , ..., 0.85355339, 0.91346128,\n",
              "        0.2188421 ],\n",
              "       [0.32653061, 0.96428571, 0.5       , ..., 0.8345653 , 0.91342097,\n",
              "        0.21878283]])"
            ]
          },
          "metadata": {},
          "execution_count": 103
        }
      ]
    },
    {
      "cell_type": "code",
      "source": [
        "df_predAU=pd.concat([pd.DataFrame(predictionsAU), pd.DataFrame(x_testAU[:,1:][win_length:])],axis=1)\n",
        "df_predAU"
      ],
      "metadata": {
        "colab": {
          "base_uri": "https://localhost:8080/",
          "height": 424
        },
        "id": "NrfJXIcEBRGD",
        "outputId": "6cdfc29e-da19-48dd-c78a-17c111590a14"
      },
      "execution_count": 104,
      "outputs": [
        {
          "output_type": "execute_result",
          "data": {
            "text/plain": [
              "            0         0         1         2         3         4         5   \\\n",
              "0     0.710599  0.775510  0.357143  0.351351  0.769231  0.591705  0.276105   \n",
              "1     0.700975  0.775510  0.357143  0.310811  0.769231  0.590281  0.280236   \n",
              "2     0.691547  0.775510  0.357143  0.324324  0.769231  0.588140  0.305681   \n",
              "3     0.690128  0.755102  0.357143  0.324324  0.769231  0.588140  0.296967   \n",
              "4     0.678762  0.755102  0.357143  0.324324  0.769231  0.584558  0.488799   \n",
              "...        ...       ...       ...       ...       ...       ...       ...   \n",
              "6560  0.021820  0.326531  0.964286  0.500000  0.423077  0.172152  0.452158   \n",
              "6561 -0.106085  0.326531  0.964286  0.500000  0.423077  0.159968  0.416634   \n",
              "6562 -0.174515  0.326531  0.964286  0.500000  0.423077  0.152769  0.444032   \n",
              "6563 -0.206089  0.326531  0.964286  0.500000  0.423077  0.147245  0.475440   \n",
              "6564 -0.219060  0.326531  0.964286  0.500000  0.423077  0.139703  0.459224   \n",
              "\n",
              "            6         7         8         9         10  \n",
              "0     0.257823  0.250000  0.933013  0.946994  0.724046  \n",
              "1     0.144916  0.273005  0.945503  0.947026  0.723982  \n",
              "2     0.247018  0.296632  0.956773  0.947058  0.723917  \n",
              "3     0.041800  0.320816  0.966790  0.947090  0.723853  \n",
              "4     0.407932  0.345492  0.975528  0.947122  0.723789  \n",
              "...        ...       ...       ...       ...       ...  \n",
              "6560  0.593897  0.793893  0.904508  0.913582  0.219020  \n",
              "6561  0.670630  0.814660  0.888573  0.913542  0.218961  \n",
              "6562  0.588346  0.834565  0.871572  0.913502  0.218901  \n",
              "6563  0.508986  0.853553  0.853553  0.913461  0.218842  \n",
              "6564  0.565181  0.871572  0.834565  0.913421  0.218783  \n",
              "\n",
              "[6565 rows x 12 columns]"
            ],
            "text/html": [
              "\n",
              "  <div id=\"df-0e0cf52c-3808-46a0-a22b-939ca48a154d\">\n",
              "    <div class=\"colab-df-container\">\n",
              "      <div>\n",
              "<style scoped>\n",
              "    .dataframe tbody tr th:only-of-type {\n",
              "        vertical-align: middle;\n",
              "    }\n",
              "\n",
              "    .dataframe tbody tr th {\n",
              "        vertical-align: top;\n",
              "    }\n",
              "\n",
              "    .dataframe thead th {\n",
              "        text-align: right;\n",
              "    }\n",
              "</style>\n",
              "<table border=\"1\" class=\"dataframe\">\n",
              "  <thead>\n",
              "    <tr style=\"text-align: right;\">\n",
              "      <th></th>\n",
              "      <th>0</th>\n",
              "      <th>0</th>\n",
              "      <th>1</th>\n",
              "      <th>2</th>\n",
              "      <th>3</th>\n",
              "      <th>4</th>\n",
              "      <th>5</th>\n",
              "      <th>6</th>\n",
              "      <th>7</th>\n",
              "      <th>8</th>\n",
              "      <th>9</th>\n",
              "      <th>10</th>\n",
              "    </tr>\n",
              "  </thead>\n",
              "  <tbody>\n",
              "    <tr>\n",
              "      <th>0</th>\n",
              "      <td>0.710599</td>\n",
              "      <td>0.775510</td>\n",
              "      <td>0.357143</td>\n",
              "      <td>0.351351</td>\n",
              "      <td>0.769231</td>\n",
              "      <td>0.591705</td>\n",
              "      <td>0.276105</td>\n",
              "      <td>0.257823</td>\n",
              "      <td>0.250000</td>\n",
              "      <td>0.933013</td>\n",
              "      <td>0.946994</td>\n",
              "      <td>0.724046</td>\n",
              "    </tr>\n",
              "    <tr>\n",
              "      <th>1</th>\n",
              "      <td>0.700975</td>\n",
              "      <td>0.775510</td>\n",
              "      <td>0.357143</td>\n",
              "      <td>0.310811</td>\n",
              "      <td>0.769231</td>\n",
              "      <td>0.590281</td>\n",
              "      <td>0.280236</td>\n",
              "      <td>0.144916</td>\n",
              "      <td>0.273005</td>\n",
              "      <td>0.945503</td>\n",
              "      <td>0.947026</td>\n",
              "      <td>0.723982</td>\n",
              "    </tr>\n",
              "    <tr>\n",
              "      <th>2</th>\n",
              "      <td>0.691547</td>\n",
              "      <td>0.775510</td>\n",
              "      <td>0.357143</td>\n",
              "      <td>0.324324</td>\n",
              "      <td>0.769231</td>\n",
              "      <td>0.588140</td>\n",
              "      <td>0.305681</td>\n",
              "      <td>0.247018</td>\n",
              "      <td>0.296632</td>\n",
              "      <td>0.956773</td>\n",
              "      <td>0.947058</td>\n",
              "      <td>0.723917</td>\n",
              "    </tr>\n",
              "    <tr>\n",
              "      <th>3</th>\n",
              "      <td>0.690128</td>\n",
              "      <td>0.755102</td>\n",
              "      <td>0.357143</td>\n",
              "      <td>0.324324</td>\n",
              "      <td>0.769231</td>\n",
              "      <td>0.588140</td>\n",
              "      <td>0.296967</td>\n",
              "      <td>0.041800</td>\n",
              "      <td>0.320816</td>\n",
              "      <td>0.966790</td>\n",
              "      <td>0.947090</td>\n",
              "      <td>0.723853</td>\n",
              "    </tr>\n",
              "    <tr>\n",
              "      <th>4</th>\n",
              "      <td>0.678762</td>\n",
              "      <td>0.755102</td>\n",
              "      <td>0.357143</td>\n",
              "      <td>0.324324</td>\n",
              "      <td>0.769231</td>\n",
              "      <td>0.584558</td>\n",
              "      <td>0.488799</td>\n",
              "      <td>0.407932</td>\n",
              "      <td>0.345492</td>\n",
              "      <td>0.975528</td>\n",
              "      <td>0.947122</td>\n",
              "      <td>0.723789</td>\n",
              "    </tr>\n",
              "    <tr>\n",
              "      <th>...</th>\n",
              "      <td>...</td>\n",
              "      <td>...</td>\n",
              "      <td>...</td>\n",
              "      <td>...</td>\n",
              "      <td>...</td>\n",
              "      <td>...</td>\n",
              "      <td>...</td>\n",
              "      <td>...</td>\n",
              "      <td>...</td>\n",
              "      <td>...</td>\n",
              "      <td>...</td>\n",
              "      <td>...</td>\n",
              "    </tr>\n",
              "    <tr>\n",
              "      <th>6560</th>\n",
              "      <td>0.021820</td>\n",
              "      <td>0.326531</td>\n",
              "      <td>0.964286</td>\n",
              "      <td>0.500000</td>\n",
              "      <td>0.423077</td>\n",
              "      <td>0.172152</td>\n",
              "      <td>0.452158</td>\n",
              "      <td>0.593897</td>\n",
              "      <td>0.793893</td>\n",
              "      <td>0.904508</td>\n",
              "      <td>0.913582</td>\n",
              "      <td>0.219020</td>\n",
              "    </tr>\n",
              "    <tr>\n",
              "      <th>6561</th>\n",
              "      <td>-0.106085</td>\n",
              "      <td>0.326531</td>\n",
              "      <td>0.964286</td>\n",
              "      <td>0.500000</td>\n",
              "      <td>0.423077</td>\n",
              "      <td>0.159968</td>\n",
              "      <td>0.416634</td>\n",
              "      <td>0.670630</td>\n",
              "      <td>0.814660</td>\n",
              "      <td>0.888573</td>\n",
              "      <td>0.913542</td>\n",
              "      <td>0.218961</td>\n",
              "    </tr>\n",
              "    <tr>\n",
              "      <th>6562</th>\n",
              "      <td>-0.174515</td>\n",
              "      <td>0.326531</td>\n",
              "      <td>0.964286</td>\n",
              "      <td>0.500000</td>\n",
              "      <td>0.423077</td>\n",
              "      <td>0.152769</td>\n",
              "      <td>0.444032</td>\n",
              "      <td>0.588346</td>\n",
              "      <td>0.834565</td>\n",
              "      <td>0.871572</td>\n",
              "      <td>0.913502</td>\n",
              "      <td>0.218901</td>\n",
              "    </tr>\n",
              "    <tr>\n",
              "      <th>6563</th>\n",
              "      <td>-0.206089</td>\n",
              "      <td>0.326531</td>\n",
              "      <td>0.964286</td>\n",
              "      <td>0.500000</td>\n",
              "      <td>0.423077</td>\n",
              "      <td>0.147245</td>\n",
              "      <td>0.475440</td>\n",
              "      <td>0.508986</td>\n",
              "      <td>0.853553</td>\n",
              "      <td>0.853553</td>\n",
              "      <td>0.913461</td>\n",
              "      <td>0.218842</td>\n",
              "    </tr>\n",
              "    <tr>\n",
              "      <th>6564</th>\n",
              "      <td>-0.219060</td>\n",
              "      <td>0.326531</td>\n",
              "      <td>0.964286</td>\n",
              "      <td>0.500000</td>\n",
              "      <td>0.423077</td>\n",
              "      <td>0.139703</td>\n",
              "      <td>0.459224</td>\n",
              "      <td>0.565181</td>\n",
              "      <td>0.871572</td>\n",
              "      <td>0.834565</td>\n",
              "      <td>0.913421</td>\n",
              "      <td>0.218783</td>\n",
              "    </tr>\n",
              "  </tbody>\n",
              "</table>\n",
              "<p>6565 rows × 12 columns</p>\n",
              "</div>\n",
              "      <button class=\"colab-df-convert\" onclick=\"convertToInteractive('df-0e0cf52c-3808-46a0-a22b-939ca48a154d')\"\n",
              "              title=\"Convert this dataframe to an interactive table.\"\n",
              "              style=\"display:none;\">\n",
              "        \n",
              "  <svg xmlns=\"http://www.w3.org/2000/svg\" height=\"24px\"viewBox=\"0 0 24 24\"\n",
              "       width=\"24px\">\n",
              "    <path d=\"M0 0h24v24H0V0z\" fill=\"none\"/>\n",
              "    <path d=\"M18.56 5.44l.94 2.06.94-2.06 2.06-.94-2.06-.94-.94-2.06-.94 2.06-2.06.94zm-11 1L8.5 8.5l.94-2.06 2.06-.94-2.06-.94L8.5 2.5l-.94 2.06-2.06.94zm10 10l.94 2.06.94-2.06 2.06-.94-2.06-.94-.94-2.06-.94 2.06-2.06.94z\"/><path d=\"M17.41 7.96l-1.37-1.37c-.4-.4-.92-.59-1.43-.59-.52 0-1.04.2-1.43.59L10.3 9.45l-7.72 7.72c-.78.78-.78 2.05 0 2.83L4 21.41c.39.39.9.59 1.41.59.51 0 1.02-.2 1.41-.59l7.78-7.78 2.81-2.81c.8-.78.8-2.07 0-2.86zM5.41 20L4 18.59l7.72-7.72 1.47 1.35L5.41 20z\"/>\n",
              "  </svg>\n",
              "      </button>\n",
              "      \n",
              "  <style>\n",
              "    .colab-df-container {\n",
              "      display:flex;\n",
              "      flex-wrap:wrap;\n",
              "      gap: 12px;\n",
              "    }\n",
              "\n",
              "    .colab-df-convert {\n",
              "      background-color: #E8F0FE;\n",
              "      border: none;\n",
              "      border-radius: 50%;\n",
              "      cursor: pointer;\n",
              "      display: none;\n",
              "      fill: #1967D2;\n",
              "      height: 32px;\n",
              "      padding: 0 0 0 0;\n",
              "      width: 32px;\n",
              "    }\n",
              "\n",
              "    .colab-df-convert:hover {\n",
              "      background-color: #E2EBFA;\n",
              "      box-shadow: 0px 1px 2px rgba(60, 64, 67, 0.3), 0px 1px 3px 1px rgba(60, 64, 67, 0.15);\n",
              "      fill: #174EA6;\n",
              "    }\n",
              "\n",
              "    [theme=dark] .colab-df-convert {\n",
              "      background-color: #3B4455;\n",
              "      fill: #D2E3FC;\n",
              "    }\n",
              "\n",
              "    [theme=dark] .colab-df-convert:hover {\n",
              "      background-color: #434B5C;\n",
              "      box-shadow: 0px 1px 3px 1px rgba(0, 0, 0, 0.15);\n",
              "      filter: drop-shadow(0px 1px 2px rgba(0, 0, 0, 0.3));\n",
              "      fill: #FFFFFF;\n",
              "    }\n",
              "  </style>\n",
              "\n",
              "      <script>\n",
              "        const buttonEl =\n",
              "          document.querySelector('#df-0e0cf52c-3808-46a0-a22b-939ca48a154d button.colab-df-convert');\n",
              "        buttonEl.style.display =\n",
              "          google.colab.kernel.accessAllowed ? 'block' : 'none';\n",
              "\n",
              "        async function convertToInteractive(key) {\n",
              "          const element = document.querySelector('#df-0e0cf52c-3808-46a0-a22b-939ca48a154d');\n",
              "          const dataTable =\n",
              "            await google.colab.kernel.invokeFunction('convertToInteractive',\n",
              "                                                     [key], {});\n",
              "          if (!dataTable) return;\n",
              "\n",
              "          const docLinkHtml = 'Like what you see? Visit the ' +\n",
              "            '<a target=\"_blank\" href=https://colab.research.google.com/notebooks/data_table.ipynb>data table notebook</a>'\n",
              "            + ' to learn more about interactive tables.';\n",
              "          element.innerHTML = '';\n",
              "          dataTable['output_type'] = 'display_data';\n",
              "          await google.colab.output.renderOutput(dataTable, element);\n",
              "          const docLink = document.createElement('div');\n",
              "          docLink.innerHTML = docLinkHtml;\n",
              "          element.appendChild(docLink);\n",
              "        }\n",
              "      </script>\n",
              "    </div>\n",
              "  </div>\n",
              "  "
            ]
          },
          "metadata": {},
          "execution_count": 104
        }
      ]
    },
    {
      "cell_type": "code",
      "source": [
        "\n",
        "rev_transAU=scaler.inverse_transform(df_predAU)\n",
        "rev_transAU"
      ],
      "metadata": {
        "colab": {
          "base_uri": "https://localhost:8080/"
        },
        "id": "z0o1r_43BRI9",
        "outputId": "bb290f75-0ede-47dd-ab65-7de9eb79d800"
      },
      "execution_count": 105,
      "outputs": [
        {
          "output_type": "execute_result",
          "data": {
            "text/plain": [
              "array([[ 8.31948241e+02,  4.60000000e+01,  1.01200000e+03, ...,\n",
              "         8.66025404e-01,  8.93987829e-01,  4.48091243e-01],\n",
              "       [ 8.21371526e+02,  4.60000000e+01,  1.01200000e+03, ...,\n",
              "         8.91006524e-01,  8.94052057e-01,  4.47963079e-01],\n",
              "       [ 8.11009931e+02,  4.60000000e+01,  1.01200000e+03, ...,\n",
              "         9.13545458e-01,  8.94116266e-01,  4.47834906e-01],\n",
              "       ...,\n",
              "       [-1.40791504e+02,  2.40000000e+01,  1.02900000e+03, ...,\n",
              "         7.43144825e-01,  8.27003171e-01, -5.62197256e-01],\n",
              "       [-1.75491669e+02,  2.40000000e+01,  1.02900000e+03, ...,\n",
              "         7.07106781e-01,  8.26922568e-01, -5.62315807e-01],\n",
              "       [-1.89746486e+02,  2.40000000e+01,  1.02900000e+03, ...,\n",
              "         6.69130606e-01,  8.26841948e-01, -5.62434346e-01]])"
            ]
          },
          "metadata": {},
          "execution_count": 105
        }
      ]
    },
    {
      "cell_type": "code",
      "source": [
        "predictionsAU.shape"
      ],
      "metadata": {
        "colab": {
          "base_uri": "https://localhost:8080/"
        },
        "id": "fQ2e7LwGBRQ7",
        "outputId": "ed8b73bd-6f30-4ce7-b0bc-0cdcdd4ef188"
      },
      "execution_count": 106,
      "outputs": [
        {
          "output_type": "execute_result",
          "data": {
            "text/plain": [
              "(6565, 1)"
            ]
          },
          "metadata": {},
          "execution_count": 106
        }
      ]
    },
    {
      "cell_type": "code",
      "source": [
        "\n",
        "df_finalAU=dfAutumn[predictionsAU.shape[0]*-1:]"
      ],
      "metadata": {
        "id": "OgMKJiK4BRmQ"
      },
      "execution_count": 107,
      "outputs": []
    },
    {
      "cell_type": "code",
      "source": [
        "\n",
        "df_finalAU.count()"
      ],
      "metadata": {
        "colab": {
          "base_uri": "https://localhost:8080/"
        },
        "id": "CVqOQ0fKBRpu",
        "outputId": "ff10e0ea-6dbd-4a94-f818-845360d8152a"
      },
      "execution_count": 108,
      "outputs": [
        {
          "output_type": "execute_result",
          "data": {
            "text/plain": [
              "TS1_P1_data                    6565\n",
              "TS1_SENS0700_TmpMdul_C_data    6565\n",
              "Barometer_data                 6565\n",
              "Outside_Humidity_data          6565\n",
              "Outside_Temperature_data       6565\n",
              "Solar_Radiation_data_SQ        6565\n",
              "Wx                             6565\n",
              "Wy                             6565\n",
              "Day sin                        6565\n",
              "Day cos                        6565\n",
              "Year sin                       6565\n",
              "Year cos                       6565\n",
              "dtype: int64"
            ]
          },
          "metadata": {},
          "execution_count": 108
        }
      ]
    },
    {
      "cell_type": "code",
      "source": [
        "\n",
        "df_finalAU['pred']=rev_transAU[:,0]"
      ],
      "metadata": {
        "colab": {
          "base_uri": "https://localhost:8080/"
        },
        "id": "7fFG40BlBaLh",
        "outputId": "186d2e15-6e85-4430-ea9f-1903fc072ab1"
      },
      "execution_count": 109,
      "outputs": [
        {
          "output_type": "stream",
          "name": "stderr",
          "text": [
            "<ipython-input-109-543f907333c9>:1: SettingWithCopyWarning: \n",
            "A value is trying to be set on a copy of a slice from a DataFrame.\n",
            "Try using .loc[row_indexer,col_indexer] = value instead\n",
            "\n",
            "See the caveats in the documentation: https://pandas.pydata.org/pandas-docs/stable/user_guide/indexing.html#returning-a-view-versus-a-copy\n",
            "  df_finalAU['pred']=rev_transAU[:,0]\n"
          ]
        }
      ]
    },
    {
      "cell_type": "code",
      "source": [
        "\n",
        "dd=df_finalAU[['TS1_P1_data','pred']]"
      ],
      "metadata": {
        "id": "l02FXXOEBaOn"
      },
      "execution_count": 110,
      "outputs": []
    },
    {
      "cell_type": "code",
      "source": [
        "\n",
        "df_finalAU.columns"
      ],
      "metadata": {
        "colab": {
          "base_uri": "https://localhost:8080/"
        },
        "id": "g3ndi18DBaRP",
        "outputId": "c0e2525f-822f-4580-d878-65a0ad8cca81"
      },
      "execution_count": 111,
      "outputs": [
        {
          "output_type": "execute_result",
          "data": {
            "text/plain": [
              "Index(['TS1_P1_data', 'TS1_SENS0700_TmpMdul_C_data', 'Barometer_data',\n",
              "       'Outside_Humidity_data', 'Outside_Temperature_data',\n",
              "       'Solar_Radiation_data_SQ', 'Wx', 'Wy', 'Day sin', 'Day cos', 'Year sin',\n",
              "       'Year cos', 'pred'],\n",
              "      dtype='object')"
            ]
          },
          "metadata": {},
          "execution_count": 111
        }
      ]
    },
    {
      "cell_type": "code",
      "source": [
        "df_finalAU"
      ],
      "metadata": {
        "colab": {
          "base_uri": "https://localhost:8080/",
          "height": 536
        },
        "id": "8KDEsXZfBaT7",
        "outputId": "f52f765e-6c91-4b73-c12a-2f85c165a4e6"
      },
      "execution_count": 112,
      "outputs": [
        {
          "output_type": "execute_result",
          "data": {
            "text/plain": [
              "                 TS1_P1_data  TS1_SENS0700_TmpMdul_C_data  Barometer_data  \\\n",
              "Date_time_name                                                              \n",
              "3/7/2013 15:50          1016                           46            1012   \n",
              "3/7/2013 15:51          1013                           46            1012   \n",
              "3/7/2013 15:52          1014                           46            1012   \n",
              "3/7/2013 15:53          1014                           45            1012   \n",
              "3/7/2013 15:54          1012                           45            1012   \n",
              "...                      ...                          ...             ...   \n",
              "5/12/2013 16:12           87                           24            1029   \n",
              "5/12/2013 16:13           68                           24            1029   \n",
              "5/12/2013 16:14           62                           24            1029   \n",
              "5/12/2013 16:15           56                           24            1029   \n",
              "5/12/2013 16:16           53                           24            1029   \n",
              "\n",
              "                 Outside_Humidity_data  Outside_Temperature_data  \\\n",
              "Date_time_name                                                     \n",
              "3/7/2013 15:50                      48                        28   \n",
              "3/7/2013 15:51                      45                        28   \n",
              "3/7/2013 15:52                      46                        28   \n",
              "3/7/2013 15:53                      46                        28   \n",
              "3/7/2013 15:54                      46                        28   \n",
              "...                                ...                       ...   \n",
              "5/12/2013 16:12                     59                        19   \n",
              "5/12/2013 16:13                     59                        19   \n",
              "5/12/2013 16:14                     59                        19   \n",
              "5/12/2013 16:15                     59                        19   \n",
              "5/12/2013 16:16                     59                        19   \n",
              "\n",
              "                 Solar_Radiation_data_SQ         Wx         Wy   Day sin  \\\n",
              "Date_time_name                                                             \n",
              "3/7/2013 15:50                 22.494444 -10.595371  -5.633659 -0.500000   \n",
              "3/7/2013 15:51                 22.449944 -10.404028  -9.367828 -0.453990   \n",
              "3/7/2013 15:52                 22.383029  -9.225376  -5.991029 -0.406737   \n",
              "3/7/2013 15:53                 22.383029  -9.629040 -12.778168 -0.358368   \n",
              "3/7/2013 15:54                 22.271057  -0.743145  -0.669131 -0.309017   \n",
              "...                                  ...        ...        ...       ...   \n",
              "5/12/2013 16:12                 9.380832  -2.440420   5.481273  0.587785   \n",
              "5/12/2013 16:13                 9.000000  -4.085914   8.019059  0.629320   \n",
              "5/12/2013 16:14                 8.774964  -2.816829   5.297686  0.669131   \n",
              "5/12/2013 16:15                 8.602325  -1.361971   2.673020  0.707107   \n",
              "5/12/2013 16:16                 8.366600  -2.113091   4.531539  0.743145   \n",
              "\n",
              "                  Day cos  Year sin  Year cos        pred  \n",
              "Date_time_name                                             \n",
              "3/7/2013 15:50   0.866025  0.893988  0.448091  831.948241  \n",
              "3/7/2013 15:51   0.891007  0.894052  0.447963  821.371526  \n",
              "3/7/2013 15:52   0.913545  0.894116  0.447835  811.009931  \n",
              "3/7/2013 15:53   0.933580  0.894180  0.447707  809.450834  \n",
              "3/7/2013 15:54   0.951057  0.894245  0.447579  796.959393  \n",
              "...                   ...       ...       ...         ...  \n",
              "5/12/2013 16:12  0.809017  0.827164 -0.561960   74.979944  \n",
              "5/12/2013 16:13  0.777146  0.827084 -0.562079  -65.587319  \n",
              "5/12/2013 16:14  0.743145  0.827003 -0.562197 -140.791504  \n",
              "5/12/2013 16:15  0.707107  0.826923 -0.562316 -175.491669  \n",
              "5/12/2013 16:16  0.669131  0.826842 -0.562434 -189.746486  \n",
              "\n",
              "[6565 rows x 13 columns]"
            ],
            "text/html": [
              "\n",
              "  <div id=\"df-2734c8b8-7542-4da3-8513-e3c6106b8969\">\n",
              "    <div class=\"colab-df-container\">\n",
              "      <div>\n",
              "<style scoped>\n",
              "    .dataframe tbody tr th:only-of-type {\n",
              "        vertical-align: middle;\n",
              "    }\n",
              "\n",
              "    .dataframe tbody tr th {\n",
              "        vertical-align: top;\n",
              "    }\n",
              "\n",
              "    .dataframe thead th {\n",
              "        text-align: right;\n",
              "    }\n",
              "</style>\n",
              "<table border=\"1\" class=\"dataframe\">\n",
              "  <thead>\n",
              "    <tr style=\"text-align: right;\">\n",
              "      <th></th>\n",
              "      <th>TS1_P1_data</th>\n",
              "      <th>TS1_SENS0700_TmpMdul_C_data</th>\n",
              "      <th>Barometer_data</th>\n",
              "      <th>Outside_Humidity_data</th>\n",
              "      <th>Outside_Temperature_data</th>\n",
              "      <th>Solar_Radiation_data_SQ</th>\n",
              "      <th>Wx</th>\n",
              "      <th>Wy</th>\n",
              "      <th>Day sin</th>\n",
              "      <th>Day cos</th>\n",
              "      <th>Year sin</th>\n",
              "      <th>Year cos</th>\n",
              "      <th>pred</th>\n",
              "    </tr>\n",
              "    <tr>\n",
              "      <th>Date_time_name</th>\n",
              "      <th></th>\n",
              "      <th></th>\n",
              "      <th></th>\n",
              "      <th></th>\n",
              "      <th></th>\n",
              "      <th></th>\n",
              "      <th></th>\n",
              "      <th></th>\n",
              "      <th></th>\n",
              "      <th></th>\n",
              "      <th></th>\n",
              "      <th></th>\n",
              "      <th></th>\n",
              "    </tr>\n",
              "  </thead>\n",
              "  <tbody>\n",
              "    <tr>\n",
              "      <th>3/7/2013 15:50</th>\n",
              "      <td>1016</td>\n",
              "      <td>46</td>\n",
              "      <td>1012</td>\n",
              "      <td>48</td>\n",
              "      <td>28</td>\n",
              "      <td>22.494444</td>\n",
              "      <td>-10.595371</td>\n",
              "      <td>-5.633659</td>\n",
              "      <td>-0.500000</td>\n",
              "      <td>0.866025</td>\n",
              "      <td>0.893988</td>\n",
              "      <td>0.448091</td>\n",
              "      <td>831.948241</td>\n",
              "    </tr>\n",
              "    <tr>\n",
              "      <th>3/7/2013 15:51</th>\n",
              "      <td>1013</td>\n",
              "      <td>46</td>\n",
              "      <td>1012</td>\n",
              "      <td>45</td>\n",
              "      <td>28</td>\n",
              "      <td>22.449944</td>\n",
              "      <td>-10.404028</td>\n",
              "      <td>-9.367828</td>\n",
              "      <td>-0.453990</td>\n",
              "      <td>0.891007</td>\n",
              "      <td>0.894052</td>\n",
              "      <td>0.447963</td>\n",
              "      <td>821.371526</td>\n",
              "    </tr>\n",
              "    <tr>\n",
              "      <th>3/7/2013 15:52</th>\n",
              "      <td>1014</td>\n",
              "      <td>46</td>\n",
              "      <td>1012</td>\n",
              "      <td>46</td>\n",
              "      <td>28</td>\n",
              "      <td>22.383029</td>\n",
              "      <td>-9.225376</td>\n",
              "      <td>-5.991029</td>\n",
              "      <td>-0.406737</td>\n",
              "      <td>0.913545</td>\n",
              "      <td>0.894116</td>\n",
              "      <td>0.447835</td>\n",
              "      <td>811.009931</td>\n",
              "    </tr>\n",
              "    <tr>\n",
              "      <th>3/7/2013 15:53</th>\n",
              "      <td>1014</td>\n",
              "      <td>45</td>\n",
              "      <td>1012</td>\n",
              "      <td>46</td>\n",
              "      <td>28</td>\n",
              "      <td>22.383029</td>\n",
              "      <td>-9.629040</td>\n",
              "      <td>-12.778168</td>\n",
              "      <td>-0.358368</td>\n",
              "      <td>0.933580</td>\n",
              "      <td>0.894180</td>\n",
              "      <td>0.447707</td>\n",
              "      <td>809.450834</td>\n",
              "    </tr>\n",
              "    <tr>\n",
              "      <th>3/7/2013 15:54</th>\n",
              "      <td>1012</td>\n",
              "      <td>45</td>\n",
              "      <td>1012</td>\n",
              "      <td>46</td>\n",
              "      <td>28</td>\n",
              "      <td>22.271057</td>\n",
              "      <td>-0.743145</td>\n",
              "      <td>-0.669131</td>\n",
              "      <td>-0.309017</td>\n",
              "      <td>0.951057</td>\n",
              "      <td>0.894245</td>\n",
              "      <td>0.447579</td>\n",
              "      <td>796.959393</td>\n",
              "    </tr>\n",
              "    <tr>\n",
              "      <th>...</th>\n",
              "      <td>...</td>\n",
              "      <td>...</td>\n",
              "      <td>...</td>\n",
              "      <td>...</td>\n",
              "      <td>...</td>\n",
              "      <td>...</td>\n",
              "      <td>...</td>\n",
              "      <td>...</td>\n",
              "      <td>...</td>\n",
              "      <td>...</td>\n",
              "      <td>...</td>\n",
              "      <td>...</td>\n",
              "      <td>...</td>\n",
              "    </tr>\n",
              "    <tr>\n",
              "      <th>5/12/2013 16:12</th>\n",
              "      <td>87</td>\n",
              "      <td>24</td>\n",
              "      <td>1029</td>\n",
              "      <td>59</td>\n",
              "      <td>19</td>\n",
              "      <td>9.380832</td>\n",
              "      <td>-2.440420</td>\n",
              "      <td>5.481273</td>\n",
              "      <td>0.587785</td>\n",
              "      <td>0.809017</td>\n",
              "      <td>0.827164</td>\n",
              "      <td>-0.561960</td>\n",
              "      <td>74.979944</td>\n",
              "    </tr>\n",
              "    <tr>\n",
              "      <th>5/12/2013 16:13</th>\n",
              "      <td>68</td>\n",
              "      <td>24</td>\n",
              "      <td>1029</td>\n",
              "      <td>59</td>\n",
              "      <td>19</td>\n",
              "      <td>9.000000</td>\n",
              "      <td>-4.085914</td>\n",
              "      <td>8.019059</td>\n",
              "      <td>0.629320</td>\n",
              "      <td>0.777146</td>\n",
              "      <td>0.827084</td>\n",
              "      <td>-0.562079</td>\n",
              "      <td>-65.587319</td>\n",
              "    </tr>\n",
              "    <tr>\n",
              "      <th>5/12/2013 16:14</th>\n",
              "      <td>62</td>\n",
              "      <td>24</td>\n",
              "      <td>1029</td>\n",
              "      <td>59</td>\n",
              "      <td>19</td>\n",
              "      <td>8.774964</td>\n",
              "      <td>-2.816829</td>\n",
              "      <td>5.297686</td>\n",
              "      <td>0.669131</td>\n",
              "      <td>0.743145</td>\n",
              "      <td>0.827003</td>\n",
              "      <td>-0.562197</td>\n",
              "      <td>-140.791504</td>\n",
              "    </tr>\n",
              "    <tr>\n",
              "      <th>5/12/2013 16:15</th>\n",
              "      <td>56</td>\n",
              "      <td>24</td>\n",
              "      <td>1029</td>\n",
              "      <td>59</td>\n",
              "      <td>19</td>\n",
              "      <td>8.602325</td>\n",
              "      <td>-1.361971</td>\n",
              "      <td>2.673020</td>\n",
              "      <td>0.707107</td>\n",
              "      <td>0.707107</td>\n",
              "      <td>0.826923</td>\n",
              "      <td>-0.562316</td>\n",
              "      <td>-175.491669</td>\n",
              "    </tr>\n",
              "    <tr>\n",
              "      <th>5/12/2013 16:16</th>\n",
              "      <td>53</td>\n",
              "      <td>24</td>\n",
              "      <td>1029</td>\n",
              "      <td>59</td>\n",
              "      <td>19</td>\n",
              "      <td>8.366600</td>\n",
              "      <td>-2.113091</td>\n",
              "      <td>4.531539</td>\n",
              "      <td>0.743145</td>\n",
              "      <td>0.669131</td>\n",
              "      <td>0.826842</td>\n",
              "      <td>-0.562434</td>\n",
              "      <td>-189.746486</td>\n",
              "    </tr>\n",
              "  </tbody>\n",
              "</table>\n",
              "<p>6565 rows × 13 columns</p>\n",
              "</div>\n",
              "      <button class=\"colab-df-convert\" onclick=\"convertToInteractive('df-2734c8b8-7542-4da3-8513-e3c6106b8969')\"\n",
              "              title=\"Convert this dataframe to an interactive table.\"\n",
              "              style=\"display:none;\">\n",
              "        \n",
              "  <svg xmlns=\"http://www.w3.org/2000/svg\" height=\"24px\"viewBox=\"0 0 24 24\"\n",
              "       width=\"24px\">\n",
              "    <path d=\"M0 0h24v24H0V0z\" fill=\"none\"/>\n",
              "    <path d=\"M18.56 5.44l.94 2.06.94-2.06 2.06-.94-2.06-.94-.94-2.06-.94 2.06-2.06.94zm-11 1L8.5 8.5l.94-2.06 2.06-.94-2.06-.94L8.5 2.5l-.94 2.06-2.06.94zm10 10l.94 2.06.94-2.06 2.06-.94-2.06-.94-.94-2.06-.94 2.06-2.06.94z\"/><path d=\"M17.41 7.96l-1.37-1.37c-.4-.4-.92-.59-1.43-.59-.52 0-1.04.2-1.43.59L10.3 9.45l-7.72 7.72c-.78.78-.78 2.05 0 2.83L4 21.41c.39.39.9.59 1.41.59.51 0 1.02-.2 1.41-.59l7.78-7.78 2.81-2.81c.8-.78.8-2.07 0-2.86zM5.41 20L4 18.59l7.72-7.72 1.47 1.35L5.41 20z\"/>\n",
              "  </svg>\n",
              "      </button>\n",
              "      \n",
              "  <style>\n",
              "    .colab-df-container {\n",
              "      display:flex;\n",
              "      flex-wrap:wrap;\n",
              "      gap: 12px;\n",
              "    }\n",
              "\n",
              "    .colab-df-convert {\n",
              "      background-color: #E8F0FE;\n",
              "      border: none;\n",
              "      border-radius: 50%;\n",
              "      cursor: pointer;\n",
              "      display: none;\n",
              "      fill: #1967D2;\n",
              "      height: 32px;\n",
              "      padding: 0 0 0 0;\n",
              "      width: 32px;\n",
              "    }\n",
              "\n",
              "    .colab-df-convert:hover {\n",
              "      background-color: #E2EBFA;\n",
              "      box-shadow: 0px 1px 2px rgba(60, 64, 67, 0.3), 0px 1px 3px 1px rgba(60, 64, 67, 0.15);\n",
              "      fill: #174EA6;\n",
              "    }\n",
              "\n",
              "    [theme=dark] .colab-df-convert {\n",
              "      background-color: #3B4455;\n",
              "      fill: #D2E3FC;\n",
              "    }\n",
              "\n",
              "    [theme=dark] .colab-df-convert:hover {\n",
              "      background-color: #434B5C;\n",
              "      box-shadow: 0px 1px 3px 1px rgba(0, 0, 0, 0.15);\n",
              "      filter: drop-shadow(0px 1px 2px rgba(0, 0, 0, 0.3));\n",
              "      fill: #FFFFFF;\n",
              "    }\n",
              "  </style>\n",
              "\n",
              "      <script>\n",
              "        const buttonEl =\n",
              "          document.querySelector('#df-2734c8b8-7542-4da3-8513-e3c6106b8969 button.colab-df-convert');\n",
              "        buttonEl.style.display =\n",
              "          google.colab.kernel.accessAllowed ? 'block' : 'none';\n",
              "\n",
              "        async function convertToInteractive(key) {\n",
              "          const element = document.querySelector('#df-2734c8b8-7542-4da3-8513-e3c6106b8969');\n",
              "          const dataTable =\n",
              "            await google.colab.kernel.invokeFunction('convertToInteractive',\n",
              "                                                     [key], {});\n",
              "          if (!dataTable) return;\n",
              "\n",
              "          const docLinkHtml = 'Like what you see? Visit the ' +\n",
              "            '<a target=\"_blank\" href=https://colab.research.google.com/notebooks/data_table.ipynb>data table notebook</a>'\n",
              "            + ' to learn more about interactive tables.';\n",
              "          element.innerHTML = '';\n",
              "          dataTable['output_type'] = 'display_data';\n",
              "          await google.colab.output.renderOutput(dataTable, element);\n",
              "          const docLink = document.createElement('div');\n",
              "          docLink.innerHTML = docLinkHtml;\n",
              "          element.appendChild(docLink);\n",
              "        }\n",
              "      </script>\n",
              "    </div>\n",
              "  </div>\n",
              "  "
            ]
          },
          "metadata": {},
          "execution_count": 112
        }
      ]
    },
    {
      "cell_type": "code",
      "source": [
        "\n",
        "y_pred=df_finalAU['pred']\n",
        "y_test=df_finalAU['TS1_P1_data']"
      ],
      "metadata": {
        "id": "EtBsKj9IBfFM"
      },
      "execution_count": 113,
      "outputs": []
    },
    {
      "cell_type": "code",
      "source": [
        "from sklearn.metrics import mean_absolute_error\n",
        "from sklearn.metrics import mean_squared_error\n",
        "from sklearn.metrics import r2_score\n",
        "\n",
        "def MAPE(Y_actual,Y_Predicted):\n",
        "  mape = np.mean(np.abs((Y_actual - Y_Predicted)/Y_actual))*100\n",
        "  return mape\n",
        "\n",
        "\n",
        "\n",
        "MSE=mean_squared_error(y_test,y_pred)\n",
        "MAE=mean_absolute_error(y_test,y_pred)\n",
        "RMSE=np.sqrt(mean_squared_error(y_test,y_pred))\n",
        "RMSELOG=np.log(np.sqrt(mean_squared_error(y_test,y_pred)))\n",
        "R2 = r2_score(y_test,y_pred)\n",
        "MAPE=np.mean(np.abs((y_test - y_pred)/y_test))*100\n",
        "print('Mean Absolute Error: {:.4f}'.format(MAE))\n",
        "print('Root Mean Square Error: {:.4f}'.format(RMSE))\n",
        "print('Root Mean Square Error_LOG: {:.4f}'.format(RMSELOG))\n",
        "print('Mean Square Error: {:.4f}'.format(MSE))\n",
        "print('r_2 score:{:.4f}'.format(R2))\n",
        "print('MAPE score:{:.4f}'.format(MAPE))\n",
        "print('')\n",
        "\n"
      ],
      "metadata": {
        "colab": {
          "base_uri": "https://localhost:8080/"
        },
        "id": "N3_gidEs8JCT",
        "outputId": "63388e5d-36f2-42bf-aa0b-e8b000372d85"
      },
      "execution_count": 114,
      "outputs": [
        {
          "output_type": "stream",
          "name": "stdout",
          "text": [
            "Mean Absolute Error: 171.0902\n",
            "Root Mean Square Error: 200.5745\n",
            "Root Mean Square Error_LOG: 5.3012\n",
            "Mean Square Error: 40230.1249\n",
            "r_2 score:0.6831\n",
            "MAPE score:54.2376\n",
            "\n"
          ]
        }
      ]
    },
    {
      "cell_type": "markdown",
      "source": [
        "**dfWinter GRU** \n",
        "---"
      ],
      "metadata": {
        "id": "h0S-bMuJ_Clz"
      }
    },
    {
      "cell_type": "code",
      "source": [
        "dfWinter"
      ],
      "metadata": {
        "id": "tcMKFJTJ6PAR",
        "colab": {
          "base_uri": "https://localhost:8080/",
          "height": 710
        },
        "outputId": "9dfb3a26-05e6-418b-9564-7d8679de52b4"
      },
      "execution_count": 115,
      "outputs": [
        {
          "output_type": "execute_result",
          "data": {
            "text/plain": [
              "                 TS1_P1_data  TS1_SENS0700_TmpMdul_C_data  Barometer_data  \\\n",
              "Date_time_name                                                              \n",
              "7/1/2013 12:00           912                           35            1025   \n",
              "7/1/2013 12:02           918                           35            1025   \n",
              "7/1/2013 12:03           921                           35            1025   \n",
              "7/1/2013 12:04           922                           35            1025   \n",
              "7/1/2013 12:05           921                           35            1025   \n",
              "...                      ...                          ...             ...   \n",
              "8/12/2013 17:06           69                           20            1017   \n",
              "8/12/2013 17:07           55                           20            1017   \n",
              "8/12/2013 17:08           52                           20            1017   \n",
              "8/12/2013 17:09           52                           19            1017   \n",
              "8/12/2013 17:10           53                           19            1017   \n",
              "\n",
              "                 Outside_Humidity_data  Outside_Temperature_data  \\\n",
              "Date_time_name                                                     \n",
              "7/1/2013 12:00                      38                        20   \n",
              "7/1/2013 12:02                      35                        20   \n",
              "7/1/2013 12:03                      35                        20   \n",
              "7/1/2013 12:04                      35                        20   \n",
              "7/1/2013 12:05                      35                        20   \n",
              "...                                ...                       ...   \n",
              "8/12/2013 17:06                     74                        17   \n",
              "8/12/2013 17:07                     74                        17   \n",
              "8/12/2013 17:08                     74                        17   \n",
              "8/12/2013 17:09                     74                        17   \n",
              "8/12/2013 17:10                     74                        17   \n",
              "\n",
              "                 Solar_Radiation_data         Wx        Wy       Day sin  \\\n",
              "Date_time_name                                                             \n",
              "7/1/2013 12:00                    519  12.715919  2.702852  3.983411e-11   \n",
              "7/1/2013 12:02                    519   6.847033  1.455382  1.045285e-01   \n",
              "7/1/2013 12:03                    519   8.651355  2.480736  1.564345e-01   \n",
              "7/1/2013 12:04                    519   5.437847  2.535710  2.079117e-01   \n",
              "7/1/2013 12:05                    519   7.372368  5.162188  2.588190e-01   \n",
              "...                               ...        ...       ...           ...   \n",
              "8/12/2013 17:06                    54   5.991029  9.225376 -3.090170e-01   \n",
              "8/12/2013 17:07                    53   2.205099  7.690094 -3.583679e-01   \n",
              "8/12/2013 17:08                    47   1.552914  5.795555 -4.067366e-01   \n",
              "8/12/2013 17:09                    46   3.775922  4.662876 -4.539905e-01   \n",
              "8/12/2013 17:10                    44   3.775922  4.662876 -5.000000e-01   \n",
              "\n",
              "                  Day cos  Year sin  Year cos  Solar_Radiation_data_SQ  \n",
              "Date_time_name                                                          \n",
              "7/1/2013 12:00   1.000000 -0.113038  0.993591                22.781571  \n",
              "7/1/2013 12:02   0.994522 -0.112753  0.993623                22.781571  \n",
              "7/1/2013 12:03   0.987688 -0.112611  0.993639                22.781571  \n",
              "7/1/2013 12:04   0.978148 -0.112468  0.993655                22.781571  \n",
              "7/1/2013 12:05   0.965926 -0.112326  0.993671                22.781571  \n",
              "...                   ...       ...       ...                      ...  \n",
              "8/12/2013 17:06 -0.951057  0.733863 -0.679297                 7.348469  \n",
              "8/12/2013 17:07 -0.933580  0.733766 -0.679403                 7.280110  \n",
              "8/12/2013 17:08 -0.913545  0.733668 -0.679508                 6.855655  \n",
              "8/12/2013 17:09 -0.891007  0.733571 -0.679613                 6.782330  \n",
              "8/12/2013 17:10 -0.866025  0.733473 -0.679718                 6.633250  \n",
              "\n",
              "[35661 rows x 13 columns]"
            ],
            "text/html": [
              "\n",
              "  <div id=\"df-93ebe0a0-60f1-4666-9c54-5d1c75f7d198\">\n",
              "    <div class=\"colab-df-container\">\n",
              "      <div>\n",
              "<style scoped>\n",
              "    .dataframe tbody tr th:only-of-type {\n",
              "        vertical-align: middle;\n",
              "    }\n",
              "\n",
              "    .dataframe tbody tr th {\n",
              "        vertical-align: top;\n",
              "    }\n",
              "\n",
              "    .dataframe thead th {\n",
              "        text-align: right;\n",
              "    }\n",
              "</style>\n",
              "<table border=\"1\" class=\"dataframe\">\n",
              "  <thead>\n",
              "    <tr style=\"text-align: right;\">\n",
              "      <th></th>\n",
              "      <th>TS1_P1_data</th>\n",
              "      <th>TS1_SENS0700_TmpMdul_C_data</th>\n",
              "      <th>Barometer_data</th>\n",
              "      <th>Outside_Humidity_data</th>\n",
              "      <th>Outside_Temperature_data</th>\n",
              "      <th>Solar_Radiation_data</th>\n",
              "      <th>Wx</th>\n",
              "      <th>Wy</th>\n",
              "      <th>Day sin</th>\n",
              "      <th>Day cos</th>\n",
              "      <th>Year sin</th>\n",
              "      <th>Year cos</th>\n",
              "      <th>Solar_Radiation_data_SQ</th>\n",
              "    </tr>\n",
              "    <tr>\n",
              "      <th>Date_time_name</th>\n",
              "      <th></th>\n",
              "      <th></th>\n",
              "      <th></th>\n",
              "      <th></th>\n",
              "      <th></th>\n",
              "      <th></th>\n",
              "      <th></th>\n",
              "      <th></th>\n",
              "      <th></th>\n",
              "      <th></th>\n",
              "      <th></th>\n",
              "      <th></th>\n",
              "      <th></th>\n",
              "    </tr>\n",
              "  </thead>\n",
              "  <tbody>\n",
              "    <tr>\n",
              "      <th>7/1/2013 12:00</th>\n",
              "      <td>912</td>\n",
              "      <td>35</td>\n",
              "      <td>1025</td>\n",
              "      <td>38</td>\n",
              "      <td>20</td>\n",
              "      <td>519</td>\n",
              "      <td>12.715919</td>\n",
              "      <td>2.702852</td>\n",
              "      <td>3.983411e-11</td>\n",
              "      <td>1.000000</td>\n",
              "      <td>-0.113038</td>\n",
              "      <td>0.993591</td>\n",
              "      <td>22.781571</td>\n",
              "    </tr>\n",
              "    <tr>\n",
              "      <th>7/1/2013 12:02</th>\n",
              "      <td>918</td>\n",
              "      <td>35</td>\n",
              "      <td>1025</td>\n",
              "      <td>35</td>\n",
              "      <td>20</td>\n",
              "      <td>519</td>\n",
              "      <td>6.847033</td>\n",
              "      <td>1.455382</td>\n",
              "      <td>1.045285e-01</td>\n",
              "      <td>0.994522</td>\n",
              "      <td>-0.112753</td>\n",
              "      <td>0.993623</td>\n",
              "      <td>22.781571</td>\n",
              "    </tr>\n",
              "    <tr>\n",
              "      <th>7/1/2013 12:03</th>\n",
              "      <td>921</td>\n",
              "      <td>35</td>\n",
              "      <td>1025</td>\n",
              "      <td>35</td>\n",
              "      <td>20</td>\n",
              "      <td>519</td>\n",
              "      <td>8.651355</td>\n",
              "      <td>2.480736</td>\n",
              "      <td>1.564345e-01</td>\n",
              "      <td>0.987688</td>\n",
              "      <td>-0.112611</td>\n",
              "      <td>0.993639</td>\n",
              "      <td>22.781571</td>\n",
              "    </tr>\n",
              "    <tr>\n",
              "      <th>7/1/2013 12:04</th>\n",
              "      <td>922</td>\n",
              "      <td>35</td>\n",
              "      <td>1025</td>\n",
              "      <td>35</td>\n",
              "      <td>20</td>\n",
              "      <td>519</td>\n",
              "      <td>5.437847</td>\n",
              "      <td>2.535710</td>\n",
              "      <td>2.079117e-01</td>\n",
              "      <td>0.978148</td>\n",
              "      <td>-0.112468</td>\n",
              "      <td>0.993655</td>\n",
              "      <td>22.781571</td>\n",
              "    </tr>\n",
              "    <tr>\n",
              "      <th>7/1/2013 12:05</th>\n",
              "      <td>921</td>\n",
              "      <td>35</td>\n",
              "      <td>1025</td>\n",
              "      <td>35</td>\n",
              "      <td>20</td>\n",
              "      <td>519</td>\n",
              "      <td>7.372368</td>\n",
              "      <td>5.162188</td>\n",
              "      <td>2.588190e-01</td>\n",
              "      <td>0.965926</td>\n",
              "      <td>-0.112326</td>\n",
              "      <td>0.993671</td>\n",
              "      <td>22.781571</td>\n",
              "    </tr>\n",
              "    <tr>\n",
              "      <th>...</th>\n",
              "      <td>...</td>\n",
              "      <td>...</td>\n",
              "      <td>...</td>\n",
              "      <td>...</td>\n",
              "      <td>...</td>\n",
              "      <td>...</td>\n",
              "      <td>...</td>\n",
              "      <td>...</td>\n",
              "      <td>...</td>\n",
              "      <td>...</td>\n",
              "      <td>...</td>\n",
              "      <td>...</td>\n",
              "      <td>...</td>\n",
              "    </tr>\n",
              "    <tr>\n",
              "      <th>8/12/2013 17:06</th>\n",
              "      <td>69</td>\n",
              "      <td>20</td>\n",
              "      <td>1017</td>\n",
              "      <td>74</td>\n",
              "      <td>17</td>\n",
              "      <td>54</td>\n",
              "      <td>5.991029</td>\n",
              "      <td>9.225376</td>\n",
              "      <td>-3.090170e-01</td>\n",
              "      <td>-0.951057</td>\n",
              "      <td>0.733863</td>\n",
              "      <td>-0.679297</td>\n",
              "      <td>7.348469</td>\n",
              "    </tr>\n",
              "    <tr>\n",
              "      <th>8/12/2013 17:07</th>\n",
              "      <td>55</td>\n",
              "      <td>20</td>\n",
              "      <td>1017</td>\n",
              "      <td>74</td>\n",
              "      <td>17</td>\n",
              "      <td>53</td>\n",
              "      <td>2.205099</td>\n",
              "      <td>7.690094</td>\n",
              "      <td>-3.583679e-01</td>\n",
              "      <td>-0.933580</td>\n",
              "      <td>0.733766</td>\n",
              "      <td>-0.679403</td>\n",
              "      <td>7.280110</td>\n",
              "    </tr>\n",
              "    <tr>\n",
              "      <th>8/12/2013 17:08</th>\n",
              "      <td>52</td>\n",
              "      <td>20</td>\n",
              "      <td>1017</td>\n",
              "      <td>74</td>\n",
              "      <td>17</td>\n",
              "      <td>47</td>\n",
              "      <td>1.552914</td>\n",
              "      <td>5.795555</td>\n",
              "      <td>-4.067366e-01</td>\n",
              "      <td>-0.913545</td>\n",
              "      <td>0.733668</td>\n",
              "      <td>-0.679508</td>\n",
              "      <td>6.855655</td>\n",
              "    </tr>\n",
              "    <tr>\n",
              "      <th>8/12/2013 17:09</th>\n",
              "      <td>52</td>\n",
              "      <td>19</td>\n",
              "      <td>1017</td>\n",
              "      <td>74</td>\n",
              "      <td>17</td>\n",
              "      <td>46</td>\n",
              "      <td>3.775922</td>\n",
              "      <td>4.662876</td>\n",
              "      <td>-4.539905e-01</td>\n",
              "      <td>-0.891007</td>\n",
              "      <td>0.733571</td>\n",
              "      <td>-0.679613</td>\n",
              "      <td>6.782330</td>\n",
              "    </tr>\n",
              "    <tr>\n",
              "      <th>8/12/2013 17:10</th>\n",
              "      <td>53</td>\n",
              "      <td>19</td>\n",
              "      <td>1017</td>\n",
              "      <td>74</td>\n",
              "      <td>17</td>\n",
              "      <td>44</td>\n",
              "      <td>3.775922</td>\n",
              "      <td>4.662876</td>\n",
              "      <td>-5.000000e-01</td>\n",
              "      <td>-0.866025</td>\n",
              "      <td>0.733473</td>\n",
              "      <td>-0.679718</td>\n",
              "      <td>6.633250</td>\n",
              "    </tr>\n",
              "  </tbody>\n",
              "</table>\n",
              "<p>35661 rows × 13 columns</p>\n",
              "</div>\n",
              "      <button class=\"colab-df-convert\" onclick=\"convertToInteractive('df-93ebe0a0-60f1-4666-9c54-5d1c75f7d198')\"\n",
              "              title=\"Convert this dataframe to an interactive table.\"\n",
              "              style=\"display:none;\">\n",
              "        \n",
              "  <svg xmlns=\"http://www.w3.org/2000/svg\" height=\"24px\"viewBox=\"0 0 24 24\"\n",
              "       width=\"24px\">\n",
              "    <path d=\"M0 0h24v24H0V0z\" fill=\"none\"/>\n",
              "    <path d=\"M18.56 5.44l.94 2.06.94-2.06 2.06-.94-2.06-.94-.94-2.06-.94 2.06-2.06.94zm-11 1L8.5 8.5l.94-2.06 2.06-.94-2.06-.94L8.5 2.5l-.94 2.06-2.06.94zm10 10l.94 2.06.94-2.06 2.06-.94-2.06-.94-.94-2.06-.94 2.06-2.06.94z\"/><path d=\"M17.41 7.96l-1.37-1.37c-.4-.4-.92-.59-1.43-.59-.52 0-1.04.2-1.43.59L10.3 9.45l-7.72 7.72c-.78.78-.78 2.05 0 2.83L4 21.41c.39.39.9.59 1.41.59.51 0 1.02-.2 1.41-.59l7.78-7.78 2.81-2.81c.8-.78.8-2.07 0-2.86zM5.41 20L4 18.59l7.72-7.72 1.47 1.35L5.41 20z\"/>\n",
              "  </svg>\n",
              "      </button>\n",
              "      \n",
              "  <style>\n",
              "    .colab-df-container {\n",
              "      display:flex;\n",
              "      flex-wrap:wrap;\n",
              "      gap: 12px;\n",
              "    }\n",
              "\n",
              "    .colab-df-convert {\n",
              "      background-color: #E8F0FE;\n",
              "      border: none;\n",
              "      border-radius: 50%;\n",
              "      cursor: pointer;\n",
              "      display: none;\n",
              "      fill: #1967D2;\n",
              "      height: 32px;\n",
              "      padding: 0 0 0 0;\n",
              "      width: 32px;\n",
              "    }\n",
              "\n",
              "    .colab-df-convert:hover {\n",
              "      background-color: #E2EBFA;\n",
              "      box-shadow: 0px 1px 2px rgba(60, 64, 67, 0.3), 0px 1px 3px 1px rgba(60, 64, 67, 0.15);\n",
              "      fill: #174EA6;\n",
              "    }\n",
              "\n",
              "    [theme=dark] .colab-df-convert {\n",
              "      background-color: #3B4455;\n",
              "      fill: #D2E3FC;\n",
              "    }\n",
              "\n",
              "    [theme=dark] .colab-df-convert:hover {\n",
              "      background-color: #434B5C;\n",
              "      box-shadow: 0px 1px 3px 1px rgba(0, 0, 0, 0.15);\n",
              "      filter: drop-shadow(0px 1px 2px rgba(0, 0, 0, 0.3));\n",
              "      fill: #FFFFFF;\n",
              "    }\n",
              "  </style>\n",
              "\n",
              "      <script>\n",
              "        const buttonEl =\n",
              "          document.querySelector('#df-93ebe0a0-60f1-4666-9c54-5d1c75f7d198 button.colab-df-convert');\n",
              "        buttonEl.style.display =\n",
              "          google.colab.kernel.accessAllowed ? 'block' : 'none';\n",
              "\n",
              "        async function convertToInteractive(key) {\n",
              "          const element = document.querySelector('#df-93ebe0a0-60f1-4666-9c54-5d1c75f7d198');\n",
              "          const dataTable =\n",
              "            await google.colab.kernel.invokeFunction('convertToInteractive',\n",
              "                                                     [key], {});\n",
              "          if (!dataTable) return;\n",
              "\n",
              "          const docLinkHtml = 'Like what you see? Visit the ' +\n",
              "            '<a target=\"_blank\" href=https://colab.research.google.com/notebooks/data_table.ipynb>data table notebook</a>'\n",
              "            + ' to learn more about interactive tables.';\n",
              "          element.innerHTML = '';\n",
              "          dataTable['output_type'] = 'display_data';\n",
              "          await google.colab.output.renderOutput(dataTable, element);\n",
              "          const docLink = document.createElement('div');\n",
              "          docLink.innerHTML = docLinkHtml;\n",
              "          element.appendChild(docLink);\n",
              "        }\n",
              "      </script>\n",
              "    </div>\n",
              "  </div>\n",
              "  "
            ]
          },
          "metadata": {},
          "execution_count": 115
        }
      ]
    },
    {
      "cell_type": "code",
      "source": [
        "scaler = MinMaxScaler()\n",
        "data_scaled_WI= scaler.fit_transform(dfWinter)"
      ],
      "metadata": {
        "id": "LUxQ7Qa86RCy"
      },
      "execution_count": 116,
      "outputs": []
    },
    {
      "cell_type": "code",
      "source": [
        "data_scaled_WI"
      ],
      "metadata": {
        "id": "Ok9gm83e6RFy",
        "colab": {
          "base_uri": "https://localhost:8080/"
        },
        "outputId": "1b8b1b25-d348-48b4-fea0-4a513391c964"
      },
      "execution_count": 117,
      "outputs": [
        {
          "output_type": "execute_result",
          "data": {
            "text/plain": [
              "array([[7.83439490e-01, 7.31707317e-01, 8.07692308e-01, ...,\n",
              "        4.43492557e-01, 9.96797409e-01, 6.59464643e-01],\n",
              "       [7.88898999e-01, 7.31707317e-01, 8.07692308e-01, ...,\n",
              "        4.43635001e-01, 9.96813594e-01, 6.59464643e-01],\n",
              "       [7.91628753e-01, 7.31707317e-01, 8.07692308e-01, ...,\n",
              "        4.43706225e-01, 9.96821671e-01, 6.59464643e-01],\n",
              "       ...,\n",
              "       [9.09918107e-04, 3.65853659e-01, 5.00000000e-01, ...,\n",
              "        8.66856904e-01, 1.60217981e-01, 1.19900921e-01],\n",
              "       [9.09918107e-04, 3.41463415e-01, 5.00000000e-01, ...,\n",
              "        8.66808193e-01, 1.60165394e-01, 1.17416712e-01],\n",
              "       [1.81983621e-03, 3.41463415e-01, 5.00000000e-01, ...,\n",
              "        8.66759475e-01, 1.60112815e-01, 1.12365927e-01]])"
            ]
          },
          "metadata": {},
          "execution_count": 117
        }
      ]
    },
    {
      "cell_type": "code",
      "source": [
        "featuresWI=data_scaled_WI\n",
        "targetWI=data_scaled_WI[:,0]"
      ],
      "metadata": {
        "id": "-DdX2FeB6RIn"
      },
      "execution_count": 118,
      "outputs": []
    },
    {
      "cell_type": "code",
      "source": [
        "x_trainWI, x_testWI, y_trainWI, y_testWI= train_test_split(featuresWI, targetWI, test_size=0.20, random_state=123, shuffle = False)"
      ],
      "metadata": {
        "id": "QYooTXJQ6RL_"
      },
      "execution_count": 119,
      "outputs": []
    },
    {
      "cell_type": "code",
      "source": [
        "x_trainWI.shape"
      ],
      "metadata": {
        "id": "deIfGtH06ROR",
        "colab": {
          "base_uri": "https://localhost:8080/"
        },
        "outputId": "2047208d-99e3-44aa-a571-5a0d54018e8e"
      },
      "execution_count": 120,
      "outputs": [
        {
          "output_type": "execute_result",
          "data": {
            "text/plain": [
              "(28528, 13)"
            ]
          },
          "metadata": {},
          "execution_count": 120
        }
      ]
    },
    {
      "cell_type": "code",
      "source": [
        "x_testWI.shape"
      ],
      "metadata": {
        "id": "2zDxlOgv6RQ1",
        "colab": {
          "base_uri": "https://localhost:8080/"
        },
        "outputId": "155fb32d-59e4-4464-e878-824a6fde04e9"
      },
      "execution_count": 121,
      "outputs": [
        {
          "output_type": "execute_result",
          "data": {
            "text/plain": [
              "(7133, 13)"
            ]
          },
          "metadata": {},
          "execution_count": 121
        }
      ]
    },
    {
      "cell_type": "code",
      "source": [
        "win_length=720\n",
        "batch_size=32\n",
        "num_features=12\n",
        "train_generatorWI = TimeseriesGenerator(x_trainWI, y_trainWI, length=win_length, sampling_rate=1, batch_size=batch_size)\n",
        "test_generatorWI = TimeseriesGenerator(x_testWI, y_testWI, length=win_length, sampling_rate=1, batch_size=batch_size)"
      ],
      "metadata": {
        "id": "nZDBeafL6RTf"
      },
      "execution_count": 122,
      "outputs": []
    },
    {
      "cell_type": "code",
      "source": [
        "from keras.regularizers import L1L2\n",
        "model = tf.keras.Sequential()\n",
        "model.add(GRU(128, input_shape= (win_length, num_features), return_sequences=True))#,kernel_regularizer = L1L2(l1=0.02, l2=0.00)))\n",
        "model.add(tf.keras.layers.LeakyReLU(alpha=0.5)) \n",
        "model.add(GRU(128, return_sequences=True))\n",
        "model.add(tf.keras.layers.LeakyReLU(alpha=0.5)) \n",
        "model.add(tf.keras.layers.Dropout(0.3)) \n",
        "model.add(GRU(64, return_sequences=False))\n",
        "model.add(tf.keras.layers.Dropout(0.3)) \n",
        "model.add(tf.keras.layers.Dense(1))"
      ],
      "metadata": {
        "id": "gvztPuCC6dRl"
      },
      "execution_count": 123,
      "outputs": []
    },
    {
      "cell_type": "code",
      "source": [
        "early_stopping = tf.keras.callbacks.EarlyStopping(monitor='val_loss',\n",
        "                                                    patience=2,\n",
        "                                                    mode='min')\n",
        "\n",
        "model.compile(loss=tf.losses.MeanSquaredError(),\n",
        "              optimizer=tf.optimizers.Adam(),\n",
        "              metrics=[tf.metrics.MAPE])\n",
        "\n",
        "history = model.fit_generator(train_generatorWI, epochs=3,\n",
        "                    validation_data=test_generatorWI,\n",
        "                    shuffle=False,\n",
        "                    callbacks=[early_stopping])"
      ],
      "metadata": {
        "id": "N07Mv_Xo6dOA",
        "colab": {
          "base_uri": "https://localhost:8080/"
        },
        "outputId": "7f41d469-575d-46b6-d600-fe9576aa5461"
      },
      "execution_count": 124,
      "outputs": [
        {
          "output_type": "stream",
          "name": "stdout",
          "text": [
            "Epoch 1/3\n"
          ]
        },
        {
          "output_type": "stream",
          "name": "stderr",
          "text": [
            "<ipython-input-124-c132d4d5a36e>:9: UserWarning: `Model.fit_generator` is deprecated and will be removed in a future version. Please use `Model.fit`, which supports generators.\n",
            "  history = model.fit_generator(train_generatorWI, epochs=3,\n"
          ]
        },
        {
          "output_type": "stream",
          "name": "stdout",
          "text": [
            "869/869 [==============================] - 75s 81ms/step - loss: 0.0316 - mean_absolute_percentage_error: 184193.5625 - val_loss: 0.0253 - val_mean_absolute_percentage_error: 609458.0625\n",
            "Epoch 2/3\n",
            "869/869 [==============================] - 68s 79ms/step - loss: 0.0198 - mean_absolute_percentage_error: 110458.8516 - val_loss: 0.0231 - val_mean_absolute_percentage_error: 400452.0938\n",
            "Epoch 3/3\n",
            "869/869 [==============================] - 68s 78ms/step - loss: 0.0181 - mean_absolute_percentage_error: 88860.4062 - val_loss: 0.0243 - val_mean_absolute_percentage_error: 358408.6250\n"
          ]
        }
      ]
    },
    {
      "cell_type": "code",
      "source": [
        "model.evaluate_generator(test_generatorWI, verbose=0)  "
      ],
      "metadata": {
        "id": "YJrz72g46c7I",
        "colab": {
          "base_uri": "https://localhost:8080/"
        },
        "outputId": "f6c1b68d-8448-4ca3-e318-e6606a1ed316"
      },
      "execution_count": 125,
      "outputs": [
        {
          "output_type": "stream",
          "name": "stderr",
          "text": [
            "<ipython-input-125-7569fd944f28>:1: UserWarning: `Model.evaluate_generator` is deprecated and will be removed in a future version. Please use `Model.evaluate`, which supports generators.\n",
            "  model.evaluate_generator(test_generatorWI, verbose=0)\n"
          ]
        },
        {
          "output_type": "execute_result",
          "data": {
            "text/plain": [
              "[0.024319129064679146, 358408.625]"
            ]
          },
          "metadata": {},
          "execution_count": 125
        }
      ]
    },
    {
      "cell_type": "code",
      "source": [
        "predictionsWI=model.predict_generator(test_generatorWI)"
      ],
      "metadata": {
        "id": "HLEyC6XQCbTS",
        "colab": {
          "base_uri": "https://localhost:8080/"
        },
        "outputId": "5ee7fbe5-5ddb-4866-fd2a-e7801df94217"
      },
      "execution_count": 126,
      "outputs": [
        {
          "output_type": "stream",
          "name": "stderr",
          "text": [
            "<ipython-input-126-ab82d5ae779b>:1: UserWarning: `Model.predict_generator` is deprecated and will be removed in a future version. Please use `Model.predict`, which supports generators.\n",
            "  predictionsWI=model.predict_generator(test_generatorWI)\n"
          ]
        }
      ]
    },
    {
      "cell_type": "code",
      "source": [
        "\n",
        "predictionsWI.shape[0]\n",
        "predictionsWI"
      ],
      "metadata": {
        "id": "Xl3VTn5_CbW4",
        "colab": {
          "base_uri": "https://localhost:8080/"
        },
        "outputId": "36c12eac-3449-42c1-c220-b4018738f14c"
      },
      "execution_count": 127,
      "outputs": [
        {
          "output_type": "execute_result",
          "data": {
            "text/plain": [
              "array([[ 0.7508937 ],\n",
              "       [ 0.75055957],\n",
              "       [ 0.76031834],\n",
              "       ...,\n",
              "       [-0.20148334],\n",
              "       [-0.19644094],\n",
              "       [-0.21078664]], dtype=float32)"
            ]
          },
          "metadata": {},
          "execution_count": 127
        }
      ]
    },
    {
      "cell_type": "code",
      "source": [
        "y_testWI"
      ],
      "metadata": {
        "id": "9esFhf3DCbaD",
        "colab": {
          "base_uri": "https://localhost:8080/"
        },
        "outputId": "d7d099ed-ad1e-497e-ef61-a9e9d386f9f3"
      },
      "execution_count": 128,
      "outputs": [
        {
          "output_type": "execute_result",
          "data": {
            "text/plain": [
              "array([0.07825296, 0.18380346, 0.48862602, ..., 0.00090992, 0.00090992,\n",
              "       0.00181984])"
            ]
          },
          "metadata": {},
          "execution_count": 128
        }
      ]
    },
    {
      "cell_type": "code",
      "source": [
        "x_testWI"
      ],
      "metadata": {
        "id": "7oLqGmTNCbdR",
        "colab": {
          "base_uri": "https://localhost:8080/"
        },
        "outputId": "cf36bafb-f4ed-4356-eb37-e99278ca4ce5"
      },
      "execution_count": 129,
      "outputs": [
        {
          "output_type": "execute_result",
          "data": {
            "text/plain": [
              "array([[0.07825296, 0.3902439 , 0.46153846, ..., 0.05832414, 0.73434509,\n",
              "        0.19255049],\n",
              "       [0.18380346, 0.3902439 , 0.46153846, ..., 0.05835775, 0.73440841,\n",
              "        0.2090442 ],\n",
              "       [0.48862602, 0.3902439 , 0.46153846, ..., 0.05839136, 0.73447172,\n",
              "        0.2783527 ],\n",
              "       ...,\n",
              "       [0.00090992, 0.36585366, 0.5       , ..., 0.8668569 , 0.16021798,\n",
              "        0.11990092],\n",
              "       [0.00090992, 0.34146341, 0.5       , ..., 0.86680819, 0.16016539,\n",
              "        0.11741671],\n",
              "       [0.00181984, 0.34146341, 0.5       , ..., 0.86675947, 0.16011281,\n",
              "        0.11236593]])"
            ]
          },
          "metadata": {},
          "execution_count": 129
        }
      ]
    },
    {
      "cell_type": "code",
      "source": [
        "x_testWI[:,1:][win_length:]"
      ],
      "metadata": {
        "id": "Y7GCeb9kC10a",
        "colab": {
          "base_uri": "https://localhost:8080/"
        },
        "outputId": "54aaf804-ebf7-4b82-c409-29a559ee92b4"
      },
      "execution_count": 130,
      "outputs": [
        {
          "output_type": "execute_result",
          "data": {
            "text/plain": [
              "array([[0.65853659, 0.34615385, 0.48648649, ..., 0.181558  , 0.88547395,\n",
              "        0.76915501],\n",
              "       [0.65853659, 0.34615385, 0.5       , ..., 0.18161327, 0.8855196 ,\n",
              "        0.77370064],\n",
              "       [0.63414634, 0.34615385, 0.47297297, ..., 0.18166854, 0.88556524,\n",
              "        0.77951097],\n",
              "       ...,\n",
              "       [0.36585366, 0.5       , 0.68918919, ..., 0.8668569 , 0.16021798,\n",
              "        0.11990092],\n",
              "       [0.34146341, 0.5       , 0.68918919, ..., 0.86680819, 0.16016539,\n",
              "        0.11741671],\n",
              "       [0.34146341, 0.5       , 0.68918919, ..., 0.86675947, 0.16011281,\n",
              "        0.11236593]])"
            ]
          },
          "metadata": {},
          "execution_count": 130
        }
      ]
    },
    {
      "cell_type": "code",
      "source": [
        "df_predWI=pd.concat([pd.DataFrame(predictionsWI), pd.DataFrame(x_testWI[:,1:][win_length:])],axis=1)\n",
        "df_predWI"
      ],
      "metadata": {
        "id": "XbvVwWNcC18P",
        "colab": {
          "base_uri": "https://localhost:8080/",
          "height": 424
        },
        "outputId": "76a754b2-c5d1-45a3-92b8-6746af158376"
      },
      "execution_count": 131,
      "outputs": [
        {
          "output_type": "execute_result",
          "data": {
            "text/plain": [
              "            0         0         1         2         3         4         5   \\\n",
              "0     0.750894  0.658537  0.346154  0.486486  0.588235  0.624180  0.704350   \n",
              "1     0.750560  0.658537  0.346154  0.500000  0.588235  0.630740  0.406620   \n",
              "2     0.760318  0.634146  0.346154  0.472973  0.588235  0.639175  0.728584   \n",
              "3     0.761977  0.658537  0.346154  0.486486  0.588235  0.637301  0.437125   \n",
              "4     0.761912  0.658537  0.346154  0.486486  0.588235  0.618557  0.410815   \n",
              "...        ...       ...       ...       ...       ...       ...       ...   \n",
              "6408 -0.180437  0.365854  0.500000  0.689189  0.588235  0.040300  0.632350   \n",
              "6409 -0.182605  0.365854  0.500000  0.689189  0.588235  0.039363  0.550853   \n",
              "6410 -0.201483  0.365854  0.500000  0.689189  0.588235  0.033739  0.536814   \n",
              "6411 -0.196441  0.341463  0.500000  0.689189  0.588235  0.032802  0.584667   \n",
              "6412 -0.210787  0.341463  0.500000  0.689189  0.588235  0.030928  0.584667   \n",
              "\n",
              "            6         7         8         9         10        11  \n",
              "0     0.536262  0.296632  0.956773  0.181558  0.885474  0.769155  \n",
              "1     0.091241  0.320816  0.966790  0.181613  0.885520  0.773701  \n",
              "2     0.530681  0.345492  0.975528  0.181669  0.885565  0.779511  \n",
              "3     0.171986  0.370590  0.982963  0.181724  0.885611  0.778223  \n",
              "4     0.088919  0.396044  0.989074  0.181779  0.885656  0.765240  \n",
              "...        ...       ...       ...       ...       ...       ...  \n",
              "6408  0.706941  0.345492  0.024472  0.866954  0.160323  0.136597  \n",
              "6409  0.660494  0.320816  0.033210  0.866906  0.160271  0.134281  \n",
              "6410  0.603178  0.296632  0.043227  0.866857  0.160218  0.119901  \n",
              "6411  0.568911  0.273005  0.054497  0.866808  0.160165  0.117417  \n",
              "6412  0.568911  0.250000  0.066987  0.866759  0.160113  0.112366  \n",
              "\n",
              "[6413 rows x 13 columns]"
            ],
            "text/html": [
              "\n",
              "  <div id=\"df-c149b085-f997-4003-83db-ddf51a3a95b0\">\n",
              "    <div class=\"colab-df-container\">\n",
              "      <div>\n",
              "<style scoped>\n",
              "    .dataframe tbody tr th:only-of-type {\n",
              "        vertical-align: middle;\n",
              "    }\n",
              "\n",
              "    .dataframe tbody tr th {\n",
              "        vertical-align: top;\n",
              "    }\n",
              "\n",
              "    .dataframe thead th {\n",
              "        text-align: right;\n",
              "    }\n",
              "</style>\n",
              "<table border=\"1\" class=\"dataframe\">\n",
              "  <thead>\n",
              "    <tr style=\"text-align: right;\">\n",
              "      <th></th>\n",
              "      <th>0</th>\n",
              "      <th>0</th>\n",
              "      <th>1</th>\n",
              "      <th>2</th>\n",
              "      <th>3</th>\n",
              "      <th>4</th>\n",
              "      <th>5</th>\n",
              "      <th>6</th>\n",
              "      <th>7</th>\n",
              "      <th>8</th>\n",
              "      <th>9</th>\n",
              "      <th>10</th>\n",
              "      <th>11</th>\n",
              "    </tr>\n",
              "  </thead>\n",
              "  <tbody>\n",
              "    <tr>\n",
              "      <th>0</th>\n",
              "      <td>0.750894</td>\n",
              "      <td>0.658537</td>\n",
              "      <td>0.346154</td>\n",
              "      <td>0.486486</td>\n",
              "      <td>0.588235</td>\n",
              "      <td>0.624180</td>\n",
              "      <td>0.704350</td>\n",
              "      <td>0.536262</td>\n",
              "      <td>0.296632</td>\n",
              "      <td>0.956773</td>\n",
              "      <td>0.181558</td>\n",
              "      <td>0.885474</td>\n",
              "      <td>0.769155</td>\n",
              "    </tr>\n",
              "    <tr>\n",
              "      <th>1</th>\n",
              "      <td>0.750560</td>\n",
              "      <td>0.658537</td>\n",
              "      <td>0.346154</td>\n",
              "      <td>0.500000</td>\n",
              "      <td>0.588235</td>\n",
              "      <td>0.630740</td>\n",
              "      <td>0.406620</td>\n",
              "      <td>0.091241</td>\n",
              "      <td>0.320816</td>\n",
              "      <td>0.966790</td>\n",
              "      <td>0.181613</td>\n",
              "      <td>0.885520</td>\n",
              "      <td>0.773701</td>\n",
              "    </tr>\n",
              "    <tr>\n",
              "      <th>2</th>\n",
              "      <td>0.760318</td>\n",
              "      <td>0.634146</td>\n",
              "      <td>0.346154</td>\n",
              "      <td>0.472973</td>\n",
              "      <td>0.588235</td>\n",
              "      <td>0.639175</td>\n",
              "      <td>0.728584</td>\n",
              "      <td>0.530681</td>\n",
              "      <td>0.345492</td>\n",
              "      <td>0.975528</td>\n",
              "      <td>0.181669</td>\n",
              "      <td>0.885565</td>\n",
              "      <td>0.779511</td>\n",
              "    </tr>\n",
              "    <tr>\n",
              "      <th>3</th>\n",
              "      <td>0.761977</td>\n",
              "      <td>0.658537</td>\n",
              "      <td>0.346154</td>\n",
              "      <td>0.486486</td>\n",
              "      <td>0.588235</td>\n",
              "      <td>0.637301</td>\n",
              "      <td>0.437125</td>\n",
              "      <td>0.171986</td>\n",
              "      <td>0.370590</td>\n",
              "      <td>0.982963</td>\n",
              "      <td>0.181724</td>\n",
              "      <td>0.885611</td>\n",
              "      <td>0.778223</td>\n",
              "    </tr>\n",
              "    <tr>\n",
              "      <th>4</th>\n",
              "      <td>0.761912</td>\n",
              "      <td>0.658537</td>\n",
              "      <td>0.346154</td>\n",
              "      <td>0.486486</td>\n",
              "      <td>0.588235</td>\n",
              "      <td>0.618557</td>\n",
              "      <td>0.410815</td>\n",
              "      <td>0.088919</td>\n",
              "      <td>0.396044</td>\n",
              "      <td>0.989074</td>\n",
              "      <td>0.181779</td>\n",
              "      <td>0.885656</td>\n",
              "      <td>0.765240</td>\n",
              "    </tr>\n",
              "    <tr>\n",
              "      <th>...</th>\n",
              "      <td>...</td>\n",
              "      <td>...</td>\n",
              "      <td>...</td>\n",
              "      <td>...</td>\n",
              "      <td>...</td>\n",
              "      <td>...</td>\n",
              "      <td>...</td>\n",
              "      <td>...</td>\n",
              "      <td>...</td>\n",
              "      <td>...</td>\n",
              "      <td>...</td>\n",
              "      <td>...</td>\n",
              "      <td>...</td>\n",
              "    </tr>\n",
              "    <tr>\n",
              "      <th>6408</th>\n",
              "      <td>-0.180437</td>\n",
              "      <td>0.365854</td>\n",
              "      <td>0.500000</td>\n",
              "      <td>0.689189</td>\n",
              "      <td>0.588235</td>\n",
              "      <td>0.040300</td>\n",
              "      <td>0.632350</td>\n",
              "      <td>0.706941</td>\n",
              "      <td>0.345492</td>\n",
              "      <td>0.024472</td>\n",
              "      <td>0.866954</td>\n",
              "      <td>0.160323</td>\n",
              "      <td>0.136597</td>\n",
              "    </tr>\n",
              "    <tr>\n",
              "      <th>6409</th>\n",
              "      <td>-0.182605</td>\n",
              "      <td>0.365854</td>\n",
              "      <td>0.500000</td>\n",
              "      <td>0.689189</td>\n",
              "      <td>0.588235</td>\n",
              "      <td>0.039363</td>\n",
              "      <td>0.550853</td>\n",
              "      <td>0.660494</td>\n",
              "      <td>0.320816</td>\n",
              "      <td>0.033210</td>\n",
              "      <td>0.866906</td>\n",
              "      <td>0.160271</td>\n",
              "      <td>0.134281</td>\n",
              "    </tr>\n",
              "    <tr>\n",
              "      <th>6410</th>\n",
              "      <td>-0.201483</td>\n",
              "      <td>0.365854</td>\n",
              "      <td>0.500000</td>\n",
              "      <td>0.689189</td>\n",
              "      <td>0.588235</td>\n",
              "      <td>0.033739</td>\n",
              "      <td>0.536814</td>\n",
              "      <td>0.603178</td>\n",
              "      <td>0.296632</td>\n",
              "      <td>0.043227</td>\n",
              "      <td>0.866857</td>\n",
              "      <td>0.160218</td>\n",
              "      <td>0.119901</td>\n",
              "    </tr>\n",
              "    <tr>\n",
              "      <th>6411</th>\n",
              "      <td>-0.196441</td>\n",
              "      <td>0.341463</td>\n",
              "      <td>0.500000</td>\n",
              "      <td>0.689189</td>\n",
              "      <td>0.588235</td>\n",
              "      <td>0.032802</td>\n",
              "      <td>0.584667</td>\n",
              "      <td>0.568911</td>\n",
              "      <td>0.273005</td>\n",
              "      <td>0.054497</td>\n",
              "      <td>0.866808</td>\n",
              "      <td>0.160165</td>\n",
              "      <td>0.117417</td>\n",
              "    </tr>\n",
              "    <tr>\n",
              "      <th>6412</th>\n",
              "      <td>-0.210787</td>\n",
              "      <td>0.341463</td>\n",
              "      <td>0.500000</td>\n",
              "      <td>0.689189</td>\n",
              "      <td>0.588235</td>\n",
              "      <td>0.030928</td>\n",
              "      <td>0.584667</td>\n",
              "      <td>0.568911</td>\n",
              "      <td>0.250000</td>\n",
              "      <td>0.066987</td>\n",
              "      <td>0.866759</td>\n",
              "      <td>0.160113</td>\n",
              "      <td>0.112366</td>\n",
              "    </tr>\n",
              "  </tbody>\n",
              "</table>\n",
              "<p>6413 rows × 13 columns</p>\n",
              "</div>\n",
              "      <button class=\"colab-df-convert\" onclick=\"convertToInteractive('df-c149b085-f997-4003-83db-ddf51a3a95b0')\"\n",
              "              title=\"Convert this dataframe to an interactive table.\"\n",
              "              style=\"display:none;\">\n",
              "        \n",
              "  <svg xmlns=\"http://www.w3.org/2000/svg\" height=\"24px\"viewBox=\"0 0 24 24\"\n",
              "       width=\"24px\">\n",
              "    <path d=\"M0 0h24v24H0V0z\" fill=\"none\"/>\n",
              "    <path d=\"M18.56 5.44l.94 2.06.94-2.06 2.06-.94-2.06-.94-.94-2.06-.94 2.06-2.06.94zm-11 1L8.5 8.5l.94-2.06 2.06-.94-2.06-.94L8.5 2.5l-.94 2.06-2.06.94zm10 10l.94 2.06.94-2.06 2.06-.94-2.06-.94-.94-2.06-.94 2.06-2.06.94z\"/><path d=\"M17.41 7.96l-1.37-1.37c-.4-.4-.92-.59-1.43-.59-.52 0-1.04.2-1.43.59L10.3 9.45l-7.72 7.72c-.78.78-.78 2.05 0 2.83L4 21.41c.39.39.9.59 1.41.59.51 0 1.02-.2 1.41-.59l7.78-7.78 2.81-2.81c.8-.78.8-2.07 0-2.86zM5.41 20L4 18.59l7.72-7.72 1.47 1.35L5.41 20z\"/>\n",
              "  </svg>\n",
              "      </button>\n",
              "      \n",
              "  <style>\n",
              "    .colab-df-container {\n",
              "      display:flex;\n",
              "      flex-wrap:wrap;\n",
              "      gap: 12px;\n",
              "    }\n",
              "\n",
              "    .colab-df-convert {\n",
              "      background-color: #E8F0FE;\n",
              "      border: none;\n",
              "      border-radius: 50%;\n",
              "      cursor: pointer;\n",
              "      display: none;\n",
              "      fill: #1967D2;\n",
              "      height: 32px;\n",
              "      padding: 0 0 0 0;\n",
              "      width: 32px;\n",
              "    }\n",
              "\n",
              "    .colab-df-convert:hover {\n",
              "      background-color: #E2EBFA;\n",
              "      box-shadow: 0px 1px 2px rgba(60, 64, 67, 0.3), 0px 1px 3px 1px rgba(60, 64, 67, 0.15);\n",
              "      fill: #174EA6;\n",
              "    }\n",
              "\n",
              "    [theme=dark] .colab-df-convert {\n",
              "      background-color: #3B4455;\n",
              "      fill: #D2E3FC;\n",
              "    }\n",
              "\n",
              "    [theme=dark] .colab-df-convert:hover {\n",
              "      background-color: #434B5C;\n",
              "      box-shadow: 0px 1px 3px 1px rgba(0, 0, 0, 0.15);\n",
              "      filter: drop-shadow(0px 1px 2px rgba(0, 0, 0, 0.3));\n",
              "      fill: #FFFFFF;\n",
              "    }\n",
              "  </style>\n",
              "\n",
              "      <script>\n",
              "        const buttonEl =\n",
              "          document.querySelector('#df-c149b085-f997-4003-83db-ddf51a3a95b0 button.colab-df-convert');\n",
              "        buttonEl.style.display =\n",
              "          google.colab.kernel.accessAllowed ? 'block' : 'none';\n",
              "\n",
              "        async function convertToInteractive(key) {\n",
              "          const element = document.querySelector('#df-c149b085-f997-4003-83db-ddf51a3a95b0');\n",
              "          const dataTable =\n",
              "            await google.colab.kernel.invokeFunction('convertToInteractive',\n",
              "                                                     [key], {});\n",
              "          if (!dataTable) return;\n",
              "\n",
              "          const docLinkHtml = 'Like what you see? Visit the ' +\n",
              "            '<a target=\"_blank\" href=https://colab.research.google.com/notebooks/data_table.ipynb>data table notebook</a>'\n",
              "            + ' to learn more about interactive tables.';\n",
              "          element.innerHTML = '';\n",
              "          dataTable['output_type'] = 'display_data';\n",
              "          await google.colab.output.renderOutput(dataTable, element);\n",
              "          const docLink = document.createElement('div');\n",
              "          docLink.innerHTML = docLinkHtml;\n",
              "          element.appendChild(docLink);\n",
              "        }\n",
              "      </script>\n",
              "    </div>\n",
              "  </div>\n",
              "  "
            ]
          },
          "metadata": {},
          "execution_count": 131
        }
      ]
    },
    {
      "cell_type": "code",
      "source": [
        "rev_transWI=scaler.inverse_transform(df_predWI)\n",
        "rev_transWI"
      ],
      "metadata": {
        "id": "pf_w3ViXC1_G",
        "colab": {
          "base_uri": "https://localhost:8080/"
        },
        "outputId": "763b45bf-3bcf-45d4-c4d8-0813ce68e1ba"
      },
      "execution_count": 132,
      "outputs": [
        {
          "output_type": "execute_result",
          "data": {
            "text/plain": [
              "array([[ 8.76232190e+02,  3.20000000e+01,  1.01300000e+03, ...,\n",
              "        -6.36893530e-01,  7.70951770e-01,  2.60192237e+01],\n",
              "       [ 8.75864966e+02,  3.20000000e+01,  1.01300000e+03, ...,\n",
              "        -6.36783002e-01,  7.71043065e-01,  2.61533937e+01],\n",
              "       [ 8.86589854e+02,  3.10000000e+01,  1.01300000e+03, ...,\n",
              "        -6.36672462e-01,  7.71134344e-01,  2.63248932e+01],\n",
              "       ...,\n",
              "       [-1.70430190e+02,  2.00000000e+01,  1.01700000e+03, ...,\n",
              "         7.33668303e-01, -6.79507778e-01,  6.85565460e+00],\n",
              "       [-1.64888588e+02,  1.90000000e+01,  1.01700000e+03, ...,\n",
              "         7.33570884e-01, -6.79612947e-01,  6.78232998e+00],\n",
              "       [-1.80654518e+02,  1.90000000e+01,  1.01700000e+03, ...,\n",
              "         7.33473449e-01, -6.79718103e-01,  6.63324958e+00]])"
            ]
          },
          "metadata": {},
          "execution_count": 132
        }
      ]
    },
    {
      "cell_type": "code",
      "source": [
        "predictionsWI.shape"
      ],
      "metadata": {
        "id": "8vIJKui2C2A1",
        "colab": {
          "base_uri": "https://localhost:8080/"
        },
        "outputId": "b8d1ea00-bb03-4d03-ad62-ad759c4e9ca2"
      },
      "execution_count": 133,
      "outputs": [
        {
          "output_type": "execute_result",
          "data": {
            "text/plain": [
              "(6413, 1)"
            ]
          },
          "metadata": {},
          "execution_count": 133
        }
      ]
    },
    {
      "cell_type": "code",
      "source": [
        "df_finalWI=dfWinter[predictionsWI.shape[0]*-1:]"
      ],
      "metadata": {
        "id": "UBEUknyEC7G_"
      },
      "execution_count": 134,
      "outputs": []
    },
    {
      "cell_type": "code",
      "source": [
        "df_finalWI.count()"
      ],
      "metadata": {
        "id": "p5Tq9KwSC7Pd",
        "colab": {
          "base_uri": "https://localhost:8080/"
        },
        "outputId": "d5a4a6f7-bbc9-49cf-e62f-19d9ebe2bbde"
      },
      "execution_count": 135,
      "outputs": [
        {
          "output_type": "execute_result",
          "data": {
            "text/plain": [
              "TS1_P1_data                    6413\n",
              "TS1_SENS0700_TmpMdul_C_data    6413\n",
              "Barometer_data                 6413\n",
              "Outside_Humidity_data          6413\n",
              "Outside_Temperature_data       6413\n",
              "Solar_Radiation_data           6413\n",
              "Wx                             6413\n",
              "Wy                             6413\n",
              "Day sin                        6413\n",
              "Day cos                        6413\n",
              "Year sin                       6413\n",
              "Year cos                       6413\n",
              "Solar_Radiation_data_SQ        6413\n",
              "dtype: int64"
            ]
          },
          "metadata": {},
          "execution_count": 135
        }
      ]
    },
    {
      "cell_type": "code",
      "source": [
        "df_finalWI['pred']=rev_transWI[:,0]"
      ],
      "metadata": {
        "id": "aru-FSWCC7S6",
        "colab": {
          "base_uri": "https://localhost:8080/"
        },
        "outputId": "790ec386-b196-4523-aecd-5d57eb860061"
      },
      "execution_count": 136,
      "outputs": [
        {
          "output_type": "stream",
          "name": "stderr",
          "text": [
            "<ipython-input-136-a854f211b421>:1: SettingWithCopyWarning: \n",
            "A value is trying to be set on a copy of a slice from a DataFrame.\n",
            "Try using .loc[row_indexer,col_indexer] = value instead\n",
            "\n",
            "See the caveats in the documentation: https://pandas.pydata.org/pandas-docs/stable/user_guide/indexing.html#returning-a-view-versus-a-copy\n",
            "  df_finalWI['pred']=rev_transWI[:,0]\n"
          ]
        }
      ]
    },
    {
      "cell_type": "code",
      "source": [
        "dd=df_finalWI[['TS1_P1_data','pred']]"
      ],
      "metadata": {
        "id": "32Bx1mvSC7Vu"
      },
      "execution_count": 137,
      "outputs": []
    },
    {
      "cell_type": "code",
      "source": [
        "\n",
        "df_finalWI.columns\n",
        "df_finalWI"
      ],
      "metadata": {
        "id": "kAY8HVyeDBhY",
        "colab": {
          "base_uri": "https://localhost:8080/",
          "height": 536
        },
        "outputId": "95a77996-3481-477a-e6dd-38e758731eac"
      },
      "execution_count": 138,
      "outputs": [
        {
          "output_type": "execute_result",
          "data": {
            "text/plain": [
              "                 TS1_P1_data  TS1_SENS0700_TmpMdul_C_data  Barometer_data  \\\n",
              "Date_time_name                                                              \n",
              "28/8/2013 13:52         1008                           32            1013   \n",
              "28/8/2013 13:53         1033                           32            1013   \n",
              "28/8/2013 13:54         1034                           31            1013   \n",
              "28/8/2013 13:55         1009                           32            1013   \n",
              "28/8/2013 13:56          986                           32            1013   \n",
              "...                      ...                          ...             ...   \n",
              "8/12/2013 17:06           69                           20            1017   \n",
              "8/12/2013 17:07           55                           20            1017   \n",
              "8/12/2013 17:08           52                           20            1017   \n",
              "8/12/2013 17:09           52                           19            1017   \n",
              "8/12/2013 17:10           53                           19            1017   \n",
              "\n",
              "                 Outside_Humidity_data  Outside_Temperature_data  \\\n",
              "Date_time_name                                                     \n",
              "28/8/2013 13:52                     59                        17   \n",
              "28/8/2013 13:53                     60                        17   \n",
              "28/8/2013 13:54                     58                        17   \n",
              "28/8/2013 13:55                     59                        17   \n",
              "28/8/2013 13:56                     59                        17   \n",
              "...                                ...                       ...   \n",
              "8/12/2013 17:06                     74                        17   \n",
              "8/12/2013 17:07                     74                        17   \n",
              "8/12/2013 17:08                     74                        17   \n",
              "8/12/2013 17:09                     74                        17   \n",
              "8/12/2013 17:10                     74                        17   \n",
              "\n",
              "                 Solar_Radiation_data         Wx         Wy   Day sin  \\\n",
              "Date_time_name                                                          \n",
              "28/8/2013 13:52                   677   9.335804   3.583679 -0.406737   \n",
              "28/8/2013 13:53                   684  -4.495279 -11.126206 -0.358368   \n",
              "28/8/2013 13:54                   693  10.461622   3.399187 -0.309017   \n",
              "28/8/2013 13:55                   691  -3.078181  -8.457234 -0.258819   \n",
              "28/8/2013 13:56                   671  -4.300415 -11.202965 -0.207912   \n",
              "...                               ...        ...        ...       ...   \n",
              "8/12/2013 17:06                    54   5.991029   9.225376 -0.309017   \n",
              "8/12/2013 17:07                    53   2.205099   7.690094 -0.358368   \n",
              "8/12/2013 17:08                    47   1.552914   5.795555 -0.406737   \n",
              "8/12/2013 17:09                    46   3.775922   4.662876 -0.453990   \n",
              "8/12/2013 17:10                    44   3.775922   4.662876 -0.500000   \n",
              "\n",
              "                  Day cos  Year sin  Year cos  Solar_Radiation_data_SQ  \\\n",
              "Date_time_name                                                           \n",
              "28/8/2013 13:52  0.913545 -0.636894  0.770952                26.019224   \n",
              "28/8/2013 13:53  0.933580 -0.636783  0.771043                26.153394   \n",
              "28/8/2013 13:54  0.951057 -0.636672  0.771134                26.324893   \n",
              "28/8/2013 13:55  0.965926 -0.636562  0.771226                26.286879   \n",
              "28/8/2013 13:56  0.978148 -0.636451  0.771317                25.903668   \n",
              "...                   ...       ...       ...                      ...   \n",
              "8/12/2013 17:06 -0.951057  0.733863 -0.679297                 7.348469   \n",
              "8/12/2013 17:07 -0.933580  0.733766 -0.679403                 7.280110   \n",
              "8/12/2013 17:08 -0.913545  0.733668 -0.679508                 6.855655   \n",
              "8/12/2013 17:09 -0.891007  0.733571 -0.679613                 6.782330   \n",
              "8/12/2013 17:10 -0.866025  0.733473 -0.679718                 6.633250   \n",
              "\n",
              "                       pred  \n",
              "Date_time_name               \n",
              "28/8/2013 13:52  876.232190  \n",
              "28/8/2013 13:53  875.864966  \n",
              "28/8/2013 13:54  886.589854  \n",
              "28/8/2013 13:55  888.412218  \n",
              "28/8/2013 13:56  888.341668  \n",
              "...                     ...  \n",
              "8/12/2013 17:06 -147.300556  \n",
              "8/12/2013 17:07 -149.683286  \n",
              "8/12/2013 17:08 -170.430190  \n",
              "8/12/2013 17:09 -164.888588  \n",
              "8/12/2013 17:10 -180.654518  \n",
              "\n",
              "[6413 rows x 14 columns]"
            ],
            "text/html": [
              "\n",
              "  <div id=\"df-8a0dbc9b-152d-431a-832c-171b1be749dd\">\n",
              "    <div class=\"colab-df-container\">\n",
              "      <div>\n",
              "<style scoped>\n",
              "    .dataframe tbody tr th:only-of-type {\n",
              "        vertical-align: middle;\n",
              "    }\n",
              "\n",
              "    .dataframe tbody tr th {\n",
              "        vertical-align: top;\n",
              "    }\n",
              "\n",
              "    .dataframe thead th {\n",
              "        text-align: right;\n",
              "    }\n",
              "</style>\n",
              "<table border=\"1\" class=\"dataframe\">\n",
              "  <thead>\n",
              "    <tr style=\"text-align: right;\">\n",
              "      <th></th>\n",
              "      <th>TS1_P1_data</th>\n",
              "      <th>TS1_SENS0700_TmpMdul_C_data</th>\n",
              "      <th>Barometer_data</th>\n",
              "      <th>Outside_Humidity_data</th>\n",
              "      <th>Outside_Temperature_data</th>\n",
              "      <th>Solar_Radiation_data</th>\n",
              "      <th>Wx</th>\n",
              "      <th>Wy</th>\n",
              "      <th>Day sin</th>\n",
              "      <th>Day cos</th>\n",
              "      <th>Year sin</th>\n",
              "      <th>Year cos</th>\n",
              "      <th>Solar_Radiation_data_SQ</th>\n",
              "      <th>pred</th>\n",
              "    </tr>\n",
              "    <tr>\n",
              "      <th>Date_time_name</th>\n",
              "      <th></th>\n",
              "      <th></th>\n",
              "      <th></th>\n",
              "      <th></th>\n",
              "      <th></th>\n",
              "      <th></th>\n",
              "      <th></th>\n",
              "      <th></th>\n",
              "      <th></th>\n",
              "      <th></th>\n",
              "      <th></th>\n",
              "      <th></th>\n",
              "      <th></th>\n",
              "      <th></th>\n",
              "    </tr>\n",
              "  </thead>\n",
              "  <tbody>\n",
              "    <tr>\n",
              "      <th>28/8/2013 13:52</th>\n",
              "      <td>1008</td>\n",
              "      <td>32</td>\n",
              "      <td>1013</td>\n",
              "      <td>59</td>\n",
              "      <td>17</td>\n",
              "      <td>677</td>\n",
              "      <td>9.335804</td>\n",
              "      <td>3.583679</td>\n",
              "      <td>-0.406737</td>\n",
              "      <td>0.913545</td>\n",
              "      <td>-0.636894</td>\n",
              "      <td>0.770952</td>\n",
              "      <td>26.019224</td>\n",
              "      <td>876.232190</td>\n",
              "    </tr>\n",
              "    <tr>\n",
              "      <th>28/8/2013 13:53</th>\n",
              "      <td>1033</td>\n",
              "      <td>32</td>\n",
              "      <td>1013</td>\n",
              "      <td>60</td>\n",
              "      <td>17</td>\n",
              "      <td>684</td>\n",
              "      <td>-4.495279</td>\n",
              "      <td>-11.126206</td>\n",
              "      <td>-0.358368</td>\n",
              "      <td>0.933580</td>\n",
              "      <td>-0.636783</td>\n",
              "      <td>0.771043</td>\n",
              "      <td>26.153394</td>\n",
              "      <td>875.864966</td>\n",
              "    </tr>\n",
              "    <tr>\n",
              "      <th>28/8/2013 13:54</th>\n",
              "      <td>1034</td>\n",
              "      <td>31</td>\n",
              "      <td>1013</td>\n",
              "      <td>58</td>\n",
              "      <td>17</td>\n",
              "      <td>693</td>\n",
              "      <td>10.461622</td>\n",
              "      <td>3.399187</td>\n",
              "      <td>-0.309017</td>\n",
              "      <td>0.951057</td>\n",
              "      <td>-0.636672</td>\n",
              "      <td>0.771134</td>\n",
              "      <td>26.324893</td>\n",
              "      <td>886.589854</td>\n",
              "    </tr>\n",
              "    <tr>\n",
              "      <th>28/8/2013 13:55</th>\n",
              "      <td>1009</td>\n",
              "      <td>32</td>\n",
              "      <td>1013</td>\n",
              "      <td>59</td>\n",
              "      <td>17</td>\n",
              "      <td>691</td>\n",
              "      <td>-3.078181</td>\n",
              "      <td>-8.457234</td>\n",
              "      <td>-0.258819</td>\n",
              "      <td>0.965926</td>\n",
              "      <td>-0.636562</td>\n",
              "      <td>0.771226</td>\n",
              "      <td>26.286879</td>\n",
              "      <td>888.412218</td>\n",
              "    </tr>\n",
              "    <tr>\n",
              "      <th>28/8/2013 13:56</th>\n",
              "      <td>986</td>\n",
              "      <td>32</td>\n",
              "      <td>1013</td>\n",
              "      <td>59</td>\n",
              "      <td>17</td>\n",
              "      <td>671</td>\n",
              "      <td>-4.300415</td>\n",
              "      <td>-11.202965</td>\n",
              "      <td>-0.207912</td>\n",
              "      <td>0.978148</td>\n",
              "      <td>-0.636451</td>\n",
              "      <td>0.771317</td>\n",
              "      <td>25.903668</td>\n",
              "      <td>888.341668</td>\n",
              "    </tr>\n",
              "    <tr>\n",
              "      <th>...</th>\n",
              "      <td>...</td>\n",
              "      <td>...</td>\n",
              "      <td>...</td>\n",
              "      <td>...</td>\n",
              "      <td>...</td>\n",
              "      <td>...</td>\n",
              "      <td>...</td>\n",
              "      <td>...</td>\n",
              "      <td>...</td>\n",
              "      <td>...</td>\n",
              "      <td>...</td>\n",
              "      <td>...</td>\n",
              "      <td>...</td>\n",
              "      <td>...</td>\n",
              "    </tr>\n",
              "    <tr>\n",
              "      <th>8/12/2013 17:06</th>\n",
              "      <td>69</td>\n",
              "      <td>20</td>\n",
              "      <td>1017</td>\n",
              "      <td>74</td>\n",
              "      <td>17</td>\n",
              "      <td>54</td>\n",
              "      <td>5.991029</td>\n",
              "      <td>9.225376</td>\n",
              "      <td>-0.309017</td>\n",
              "      <td>-0.951057</td>\n",
              "      <td>0.733863</td>\n",
              "      <td>-0.679297</td>\n",
              "      <td>7.348469</td>\n",
              "      <td>-147.300556</td>\n",
              "    </tr>\n",
              "    <tr>\n",
              "      <th>8/12/2013 17:07</th>\n",
              "      <td>55</td>\n",
              "      <td>20</td>\n",
              "      <td>1017</td>\n",
              "      <td>74</td>\n",
              "      <td>17</td>\n",
              "      <td>53</td>\n",
              "      <td>2.205099</td>\n",
              "      <td>7.690094</td>\n",
              "      <td>-0.358368</td>\n",
              "      <td>-0.933580</td>\n",
              "      <td>0.733766</td>\n",
              "      <td>-0.679403</td>\n",
              "      <td>7.280110</td>\n",
              "      <td>-149.683286</td>\n",
              "    </tr>\n",
              "    <tr>\n",
              "      <th>8/12/2013 17:08</th>\n",
              "      <td>52</td>\n",
              "      <td>20</td>\n",
              "      <td>1017</td>\n",
              "      <td>74</td>\n",
              "      <td>17</td>\n",
              "      <td>47</td>\n",
              "      <td>1.552914</td>\n",
              "      <td>5.795555</td>\n",
              "      <td>-0.406737</td>\n",
              "      <td>-0.913545</td>\n",
              "      <td>0.733668</td>\n",
              "      <td>-0.679508</td>\n",
              "      <td>6.855655</td>\n",
              "      <td>-170.430190</td>\n",
              "    </tr>\n",
              "    <tr>\n",
              "      <th>8/12/2013 17:09</th>\n",
              "      <td>52</td>\n",
              "      <td>19</td>\n",
              "      <td>1017</td>\n",
              "      <td>74</td>\n",
              "      <td>17</td>\n",
              "      <td>46</td>\n",
              "      <td>3.775922</td>\n",
              "      <td>4.662876</td>\n",
              "      <td>-0.453990</td>\n",
              "      <td>-0.891007</td>\n",
              "      <td>0.733571</td>\n",
              "      <td>-0.679613</td>\n",
              "      <td>6.782330</td>\n",
              "      <td>-164.888588</td>\n",
              "    </tr>\n",
              "    <tr>\n",
              "      <th>8/12/2013 17:10</th>\n",
              "      <td>53</td>\n",
              "      <td>19</td>\n",
              "      <td>1017</td>\n",
              "      <td>74</td>\n",
              "      <td>17</td>\n",
              "      <td>44</td>\n",
              "      <td>3.775922</td>\n",
              "      <td>4.662876</td>\n",
              "      <td>-0.500000</td>\n",
              "      <td>-0.866025</td>\n",
              "      <td>0.733473</td>\n",
              "      <td>-0.679718</td>\n",
              "      <td>6.633250</td>\n",
              "      <td>-180.654518</td>\n",
              "    </tr>\n",
              "  </tbody>\n",
              "</table>\n",
              "<p>6413 rows × 14 columns</p>\n",
              "</div>\n",
              "      <button class=\"colab-df-convert\" onclick=\"convertToInteractive('df-8a0dbc9b-152d-431a-832c-171b1be749dd')\"\n",
              "              title=\"Convert this dataframe to an interactive table.\"\n",
              "              style=\"display:none;\">\n",
              "        \n",
              "  <svg xmlns=\"http://www.w3.org/2000/svg\" height=\"24px\"viewBox=\"0 0 24 24\"\n",
              "       width=\"24px\">\n",
              "    <path d=\"M0 0h24v24H0V0z\" fill=\"none\"/>\n",
              "    <path d=\"M18.56 5.44l.94 2.06.94-2.06 2.06-.94-2.06-.94-.94-2.06-.94 2.06-2.06.94zm-11 1L8.5 8.5l.94-2.06 2.06-.94-2.06-.94L8.5 2.5l-.94 2.06-2.06.94zm10 10l.94 2.06.94-2.06 2.06-.94-2.06-.94-.94-2.06-.94 2.06-2.06.94z\"/><path d=\"M17.41 7.96l-1.37-1.37c-.4-.4-.92-.59-1.43-.59-.52 0-1.04.2-1.43.59L10.3 9.45l-7.72 7.72c-.78.78-.78 2.05 0 2.83L4 21.41c.39.39.9.59 1.41.59.51 0 1.02-.2 1.41-.59l7.78-7.78 2.81-2.81c.8-.78.8-2.07 0-2.86zM5.41 20L4 18.59l7.72-7.72 1.47 1.35L5.41 20z\"/>\n",
              "  </svg>\n",
              "      </button>\n",
              "      \n",
              "  <style>\n",
              "    .colab-df-container {\n",
              "      display:flex;\n",
              "      flex-wrap:wrap;\n",
              "      gap: 12px;\n",
              "    }\n",
              "\n",
              "    .colab-df-convert {\n",
              "      background-color: #E8F0FE;\n",
              "      border: none;\n",
              "      border-radius: 50%;\n",
              "      cursor: pointer;\n",
              "      display: none;\n",
              "      fill: #1967D2;\n",
              "      height: 32px;\n",
              "      padding: 0 0 0 0;\n",
              "      width: 32px;\n",
              "    }\n",
              "\n",
              "    .colab-df-convert:hover {\n",
              "      background-color: #E2EBFA;\n",
              "      box-shadow: 0px 1px 2px rgba(60, 64, 67, 0.3), 0px 1px 3px 1px rgba(60, 64, 67, 0.15);\n",
              "      fill: #174EA6;\n",
              "    }\n",
              "\n",
              "    [theme=dark] .colab-df-convert {\n",
              "      background-color: #3B4455;\n",
              "      fill: #D2E3FC;\n",
              "    }\n",
              "\n",
              "    [theme=dark] .colab-df-convert:hover {\n",
              "      background-color: #434B5C;\n",
              "      box-shadow: 0px 1px 3px 1px rgba(0, 0, 0, 0.15);\n",
              "      filter: drop-shadow(0px 1px 2px rgba(0, 0, 0, 0.3));\n",
              "      fill: #FFFFFF;\n",
              "    }\n",
              "  </style>\n",
              "\n",
              "      <script>\n",
              "        const buttonEl =\n",
              "          document.querySelector('#df-8a0dbc9b-152d-431a-832c-171b1be749dd button.colab-df-convert');\n",
              "        buttonEl.style.display =\n",
              "          google.colab.kernel.accessAllowed ? 'block' : 'none';\n",
              "\n",
              "        async function convertToInteractive(key) {\n",
              "          const element = document.querySelector('#df-8a0dbc9b-152d-431a-832c-171b1be749dd');\n",
              "          const dataTable =\n",
              "            await google.colab.kernel.invokeFunction('convertToInteractive',\n",
              "                                                     [key], {});\n",
              "          if (!dataTable) return;\n",
              "\n",
              "          const docLinkHtml = 'Like what you see? Visit the ' +\n",
              "            '<a target=\"_blank\" href=https://colab.research.google.com/notebooks/data_table.ipynb>data table notebook</a>'\n",
              "            + ' to learn more about interactive tables.';\n",
              "          element.innerHTML = '';\n",
              "          dataTable['output_type'] = 'display_data';\n",
              "          await google.colab.output.renderOutput(dataTable, element);\n",
              "          const docLink = document.createElement('div');\n",
              "          docLink.innerHTML = docLinkHtml;\n",
              "          element.appendChild(docLink);\n",
              "        }\n",
              "      </script>\n",
              "    </div>\n",
              "  </div>\n",
              "  "
            ]
          },
          "metadata": {},
          "execution_count": 138
        }
      ]
    },
    {
      "cell_type": "code",
      "source": [
        "y_pred=df_finalWI['pred']\n",
        "y_test=df_finalWI['TS1_P1_data']"
      ],
      "metadata": {
        "id": "0vUIm7QnDC7Y"
      },
      "execution_count": 139,
      "outputs": []
    },
    {
      "cell_type": "code",
      "source": [
        "from sklearn.metrics import mean_absolute_error\n",
        "from sklearn.metrics import mean_squared_error\n",
        "from sklearn.metrics import r2_score\n",
        "\n",
        "def MAPE(Y_actual,Y_Predicted):\n",
        "  mape = np.mean(np.abs((Y_actual - Y_Predicted)/Y_actual))*100\n",
        "  return mape\n",
        "\n",
        "\n",
        "\n",
        "MSE=mean_squared_error(y_test,y_pred)\n",
        "MAE=mean_absolute_error(y_test,y_pred)\n",
        "RMSE=np.sqrt(mean_squared_error(y_test,y_pred))\n",
        "RMSELOG=np.log(np.sqrt(mean_squared_error(y_test,y_pred)))\n",
        "R2 = r2_score(y_test,y_pred)\n",
        "MAPE=np.mean(np.abs((y_test - y_pred)/y_test))*100\n",
        "print('Mean Absolute Error: {:.4f}'.format(MAE))\n",
        "print('Root Mean Square Error: {:.4f}'.format(RMSE))\n",
        "print('Root Mean Square Error_LOG: {:.4f}'.format(RMSELOG))\n",
        "print('Mean Square Error: {:.4f}'.format(MSE))\n",
        "print('r_2 score:{:.4f}'.format(R2))\n",
        "print('MAPE score:{:.4f}'.format(MAPE))\n",
        "print('')\n",
        "\n",
        "#EV_prediction(pred, power)"
      ],
      "metadata": {
        "id": "Kwn9A5I__CHx",
        "colab": {
          "base_uri": "https://localhost:8080/"
        },
        "outputId": "00774153-468b-4e43-bd0e-8b6bc2332c78"
      },
      "execution_count": 140,
      "outputs": [
        {
          "output_type": "stream",
          "name": "stdout",
          "text": [
            "Mean Absolute Error: 130.0417\n",
            "Root Mean Square Error: 172.4616\n",
            "Root Mean Square Error_LOG: 5.1502\n",
            "Mean Square Error: 29742.9911\n",
            "r_2 score:0.7515\n",
            "MAPE score:46.3959\n",
            "\n"
          ]
        }
      ]
    },
    {
      "cell_type": "markdown",
      "source": [
        "**CNN-SUMMER**\n",
        "---"
      ],
      "metadata": {
        "id": "cSI3cYrY_Z-Q"
      }
    },
    {
      "cell_type": "code",
      "source": [
        "dfSummer"
      ],
      "metadata": {
        "id": "OK6AmWra7FA1",
        "colab": {
          "base_uri": "https://localhost:8080/",
          "height": 455
        },
        "outputId": "120f7a33-1214-48f5-e129-55c2a1c216c8"
      },
      "execution_count": 141,
      "outputs": [
        {
          "output_type": "execute_result",
          "data": {
            "text/plain": [
              "                 TS1_P1_data  TS1_SENS0700_TmpMdul_C_data  Barometer_data  \\\n",
              "Date_time_name                                                              \n",
              "1/1/2013 6:20             55                           28            1007   \n",
              "1/1/2013 6:21             51                           28            1007   \n",
              "1/1/2013 6:22             52                           28            1007   \n",
              "1/1/2013 6:23             52                           28            1007   \n",
              "1/1/2013 6:24             52                           28            1007   \n",
              "...                      ...                          ...             ...   \n",
              "2/12/2013 18:35           64                           35            1009   \n",
              "2/12/2013 18:36           57                           35            1009   \n",
              "2/12/2013 18:37           51                           34            1009   \n",
              "2/12/2013 18:39           52                           34            1009   \n",
              "2/12/2013 18:40           52                           34            1009   \n",
              "\n",
              "                 Outside_Humidity_data  Outside_Temperature_data  \\\n",
              "Date_time_name                                                     \n",
              "1/1/2013 6:20                       75                        26   \n",
              "1/1/2013 6:21                       75                        26   \n",
              "1/1/2013 6:22                       75                        26   \n",
              "1/1/2013 6:23                       75                        26   \n",
              "1/1/2013 6:24                       75                        26   \n",
              "...                                ...                       ...   \n",
              "2/12/2013 18:35                     32                        32   \n",
              "2/12/2013 18:36                     31                        32   \n",
              "2/12/2013 18:37                     32                        32   \n",
              "2/12/2013 18:39                     31                        32   \n",
              "2/12/2013 18:40                     31                        32   \n",
              "\n",
              "                 Solar_Radiation_data_SQ         Wx        Wy   Day sin  \\\n",
              "Date_time_name                                                            \n",
              "1/1/2013 6:20                  12.165525   7.969558  0.697246  0.866025   \n",
              "1/1/2013 6:21                  12.649111  10.199022  4.120673  0.891007   \n",
              "1/1/2013 6:22                  12.767145  -0.156434  0.987688  0.913545   \n",
              "1/1/2013 6:23                  13.000000  -0.156434  0.987688  0.933580   \n",
              "1/1/2013 6:24                  13.076697  -0.156434  0.987688  0.951057   \n",
              "...                                  ...        ...       ...       ...   \n",
              "2/12/2013 18:35                 8.717798  -6.151122 -9.119413  0.965926   \n",
              "2/12/2013 18:36                 8.602325  -3.693969 -4.728065  0.951057   \n",
              "2/12/2013 18:37                 8.366600  -0.000000 -0.000000  0.933580   \n",
              "2/12/2013 18:39                 8.062258  -0.777146 -0.629320  0.891007   \n",
              "2/12/2013 18:40                 7.874008  -3.108584 -2.517282  0.866025   \n",
              "\n",
              "                  Day cos  Year sin  Year cos  \n",
              "Date_time_name                                 \n",
              "1/1/2013 6:20    0.500000  0.171802  0.985132  \n",
              "1/1/2013 6:21    0.453990  0.171943  0.985107  \n",
              "1/1/2013 6:22    0.406737  0.172084  0.985082  \n",
              "1/1/2013 6:23    0.358368  0.172226  0.985058  \n",
              "1/1/2013 6:24    0.309017  0.172367  0.985033  \n",
              "...                   ...       ...       ...  \n",
              "2/12/2013 18:35 -0.258819  0.458719 -0.888582  \n",
              "2/12/2013 18:36 -0.309017  0.458591 -0.888647  \n",
              "2/12/2013 18:37 -0.358368  0.458464 -0.888713  \n",
              "2/12/2013 18:39 -0.453990  0.458209 -0.888844  \n",
              "2/12/2013 18:40 -0.500000  0.458082 -0.888910  \n",
              "\n",
              "[24238 rows x 12 columns]"
            ],
            "text/html": [
              "\n",
              "  <div id=\"df-a9a521fe-b2df-43f0-8094-fd9a1b27f8b5\">\n",
              "    <div class=\"colab-df-container\">\n",
              "      <div>\n",
              "<style scoped>\n",
              "    .dataframe tbody tr th:only-of-type {\n",
              "        vertical-align: middle;\n",
              "    }\n",
              "\n",
              "    .dataframe tbody tr th {\n",
              "        vertical-align: top;\n",
              "    }\n",
              "\n",
              "    .dataframe thead th {\n",
              "        text-align: right;\n",
              "    }\n",
              "</style>\n",
              "<table border=\"1\" class=\"dataframe\">\n",
              "  <thead>\n",
              "    <tr style=\"text-align: right;\">\n",
              "      <th></th>\n",
              "      <th>TS1_P1_data</th>\n",
              "      <th>TS1_SENS0700_TmpMdul_C_data</th>\n",
              "      <th>Barometer_data</th>\n",
              "      <th>Outside_Humidity_data</th>\n",
              "      <th>Outside_Temperature_data</th>\n",
              "      <th>Solar_Radiation_data_SQ</th>\n",
              "      <th>Wx</th>\n",
              "      <th>Wy</th>\n",
              "      <th>Day sin</th>\n",
              "      <th>Day cos</th>\n",
              "      <th>Year sin</th>\n",
              "      <th>Year cos</th>\n",
              "    </tr>\n",
              "    <tr>\n",
              "      <th>Date_time_name</th>\n",
              "      <th></th>\n",
              "      <th></th>\n",
              "      <th></th>\n",
              "      <th></th>\n",
              "      <th></th>\n",
              "      <th></th>\n",
              "      <th></th>\n",
              "      <th></th>\n",
              "      <th></th>\n",
              "      <th></th>\n",
              "      <th></th>\n",
              "      <th></th>\n",
              "    </tr>\n",
              "  </thead>\n",
              "  <tbody>\n",
              "    <tr>\n",
              "      <th>1/1/2013 6:20</th>\n",
              "      <td>55</td>\n",
              "      <td>28</td>\n",
              "      <td>1007</td>\n",
              "      <td>75</td>\n",
              "      <td>26</td>\n",
              "      <td>12.165525</td>\n",
              "      <td>7.969558</td>\n",
              "      <td>0.697246</td>\n",
              "      <td>0.866025</td>\n",
              "      <td>0.500000</td>\n",
              "      <td>0.171802</td>\n",
              "      <td>0.985132</td>\n",
              "    </tr>\n",
              "    <tr>\n",
              "      <th>1/1/2013 6:21</th>\n",
              "      <td>51</td>\n",
              "      <td>28</td>\n",
              "      <td>1007</td>\n",
              "      <td>75</td>\n",
              "      <td>26</td>\n",
              "      <td>12.649111</td>\n",
              "      <td>10.199022</td>\n",
              "      <td>4.120673</td>\n",
              "      <td>0.891007</td>\n",
              "      <td>0.453990</td>\n",
              "      <td>0.171943</td>\n",
              "      <td>0.985107</td>\n",
              "    </tr>\n",
              "    <tr>\n",
              "      <th>1/1/2013 6:22</th>\n",
              "      <td>52</td>\n",
              "      <td>28</td>\n",
              "      <td>1007</td>\n",
              "      <td>75</td>\n",
              "      <td>26</td>\n",
              "      <td>12.767145</td>\n",
              "      <td>-0.156434</td>\n",
              "      <td>0.987688</td>\n",
              "      <td>0.913545</td>\n",
              "      <td>0.406737</td>\n",
              "      <td>0.172084</td>\n",
              "      <td>0.985082</td>\n",
              "    </tr>\n",
              "    <tr>\n",
              "      <th>1/1/2013 6:23</th>\n",
              "      <td>52</td>\n",
              "      <td>28</td>\n",
              "      <td>1007</td>\n",
              "      <td>75</td>\n",
              "      <td>26</td>\n",
              "      <td>13.000000</td>\n",
              "      <td>-0.156434</td>\n",
              "      <td>0.987688</td>\n",
              "      <td>0.933580</td>\n",
              "      <td>0.358368</td>\n",
              "      <td>0.172226</td>\n",
              "      <td>0.985058</td>\n",
              "    </tr>\n",
              "    <tr>\n",
              "      <th>1/1/2013 6:24</th>\n",
              "      <td>52</td>\n",
              "      <td>28</td>\n",
              "      <td>1007</td>\n",
              "      <td>75</td>\n",
              "      <td>26</td>\n",
              "      <td>13.076697</td>\n",
              "      <td>-0.156434</td>\n",
              "      <td>0.987688</td>\n",
              "      <td>0.951057</td>\n",
              "      <td>0.309017</td>\n",
              "      <td>0.172367</td>\n",
              "      <td>0.985033</td>\n",
              "    </tr>\n",
              "    <tr>\n",
              "      <th>...</th>\n",
              "      <td>...</td>\n",
              "      <td>...</td>\n",
              "      <td>...</td>\n",
              "      <td>...</td>\n",
              "      <td>...</td>\n",
              "      <td>...</td>\n",
              "      <td>...</td>\n",
              "      <td>...</td>\n",
              "      <td>...</td>\n",
              "      <td>...</td>\n",
              "      <td>...</td>\n",
              "      <td>...</td>\n",
              "    </tr>\n",
              "    <tr>\n",
              "      <th>2/12/2013 18:35</th>\n",
              "      <td>64</td>\n",
              "      <td>35</td>\n",
              "      <td>1009</td>\n",
              "      <td>32</td>\n",
              "      <td>32</td>\n",
              "      <td>8.717798</td>\n",
              "      <td>-6.151122</td>\n",
              "      <td>-9.119413</td>\n",
              "      <td>0.965926</td>\n",
              "      <td>-0.258819</td>\n",
              "      <td>0.458719</td>\n",
              "      <td>-0.888582</td>\n",
              "    </tr>\n",
              "    <tr>\n",
              "      <th>2/12/2013 18:36</th>\n",
              "      <td>57</td>\n",
              "      <td>35</td>\n",
              "      <td>1009</td>\n",
              "      <td>31</td>\n",
              "      <td>32</td>\n",
              "      <td>8.602325</td>\n",
              "      <td>-3.693969</td>\n",
              "      <td>-4.728065</td>\n",
              "      <td>0.951057</td>\n",
              "      <td>-0.309017</td>\n",
              "      <td>0.458591</td>\n",
              "      <td>-0.888647</td>\n",
              "    </tr>\n",
              "    <tr>\n",
              "      <th>2/12/2013 18:37</th>\n",
              "      <td>51</td>\n",
              "      <td>34</td>\n",
              "      <td>1009</td>\n",
              "      <td>32</td>\n",
              "      <td>32</td>\n",
              "      <td>8.366600</td>\n",
              "      <td>-0.000000</td>\n",
              "      <td>-0.000000</td>\n",
              "      <td>0.933580</td>\n",
              "      <td>-0.358368</td>\n",
              "      <td>0.458464</td>\n",
              "      <td>-0.888713</td>\n",
              "    </tr>\n",
              "    <tr>\n",
              "      <th>2/12/2013 18:39</th>\n",
              "      <td>52</td>\n",
              "      <td>34</td>\n",
              "      <td>1009</td>\n",
              "      <td>31</td>\n",
              "      <td>32</td>\n",
              "      <td>8.062258</td>\n",
              "      <td>-0.777146</td>\n",
              "      <td>-0.629320</td>\n",
              "      <td>0.891007</td>\n",
              "      <td>-0.453990</td>\n",
              "      <td>0.458209</td>\n",
              "      <td>-0.888844</td>\n",
              "    </tr>\n",
              "    <tr>\n",
              "      <th>2/12/2013 18:40</th>\n",
              "      <td>52</td>\n",
              "      <td>34</td>\n",
              "      <td>1009</td>\n",
              "      <td>31</td>\n",
              "      <td>32</td>\n",
              "      <td>7.874008</td>\n",
              "      <td>-3.108584</td>\n",
              "      <td>-2.517282</td>\n",
              "      <td>0.866025</td>\n",
              "      <td>-0.500000</td>\n",
              "      <td>0.458082</td>\n",
              "      <td>-0.888910</td>\n",
              "    </tr>\n",
              "  </tbody>\n",
              "</table>\n",
              "<p>24238 rows × 12 columns</p>\n",
              "</div>\n",
              "      <button class=\"colab-df-convert\" onclick=\"convertToInteractive('df-a9a521fe-b2df-43f0-8094-fd9a1b27f8b5')\"\n",
              "              title=\"Convert this dataframe to an interactive table.\"\n",
              "              style=\"display:none;\">\n",
              "        \n",
              "  <svg xmlns=\"http://www.w3.org/2000/svg\" height=\"24px\"viewBox=\"0 0 24 24\"\n",
              "       width=\"24px\">\n",
              "    <path d=\"M0 0h24v24H0V0z\" fill=\"none\"/>\n",
              "    <path d=\"M18.56 5.44l.94 2.06.94-2.06 2.06-.94-2.06-.94-.94-2.06-.94 2.06-2.06.94zm-11 1L8.5 8.5l.94-2.06 2.06-.94-2.06-.94L8.5 2.5l-.94 2.06-2.06.94zm10 10l.94 2.06.94-2.06 2.06-.94-2.06-.94-.94-2.06-.94 2.06-2.06.94z\"/><path d=\"M17.41 7.96l-1.37-1.37c-.4-.4-.92-.59-1.43-.59-.52 0-1.04.2-1.43.59L10.3 9.45l-7.72 7.72c-.78.78-.78 2.05 0 2.83L4 21.41c.39.39.9.59 1.41.59.51 0 1.02-.2 1.41-.59l7.78-7.78 2.81-2.81c.8-.78.8-2.07 0-2.86zM5.41 20L4 18.59l7.72-7.72 1.47 1.35L5.41 20z\"/>\n",
              "  </svg>\n",
              "      </button>\n",
              "      \n",
              "  <style>\n",
              "    .colab-df-container {\n",
              "      display:flex;\n",
              "      flex-wrap:wrap;\n",
              "      gap: 12px;\n",
              "    }\n",
              "\n",
              "    .colab-df-convert {\n",
              "      background-color: #E8F0FE;\n",
              "      border: none;\n",
              "      border-radius: 50%;\n",
              "      cursor: pointer;\n",
              "      display: none;\n",
              "      fill: #1967D2;\n",
              "      height: 32px;\n",
              "      padding: 0 0 0 0;\n",
              "      width: 32px;\n",
              "    }\n",
              "\n",
              "    .colab-df-convert:hover {\n",
              "      background-color: #E2EBFA;\n",
              "      box-shadow: 0px 1px 2px rgba(60, 64, 67, 0.3), 0px 1px 3px 1px rgba(60, 64, 67, 0.15);\n",
              "      fill: #174EA6;\n",
              "    }\n",
              "\n",
              "    [theme=dark] .colab-df-convert {\n",
              "      background-color: #3B4455;\n",
              "      fill: #D2E3FC;\n",
              "    }\n",
              "\n",
              "    [theme=dark] .colab-df-convert:hover {\n",
              "      background-color: #434B5C;\n",
              "      box-shadow: 0px 1px 3px 1px rgba(0, 0, 0, 0.15);\n",
              "      filter: drop-shadow(0px 1px 2px rgba(0, 0, 0, 0.3));\n",
              "      fill: #FFFFFF;\n",
              "    }\n",
              "  </style>\n",
              "\n",
              "      <script>\n",
              "        const buttonEl =\n",
              "          document.querySelector('#df-a9a521fe-b2df-43f0-8094-fd9a1b27f8b5 button.colab-df-convert');\n",
              "        buttonEl.style.display =\n",
              "          google.colab.kernel.accessAllowed ? 'block' : 'none';\n",
              "\n",
              "        async function convertToInteractive(key) {\n",
              "          const element = document.querySelector('#df-a9a521fe-b2df-43f0-8094-fd9a1b27f8b5');\n",
              "          const dataTable =\n",
              "            await google.colab.kernel.invokeFunction('convertToInteractive',\n",
              "                                                     [key], {});\n",
              "          if (!dataTable) return;\n",
              "\n",
              "          const docLinkHtml = 'Like what you see? Visit the ' +\n",
              "            '<a target=\"_blank\" href=https://colab.research.google.com/notebooks/data_table.ipynb>data table notebook</a>'\n",
              "            + ' to learn more about interactive tables.';\n",
              "          element.innerHTML = '';\n",
              "          dataTable['output_type'] = 'display_data';\n",
              "          await google.colab.output.renderOutput(dataTable, element);\n",
              "          const docLink = document.createElement('div');\n",
              "          docLink.innerHTML = docLinkHtml;\n",
              "          element.appendChild(docLink);\n",
              "        }\n",
              "      </script>\n",
              "    </div>\n",
              "  </div>\n",
              "  "
            ]
          },
          "metadata": {},
          "execution_count": 141
        }
      ]
    },
    {
      "cell_type": "code",
      "source": [
        "scaler = MinMaxScaler()\n",
        "data_scaled_SU= scaler.fit_transform(dfSummer)"
      ],
      "metadata": {
        "id": "SxP41Wdu7E9d"
      },
      "execution_count": 142,
      "outputs": []
    },
    {
      "cell_type": "code",
      "source": [
        "data_scaled_SU"
      ],
      "metadata": {
        "id": "B3TT3OTB7E66",
        "colab": {
          "base_uri": "https://localhost:8080/"
        },
        "outputId": "39324208-6c37-4f27-8712-ca2f0c6f16fd"
      },
      "execution_count": 143,
      "outputs": [
        {
          "output_type": "execute_result",
          "data": {
            "text/plain": [
              "array([[3.63967243e-03, 3.00000000e-01, 2.63157895e-01, ...,\n",
              "        7.50000000e-01, 5.85901281e-01, 9.92637608e-01],\n",
              "       [0.00000000e+00, 3.00000000e-01, 2.63157895e-01, ...,\n",
              "        7.26995250e-01, 5.85971893e-01, 9.92625288e-01],\n",
              "       [9.09918107e-04, 3.00000000e-01, 2.63157895e-01, ...,\n",
              "        7.03368322e-01, 5.86042503e-01, 9.92612957e-01],\n",
              "       ...,\n",
              "       [0.00000000e+00, 4.20000000e-01, 3.68421053e-01, ...,\n",
              "        3.20816025e-01, 7.29232358e-01, 5.56475305e-02],\n",
              "       [9.09918107e-04, 4.20000000e-01, 3.68421053e-01, ...,\n",
              "        2.73004750e-01, 7.29104945e-01, 5.55818203e-02],\n",
              "       [9.09918107e-04, 4.20000000e-01, 3.68421053e-01, ...,\n",
              "        2.50000000e-01, 7.29041232e-01, 5.55489788e-02]])"
            ]
          },
          "metadata": {},
          "execution_count": 143
        }
      ]
    },
    {
      "cell_type": "code",
      "source": [
        "featuresSU=data_scaled_SU\n",
        "targetSU=data_scaled_SU[:,0]"
      ],
      "metadata": {
        "id": "YN5w1qan7E4P"
      },
      "execution_count": 144,
      "outputs": []
    },
    {
      "cell_type": "code",
      "source": [
        "x_trainSU, x_testSU, y_trainSU, y_testSU= train_test_split(featuresSU, targetSU, test_size=0.20, random_state=123, shuffle = False)"
      ],
      "metadata": {
        "id": "QQuHmUCz7E1U"
      },
      "execution_count": 145,
      "outputs": []
    },
    {
      "cell_type": "code",
      "source": [
        "x_trainSU.shape"
      ],
      "metadata": {
        "id": "PUbwOIil7Evz",
        "colab": {
          "base_uri": "https://localhost:8080/"
        },
        "outputId": "f1ba2cfc-98cc-4467-9e8d-2209d946a79b"
      },
      "execution_count": 146,
      "outputs": [
        {
          "output_type": "execute_result",
          "data": {
            "text/plain": [
              "(19390, 12)"
            ]
          },
          "metadata": {},
          "execution_count": 146
        }
      ]
    },
    {
      "cell_type": "code",
      "source": [
        "x_testSU.shape"
      ],
      "metadata": {
        "id": "YM81nzrM7M_e",
        "colab": {
          "base_uri": "https://localhost:8080/"
        },
        "outputId": "03dc37b6-ebed-4258-8863-1467eb226bc0"
      },
      "execution_count": 147,
      "outputs": [
        {
          "output_type": "execute_result",
          "data": {
            "text/plain": [
              "(4848, 12)"
            ]
          },
          "metadata": {},
          "execution_count": 147
        }
      ]
    },
    {
      "cell_type": "code",
      "source": [
        "win_length=720\n",
        "batch_size=32\n",
        "num_features=12\n",
        "train_generatorSU = TimeseriesGenerator(x_trainSU, y_trainSU, length=win_length, sampling_rate=1, batch_size=batch_size)\n",
        "test_generatorSU = TimeseriesGenerator(x_testSU, y_testSU, length=win_length, sampling_rate=1, batch_size=batch_size)"
      ],
      "metadata": {
        "id": "hXE5VuD97NCi"
      },
      "execution_count": 148,
      "outputs": []
    },
    {
      "cell_type": "code",
      "source": [
        "from tensorflow.keras.models import Sequential, Model\n",
        "from tensorflow.python.keras.layers.convolutional import Conv1D, MaxPooling1D\n",
        "from tensorflow.python.keras.layers import Dense, LSTM, RepeatVector, Flatten\n",
        "from keras.regularizers import L1L2\n",
        "model = tf.keras.Sequential()\n",
        "model.add(Conv1D(filters=128, kernel_size=2, activation='relu', input_shape=(win_length, num_features)))\n",
        "model.add(MaxPooling1D(pool_size=2))\n",
        "model.add(Flatten())\n",
        "model.add(Dense(256, activation='relu'))\n",
        "model.add(Dense(128, activation='relu'))\n",
        "model.add(Dense(64, activation='relu'))\n",
        "model.add(Dense(1))\n",
        "#model.compile(loss='mse', optimizer=adam)"
      ],
      "metadata": {
        "id": "K_Ku8Gcq7NFQ"
      },
      "execution_count": 149,
      "outputs": []
    },
    {
      "cell_type": "code",
      "source": [
        "early_stopping = tf.keras.callbacks.EarlyStopping(monitor='val_loss',\n",
        "                                                    patience=2,\n",
        "                                                    mode='min')\n",
        "\n",
        "model.compile(loss=tf.losses.MeanSquaredError(),\n",
        "              optimizer=tf.optimizers.Adam(),\n",
        "              metrics=[tf.metrics.MAPE])\n",
        "\n",
        "history = model.fit_generator(train_generatorSU, epochs=5,\n",
        "                    validation_data=test_generatorSU,\n",
        "                    shuffle=False,\n",
        "                    callbacks=[early_stopping])"
      ],
      "metadata": {
        "id": "67WTyX4v7NIH",
        "colab": {
          "base_uri": "https://localhost:8080/"
        },
        "outputId": "bc0aace0-7047-41ad-f0aa-872a1485fa34"
      },
      "execution_count": 150,
      "outputs": [
        {
          "output_type": "stream",
          "name": "stderr",
          "text": [
            "<ipython-input-150-1774ab44f969>:9: UserWarning: `Model.fit_generator` is deprecated and will be removed in a future version. Please use `Model.fit`, which supports generators.\n",
            "  history = model.fit_generator(train_generatorSU, epochs=5,\n"
          ]
        },
        {
          "output_type": "stream",
          "name": "stdout",
          "text": [
            "Epoch 1/5\n",
            "584/584 [==============================] - 6s 8ms/step - loss: 0.1765 - mean_absolute_percentage_error: 721867.8125 - val_loss: 0.0913 - val_mean_absolute_percentage_error: 867652.0000\n",
            "Epoch 2/5\n",
            "584/584 [==============================] - 5s 8ms/step - loss: 0.0743 - mean_absolute_percentage_error: 712872.4375 - val_loss: 0.0853 - val_mean_absolute_percentage_error: 1375770.1250\n",
            "Epoch 3/5\n",
            "584/584 [==============================] - 5s 8ms/step - loss: 0.0627 - mean_absolute_percentage_error: 593422.3750 - val_loss: 0.1301 - val_mean_absolute_percentage_error: 1320530.0000\n",
            "Epoch 4/5\n",
            "584/584 [==============================] - 5s 8ms/step - loss: 0.0555 - mean_absolute_percentage_error: 461196.2188 - val_loss: 0.1262 - val_mean_absolute_percentage_error: 1275027.0000\n"
          ]
        }
      ]
    },
    {
      "cell_type": "code",
      "source": [
        "model.evaluate_generator(test_generatorSU, verbose=0)  "
      ],
      "metadata": {
        "colab": {
          "base_uri": "https://localhost:8080/"
        },
        "id": "nQ4ygfjXN0IY",
        "outputId": "bb0fb96b-f076-4a4a-e4a5-2a555c623e64"
      },
      "execution_count": 151,
      "outputs": [
        {
          "output_type": "stream",
          "name": "stderr",
          "text": [
            "<ipython-input-151-87ce4581047f>:1: UserWarning: `Model.evaluate_generator` is deprecated and will be removed in a future version. Please use `Model.evaluate`, which supports generators.\n",
            "  model.evaluate_generator(test_generatorSU, verbose=0)\n"
          ]
        },
        {
          "output_type": "execute_result",
          "data": {
            "text/plain": [
              "[0.12624576687812805, 1275027.0]"
            ]
          },
          "metadata": {},
          "execution_count": 151
        }
      ]
    },
    {
      "cell_type": "code",
      "source": [
        "predictionsSU=model.predict_generator(test_generatorSU)"
      ],
      "metadata": {
        "colab": {
          "base_uri": "https://localhost:8080/"
        },
        "id": "Y3yUMWgON0Fa",
        "outputId": "6e1e1a93-797a-48c1-b68e-682c6fd8de7a"
      },
      "execution_count": 152,
      "outputs": [
        {
          "output_type": "stream",
          "name": "stderr",
          "text": [
            "<ipython-input-152-1a5b2e953571>:1: UserWarning: `Model.predict_generator` is deprecated and will be removed in a future version. Please use `Model.predict`, which supports generators.\n",
            "  predictionsSU=model.predict_generator(test_generatorSU)\n"
          ]
        }
      ]
    },
    {
      "cell_type": "code",
      "source": [
        "predictionsSU.shape[0]\n",
        "predictionsSU"
      ],
      "metadata": {
        "colab": {
          "base_uri": "https://localhost:8080/"
        },
        "id": "YMeQM8GYN0CE",
        "outputId": "384c386a-dd0f-49f3-caf8-aa472c89c4c4"
      },
      "execution_count": 153,
      "outputs": [
        {
          "output_type": "execute_result",
          "data": {
            "text/plain": [
              "array([[0.48635572],\n",
              "       [0.429927  ],\n",
              "       [0.40002722],\n",
              "       ...,\n",
              "       [0.3515207 ],\n",
              "       [0.35392213],\n",
              "       [0.3575994 ]], dtype=float32)"
            ]
          },
          "metadata": {},
          "execution_count": 153
        }
      ]
    },
    {
      "cell_type": "code",
      "source": [
        "y_testSU"
      ],
      "metadata": {
        "colab": {
          "base_uri": "https://localhost:8080/"
        },
        "id": "bHUQDsiuNz_A",
        "outputId": "1cd43ea3-7f88-4613-bc4c-e8789850c3ae"
      },
      "execution_count": 154,
      "outputs": [
        {
          "output_type": "execute_result",
          "data": {
            "text/plain": [
              "array([0.11919927, 0.12374886, 0.12283894, ..., 0.        , 0.00090992,\n",
              "       0.00090992])"
            ]
          },
          "metadata": {},
          "execution_count": 154
        }
      ]
    },
    {
      "cell_type": "code",
      "source": [
        "x_testSU"
      ],
      "metadata": {
        "colab": {
          "base_uri": "https://localhost:8080/"
        },
        "id": "ZspMFy-iNz7K",
        "outputId": "bfdc1ee1-e716-4dea-a070-ead459ccdea0"
      },
      "execution_count": 155,
      "outputs": [
        {
          "output_type": "execute_result",
          "data": {
            "text/plain": [
              "array([[1.19199272e-01, 3.00000000e-01, 5.26315789e-01, ...,\n",
              "        1.85339804e-01, 9.95175408e-01, 5.69336376e-01],\n",
              "       [1.23748863e-01, 3.00000000e-01, 5.26315789e-01, ...,\n",
              "        1.65434697e-01, 9.95185336e-01, 5.69265383e-01],\n",
              "       [1.22838944e-01, 3.00000000e-01, 5.26315789e-01, ...,\n",
              "        1.46446609e-01, 9.95195255e-01, 5.69194390e-01],\n",
              "       ...,\n",
              "       [0.00000000e+00, 4.20000000e-01, 3.68421053e-01, ...,\n",
              "        3.20816025e-01, 7.29232358e-01, 5.56475305e-02],\n",
              "       [9.09918107e-04, 4.20000000e-01, 3.68421053e-01, ...,\n",
              "        2.73004750e-01, 7.29104945e-01, 5.55818203e-02],\n",
              "       [9.09918107e-04, 4.20000000e-01, 3.68421053e-01, ...,\n",
              "        2.50000000e-01, 7.29041232e-01, 5.55489788e-02]])"
            ]
          },
          "metadata": {},
          "execution_count": 155
        }
      ]
    },
    {
      "cell_type": "code",
      "source": [
        "x_testSU[:,1:][win_length:]"
      ],
      "metadata": {
        "colab": {
          "base_uri": "https://localhost:8080/"
        },
        "id": "_lExW3mENz3t",
        "outputId": "538dc9e9-511b-4817-fd89-c45887ef93c0"
      },
      "execution_count": 156,
      "outputs": [
        {
          "output_type": "execute_result",
          "data": {
            "text/plain": [
              "array([[0.36      , 0.31578947, 0.32051282, ..., 0.79389263, 0.99945751,\n",
              "        0.47673856],\n",
              "       [0.36      , 0.31578947, 0.32051282, ..., 0.77231952, 0.99945417,\n",
              "        0.47666695],\n",
              "       [0.36      , 0.31578947, 0.32051282, ..., 0.75      , 0.99945082,\n",
              "        0.47659535],\n",
              "       ...,\n",
              "       [0.42      , 0.36842105, 0.21794872, ..., 0.32081603, 0.72923236,\n",
              "        0.05564753],\n",
              "       [0.42      , 0.36842105, 0.20512821, ..., 0.27300475, 0.72910495,\n",
              "        0.05558182],\n",
              "       [0.42      , 0.36842105, 0.20512821, ..., 0.25      , 0.72904123,\n",
              "        0.05554898]])"
            ]
          },
          "metadata": {},
          "execution_count": 156
        }
      ]
    },
    {
      "cell_type": "code",
      "source": [
        "\n",
        "df_predSU=pd.concat([pd.DataFrame(predictionsSU), pd.DataFrame(x_testSU[:,1:][win_length:])],axis=1)\n",
        "df_predSU"
      ],
      "metadata": {
        "colab": {
          "base_uri": "https://localhost:8080/",
          "height": 424
        },
        "id": "yhU37QV9Nzw5",
        "outputId": "2c3da0e6-ca30-43c8-9468-7d3472667296"
      },
      "execution_count": 157,
      "outputs": [
        {
          "output_type": "execute_result",
          "data": {
            "text/plain": [
              "            0     0         1         2     3         4         5         6   \\\n",
              "0     0.486356  0.36  0.315789  0.320513  0.85  0.125199  0.793555  0.545168   \n",
              "1     0.429927  0.36  0.315789  0.320513  0.85  0.130877  0.629476  0.745688   \n",
              "2     0.400027  0.36  0.315789  0.320513  0.85  0.134601  0.664671  0.750327   \n",
              "3     0.370920  0.36  0.315789  0.320513  0.85  0.143711  0.526993  0.789768   \n",
              "4     0.340475  0.38  0.315789  0.320513  0.85  0.150805  0.636354  0.627450   \n",
              "...        ...   ...       ...       ...   ...       ...       ...       ...   \n",
              "4123  0.347957  0.44  0.368421  0.217949  0.90  0.128997  0.372428  0.153031   \n",
              "4124  0.349587  0.44  0.368421  0.205128  0.90  0.125199  0.425199  0.285714   \n",
              "4125  0.351521  0.42  0.368421  0.217949  0.90  0.117446  0.504532  0.428571   \n",
              "4126  0.353922  0.42  0.368421  0.205128  0.90  0.107436  0.487842  0.409557   \n",
              "4127  0.357599  0.42  0.368421  0.205128  0.90  0.101244  0.437771  0.352512   \n",
              "\n",
              "            7         8         9         10  \n",
              "0     0.904508  0.793893  0.999458  0.476739  \n",
              "1     0.919335  0.772320  0.999454  0.476667  \n",
              "2     0.933013  0.750000  0.999451  0.476595  \n",
              "3     0.945503  0.726995  0.999447  0.476524  \n",
              "4     0.956773  0.703368  0.999444  0.476452  \n",
              "...        ...       ...       ...       ...  \n",
              "4123  0.982963  0.370590  0.729360  0.055713  \n",
              "4124  0.975528  0.345492  0.729296  0.055680  \n",
              "4125  0.966790  0.320816  0.729232  0.055648  \n",
              "4126  0.945503  0.273005  0.729105  0.055582  \n",
              "4127  0.933013  0.250000  0.729041  0.055549  \n",
              "\n",
              "[4128 rows x 12 columns]"
            ],
            "text/html": [
              "\n",
              "  <div id=\"df-e89aee04-eca6-4e42-8c29-e0bdefb890dc\">\n",
              "    <div class=\"colab-df-container\">\n",
              "      <div>\n",
              "<style scoped>\n",
              "    .dataframe tbody tr th:only-of-type {\n",
              "        vertical-align: middle;\n",
              "    }\n",
              "\n",
              "    .dataframe tbody tr th {\n",
              "        vertical-align: top;\n",
              "    }\n",
              "\n",
              "    .dataframe thead th {\n",
              "        text-align: right;\n",
              "    }\n",
              "</style>\n",
              "<table border=\"1\" class=\"dataframe\">\n",
              "  <thead>\n",
              "    <tr style=\"text-align: right;\">\n",
              "      <th></th>\n",
              "      <th>0</th>\n",
              "      <th>0</th>\n",
              "      <th>1</th>\n",
              "      <th>2</th>\n",
              "      <th>3</th>\n",
              "      <th>4</th>\n",
              "      <th>5</th>\n",
              "      <th>6</th>\n",
              "      <th>7</th>\n",
              "      <th>8</th>\n",
              "      <th>9</th>\n",
              "      <th>10</th>\n",
              "    </tr>\n",
              "  </thead>\n",
              "  <tbody>\n",
              "    <tr>\n",
              "      <th>0</th>\n",
              "      <td>0.486356</td>\n",
              "      <td>0.36</td>\n",
              "      <td>0.315789</td>\n",
              "      <td>0.320513</td>\n",
              "      <td>0.85</td>\n",
              "      <td>0.125199</td>\n",
              "      <td>0.793555</td>\n",
              "      <td>0.545168</td>\n",
              "      <td>0.904508</td>\n",
              "      <td>0.793893</td>\n",
              "      <td>0.999458</td>\n",
              "      <td>0.476739</td>\n",
              "    </tr>\n",
              "    <tr>\n",
              "      <th>1</th>\n",
              "      <td>0.429927</td>\n",
              "      <td>0.36</td>\n",
              "      <td>0.315789</td>\n",
              "      <td>0.320513</td>\n",
              "      <td>0.85</td>\n",
              "      <td>0.130877</td>\n",
              "      <td>0.629476</td>\n",
              "      <td>0.745688</td>\n",
              "      <td>0.919335</td>\n",
              "      <td>0.772320</td>\n",
              "      <td>0.999454</td>\n",
              "      <td>0.476667</td>\n",
              "    </tr>\n",
              "    <tr>\n",
              "      <th>2</th>\n",
              "      <td>0.400027</td>\n",
              "      <td>0.36</td>\n",
              "      <td>0.315789</td>\n",
              "      <td>0.320513</td>\n",
              "      <td>0.85</td>\n",
              "      <td>0.134601</td>\n",
              "      <td>0.664671</td>\n",
              "      <td>0.750327</td>\n",
              "      <td>0.933013</td>\n",
              "      <td>0.750000</td>\n",
              "      <td>0.999451</td>\n",
              "      <td>0.476595</td>\n",
              "    </tr>\n",
              "    <tr>\n",
              "      <th>3</th>\n",
              "      <td>0.370920</td>\n",
              "      <td>0.36</td>\n",
              "      <td>0.315789</td>\n",
              "      <td>0.320513</td>\n",
              "      <td>0.85</td>\n",
              "      <td>0.143711</td>\n",
              "      <td>0.526993</td>\n",
              "      <td>0.789768</td>\n",
              "      <td>0.945503</td>\n",
              "      <td>0.726995</td>\n",
              "      <td>0.999447</td>\n",
              "      <td>0.476524</td>\n",
              "    </tr>\n",
              "    <tr>\n",
              "      <th>4</th>\n",
              "      <td>0.340475</td>\n",
              "      <td>0.38</td>\n",
              "      <td>0.315789</td>\n",
              "      <td>0.320513</td>\n",
              "      <td>0.85</td>\n",
              "      <td>0.150805</td>\n",
              "      <td>0.636354</td>\n",
              "      <td>0.627450</td>\n",
              "      <td>0.956773</td>\n",
              "      <td>0.703368</td>\n",
              "      <td>0.999444</td>\n",
              "      <td>0.476452</td>\n",
              "    </tr>\n",
              "    <tr>\n",
              "      <th>...</th>\n",
              "      <td>...</td>\n",
              "      <td>...</td>\n",
              "      <td>...</td>\n",
              "      <td>...</td>\n",
              "      <td>...</td>\n",
              "      <td>...</td>\n",
              "      <td>...</td>\n",
              "      <td>...</td>\n",
              "      <td>...</td>\n",
              "      <td>...</td>\n",
              "      <td>...</td>\n",
              "      <td>...</td>\n",
              "    </tr>\n",
              "    <tr>\n",
              "      <th>4123</th>\n",
              "      <td>0.347957</td>\n",
              "      <td>0.44</td>\n",
              "      <td>0.368421</td>\n",
              "      <td>0.217949</td>\n",
              "      <td>0.90</td>\n",
              "      <td>0.128997</td>\n",
              "      <td>0.372428</td>\n",
              "      <td>0.153031</td>\n",
              "      <td>0.982963</td>\n",
              "      <td>0.370590</td>\n",
              "      <td>0.729360</td>\n",
              "      <td>0.055713</td>\n",
              "    </tr>\n",
              "    <tr>\n",
              "      <th>4124</th>\n",
              "      <td>0.349587</td>\n",
              "      <td>0.44</td>\n",
              "      <td>0.368421</td>\n",
              "      <td>0.205128</td>\n",
              "      <td>0.90</td>\n",
              "      <td>0.125199</td>\n",
              "      <td>0.425199</td>\n",
              "      <td>0.285714</td>\n",
              "      <td>0.975528</td>\n",
              "      <td>0.345492</td>\n",
              "      <td>0.729296</td>\n",
              "      <td>0.055680</td>\n",
              "    </tr>\n",
              "    <tr>\n",
              "      <th>4125</th>\n",
              "      <td>0.351521</td>\n",
              "      <td>0.42</td>\n",
              "      <td>0.368421</td>\n",
              "      <td>0.217949</td>\n",
              "      <td>0.90</td>\n",
              "      <td>0.117446</td>\n",
              "      <td>0.504532</td>\n",
              "      <td>0.428571</td>\n",
              "      <td>0.966790</td>\n",
              "      <td>0.320816</td>\n",
              "      <td>0.729232</td>\n",
              "      <td>0.055648</td>\n",
              "    </tr>\n",
              "    <tr>\n",
              "      <th>4126</th>\n",
              "      <td>0.353922</td>\n",
              "      <td>0.42</td>\n",
              "      <td>0.368421</td>\n",
              "      <td>0.205128</td>\n",
              "      <td>0.90</td>\n",
              "      <td>0.107436</td>\n",
              "      <td>0.487842</td>\n",
              "      <td>0.409557</td>\n",
              "      <td>0.945503</td>\n",
              "      <td>0.273005</td>\n",
              "      <td>0.729105</td>\n",
              "      <td>0.055582</td>\n",
              "    </tr>\n",
              "    <tr>\n",
              "      <th>4127</th>\n",
              "      <td>0.357599</td>\n",
              "      <td>0.42</td>\n",
              "      <td>0.368421</td>\n",
              "      <td>0.205128</td>\n",
              "      <td>0.90</td>\n",
              "      <td>0.101244</td>\n",
              "      <td>0.437771</td>\n",
              "      <td>0.352512</td>\n",
              "      <td>0.933013</td>\n",
              "      <td>0.250000</td>\n",
              "      <td>0.729041</td>\n",
              "      <td>0.055549</td>\n",
              "    </tr>\n",
              "  </tbody>\n",
              "</table>\n",
              "<p>4128 rows × 12 columns</p>\n",
              "</div>\n",
              "      <button class=\"colab-df-convert\" onclick=\"convertToInteractive('df-e89aee04-eca6-4e42-8c29-e0bdefb890dc')\"\n",
              "              title=\"Convert this dataframe to an interactive table.\"\n",
              "              style=\"display:none;\">\n",
              "        \n",
              "  <svg xmlns=\"http://www.w3.org/2000/svg\" height=\"24px\"viewBox=\"0 0 24 24\"\n",
              "       width=\"24px\">\n",
              "    <path d=\"M0 0h24v24H0V0z\" fill=\"none\"/>\n",
              "    <path d=\"M18.56 5.44l.94 2.06.94-2.06 2.06-.94-2.06-.94-.94-2.06-.94 2.06-2.06.94zm-11 1L8.5 8.5l.94-2.06 2.06-.94-2.06-.94L8.5 2.5l-.94 2.06-2.06.94zm10 10l.94 2.06.94-2.06 2.06-.94-2.06-.94-.94-2.06-.94 2.06-2.06.94z\"/><path d=\"M17.41 7.96l-1.37-1.37c-.4-.4-.92-.59-1.43-.59-.52 0-1.04.2-1.43.59L10.3 9.45l-7.72 7.72c-.78.78-.78 2.05 0 2.83L4 21.41c.39.39.9.59 1.41.59.51 0 1.02-.2 1.41-.59l7.78-7.78 2.81-2.81c.8-.78.8-2.07 0-2.86zM5.41 20L4 18.59l7.72-7.72 1.47 1.35L5.41 20z\"/>\n",
              "  </svg>\n",
              "      </button>\n",
              "      \n",
              "  <style>\n",
              "    .colab-df-container {\n",
              "      display:flex;\n",
              "      flex-wrap:wrap;\n",
              "      gap: 12px;\n",
              "    }\n",
              "\n",
              "    .colab-df-convert {\n",
              "      background-color: #E8F0FE;\n",
              "      border: none;\n",
              "      border-radius: 50%;\n",
              "      cursor: pointer;\n",
              "      display: none;\n",
              "      fill: #1967D2;\n",
              "      height: 32px;\n",
              "      padding: 0 0 0 0;\n",
              "      width: 32px;\n",
              "    }\n",
              "\n",
              "    .colab-df-convert:hover {\n",
              "      background-color: #E2EBFA;\n",
              "      box-shadow: 0px 1px 2px rgba(60, 64, 67, 0.3), 0px 1px 3px 1px rgba(60, 64, 67, 0.15);\n",
              "      fill: #174EA6;\n",
              "    }\n",
              "\n",
              "    [theme=dark] .colab-df-convert {\n",
              "      background-color: #3B4455;\n",
              "      fill: #D2E3FC;\n",
              "    }\n",
              "\n",
              "    [theme=dark] .colab-df-convert:hover {\n",
              "      background-color: #434B5C;\n",
              "      box-shadow: 0px 1px 3px 1px rgba(0, 0, 0, 0.15);\n",
              "      filter: drop-shadow(0px 1px 2px rgba(0, 0, 0, 0.3));\n",
              "      fill: #FFFFFF;\n",
              "    }\n",
              "  </style>\n",
              "\n",
              "      <script>\n",
              "        const buttonEl =\n",
              "          document.querySelector('#df-e89aee04-eca6-4e42-8c29-e0bdefb890dc button.colab-df-convert');\n",
              "        buttonEl.style.display =\n",
              "          google.colab.kernel.accessAllowed ? 'block' : 'none';\n",
              "\n",
              "        async function convertToInteractive(key) {\n",
              "          const element = document.querySelector('#df-e89aee04-eca6-4e42-8c29-e0bdefb890dc');\n",
              "          const dataTable =\n",
              "            await google.colab.kernel.invokeFunction('convertToInteractive',\n",
              "                                                     [key], {});\n",
              "          if (!dataTable) return;\n",
              "\n",
              "          const docLinkHtml = 'Like what you see? Visit the ' +\n",
              "            '<a target=\"_blank\" href=https://colab.research.google.com/notebooks/data_table.ipynb>data table notebook</a>'\n",
              "            + ' to learn more about interactive tables.';\n",
              "          element.innerHTML = '';\n",
              "          dataTable['output_type'] = 'display_data';\n",
              "          await google.colab.output.renderOutput(dataTable, element);\n",
              "          const docLink = document.createElement('div');\n",
              "          docLink.innerHTML = docLinkHtml;\n",
              "          element.appendChild(docLink);\n",
              "        }\n",
              "      </script>\n",
              "    </div>\n",
              "  </div>\n",
              "  "
            ]
          },
          "metadata": {},
          "execution_count": 157
        }
      ]
    },
    {
      "cell_type": "code",
      "source": [
        "\n",
        "rev_transSU=scaler.inverse_transform(df_predSU)\n",
        "rev_transSU"
      ],
      "metadata": {
        "colab": {
          "base_uri": "https://localhost:8080/"
        },
        "id": "MQv7CSxeOGsB",
        "outputId": "680532aa-70b8-401a-bbc7-7a77066caaeb"
      },
      "execution_count": 158,
      "outputs": [
        {
          "output_type": "execute_result",
          "data": {
            "text/plain": [
              "array([[ 5.85504938e+02,  3.10000000e+01,  1.00800000e+03, ...,\n",
              "         5.87785252e-01,  9.98914008e-01, -4.65919007e-02],\n",
              "       [ 5.23489764e+02,  3.10000000e+01,  1.00800000e+03, ...,\n",
              "         5.44639035e-01,  9.98907318e-01, -4.67351010e-02],\n",
              "       [ 4.90629910e+02,  3.10000000e+01,  1.00800000e+03, ...,\n",
              "         5.00000000e-01,  9.98900608e-01, -4.68783003e-02],\n",
              "       ...,\n",
              "       [ 4.37321235e+02,  3.40000000e+01,  1.00900000e+03, ...,\n",
              "        -3.58367950e-01,  4.58463971e-01, -8.88712995e-01],\n",
              "       [ 4.39960419e+02,  3.40000000e+01,  1.00900000e+03, ...,\n",
              "        -4.53990500e-01,  4.58209146e-01, -8.88844406e-01],\n",
              "       [ 4.44001749e+02,  3.40000000e+01,  1.00900000e+03, ...,\n",
              "        -5.00000000e-01,  4.58081720e-01, -8.88910084e-01]])"
            ]
          },
          "metadata": {},
          "execution_count": 158
        }
      ]
    },
    {
      "cell_type": "code",
      "source": [
        "predictionsSU.shape"
      ],
      "metadata": {
        "colab": {
          "base_uri": "https://localhost:8080/"
        },
        "id": "eqWYsy3EOGpK",
        "outputId": "2b92856f-97eb-4f2d-d9ba-412e46c0016c"
      },
      "execution_count": 159,
      "outputs": [
        {
          "output_type": "execute_result",
          "data": {
            "text/plain": [
              "(4128, 1)"
            ]
          },
          "metadata": {},
          "execution_count": 159
        }
      ]
    },
    {
      "cell_type": "code",
      "source": [
        "\n",
        "df_finalSU=dfSummer[predictionsSU.shape[0]*-1:]\n",
        "df_finalSU.count()"
      ],
      "metadata": {
        "colab": {
          "base_uri": "https://localhost:8080/"
        },
        "id": "fRhlC0yROKAl",
        "outputId": "3b379dff-37df-4d93-f3dc-7df460aa8c99"
      },
      "execution_count": 160,
      "outputs": [
        {
          "output_type": "execute_result",
          "data": {
            "text/plain": [
              "TS1_P1_data                    4128\n",
              "TS1_SENS0700_TmpMdul_C_data    4128\n",
              "Barometer_data                 4128\n",
              "Outside_Humidity_data          4128\n",
              "Outside_Temperature_data       4128\n",
              "Solar_Radiation_data_SQ        4128\n",
              "Wx                             4128\n",
              "Wy                             4128\n",
              "Day sin                        4128\n",
              "Day cos                        4128\n",
              "Year sin                       4128\n",
              "Year cos                       4128\n",
              "dtype: int64"
            ]
          },
          "metadata": {},
          "execution_count": 160
        }
      ]
    },
    {
      "cell_type": "code",
      "source": [
        "df_finalSU['pred']=rev_transSU[:,0]"
      ],
      "metadata": {
        "colab": {
          "base_uri": "https://localhost:8080/"
        },
        "id": "nZqZ4FizOJ8G",
        "outputId": "40b7ff17-0476-4899-9b57-2b8e53336d25"
      },
      "execution_count": 161,
      "outputs": [
        {
          "output_type": "stream",
          "name": "stderr",
          "text": [
            "<ipython-input-161-9b4bfb15c6c0>:1: SettingWithCopyWarning: \n",
            "A value is trying to be set on a copy of a slice from a DataFrame.\n",
            "Try using .loc[row_indexer,col_indexer] = value instead\n",
            "\n",
            "See the caveats in the documentation: https://pandas.pydata.org/pandas-docs/stable/user_guide/indexing.html#returning-a-view-versus-a-copy\n",
            "  df_finalSU['pred']=rev_transSU[:,0]\n"
          ]
        }
      ]
    },
    {
      "cell_type": "code",
      "source": [
        "dd=df_finalSU[['TS1_P1_data','pred']]"
      ],
      "metadata": {
        "id": "smMlP19CONP0"
      },
      "execution_count": 162,
      "outputs": []
    },
    {
      "cell_type": "code",
      "source": [
        "df_finalSU.columns\n",
        "df_finalSU"
      ],
      "metadata": {
        "colab": {
          "base_uri": "https://localhost:8080/",
          "height": 536
        },
        "id": "GLnlz-DAOPEa",
        "outputId": "41184ec3-6696-4f05-f700-e3e82def6929"
      },
      "execution_count": 163,
      "outputs": [
        {
          "output_type": "execute_result",
          "data": {
            "text/plain": [
              "                 TS1_P1_data  TS1_SENS0700_TmpMdul_C_data  Barometer_data  \\\n",
              "Date_time_name                                                              \n",
              "1/8/2013 6:18             60                           31            1008   \n",
              "1/8/2013 6:19             65                           31            1008   \n",
              "1/8/2013 6:20             66                           31            1008   \n",
              "1/8/2013 6:21             76                           31            1008   \n",
              "1/8/2013 6:22             75                           32            1008   \n",
              "...                      ...                          ...             ...   \n",
              "2/12/2013 18:35           64                           35            1009   \n",
              "2/12/2013 18:36           57                           35            1009   \n",
              "2/12/2013 18:37           51                           34            1009   \n",
              "2/12/2013 18:39           52                           34            1009   \n",
              "2/12/2013 18:40           52                           34            1009   \n",
              "\n",
              "                 Outside_Humidity_data  Outside_Temperature_data  \\\n",
              "Date_time_name                                                     \n",
              "1/8/2013 6:18                       40                        31   \n",
              "1/8/2013 6:19                       40                        31   \n",
              "1/8/2013 6:20                       40                        31   \n",
              "1/8/2013 6:21                       40                        31   \n",
              "1/8/2013 6:22                       40                        31   \n",
              "...                                ...                       ...   \n",
              "2/12/2013 18:35                     32                        32   \n",
              "2/12/2013 18:36                     31                        32   \n",
              "2/12/2013 18:37                     32                        32   \n",
              "2/12/2013 18:39                     31                        32   \n",
              "2/12/2013 18:40                     31                        32   \n",
              "\n",
              "                 Solar_Radiation_data_SQ         Wx         Wy   Day sin  \\\n",
              "Date_time_name                                                             \n",
              "1/8/2013 6:18                   8.602325  13.457664   3.858923  0.809017   \n",
              "1/8/2013 6:19                   8.774964   5.817715  10.495436  0.838671   \n",
              "1/8/2013 6:20                   8.888194   7.456494  10.648977  0.866025   \n",
              "1/8/2013 6:21                   9.165151   1.045869  11.954336  0.891007   \n",
              "1/8/2013 6:22                   9.380832   6.137985   6.582183  0.913545   \n",
              "...                                  ...        ...        ...       ...   \n",
              "2/12/2013 18:35                 8.717798  -6.151122  -9.119413  0.965926   \n",
              "2/12/2013 18:36                 8.602325  -3.693969  -4.728065  0.951057   \n",
              "2/12/2013 18:37                 8.366600  -0.000000  -0.000000  0.933580   \n",
              "2/12/2013 18:39                 8.062258  -0.777146  -0.629320  0.891007   \n",
              "2/12/2013 18:40                 7.874008  -3.108584  -2.517282  0.866025   \n",
              "\n",
              "                  Day cos  Year sin  Year cos        pred  \n",
              "Date_time_name                                             \n",
              "1/8/2013 6:18    0.587785  0.998914 -0.046592  585.504938  \n",
              "1/8/2013 6:19    0.544639  0.998907 -0.046735  523.489764  \n",
              "1/8/2013 6:20    0.500000  0.998901 -0.046878  490.629910  \n",
              "1/8/2013 6:21    0.453990  0.998894 -0.047021  458.640690  \n",
              "1/8/2013 6:22    0.406737  0.998887 -0.047165  425.181493  \n",
              "...                   ...       ...       ...         ...  \n",
              "2/12/2013 18:35 -0.258819  0.458719 -0.888582  433.405153  \n",
              "2/12/2013 18:36 -0.309017  0.458591 -0.888647  435.196532  \n",
              "2/12/2013 18:37 -0.358368  0.458464 -0.888713  437.321235  \n",
              "2/12/2013 18:39 -0.453990  0.458209 -0.888844  439.960419  \n",
              "2/12/2013 18:40 -0.500000  0.458082 -0.888910  444.001749  \n",
              "\n",
              "[4128 rows x 13 columns]"
            ],
            "text/html": [
              "\n",
              "  <div id=\"df-69900421-b7b1-4754-98da-f1455515d75f\">\n",
              "    <div class=\"colab-df-container\">\n",
              "      <div>\n",
              "<style scoped>\n",
              "    .dataframe tbody tr th:only-of-type {\n",
              "        vertical-align: middle;\n",
              "    }\n",
              "\n",
              "    .dataframe tbody tr th {\n",
              "        vertical-align: top;\n",
              "    }\n",
              "\n",
              "    .dataframe thead th {\n",
              "        text-align: right;\n",
              "    }\n",
              "</style>\n",
              "<table border=\"1\" class=\"dataframe\">\n",
              "  <thead>\n",
              "    <tr style=\"text-align: right;\">\n",
              "      <th></th>\n",
              "      <th>TS1_P1_data</th>\n",
              "      <th>TS1_SENS0700_TmpMdul_C_data</th>\n",
              "      <th>Barometer_data</th>\n",
              "      <th>Outside_Humidity_data</th>\n",
              "      <th>Outside_Temperature_data</th>\n",
              "      <th>Solar_Radiation_data_SQ</th>\n",
              "      <th>Wx</th>\n",
              "      <th>Wy</th>\n",
              "      <th>Day sin</th>\n",
              "      <th>Day cos</th>\n",
              "      <th>Year sin</th>\n",
              "      <th>Year cos</th>\n",
              "      <th>pred</th>\n",
              "    </tr>\n",
              "    <tr>\n",
              "      <th>Date_time_name</th>\n",
              "      <th></th>\n",
              "      <th></th>\n",
              "      <th></th>\n",
              "      <th></th>\n",
              "      <th></th>\n",
              "      <th></th>\n",
              "      <th></th>\n",
              "      <th></th>\n",
              "      <th></th>\n",
              "      <th></th>\n",
              "      <th></th>\n",
              "      <th></th>\n",
              "      <th></th>\n",
              "    </tr>\n",
              "  </thead>\n",
              "  <tbody>\n",
              "    <tr>\n",
              "      <th>1/8/2013 6:18</th>\n",
              "      <td>60</td>\n",
              "      <td>31</td>\n",
              "      <td>1008</td>\n",
              "      <td>40</td>\n",
              "      <td>31</td>\n",
              "      <td>8.602325</td>\n",
              "      <td>13.457664</td>\n",
              "      <td>3.858923</td>\n",
              "      <td>0.809017</td>\n",
              "      <td>0.587785</td>\n",
              "      <td>0.998914</td>\n",
              "      <td>-0.046592</td>\n",
              "      <td>585.504938</td>\n",
              "    </tr>\n",
              "    <tr>\n",
              "      <th>1/8/2013 6:19</th>\n",
              "      <td>65</td>\n",
              "      <td>31</td>\n",
              "      <td>1008</td>\n",
              "      <td>40</td>\n",
              "      <td>31</td>\n",
              "      <td>8.774964</td>\n",
              "      <td>5.817715</td>\n",
              "      <td>10.495436</td>\n",
              "      <td>0.838671</td>\n",
              "      <td>0.544639</td>\n",
              "      <td>0.998907</td>\n",
              "      <td>-0.046735</td>\n",
              "      <td>523.489764</td>\n",
              "    </tr>\n",
              "    <tr>\n",
              "      <th>1/8/2013 6:20</th>\n",
              "      <td>66</td>\n",
              "      <td>31</td>\n",
              "      <td>1008</td>\n",
              "      <td>40</td>\n",
              "      <td>31</td>\n",
              "      <td>8.888194</td>\n",
              "      <td>7.456494</td>\n",
              "      <td>10.648977</td>\n",
              "      <td>0.866025</td>\n",
              "      <td>0.500000</td>\n",
              "      <td>0.998901</td>\n",
              "      <td>-0.046878</td>\n",
              "      <td>490.629910</td>\n",
              "    </tr>\n",
              "    <tr>\n",
              "      <th>1/8/2013 6:21</th>\n",
              "      <td>76</td>\n",
              "      <td>31</td>\n",
              "      <td>1008</td>\n",
              "      <td>40</td>\n",
              "      <td>31</td>\n",
              "      <td>9.165151</td>\n",
              "      <td>1.045869</td>\n",
              "      <td>11.954336</td>\n",
              "      <td>0.891007</td>\n",
              "      <td>0.453990</td>\n",
              "      <td>0.998894</td>\n",
              "      <td>-0.047021</td>\n",
              "      <td>458.640690</td>\n",
              "    </tr>\n",
              "    <tr>\n",
              "      <th>1/8/2013 6:22</th>\n",
              "      <td>75</td>\n",
              "      <td>32</td>\n",
              "      <td>1008</td>\n",
              "      <td>40</td>\n",
              "      <td>31</td>\n",
              "      <td>9.380832</td>\n",
              "      <td>6.137985</td>\n",
              "      <td>6.582183</td>\n",
              "      <td>0.913545</td>\n",
              "      <td>0.406737</td>\n",
              "      <td>0.998887</td>\n",
              "      <td>-0.047165</td>\n",
              "      <td>425.181493</td>\n",
              "    </tr>\n",
              "    <tr>\n",
              "      <th>...</th>\n",
              "      <td>...</td>\n",
              "      <td>...</td>\n",
              "      <td>...</td>\n",
              "      <td>...</td>\n",
              "      <td>...</td>\n",
              "      <td>...</td>\n",
              "      <td>...</td>\n",
              "      <td>...</td>\n",
              "      <td>...</td>\n",
              "      <td>...</td>\n",
              "      <td>...</td>\n",
              "      <td>...</td>\n",
              "      <td>...</td>\n",
              "    </tr>\n",
              "    <tr>\n",
              "      <th>2/12/2013 18:35</th>\n",
              "      <td>64</td>\n",
              "      <td>35</td>\n",
              "      <td>1009</td>\n",
              "      <td>32</td>\n",
              "      <td>32</td>\n",
              "      <td>8.717798</td>\n",
              "      <td>-6.151122</td>\n",
              "      <td>-9.119413</td>\n",
              "      <td>0.965926</td>\n",
              "      <td>-0.258819</td>\n",
              "      <td>0.458719</td>\n",
              "      <td>-0.888582</td>\n",
              "      <td>433.405153</td>\n",
              "    </tr>\n",
              "    <tr>\n",
              "      <th>2/12/2013 18:36</th>\n",
              "      <td>57</td>\n",
              "      <td>35</td>\n",
              "      <td>1009</td>\n",
              "      <td>31</td>\n",
              "      <td>32</td>\n",
              "      <td>8.602325</td>\n",
              "      <td>-3.693969</td>\n",
              "      <td>-4.728065</td>\n",
              "      <td>0.951057</td>\n",
              "      <td>-0.309017</td>\n",
              "      <td>0.458591</td>\n",
              "      <td>-0.888647</td>\n",
              "      <td>435.196532</td>\n",
              "    </tr>\n",
              "    <tr>\n",
              "      <th>2/12/2013 18:37</th>\n",
              "      <td>51</td>\n",
              "      <td>34</td>\n",
              "      <td>1009</td>\n",
              "      <td>32</td>\n",
              "      <td>32</td>\n",
              "      <td>8.366600</td>\n",
              "      <td>-0.000000</td>\n",
              "      <td>-0.000000</td>\n",
              "      <td>0.933580</td>\n",
              "      <td>-0.358368</td>\n",
              "      <td>0.458464</td>\n",
              "      <td>-0.888713</td>\n",
              "      <td>437.321235</td>\n",
              "    </tr>\n",
              "    <tr>\n",
              "      <th>2/12/2013 18:39</th>\n",
              "      <td>52</td>\n",
              "      <td>34</td>\n",
              "      <td>1009</td>\n",
              "      <td>31</td>\n",
              "      <td>32</td>\n",
              "      <td>8.062258</td>\n",
              "      <td>-0.777146</td>\n",
              "      <td>-0.629320</td>\n",
              "      <td>0.891007</td>\n",
              "      <td>-0.453990</td>\n",
              "      <td>0.458209</td>\n",
              "      <td>-0.888844</td>\n",
              "      <td>439.960419</td>\n",
              "    </tr>\n",
              "    <tr>\n",
              "      <th>2/12/2013 18:40</th>\n",
              "      <td>52</td>\n",
              "      <td>34</td>\n",
              "      <td>1009</td>\n",
              "      <td>31</td>\n",
              "      <td>32</td>\n",
              "      <td>7.874008</td>\n",
              "      <td>-3.108584</td>\n",
              "      <td>-2.517282</td>\n",
              "      <td>0.866025</td>\n",
              "      <td>-0.500000</td>\n",
              "      <td>0.458082</td>\n",
              "      <td>-0.888910</td>\n",
              "      <td>444.001749</td>\n",
              "    </tr>\n",
              "  </tbody>\n",
              "</table>\n",
              "<p>4128 rows × 13 columns</p>\n",
              "</div>\n",
              "      <button class=\"colab-df-convert\" onclick=\"convertToInteractive('df-69900421-b7b1-4754-98da-f1455515d75f')\"\n",
              "              title=\"Convert this dataframe to an interactive table.\"\n",
              "              style=\"display:none;\">\n",
              "        \n",
              "  <svg xmlns=\"http://www.w3.org/2000/svg\" height=\"24px\"viewBox=\"0 0 24 24\"\n",
              "       width=\"24px\">\n",
              "    <path d=\"M0 0h24v24H0V0z\" fill=\"none\"/>\n",
              "    <path d=\"M18.56 5.44l.94 2.06.94-2.06 2.06-.94-2.06-.94-.94-2.06-.94 2.06-2.06.94zm-11 1L8.5 8.5l.94-2.06 2.06-.94-2.06-.94L8.5 2.5l-.94 2.06-2.06.94zm10 10l.94 2.06.94-2.06 2.06-.94-2.06-.94-.94-2.06-.94 2.06-2.06.94z\"/><path d=\"M17.41 7.96l-1.37-1.37c-.4-.4-.92-.59-1.43-.59-.52 0-1.04.2-1.43.59L10.3 9.45l-7.72 7.72c-.78.78-.78 2.05 0 2.83L4 21.41c.39.39.9.59 1.41.59.51 0 1.02-.2 1.41-.59l7.78-7.78 2.81-2.81c.8-.78.8-2.07 0-2.86zM5.41 20L4 18.59l7.72-7.72 1.47 1.35L5.41 20z\"/>\n",
              "  </svg>\n",
              "      </button>\n",
              "      \n",
              "  <style>\n",
              "    .colab-df-container {\n",
              "      display:flex;\n",
              "      flex-wrap:wrap;\n",
              "      gap: 12px;\n",
              "    }\n",
              "\n",
              "    .colab-df-convert {\n",
              "      background-color: #E8F0FE;\n",
              "      border: none;\n",
              "      border-radius: 50%;\n",
              "      cursor: pointer;\n",
              "      display: none;\n",
              "      fill: #1967D2;\n",
              "      height: 32px;\n",
              "      padding: 0 0 0 0;\n",
              "      width: 32px;\n",
              "    }\n",
              "\n",
              "    .colab-df-convert:hover {\n",
              "      background-color: #E2EBFA;\n",
              "      box-shadow: 0px 1px 2px rgba(60, 64, 67, 0.3), 0px 1px 3px 1px rgba(60, 64, 67, 0.15);\n",
              "      fill: #174EA6;\n",
              "    }\n",
              "\n",
              "    [theme=dark] .colab-df-convert {\n",
              "      background-color: #3B4455;\n",
              "      fill: #D2E3FC;\n",
              "    }\n",
              "\n",
              "    [theme=dark] .colab-df-convert:hover {\n",
              "      background-color: #434B5C;\n",
              "      box-shadow: 0px 1px 3px 1px rgba(0, 0, 0, 0.15);\n",
              "      filter: drop-shadow(0px 1px 2px rgba(0, 0, 0, 0.3));\n",
              "      fill: #FFFFFF;\n",
              "    }\n",
              "  </style>\n",
              "\n",
              "      <script>\n",
              "        const buttonEl =\n",
              "          document.querySelector('#df-69900421-b7b1-4754-98da-f1455515d75f button.colab-df-convert');\n",
              "        buttonEl.style.display =\n",
              "          google.colab.kernel.accessAllowed ? 'block' : 'none';\n",
              "\n",
              "        async function convertToInteractive(key) {\n",
              "          const element = document.querySelector('#df-69900421-b7b1-4754-98da-f1455515d75f');\n",
              "          const dataTable =\n",
              "            await google.colab.kernel.invokeFunction('convertToInteractive',\n",
              "                                                     [key], {});\n",
              "          if (!dataTable) return;\n",
              "\n",
              "          const docLinkHtml = 'Like what you see? Visit the ' +\n",
              "            '<a target=\"_blank\" href=https://colab.research.google.com/notebooks/data_table.ipynb>data table notebook</a>'\n",
              "            + ' to learn more about interactive tables.';\n",
              "          element.innerHTML = '';\n",
              "          dataTable['output_type'] = 'display_data';\n",
              "          await google.colab.output.renderOutput(dataTable, element);\n",
              "          const docLink = document.createElement('div');\n",
              "          docLink.innerHTML = docLinkHtml;\n",
              "          element.appendChild(docLink);\n",
              "        }\n",
              "      </script>\n",
              "    </div>\n",
              "  </div>\n",
              "  "
            ]
          },
          "metadata": {},
          "execution_count": 163
        }
      ]
    },
    {
      "cell_type": "code",
      "source": [
        "\n",
        "y_pred=df_finalSU['pred']\n",
        "y_test=df_finalSU['TS1_P1_data']"
      ],
      "metadata": {
        "id": "p19m0guQOQfL"
      },
      "execution_count": 164,
      "outputs": []
    },
    {
      "cell_type": "code",
      "source": [
        "from sklearn.metrics import mean_absolute_error\n",
        "from sklearn.metrics import mean_squared_error\n",
        "from sklearn.metrics import r2_score\n",
        "\n",
        "def MAPE(Y_actual,Y_Predicted):\n",
        "  mape = np.mean(np.abs((Y_actual - Y_Predicted)/Y_actual))*100\n",
        "  return mape\n",
        "\n",
        "\n",
        "MSE=mean_squared_error(y_test,y_pred)\n",
        "MAE=mean_absolute_error(y_test,y_pred)\n",
        "RMSE=np.sqrt(mean_squared_error(y_test,y_pred))\n",
        "RMSELOG=np.log(np.sqrt(mean_squared_error(y_test,y_pred)))\n",
        "R2 = r2_score(y_test,y_pred)\n",
        "MAPE=np.mean(np.abs((y_test - y_pred)/y_test))*100\n",
        "print('Mean Absolute Error: {:.4f}'.format(MAE))\n",
        "print('Root Mean Square Error: {:.4f}'.format(RMSE))\n",
        "print('Root Mean Square Error_LOG: {:.4f}'.format(RMSELOG))\n",
        "print('Mean Square Error: {:.4f}'.format(MSE))\n",
        "print('r_2 score:{:.4f}'.format(R2))\n",
        "print('MAPE score:{:.4f}'.format(MAPE))\n",
        "print('')\n",
        "\n"
      ],
      "metadata": {
        "id": "b4D4VkeR_Y2c",
        "colab": {
          "base_uri": "https://localhost:8080/"
        },
        "outputId": "b4b42ace-9bb3-4702-a3d2-2393df9bc5b3"
      },
      "execution_count": 165,
      "outputs": [
        {
          "output_type": "stream",
          "name": "stdout",
          "text": [
            "Mean Absolute Error: 307.0140\n",
            "Root Mean Square Error: 390.4865\n",
            "Root Mean Square Error_LOG: 5.9674\n",
            "Mean Square Error: 152479.7408\n",
            "r_2 score:-0.1879\n",
            "MAPE score:96.3326\n",
            "\n"
          ]
        }
      ]
    },
    {
      "cell_type": "markdown",
      "source": [
        "**Concat the DataFrame**"
      ],
      "metadata": {
        "id": "Em-rx49dPBM8"
      }
    },
    {
      "cell_type": "code",
      "source": [
        "df_finalWI.shape"
      ],
      "metadata": {
        "colab": {
          "base_uri": "https://localhost:8080/"
        },
        "id": "pUdQcK9dO_ja",
        "outputId": "cbda74ac-86eb-4ec5-bb28-c7b09901a8a3"
      },
      "execution_count": 166,
      "outputs": [
        {
          "output_type": "execute_result",
          "data": {
            "text/plain": [
              "(6413, 14)"
            ]
          },
          "metadata": {},
          "execution_count": 166
        }
      ]
    },
    {
      "cell_type": "code",
      "source": [
        "df_finalAU.shape"
      ],
      "metadata": {
        "colab": {
          "base_uri": "https://localhost:8080/"
        },
        "id": "c8DCYJU0Pk8M",
        "outputId": "b875363c-8d39-42e1-a2b6-509c807f43cb"
      },
      "execution_count": 167,
      "outputs": [
        {
          "output_type": "execute_result",
          "data": {
            "text/plain": [
              "(6565, 13)"
            ]
          },
          "metadata": {},
          "execution_count": 167
        }
      ]
    },
    {
      "cell_type": "code",
      "source": [
        "df_finalSU.shape"
      ],
      "metadata": {
        "colab": {
          "base_uri": "https://localhost:8080/"
        },
        "id": "cI6ZEdxYPq2m",
        "outputId": "680d11cd-e954-4192-c79f-4dbcfdb073e8"
      },
      "execution_count": 168,
      "outputs": [
        {
          "output_type": "execute_result",
          "data": {
            "text/plain": [
              "(4128, 13)"
            ]
          },
          "metadata": {},
          "execution_count": 168
        }
      ]
    },
    {
      "cell_type": "code",
      "source": [
        "df_finalSP.shape"
      ],
      "metadata": {
        "colab": {
          "base_uri": "https://localhost:8080/"
        },
        "id": "8wbQsN_hPsEE",
        "outputId": "6be17f72-7327-487b-d460-8d54d5018ef3"
      },
      "execution_count": 169,
      "outputs": [
        {
          "output_type": "execute_result",
          "data": {
            "text/plain": [
              "(5803, 13)"
            ]
          },
          "metadata": {},
          "execution_count": 169
        }
      ]
    },
    {
      "cell_type": "code",
      "source": [
        "df_final_outputs = pd.concat([df_finalWI, df_finalAU,df_finalSU,df_finalSP])\n",
        "df_final_outputs"
      ],
      "metadata": {
        "colab": {
          "base_uri": "https://localhost:8080/",
          "height": 536
        },
        "id": "EB3ARYTTP3WA",
        "outputId": "2eb9f984-a64f-4b7d-83e4-3663f0f24442"
      },
      "execution_count": 170,
      "outputs": [
        {
          "output_type": "execute_result",
          "data": {
            "text/plain": [
              "                  TS1_P1_data  TS1_SENS0700_TmpMdul_C_data  Barometer_data  \\\n",
              "Date_time_name                                                               \n",
              "28/8/2013 13:52          1008                           32            1013   \n",
              "28/8/2013 13:53          1033                           32            1013   \n",
              "28/8/2013 13:54          1034                           31            1013   \n",
              "28/8/2013 13:55          1009                           32            1013   \n",
              "28/8/2013 13:56           986                           32            1013   \n",
              "...                       ...                          ...             ...   \n",
              "11/12/2013 18:16          309                           29            1010   \n",
              "11/12/2013 18:18          237                           29            1010   \n",
              "11/12/2013 18:19          176                           28            1010   \n",
              "11/12/2013 18:20          120                           28            1010   \n",
              "11/12/2013 18:21          115                           28            1010   \n",
              "\n",
              "                  Outside_Humidity_data  Outside_Temperature_data  \\\n",
              "Date_time_name                                                      \n",
              "28/8/2013 13:52                      59                        17   \n",
              "28/8/2013 13:53                      60                        17   \n",
              "28/8/2013 13:54                      58                        17   \n",
              "28/8/2013 13:55                      59                        17   \n",
              "28/8/2013 13:56                      59                        17   \n",
              "...                                 ...                       ...   \n",
              "11/12/2013 18:16                     63                        23   \n",
              "11/12/2013 18:18                     64                        23   \n",
              "11/12/2013 18:19                     64                        22   \n",
              "11/12/2013 18:20                     64                        22   \n",
              "11/12/2013 18:21                     65                        22   \n",
              "\n",
              "                  Solar_Radiation_data         Wx         Wy   Day sin  \\\n",
              "Date_time_name                                                           \n",
              "28/8/2013 13:52                  677.0   9.335804   3.583679 -0.406737   \n",
              "28/8/2013 13:53                  684.0  -4.495279 -11.126206 -0.358368   \n",
              "28/8/2013 13:54                  693.0  10.461622   3.399187 -0.309017   \n",
              "28/8/2013 13:55                  691.0  -3.078181  -8.457234 -0.258819   \n",
              "28/8/2013 13:56                  671.0  -4.300415 -11.202965 -0.207912   \n",
              "...                                ...        ...        ...       ...   \n",
              "11/12/2013 18:16                   NaN -11.024625  -6.888950  0.743145   \n",
              "11/12/2013 18:18                   NaN -23.070281  -6.615297  0.809017   \n",
              "11/12/2013 18:19                   NaN  -9.428840  -5.665419  0.838671   \n",
              "11/12/2013 18:20                   NaN -13.856406  -8.000000  0.866025   \n",
              "11/12/2013 18:21                   NaN -11.346223  -3.906818  0.891007   \n",
              "\n",
              "                   Day cos  Year sin  Year cos  Solar_Radiation_data_SQ  \\\n",
              "Date_time_name                                                            \n",
              "28/8/2013 13:52   0.913545 -0.636894  0.770952                26.019224   \n",
              "28/8/2013 13:53   0.933580 -0.636783  0.771043                26.153394   \n",
              "28/8/2013 13:54   0.951057 -0.636672  0.771134                26.324893   \n",
              "28/8/2013 13:55   0.965926 -0.636562  0.771226                26.286879   \n",
              "28/8/2013 13:56   0.978148 -0.636451  0.771317                25.903668   \n",
              "...                    ...       ...       ...                      ...   \n",
              "11/12/2013 18:16  0.669131  0.622276 -0.782798                 6.480741   \n",
              "11/12/2013 18:18  0.587785  0.622051 -0.782976                 6.324555   \n",
              "11/12/2013 18:19  0.544639  0.621939 -0.783066                 6.244998   \n",
              "11/12/2013 18:20  0.500000  0.621827 -0.783155                 5.916080   \n",
              "11/12/2013 18:21  0.453990  0.621715 -0.783244                 5.744563   \n",
              "\n",
              "                        pred  \n",
              "Date_time_name                \n",
              "28/8/2013 13:52   876.232190  \n",
              "28/8/2013 13:53   875.864966  \n",
              "28/8/2013 13:54   886.589854  \n",
              "28/8/2013 13:55   888.412218  \n",
              "28/8/2013 13:56   888.341668  \n",
              "...                      ...  \n",
              "11/12/2013 18:16  366.633066  \n",
              "11/12/2013 18:18  338.364264  \n",
              "11/12/2013 18:19  290.103575  \n",
              "11/12/2013 18:20  245.015481  \n",
              "11/12/2013 18:21  205.648147  \n",
              "\n",
              "[22909 rows x 14 columns]"
            ],
            "text/html": [
              "\n",
              "  <div id=\"df-9ca38e3d-808e-4fdd-ac96-ea9e5c7a0e70\">\n",
              "    <div class=\"colab-df-container\">\n",
              "      <div>\n",
              "<style scoped>\n",
              "    .dataframe tbody tr th:only-of-type {\n",
              "        vertical-align: middle;\n",
              "    }\n",
              "\n",
              "    .dataframe tbody tr th {\n",
              "        vertical-align: top;\n",
              "    }\n",
              "\n",
              "    .dataframe thead th {\n",
              "        text-align: right;\n",
              "    }\n",
              "</style>\n",
              "<table border=\"1\" class=\"dataframe\">\n",
              "  <thead>\n",
              "    <tr style=\"text-align: right;\">\n",
              "      <th></th>\n",
              "      <th>TS1_P1_data</th>\n",
              "      <th>TS1_SENS0700_TmpMdul_C_data</th>\n",
              "      <th>Barometer_data</th>\n",
              "      <th>Outside_Humidity_data</th>\n",
              "      <th>Outside_Temperature_data</th>\n",
              "      <th>Solar_Radiation_data</th>\n",
              "      <th>Wx</th>\n",
              "      <th>Wy</th>\n",
              "      <th>Day sin</th>\n",
              "      <th>Day cos</th>\n",
              "      <th>Year sin</th>\n",
              "      <th>Year cos</th>\n",
              "      <th>Solar_Radiation_data_SQ</th>\n",
              "      <th>pred</th>\n",
              "    </tr>\n",
              "    <tr>\n",
              "      <th>Date_time_name</th>\n",
              "      <th></th>\n",
              "      <th></th>\n",
              "      <th></th>\n",
              "      <th></th>\n",
              "      <th></th>\n",
              "      <th></th>\n",
              "      <th></th>\n",
              "      <th></th>\n",
              "      <th></th>\n",
              "      <th></th>\n",
              "      <th></th>\n",
              "      <th></th>\n",
              "      <th></th>\n",
              "      <th></th>\n",
              "    </tr>\n",
              "  </thead>\n",
              "  <tbody>\n",
              "    <tr>\n",
              "      <th>28/8/2013 13:52</th>\n",
              "      <td>1008</td>\n",
              "      <td>32</td>\n",
              "      <td>1013</td>\n",
              "      <td>59</td>\n",
              "      <td>17</td>\n",
              "      <td>677.0</td>\n",
              "      <td>9.335804</td>\n",
              "      <td>3.583679</td>\n",
              "      <td>-0.406737</td>\n",
              "      <td>0.913545</td>\n",
              "      <td>-0.636894</td>\n",
              "      <td>0.770952</td>\n",
              "      <td>26.019224</td>\n",
              "      <td>876.232190</td>\n",
              "    </tr>\n",
              "    <tr>\n",
              "      <th>28/8/2013 13:53</th>\n",
              "      <td>1033</td>\n",
              "      <td>32</td>\n",
              "      <td>1013</td>\n",
              "      <td>60</td>\n",
              "      <td>17</td>\n",
              "      <td>684.0</td>\n",
              "      <td>-4.495279</td>\n",
              "      <td>-11.126206</td>\n",
              "      <td>-0.358368</td>\n",
              "      <td>0.933580</td>\n",
              "      <td>-0.636783</td>\n",
              "      <td>0.771043</td>\n",
              "      <td>26.153394</td>\n",
              "      <td>875.864966</td>\n",
              "    </tr>\n",
              "    <tr>\n",
              "      <th>28/8/2013 13:54</th>\n",
              "      <td>1034</td>\n",
              "      <td>31</td>\n",
              "      <td>1013</td>\n",
              "      <td>58</td>\n",
              "      <td>17</td>\n",
              "      <td>693.0</td>\n",
              "      <td>10.461622</td>\n",
              "      <td>3.399187</td>\n",
              "      <td>-0.309017</td>\n",
              "      <td>0.951057</td>\n",
              "      <td>-0.636672</td>\n",
              "      <td>0.771134</td>\n",
              "      <td>26.324893</td>\n",
              "      <td>886.589854</td>\n",
              "    </tr>\n",
              "    <tr>\n",
              "      <th>28/8/2013 13:55</th>\n",
              "      <td>1009</td>\n",
              "      <td>32</td>\n",
              "      <td>1013</td>\n",
              "      <td>59</td>\n",
              "      <td>17</td>\n",
              "      <td>691.0</td>\n",
              "      <td>-3.078181</td>\n",
              "      <td>-8.457234</td>\n",
              "      <td>-0.258819</td>\n",
              "      <td>0.965926</td>\n",
              "      <td>-0.636562</td>\n",
              "      <td>0.771226</td>\n",
              "      <td>26.286879</td>\n",
              "      <td>888.412218</td>\n",
              "    </tr>\n",
              "    <tr>\n",
              "      <th>28/8/2013 13:56</th>\n",
              "      <td>986</td>\n",
              "      <td>32</td>\n",
              "      <td>1013</td>\n",
              "      <td>59</td>\n",
              "      <td>17</td>\n",
              "      <td>671.0</td>\n",
              "      <td>-4.300415</td>\n",
              "      <td>-11.202965</td>\n",
              "      <td>-0.207912</td>\n",
              "      <td>0.978148</td>\n",
              "      <td>-0.636451</td>\n",
              "      <td>0.771317</td>\n",
              "      <td>25.903668</td>\n",
              "      <td>888.341668</td>\n",
              "    </tr>\n",
              "    <tr>\n",
              "      <th>...</th>\n",
              "      <td>...</td>\n",
              "      <td>...</td>\n",
              "      <td>...</td>\n",
              "      <td>...</td>\n",
              "      <td>...</td>\n",
              "      <td>...</td>\n",
              "      <td>...</td>\n",
              "      <td>...</td>\n",
              "      <td>...</td>\n",
              "      <td>...</td>\n",
              "      <td>...</td>\n",
              "      <td>...</td>\n",
              "      <td>...</td>\n",
              "      <td>...</td>\n",
              "    </tr>\n",
              "    <tr>\n",
              "      <th>11/12/2013 18:16</th>\n",
              "      <td>309</td>\n",
              "      <td>29</td>\n",
              "      <td>1010</td>\n",
              "      <td>63</td>\n",
              "      <td>23</td>\n",
              "      <td>NaN</td>\n",
              "      <td>-11.024625</td>\n",
              "      <td>-6.888950</td>\n",
              "      <td>0.743145</td>\n",
              "      <td>0.669131</td>\n",
              "      <td>0.622276</td>\n",
              "      <td>-0.782798</td>\n",
              "      <td>6.480741</td>\n",
              "      <td>366.633066</td>\n",
              "    </tr>\n",
              "    <tr>\n",
              "      <th>11/12/2013 18:18</th>\n",
              "      <td>237</td>\n",
              "      <td>29</td>\n",
              "      <td>1010</td>\n",
              "      <td>64</td>\n",
              "      <td>23</td>\n",
              "      <td>NaN</td>\n",
              "      <td>-23.070281</td>\n",
              "      <td>-6.615297</td>\n",
              "      <td>0.809017</td>\n",
              "      <td>0.587785</td>\n",
              "      <td>0.622051</td>\n",
              "      <td>-0.782976</td>\n",
              "      <td>6.324555</td>\n",
              "      <td>338.364264</td>\n",
              "    </tr>\n",
              "    <tr>\n",
              "      <th>11/12/2013 18:19</th>\n",
              "      <td>176</td>\n",
              "      <td>28</td>\n",
              "      <td>1010</td>\n",
              "      <td>64</td>\n",
              "      <td>22</td>\n",
              "      <td>NaN</td>\n",
              "      <td>-9.428840</td>\n",
              "      <td>-5.665419</td>\n",
              "      <td>0.838671</td>\n",
              "      <td>0.544639</td>\n",
              "      <td>0.621939</td>\n",
              "      <td>-0.783066</td>\n",
              "      <td>6.244998</td>\n",
              "      <td>290.103575</td>\n",
              "    </tr>\n",
              "    <tr>\n",
              "      <th>11/12/2013 18:20</th>\n",
              "      <td>120</td>\n",
              "      <td>28</td>\n",
              "      <td>1010</td>\n",
              "      <td>64</td>\n",
              "      <td>22</td>\n",
              "      <td>NaN</td>\n",
              "      <td>-13.856406</td>\n",
              "      <td>-8.000000</td>\n",
              "      <td>0.866025</td>\n",
              "      <td>0.500000</td>\n",
              "      <td>0.621827</td>\n",
              "      <td>-0.783155</td>\n",
              "      <td>5.916080</td>\n",
              "      <td>245.015481</td>\n",
              "    </tr>\n",
              "    <tr>\n",
              "      <th>11/12/2013 18:21</th>\n",
              "      <td>115</td>\n",
              "      <td>28</td>\n",
              "      <td>1010</td>\n",
              "      <td>65</td>\n",
              "      <td>22</td>\n",
              "      <td>NaN</td>\n",
              "      <td>-11.346223</td>\n",
              "      <td>-3.906818</td>\n",
              "      <td>0.891007</td>\n",
              "      <td>0.453990</td>\n",
              "      <td>0.621715</td>\n",
              "      <td>-0.783244</td>\n",
              "      <td>5.744563</td>\n",
              "      <td>205.648147</td>\n",
              "    </tr>\n",
              "  </tbody>\n",
              "</table>\n",
              "<p>22909 rows × 14 columns</p>\n",
              "</div>\n",
              "      <button class=\"colab-df-convert\" onclick=\"convertToInteractive('df-9ca38e3d-808e-4fdd-ac96-ea9e5c7a0e70')\"\n",
              "              title=\"Convert this dataframe to an interactive table.\"\n",
              "              style=\"display:none;\">\n",
              "        \n",
              "  <svg xmlns=\"http://www.w3.org/2000/svg\" height=\"24px\"viewBox=\"0 0 24 24\"\n",
              "       width=\"24px\">\n",
              "    <path d=\"M0 0h24v24H0V0z\" fill=\"none\"/>\n",
              "    <path d=\"M18.56 5.44l.94 2.06.94-2.06 2.06-.94-2.06-.94-.94-2.06-.94 2.06-2.06.94zm-11 1L8.5 8.5l.94-2.06 2.06-.94-2.06-.94L8.5 2.5l-.94 2.06-2.06.94zm10 10l.94 2.06.94-2.06 2.06-.94-2.06-.94-.94-2.06-.94 2.06-2.06.94z\"/><path d=\"M17.41 7.96l-1.37-1.37c-.4-.4-.92-.59-1.43-.59-.52 0-1.04.2-1.43.59L10.3 9.45l-7.72 7.72c-.78.78-.78 2.05 0 2.83L4 21.41c.39.39.9.59 1.41.59.51 0 1.02-.2 1.41-.59l7.78-7.78 2.81-2.81c.8-.78.8-2.07 0-2.86zM5.41 20L4 18.59l7.72-7.72 1.47 1.35L5.41 20z\"/>\n",
              "  </svg>\n",
              "      </button>\n",
              "      \n",
              "  <style>\n",
              "    .colab-df-container {\n",
              "      display:flex;\n",
              "      flex-wrap:wrap;\n",
              "      gap: 12px;\n",
              "    }\n",
              "\n",
              "    .colab-df-convert {\n",
              "      background-color: #E8F0FE;\n",
              "      border: none;\n",
              "      border-radius: 50%;\n",
              "      cursor: pointer;\n",
              "      display: none;\n",
              "      fill: #1967D2;\n",
              "      height: 32px;\n",
              "      padding: 0 0 0 0;\n",
              "      width: 32px;\n",
              "    }\n",
              "\n",
              "    .colab-df-convert:hover {\n",
              "      background-color: #E2EBFA;\n",
              "      box-shadow: 0px 1px 2px rgba(60, 64, 67, 0.3), 0px 1px 3px 1px rgba(60, 64, 67, 0.15);\n",
              "      fill: #174EA6;\n",
              "    }\n",
              "\n",
              "    [theme=dark] .colab-df-convert {\n",
              "      background-color: #3B4455;\n",
              "      fill: #D2E3FC;\n",
              "    }\n",
              "\n",
              "    [theme=dark] .colab-df-convert:hover {\n",
              "      background-color: #434B5C;\n",
              "      box-shadow: 0px 1px 3px 1px rgba(0, 0, 0, 0.15);\n",
              "      filter: drop-shadow(0px 1px 2px rgba(0, 0, 0, 0.3));\n",
              "      fill: #FFFFFF;\n",
              "    }\n",
              "  </style>\n",
              "\n",
              "      <script>\n",
              "        const buttonEl =\n",
              "          document.querySelector('#df-9ca38e3d-808e-4fdd-ac96-ea9e5c7a0e70 button.colab-df-convert');\n",
              "        buttonEl.style.display =\n",
              "          google.colab.kernel.accessAllowed ? 'block' : 'none';\n",
              "\n",
              "        async function convertToInteractive(key) {\n",
              "          const element = document.querySelector('#df-9ca38e3d-808e-4fdd-ac96-ea9e5c7a0e70');\n",
              "          const dataTable =\n",
              "            await google.colab.kernel.invokeFunction('convertToInteractive',\n",
              "                                                     [key], {});\n",
              "          if (!dataTable) return;\n",
              "\n",
              "          const docLinkHtml = 'Like what you see? Visit the ' +\n",
              "            '<a target=\"_blank\" href=https://colab.research.google.com/notebooks/data_table.ipynb>data table notebook</a>'\n",
              "            + ' to learn more about interactive tables.';\n",
              "          element.innerHTML = '';\n",
              "          dataTable['output_type'] = 'display_data';\n",
              "          await google.colab.output.renderOutput(dataTable, element);\n",
              "          const docLink = document.createElement('div');\n",
              "          docLink.innerHTML = docLinkHtml;\n",
              "          element.appendChild(docLink);\n",
              "        }\n",
              "      </script>\n",
              "    </div>\n",
              "  </div>\n",
              "  "
            ]
          },
          "metadata": {},
          "execution_count": 170
        }
      ]
    },
    {
      "cell_type": "code",
      "source": [
        "df_final_outputs.sort_index(ascending=True)\n",
        "df_final_outputs"
      ],
      "metadata": {
        "colab": {
          "base_uri": "https://localhost:8080/",
          "height": 536
        },
        "id": "7Gfch92jQh1t",
        "outputId": "4d5e821f-d3d0-4d95-b40f-b06512804668"
      },
      "execution_count": 171,
      "outputs": [
        {
          "output_type": "execute_result",
          "data": {
            "text/plain": [
              "                  TS1_P1_data  TS1_SENS0700_TmpMdul_C_data  Barometer_data  \\\n",
              "Date_time_name                                                               \n",
              "28/8/2013 13:52          1008                           32            1013   \n",
              "28/8/2013 13:53          1033                           32            1013   \n",
              "28/8/2013 13:54          1034                           31            1013   \n",
              "28/8/2013 13:55          1009                           32            1013   \n",
              "28/8/2013 13:56           986                           32            1013   \n",
              "...                       ...                          ...             ...   \n",
              "11/12/2013 18:16          309                           29            1010   \n",
              "11/12/2013 18:18          237                           29            1010   \n",
              "11/12/2013 18:19          176                           28            1010   \n",
              "11/12/2013 18:20          120                           28            1010   \n",
              "11/12/2013 18:21          115                           28            1010   \n",
              "\n",
              "                  Outside_Humidity_data  Outside_Temperature_data  \\\n",
              "Date_time_name                                                      \n",
              "28/8/2013 13:52                      59                        17   \n",
              "28/8/2013 13:53                      60                        17   \n",
              "28/8/2013 13:54                      58                        17   \n",
              "28/8/2013 13:55                      59                        17   \n",
              "28/8/2013 13:56                      59                        17   \n",
              "...                                 ...                       ...   \n",
              "11/12/2013 18:16                     63                        23   \n",
              "11/12/2013 18:18                     64                        23   \n",
              "11/12/2013 18:19                     64                        22   \n",
              "11/12/2013 18:20                     64                        22   \n",
              "11/12/2013 18:21                     65                        22   \n",
              "\n",
              "                  Solar_Radiation_data         Wx         Wy   Day sin  \\\n",
              "Date_time_name                                                           \n",
              "28/8/2013 13:52                  677.0   9.335804   3.583679 -0.406737   \n",
              "28/8/2013 13:53                  684.0  -4.495279 -11.126206 -0.358368   \n",
              "28/8/2013 13:54                  693.0  10.461622   3.399187 -0.309017   \n",
              "28/8/2013 13:55                  691.0  -3.078181  -8.457234 -0.258819   \n",
              "28/8/2013 13:56                  671.0  -4.300415 -11.202965 -0.207912   \n",
              "...                                ...        ...        ...       ...   \n",
              "11/12/2013 18:16                   NaN -11.024625  -6.888950  0.743145   \n",
              "11/12/2013 18:18                   NaN -23.070281  -6.615297  0.809017   \n",
              "11/12/2013 18:19                   NaN  -9.428840  -5.665419  0.838671   \n",
              "11/12/2013 18:20                   NaN -13.856406  -8.000000  0.866025   \n",
              "11/12/2013 18:21                   NaN -11.346223  -3.906818  0.891007   \n",
              "\n",
              "                   Day cos  Year sin  Year cos  Solar_Radiation_data_SQ  \\\n",
              "Date_time_name                                                            \n",
              "28/8/2013 13:52   0.913545 -0.636894  0.770952                26.019224   \n",
              "28/8/2013 13:53   0.933580 -0.636783  0.771043                26.153394   \n",
              "28/8/2013 13:54   0.951057 -0.636672  0.771134                26.324893   \n",
              "28/8/2013 13:55   0.965926 -0.636562  0.771226                26.286879   \n",
              "28/8/2013 13:56   0.978148 -0.636451  0.771317                25.903668   \n",
              "...                    ...       ...       ...                      ...   \n",
              "11/12/2013 18:16  0.669131  0.622276 -0.782798                 6.480741   \n",
              "11/12/2013 18:18  0.587785  0.622051 -0.782976                 6.324555   \n",
              "11/12/2013 18:19  0.544639  0.621939 -0.783066                 6.244998   \n",
              "11/12/2013 18:20  0.500000  0.621827 -0.783155                 5.916080   \n",
              "11/12/2013 18:21  0.453990  0.621715 -0.783244                 5.744563   \n",
              "\n",
              "                        pred  \n",
              "Date_time_name                \n",
              "28/8/2013 13:52   876.232190  \n",
              "28/8/2013 13:53   875.864966  \n",
              "28/8/2013 13:54   886.589854  \n",
              "28/8/2013 13:55   888.412218  \n",
              "28/8/2013 13:56   888.341668  \n",
              "...                      ...  \n",
              "11/12/2013 18:16  366.633066  \n",
              "11/12/2013 18:18  338.364264  \n",
              "11/12/2013 18:19  290.103575  \n",
              "11/12/2013 18:20  245.015481  \n",
              "11/12/2013 18:21  205.648147  \n",
              "\n",
              "[22909 rows x 14 columns]"
            ],
            "text/html": [
              "\n",
              "  <div id=\"df-4fae4d77-79e6-4568-bf0c-80c869a1ee9d\">\n",
              "    <div class=\"colab-df-container\">\n",
              "      <div>\n",
              "<style scoped>\n",
              "    .dataframe tbody tr th:only-of-type {\n",
              "        vertical-align: middle;\n",
              "    }\n",
              "\n",
              "    .dataframe tbody tr th {\n",
              "        vertical-align: top;\n",
              "    }\n",
              "\n",
              "    .dataframe thead th {\n",
              "        text-align: right;\n",
              "    }\n",
              "</style>\n",
              "<table border=\"1\" class=\"dataframe\">\n",
              "  <thead>\n",
              "    <tr style=\"text-align: right;\">\n",
              "      <th></th>\n",
              "      <th>TS1_P1_data</th>\n",
              "      <th>TS1_SENS0700_TmpMdul_C_data</th>\n",
              "      <th>Barometer_data</th>\n",
              "      <th>Outside_Humidity_data</th>\n",
              "      <th>Outside_Temperature_data</th>\n",
              "      <th>Solar_Radiation_data</th>\n",
              "      <th>Wx</th>\n",
              "      <th>Wy</th>\n",
              "      <th>Day sin</th>\n",
              "      <th>Day cos</th>\n",
              "      <th>Year sin</th>\n",
              "      <th>Year cos</th>\n",
              "      <th>Solar_Radiation_data_SQ</th>\n",
              "      <th>pred</th>\n",
              "    </tr>\n",
              "    <tr>\n",
              "      <th>Date_time_name</th>\n",
              "      <th></th>\n",
              "      <th></th>\n",
              "      <th></th>\n",
              "      <th></th>\n",
              "      <th></th>\n",
              "      <th></th>\n",
              "      <th></th>\n",
              "      <th></th>\n",
              "      <th></th>\n",
              "      <th></th>\n",
              "      <th></th>\n",
              "      <th></th>\n",
              "      <th></th>\n",
              "      <th></th>\n",
              "    </tr>\n",
              "  </thead>\n",
              "  <tbody>\n",
              "    <tr>\n",
              "      <th>28/8/2013 13:52</th>\n",
              "      <td>1008</td>\n",
              "      <td>32</td>\n",
              "      <td>1013</td>\n",
              "      <td>59</td>\n",
              "      <td>17</td>\n",
              "      <td>677.0</td>\n",
              "      <td>9.335804</td>\n",
              "      <td>3.583679</td>\n",
              "      <td>-0.406737</td>\n",
              "      <td>0.913545</td>\n",
              "      <td>-0.636894</td>\n",
              "      <td>0.770952</td>\n",
              "      <td>26.019224</td>\n",
              "      <td>876.232190</td>\n",
              "    </tr>\n",
              "    <tr>\n",
              "      <th>28/8/2013 13:53</th>\n",
              "      <td>1033</td>\n",
              "      <td>32</td>\n",
              "      <td>1013</td>\n",
              "      <td>60</td>\n",
              "      <td>17</td>\n",
              "      <td>684.0</td>\n",
              "      <td>-4.495279</td>\n",
              "      <td>-11.126206</td>\n",
              "      <td>-0.358368</td>\n",
              "      <td>0.933580</td>\n",
              "      <td>-0.636783</td>\n",
              "      <td>0.771043</td>\n",
              "      <td>26.153394</td>\n",
              "      <td>875.864966</td>\n",
              "    </tr>\n",
              "    <tr>\n",
              "      <th>28/8/2013 13:54</th>\n",
              "      <td>1034</td>\n",
              "      <td>31</td>\n",
              "      <td>1013</td>\n",
              "      <td>58</td>\n",
              "      <td>17</td>\n",
              "      <td>693.0</td>\n",
              "      <td>10.461622</td>\n",
              "      <td>3.399187</td>\n",
              "      <td>-0.309017</td>\n",
              "      <td>0.951057</td>\n",
              "      <td>-0.636672</td>\n",
              "      <td>0.771134</td>\n",
              "      <td>26.324893</td>\n",
              "      <td>886.589854</td>\n",
              "    </tr>\n",
              "    <tr>\n",
              "      <th>28/8/2013 13:55</th>\n",
              "      <td>1009</td>\n",
              "      <td>32</td>\n",
              "      <td>1013</td>\n",
              "      <td>59</td>\n",
              "      <td>17</td>\n",
              "      <td>691.0</td>\n",
              "      <td>-3.078181</td>\n",
              "      <td>-8.457234</td>\n",
              "      <td>-0.258819</td>\n",
              "      <td>0.965926</td>\n",
              "      <td>-0.636562</td>\n",
              "      <td>0.771226</td>\n",
              "      <td>26.286879</td>\n",
              "      <td>888.412218</td>\n",
              "    </tr>\n",
              "    <tr>\n",
              "      <th>28/8/2013 13:56</th>\n",
              "      <td>986</td>\n",
              "      <td>32</td>\n",
              "      <td>1013</td>\n",
              "      <td>59</td>\n",
              "      <td>17</td>\n",
              "      <td>671.0</td>\n",
              "      <td>-4.300415</td>\n",
              "      <td>-11.202965</td>\n",
              "      <td>-0.207912</td>\n",
              "      <td>0.978148</td>\n",
              "      <td>-0.636451</td>\n",
              "      <td>0.771317</td>\n",
              "      <td>25.903668</td>\n",
              "      <td>888.341668</td>\n",
              "    </tr>\n",
              "    <tr>\n",
              "      <th>...</th>\n",
              "      <td>...</td>\n",
              "      <td>...</td>\n",
              "      <td>...</td>\n",
              "      <td>...</td>\n",
              "      <td>...</td>\n",
              "      <td>...</td>\n",
              "      <td>...</td>\n",
              "      <td>...</td>\n",
              "      <td>...</td>\n",
              "      <td>...</td>\n",
              "      <td>...</td>\n",
              "      <td>...</td>\n",
              "      <td>...</td>\n",
              "      <td>...</td>\n",
              "    </tr>\n",
              "    <tr>\n",
              "      <th>11/12/2013 18:16</th>\n",
              "      <td>309</td>\n",
              "      <td>29</td>\n",
              "      <td>1010</td>\n",
              "      <td>63</td>\n",
              "      <td>23</td>\n",
              "      <td>NaN</td>\n",
              "      <td>-11.024625</td>\n",
              "      <td>-6.888950</td>\n",
              "      <td>0.743145</td>\n",
              "      <td>0.669131</td>\n",
              "      <td>0.622276</td>\n",
              "      <td>-0.782798</td>\n",
              "      <td>6.480741</td>\n",
              "      <td>366.633066</td>\n",
              "    </tr>\n",
              "    <tr>\n",
              "      <th>11/12/2013 18:18</th>\n",
              "      <td>237</td>\n",
              "      <td>29</td>\n",
              "      <td>1010</td>\n",
              "      <td>64</td>\n",
              "      <td>23</td>\n",
              "      <td>NaN</td>\n",
              "      <td>-23.070281</td>\n",
              "      <td>-6.615297</td>\n",
              "      <td>0.809017</td>\n",
              "      <td>0.587785</td>\n",
              "      <td>0.622051</td>\n",
              "      <td>-0.782976</td>\n",
              "      <td>6.324555</td>\n",
              "      <td>338.364264</td>\n",
              "    </tr>\n",
              "    <tr>\n",
              "      <th>11/12/2013 18:19</th>\n",
              "      <td>176</td>\n",
              "      <td>28</td>\n",
              "      <td>1010</td>\n",
              "      <td>64</td>\n",
              "      <td>22</td>\n",
              "      <td>NaN</td>\n",
              "      <td>-9.428840</td>\n",
              "      <td>-5.665419</td>\n",
              "      <td>0.838671</td>\n",
              "      <td>0.544639</td>\n",
              "      <td>0.621939</td>\n",
              "      <td>-0.783066</td>\n",
              "      <td>6.244998</td>\n",
              "      <td>290.103575</td>\n",
              "    </tr>\n",
              "    <tr>\n",
              "      <th>11/12/2013 18:20</th>\n",
              "      <td>120</td>\n",
              "      <td>28</td>\n",
              "      <td>1010</td>\n",
              "      <td>64</td>\n",
              "      <td>22</td>\n",
              "      <td>NaN</td>\n",
              "      <td>-13.856406</td>\n",
              "      <td>-8.000000</td>\n",
              "      <td>0.866025</td>\n",
              "      <td>0.500000</td>\n",
              "      <td>0.621827</td>\n",
              "      <td>-0.783155</td>\n",
              "      <td>5.916080</td>\n",
              "      <td>245.015481</td>\n",
              "    </tr>\n",
              "    <tr>\n",
              "      <th>11/12/2013 18:21</th>\n",
              "      <td>115</td>\n",
              "      <td>28</td>\n",
              "      <td>1010</td>\n",
              "      <td>65</td>\n",
              "      <td>22</td>\n",
              "      <td>NaN</td>\n",
              "      <td>-11.346223</td>\n",
              "      <td>-3.906818</td>\n",
              "      <td>0.891007</td>\n",
              "      <td>0.453990</td>\n",
              "      <td>0.621715</td>\n",
              "      <td>-0.783244</td>\n",
              "      <td>5.744563</td>\n",
              "      <td>205.648147</td>\n",
              "    </tr>\n",
              "  </tbody>\n",
              "</table>\n",
              "<p>22909 rows × 14 columns</p>\n",
              "</div>\n",
              "      <button class=\"colab-df-convert\" onclick=\"convertToInteractive('df-4fae4d77-79e6-4568-bf0c-80c869a1ee9d')\"\n",
              "              title=\"Convert this dataframe to an interactive table.\"\n",
              "              style=\"display:none;\">\n",
              "        \n",
              "  <svg xmlns=\"http://www.w3.org/2000/svg\" height=\"24px\"viewBox=\"0 0 24 24\"\n",
              "       width=\"24px\">\n",
              "    <path d=\"M0 0h24v24H0V0z\" fill=\"none\"/>\n",
              "    <path d=\"M18.56 5.44l.94 2.06.94-2.06 2.06-.94-2.06-.94-.94-2.06-.94 2.06-2.06.94zm-11 1L8.5 8.5l.94-2.06 2.06-.94-2.06-.94L8.5 2.5l-.94 2.06-2.06.94zm10 10l.94 2.06.94-2.06 2.06-.94-2.06-.94-.94-2.06-.94 2.06-2.06.94z\"/><path d=\"M17.41 7.96l-1.37-1.37c-.4-.4-.92-.59-1.43-.59-.52 0-1.04.2-1.43.59L10.3 9.45l-7.72 7.72c-.78.78-.78 2.05 0 2.83L4 21.41c.39.39.9.59 1.41.59.51 0 1.02-.2 1.41-.59l7.78-7.78 2.81-2.81c.8-.78.8-2.07 0-2.86zM5.41 20L4 18.59l7.72-7.72 1.47 1.35L5.41 20z\"/>\n",
              "  </svg>\n",
              "      </button>\n",
              "      \n",
              "  <style>\n",
              "    .colab-df-container {\n",
              "      display:flex;\n",
              "      flex-wrap:wrap;\n",
              "      gap: 12px;\n",
              "    }\n",
              "\n",
              "    .colab-df-convert {\n",
              "      background-color: #E8F0FE;\n",
              "      border: none;\n",
              "      border-radius: 50%;\n",
              "      cursor: pointer;\n",
              "      display: none;\n",
              "      fill: #1967D2;\n",
              "      height: 32px;\n",
              "      padding: 0 0 0 0;\n",
              "      width: 32px;\n",
              "    }\n",
              "\n",
              "    .colab-df-convert:hover {\n",
              "      background-color: #E2EBFA;\n",
              "      box-shadow: 0px 1px 2px rgba(60, 64, 67, 0.3), 0px 1px 3px 1px rgba(60, 64, 67, 0.15);\n",
              "      fill: #174EA6;\n",
              "    }\n",
              "\n",
              "    [theme=dark] .colab-df-convert {\n",
              "      background-color: #3B4455;\n",
              "      fill: #D2E3FC;\n",
              "    }\n",
              "\n",
              "    [theme=dark] .colab-df-convert:hover {\n",
              "      background-color: #434B5C;\n",
              "      box-shadow: 0px 1px 3px 1px rgba(0, 0, 0, 0.15);\n",
              "      filter: drop-shadow(0px 1px 2px rgba(0, 0, 0, 0.3));\n",
              "      fill: #FFFFFF;\n",
              "    }\n",
              "  </style>\n",
              "\n",
              "      <script>\n",
              "        const buttonEl =\n",
              "          document.querySelector('#df-4fae4d77-79e6-4568-bf0c-80c869a1ee9d button.colab-df-convert');\n",
              "        buttonEl.style.display =\n",
              "          google.colab.kernel.accessAllowed ? 'block' : 'none';\n",
              "\n",
              "        async function convertToInteractive(key) {\n",
              "          const element = document.querySelector('#df-4fae4d77-79e6-4568-bf0c-80c869a1ee9d');\n",
              "          const dataTable =\n",
              "            await google.colab.kernel.invokeFunction('convertToInteractive',\n",
              "                                                     [key], {});\n",
              "          if (!dataTable) return;\n",
              "\n",
              "          const docLinkHtml = 'Like what you see? Visit the ' +\n",
              "            '<a target=\"_blank\" href=https://colab.research.google.com/notebooks/data_table.ipynb>data table notebook</a>'\n",
              "            + ' to learn more about interactive tables.';\n",
              "          element.innerHTML = '';\n",
              "          dataTable['output_type'] = 'display_data';\n",
              "          await google.colab.output.renderOutput(dataTable, element);\n",
              "          const docLink = document.createElement('div');\n",
              "          docLink.innerHTML = docLinkHtml;\n",
              "          element.appendChild(docLink);\n",
              "        }\n",
              "      </script>\n",
              "    </div>\n",
              "  </div>\n",
              "  "
            ]
          },
          "metadata": {},
          "execution_count": 171
        }
      ]
    },
    {
      "cell_type": "code",
      "source": [
        "y_pred=df_final_outputs['pred']\n",
        "y_test=df_final_outputs['TS1_P1_data']"
      ],
      "metadata": {
        "id": "JFMgrYXZRuNO"
      },
      "execution_count": 172,
      "outputs": []
    },
    {
      "cell_type": "code",
      "source": [
        "from sklearn.metrics import mean_absolute_error\n",
        "from sklearn.metrics import mean_squared_error\n",
        "from sklearn.metrics import r2_score\n",
        "\n",
        "def MAPE(Y_actual,Y_Predicted):\n",
        "  mape = np.mean(np.abs((Y_actual - Y_Predicted)/Y_actual))*100\n",
        "  return mape\n",
        "\n",
        "MSE=mean_squared_error(y_test,y_pred)\n",
        "MAE=mean_absolute_error(y_test,y_pred)\n",
        "RMSE=np.sqrt(mean_squared_error(y_test,y_pred))\n",
        "RMSELOG=np.log(np.sqrt(mean_squared_error(y_test,y_pred)))\n",
        "R2 = r2_score(y_test,y_pred)\n",
        "MAPE=np.mean(np.abs((y_test - y_pred)/y_test))*100\n",
        "print('Mean Absolute Error: {:.4f}'.format(MAE))\n",
        "print('Root Mean Square Error: {:.4f}'.format(RMSE))\n",
        "print('Root Mean Square Error_LOG: {:.4f}'.format(RMSELOG))\n",
        "print('Mean Square Error: {:.4f}'.format(MSE))\n",
        "print('r_2 score:{:.4f}'.format(R2))\n",
        "print('MAPE score:{:.4f}'.format(MAPE))\n",
        "print('')\n",
        "\n",
        "#EV_prediction(pred, power)"
      ],
      "metadata": {
        "colab": {
          "base_uri": "https://localhost:8080/"
        },
        "id": "JDYx5FccRoBC",
        "outputId": "bb2d5d41-b1d8-40c9-db43-ad238f55da65"
      },
      "execution_count": 173,
      "outputs": [
        {
          "output_type": "stream",
          "name": "stdout",
          "text": [
            "Mean Absolute Error: 171.2634\n",
            "Root Mean Square Error: 232.1332\n",
            "Root Mean Square Error_LOG: 5.4473\n",
            "Mean Square Error: 53885.8122\n",
            "r_2 score:0.6015\n",
            "MAPE score:56.1411\n",
            "\n"
          ]
        }
      ]
    }
  ],
  "metadata": {
    "accelerator": "GPU",
    "colab": {
      "provenance": [],
      "collapsed_sections": [
        "HYoYGYwrFCh8",
        "HUrPhnAuFIDz",
        "u4ILxYD0FM50"
      ]
    },
    "gpuClass": "standard",
    "kernelspec": {
      "display_name": "Python 3",
      "name": "python3"
    }
  },
  "nbformat": 4,
  "nbformat_minor": 0
}